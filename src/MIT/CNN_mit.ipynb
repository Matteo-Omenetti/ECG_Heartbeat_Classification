{
  "cells": [
    {
      "cell_type": "code",
      "execution_count": 2,
      "metadata": {
        "id": "2sZsv-Ab5wO2"
      },
      "outputs": [],
      "source": [
        "import pandas as pd\n",
        "import numpy as np\n",
        "\n",
        "from keras import optimizers, losses, activations, models\n",
        "from keras.callbacks import ModelCheckpoint, EarlyStopping, LearningRateScheduler, ReduceLROnPlateau\n",
        "from keras.layers import Dense, Input, Dropout, Convolution1D, MaxPool1D, GlobalMaxPool1D, GlobalAveragePooling1D, concatenate\n",
        "from sklearn.metrics import f1_score, accuracy_score\n",
        "\n",
        "import tensorflow as tf\n",
        "from keras import Input, Model, layers\n",
        "from keras.models import Sequential\n",
        "from keras.layers import Dense, Flatten\n",
        "from keras import losses\n",
        "from tensorflow import keras\n",
        "from keras.callbacks import EarlyStopping\n",
        "\n",
        "from keras.models import Sequential\n",
        "from keras.layers import Dense, Activation, Dropout, Conv1D, GlobalAveragePooling1D, MaxPooling1D\n",
        "from keras import regularizers\n",
        "from keras.utils import np_utils\n",
        "from keras import utils\n",
        "from sklearn.model_selection import train_test_split\n",
        "\n",
        "import matplotlib.pyplot as plt\n",
        "from sklearn.metrics import ConfusionMatrixDisplay, confusion_matrix"
      ]
    },
    {
      "cell_type": "code",
      "execution_count": 4,
      "metadata": {
        "colab": {
          "base_uri": "https://localhost:8080/"
        },
        "id": "FGweKfOOvPeR",
        "outputId": "eabf96ec-26cd-4681-c31b-48554befbf9f"
      },
      "outputs": [
        {
          "name": "stdout",
          "output_type": "stream",
          "text": [
            "Mounted at /content/drive\n"
          ]
        }
      ],
      "source": [
        "from google.colab import drive\n",
        "drive.mount('/content/drive')"
      ]
    },
    {
      "cell_type": "code",
      "execution_count": null,
      "metadata": {},
      "outputs": [],
      "source": [
        "# Gloabal variables\n",
        "data_path = \"../input/\"\n",
        "model_path = \"../../H5/MIT/CNN_mit.h5\"\n",
        "\n",
        "train = False"
      ]
    },
    {
      "cell_type": "markdown",
      "metadata": {
        "id": "d3kyIIskXq-4"
      },
      "source": [
        "### CNN MITBIH"
      ]
    },
    {
      "cell_type": "code",
      "execution_count": 5,
      "metadata": {
        "id": "unlf9GgM2hsh"
      },
      "outputs": [],
      "source": [
        "df_train = pd.read_csv(data_path + \"mitbih_train.csv\", header=None)\n",
        "df_train = df_train.sample(frac=1)\n",
        "df_test = pd.read_csv(data_path + \"mitbih_test.csv\", header=None)\n",
        "\n",
        "y_train = np.array(df_train[187].values).astype(np.int8)\n",
        "X_train = np.array(df_train[list(range(187))].values)[..., np.newaxis]\n",
        "\n",
        "y_test = np.array(df_test[187].values).astype(np.int8)\n",
        "X_test = np.array(df_test[list(range(187))].values)[..., np.newaxis]"
      ]
    },
    {
      "cell_type": "code",
      "execution_count": 6,
      "metadata": {
        "colab": {
          "base_uri": "https://localhost:8080/"
        },
        "id": "tY7sDqcE2pPh",
        "outputId": "17368d71-07bf-44ba-9ec7-2080ea834ffe"
      },
      "outputs": [
        {
          "name": "stdout",
          "output_type": "stream",
          "text": [
            "Number of weights: 737413\n"
          ]
        }
      ],
      "source": [
        "# create the model\n",
        "model = Sequential()\n",
        "model.add(Conv1D(128, 55, activation='relu', input_shape=(187, 1)))\n",
        "model.add(MaxPooling1D(2))\n",
        "model.add(Dropout(0.1))\n",
        "model.add(Conv1D(128, 25, activation='relu'))\n",
        "model.add(MaxPooling1D(2))\n",
        "model.add(Dropout(0.1))\n",
        "model.add(Conv1D(128, 10, activation='relu'))\n",
        "model.add(MaxPooling1D(2))\n",
        "model.add(Dropout(0.5))\n",
        "model.add(Conv1D(128, 5, activation='relu'))\n",
        "model.add(GlobalAveragePooling1D())\n",
        "# model.add(Flatten())\n",
        "model.add(Dense(256, kernel_initializer='normal', activation='relu'))\n",
        "model.add(Dropout(0.1))\n",
        "model.add(Dense(128, kernel_initializer='normal', activation='relu'))\n",
        "model.add(Dropout(0.1))\n",
        "model.add(Dense(64, kernel_initializer='normal', activation='relu'))\n",
        "model.add(Dropout(0.1))\n",
        "model.add(Dense(5, kernel_initializer='normal', activation='softmax'))\n",
        "\n",
        "# model.summary()\n",
        "\n",
        "opt = tf.keras.optimizers.Adam(learning_rate=0.001)\n",
        "model.compile(optimizer=opt, loss=losses.sparse_categorical_crossentropy, metrics=['acc'])\n",
        "\n",
        "file_path = \"/content/drive/MyDrive/MLHC_PROJECT1/CNN.h5\"\n",
        "tf.keras.utils.plot_model(model, show_shapes=True, dpi=64)\n",
        "print(\"Number of weights: {}\".format(model.count_params()))"
      ]
    },
    {
      "cell_type": "code",
      "execution_count": 7,
      "metadata": {
        "colab": {
          "base_uri": "https://localhost:8080/"
        },
        "id": "Z4xxhIWZvm6Q",
        "outputId": "32ad907d-fb26-4529-cddb-fec17f2424ae"
      },
      "outputs": [
        {
          "name": "stdout",
          "output_type": "stream",
          "text": [
            "Epoch 1/100\n",
            "\n",
            "Epoch 1: val_acc improved from -inf to 0.94632, saving model to /content/drive/MyDrive/MLHC_PROJECT1/CNN.h5\n",
            "2463/2463 - 59s - loss: 0.3704 - acc: 0.8981 - val_loss: 0.1943 - val_acc: 0.9463 - lr: 0.0010 - 59s/epoch - 24ms/step\n",
            "Epoch 2/100\n",
            "\n",
            "Epoch 2: val_acc improved from 0.94632 to 0.96757, saving model to /content/drive/MyDrive/MLHC_PROJECT1/CNN.h5\n",
            "2463/2463 - 58s - loss: 0.1803 - acc: 0.9517 - val_loss: 0.1221 - val_acc: 0.9676 - lr: 0.0010 - 58s/epoch - 23ms/step\n",
            "Epoch 3/100\n",
            "\n",
            "Epoch 3: val_acc improved from 0.96757 to 0.97111, saving model to /content/drive/MyDrive/MLHC_PROJECT1/CNN.h5\n",
            "2463/2463 - 61s - loss: 0.1418 - acc: 0.9616 - val_loss: 0.1035 - val_acc: 0.9711 - lr: 0.0010 - 61s/epoch - 25ms/step\n",
            "Epoch 4/100\n",
            "\n",
            "Epoch 4: val_acc improved from 0.97111 to 0.97476, saving model to /content/drive/MyDrive/MLHC_PROJECT1/CNN.h5\n",
            "2463/2463 - 59s - loss: 0.1252 - acc: 0.9663 - val_loss: 0.0942 - val_acc: 0.9748 - lr: 0.0010 - 59s/epoch - 24ms/step\n",
            "Epoch 5/100\n",
            "\n",
            "Epoch 5: val_acc improved from 0.97476 to 0.97716, saving model to /content/drive/MyDrive/MLHC_PROJECT1/CNN.h5\n",
            "2463/2463 - 63s - loss: 0.1146 - acc: 0.9686 - val_loss: 0.0888 - val_acc: 0.9772 - lr: 0.0010 - 63s/epoch - 26ms/step\n",
            "Epoch 6/100\n",
            "\n",
            "Epoch 6: val_acc did not improve from 0.97716\n",
            "2463/2463 - 63s - loss: 0.1075 - acc: 0.9709 - val_loss: 0.0844 - val_acc: 0.9769 - lr: 0.0010 - 63s/epoch - 26ms/step\n",
            "Epoch 7/100\n",
            "\n",
            "Epoch 7: val_acc improved from 0.97716 to 0.97933, saving model to /content/drive/MyDrive/MLHC_PROJECT1/CNN.h5\n",
            "2463/2463 - 66s - loss: 0.0981 - acc: 0.9722 - val_loss: 0.0796 - val_acc: 0.9793 - lr: 0.0010 - 66s/epoch - 27ms/step\n",
            "Epoch 8/100\n",
            "\n",
            "Epoch 8: val_acc improved from 0.97933 to 0.97944, saving model to /content/drive/MyDrive/MLHC_PROJECT1/CNN.h5\n",
            "2463/2463 - 64s - loss: 0.0943 - acc: 0.9740 - val_loss: 0.0784 - val_acc: 0.9794 - lr: 0.0010 - 64s/epoch - 26ms/step\n",
            "Epoch 9/100\n",
            "\n",
            "Epoch 9: val_acc improved from 0.97944 to 0.98081, saving model to /content/drive/MyDrive/MLHC_PROJECT1/CNN.h5\n",
            "2463/2463 - 65s - loss: 0.0924 - acc: 0.9743 - val_loss: 0.0729 - val_acc: 0.9808 - lr: 0.0010 - 65s/epoch - 26ms/step\n",
            "Epoch 10/100\n",
            "\n",
            "Epoch 10: val_acc did not improve from 0.98081\n",
            "2463/2463 - 63s - loss: 0.0887 - acc: 0.9747 - val_loss: 0.0754 - val_acc: 0.9798 - lr: 0.0010 - 63s/epoch - 26ms/step\n",
            "Epoch 11/100\n",
            "\n",
            "Epoch 11: val_acc did not improve from 0.98081\n",
            "2463/2463 - 62s - loss: 0.0845 - acc: 0.9762 - val_loss: 0.0725 - val_acc: 0.9806 - lr: 0.0010 - 62s/epoch - 25ms/step\n",
            "Epoch 12/100\n",
            "\n",
            "Epoch 12: val_acc did not improve from 0.98081\n",
            "\n",
            "Epoch 12: ReduceLROnPlateau reducing learning rate to 0.00010000000474974513.\n",
            "2463/2463 - 60s - loss: 0.0827 - acc: 0.9765 - val_loss: 0.0719 - val_acc: 0.9797 - lr: 0.0010 - 60s/epoch - 24ms/step\n",
            "Epoch 13/100\n",
            "\n",
            "Epoch 13: val_acc improved from 0.98081 to 0.98321, saving model to /content/drive/MyDrive/MLHC_PROJECT1/CNN.h5\n",
            "2463/2463 - 60s - loss: 0.0644 - acc: 0.9808 - val_loss: 0.0632 - val_acc: 0.9832 - lr: 1.0000e-04 - 60s/epoch - 25ms/step\n",
            "Epoch 14/100\n",
            "\n",
            "Epoch 14: val_acc improved from 0.98321 to 0.98378, saving model to /content/drive/MyDrive/MLHC_PROJECT1/CNN.h5\n",
            "2463/2463 - 60s - loss: 0.0572 - acc: 0.9827 - val_loss: 0.0606 - val_acc: 0.9838 - lr: 1.0000e-04 - 60s/epoch - 24ms/step\n",
            "Epoch 15/100\n",
            "\n",
            "Epoch 15: val_acc did not improve from 0.98378\n",
            "2463/2463 - 61s - loss: 0.0545 - acc: 0.9837 - val_loss: 0.0609 - val_acc: 0.9833 - lr: 1.0000e-04 - 61s/epoch - 25ms/step\n",
            "Epoch 16/100\n",
            "\n",
            "Epoch 16: val_acc improved from 0.98378 to 0.98435, saving model to /content/drive/MyDrive/MLHC_PROJECT1/CNN.h5\n",
            "2463/2463 - 59s - loss: 0.0532 - acc: 0.9838 - val_loss: 0.0595 - val_acc: 0.9844 - lr: 1.0000e-04 - 59s/epoch - 24ms/step\n",
            "Epoch 17/100\n",
            "\n",
            "Epoch 17: val_acc improved from 0.98435 to 0.98470, saving model to /content/drive/MyDrive/MLHC_PROJECT1/CNN.h5\n",
            "2463/2463 - 59s - loss: 0.0510 - acc: 0.9845 - val_loss: 0.0565 - val_acc: 0.9847 - lr: 1.0000e-04 - 59s/epoch - 24ms/step\n",
            "Epoch 18/100\n",
            "\n",
            "Epoch 18: val_acc improved from 0.98470 to 0.98492, saving model to /content/drive/MyDrive/MLHC_PROJECT1/CNN.h5\n",
            "2463/2463 - 58s - loss: 0.0503 - acc: 0.9849 - val_loss: 0.0577 - val_acc: 0.9849 - lr: 1.0000e-04 - 58s/epoch - 24ms/step\n",
            "Epoch 19/100\n",
            "\n",
            "Epoch 19: val_acc did not improve from 0.98492\n",
            "2463/2463 - 56s - loss: 0.0494 - acc: 0.9850 - val_loss: 0.0584 - val_acc: 0.9849 - lr: 1.0000e-04 - 56s/epoch - 23ms/step\n",
            "Epoch 20/100\n",
            "\n",
            "Epoch 20: val_acc improved from 0.98492 to 0.98527, saving model to /content/drive/MyDrive/MLHC_PROJECT1/CNN.h5\n",
            "2463/2463 - 57s - loss: 0.0468 - acc: 0.9858 - val_loss: 0.0576 - val_acc: 0.9853 - lr: 1.0000e-04 - 57s/epoch - 23ms/step\n",
            "Epoch 21/100\n",
            "\n",
            "Epoch 21: val_acc did not improve from 0.98527\n",
            "2463/2463 - 58s - loss: 0.0462 - acc: 0.9858 - val_loss: 0.0574 - val_acc: 0.9845 - lr: 1.0000e-04 - 58s/epoch - 23ms/step\n",
            "Epoch 22/100\n",
            "\n",
            "Epoch 22: val_acc did not improve from 0.98527\n",
            "2463/2463 - 57s - loss: 0.0454 - acc: 0.9857 - val_loss: 0.0579 - val_acc: 0.9847 - lr: 1.0000e-04 - 57s/epoch - 23ms/step\n",
            "Epoch 23/100\n",
            "\n",
            "Epoch 23: val_acc did not improve from 0.98527\n",
            "\n",
            "Epoch 23: ReduceLROnPlateau reducing learning rate to 1.0000000474974514e-05.\n",
            "2463/2463 - 56s - loss: 0.0458 - acc: 0.9857 - val_loss: 0.0558 - val_acc: 0.9848 - lr: 1.0000e-04 - 56s/epoch - 23ms/step\n",
            "Epoch 24/100\n",
            "\n",
            "Epoch 24: val_acc did not improve from 0.98527\n",
            "2463/2463 - 58s - loss: 0.0426 - acc: 0.9867 - val_loss: 0.0559 - val_acc: 0.9849 - lr: 1.0000e-05 - 58s/epoch - 23ms/step\n",
            "Epoch 25/100\n",
            "\n",
            "Epoch 25: val_acc did not improve from 0.98527\n",
            "2463/2463 - 57s - loss: 0.0419 - acc: 0.9869 - val_loss: 0.0565 - val_acc: 0.9848 - lr: 1.0000e-05 - 57s/epoch - 23ms/step\n",
            "Epoch 25: early stopping\n"
          ]
        }
      ],
      "source": [
        "callbacks = [\n",
        "             ModelCheckpoint(file_path, monitor='val_acc', verbose=1, save_best_only=True, mode='max'),\n",
        "             ReduceLROnPlateau(monitor=\"val_acc\", mode=\"max\", patience=3, verbose=2),\n",
        "             EarlyStopping(monitor=\"val_acc\", mode=\"max\", patience=5, verbose=1)\n",
        "             ]\n",
        "if train:\n",
        "    history = model.fit(X_train, y_train, epochs=100, verbose=2, callbacks=callbacks, validation_split=0.1)"
      ]
    },
    {
      "cell_type": "code",
      "execution_count": 8,
      "metadata": {
        "colab": {
          "base_uri": "https://localhost:8080/"
        },
        "id": "27YGneW9vu7S",
        "outputId": "78aac865-0daa-4db8-d1de-242dc63e386d"
      },
      "outputs": [
        {
          "name": "stdout",
          "output_type": "stream",
          "text": [
            "Test f1 score : 0.9040541680866868 \n",
            "Test accuracy score : 0.9824593458797735 \n"
          ]
        }
      ],
      "source": [
        "model.load_weights(model_path)\n",
        "\n",
        "pred_test = model.predict(X_test)\n",
        "pred_test = np.argmax(pred_test, axis=-1)\n",
        "\n",
        "f1 = f1_score(y_test, pred_test, average=\"macro\")\n",
        "\n",
        "print(\"Test f1 score : %s \"% f1)\n",
        "\n",
        "acc = accuracy_score(y_test, pred_test)\n",
        "\n",
        "print(\"Test accuracy score : %s \"% acc)"
      ]
    },
    {
      "cell_type": "code",
      "execution_count": 9,
      "metadata": {
        "colab": {
          "base_uri": "https://localhost:8080/",
          "height": 295
        },
        "id": "R-UTKuu5wG2-",
        "outputId": "b5caf2da-62f7-4f2c-94b2-89bc9080848e"
      },
      "outputs": [
        {
          "data": {
            "image/png": "[encoded data removed]",
            "text/plain": [
              "<Figure size 432x288 with 1 Axes>"
            ]
          },
          "metadata": {
            "needs_background": "light"
          },
          "output_type": "display_data"
        }
      ],
      "source": [
        "if train:\n",
        "    # Plot training & validation loss values\n",
        "    plt.plot(history.history['loss'])\n",
        "    plt.plot(history.history['val_loss'])\n",
        "    plt.title('Model loss')\n",
        "    plt.ylabel('loss')\n",
        "    plt.xlabel('Epoch')\n",
        "    plt.legend(['Train', 'Validation'], loc='upper left')\n",
        "    plt.show()"
      ]
    },
    {
      "cell_type": "code",
      "execution_count": 10,
      "metadata": {
        "colab": {
          "base_uri": "https://localhost:8080/",
          "height": 295
        },
        "id": "ucj7o5CLwLyw",
        "outputId": "ab989f57-4f3f-4a19-ffd3-f5590cc83019"
      },
      "outputs": [
        {
          "data": {
            "image/png": "[encoded data removed]",
            "text/plain": [
              "<Figure size 432x288 with 1 Axes>"
            ]
          },
          "metadata": {
            "needs_background": "light"
          },
          "output_type": "display_data"
        }
      ],
      "source": [
        "if train:\n",
        "    # Plot training & validation accuracy values\n",
        "    plt.plot(history.history['acc'])\n",
        "    plt.plot(history.history['val_acc'])\n",
        "    plt.title('Model accuracy')\n",
        "    plt.ylabel('Accuracy')\n",
        "    plt.xlabel('Epoch')\n",
        "    plt.legend(['Train', 'Validation'], loc='upper left')\n",
        "    plt.show()"
      ]
    },
    {
      "cell_type": "code",
      "execution_count": 11,
      "metadata": {
        "colab": {
          "base_uri": "https://localhost:8080/",
          "height": 279
        },
        "id": "oVahxIAqwQDn",
        "outputId": "d7340302-39c9-49b6-a69a-8c4617fa3662"
      },
      "outputs": [
        {
          "data": {
            "image/png": "[encoded data removed]",
            "text/plain": [
              "<Figure size 432x288 with 2 Axes>"
            ]
          },
          "metadata": {
            "needs_background": "light"
          },
          "output_type": "display_data"
        }
      ],
      "source": [
        "# Plotting confusion matrix\n",
        "cm = confusion_matrix(y_test, pred_test)\n",
        "\n",
        "disp = ConfusionMatrixDisplay(confusion_matrix=cm, display_labels=[0,1,2,3])\n",
        "\n",
        "disp.plot(cmap=plt.cm.Blues)\n",
        "plt.show()"
      ]
    }
  ],
  "metadata": {
    "accelerator": "TPU",
    "colab": {
      "machine_shape": "hm",
      "name": "CNN_mit.ipynb",
      "provenance": []
    },
    "kernelspec": {
      "display_name": "Python 3",
      "name": "python3"
    },
    "language_info": {
      "name": "python"
    }
  },
  "nbformat": 4,
  "nbformat_minor": 0
}
