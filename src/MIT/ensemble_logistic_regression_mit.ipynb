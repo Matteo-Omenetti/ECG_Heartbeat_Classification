{
  "cells": [
    {
      "cell_type": "code",
      "execution_count": 1,
      "metadata": {
        "id": "h5n5-kXbMqn7"
      },
      "outputs": [],
      "source": [
        "import pandas as pd\n",
        "import numpy as np\n",
        "import tensorflow as tf\n",
        "from tensorflow import keras\n",
        "\n",
        "from keras.utils import np_utils\n",
        "from keras import utils\n",
        "from sklearn.model_selection import train_test_split\n",
        "\n",
        "from sklearn.metrics import ConfusionMatrixDisplay, confusion_matrix\n",
        "from sklearn.metrics import f1_score, accuracy_score\n",
        "import matplotlib.pyplot as plt\n",
        "\n",
        "from sklearn.linear_model import LogisticRegression\n",
        "\n",
        "import pywt\n",
        "from sklearn.metrics import roc_auc_score, RocCurveDisplay, average_precision_score, PrecisionRecallDisplay, auc"
      ]
    },
    {
      "cell_type": "code",
      "execution_count": 2,
      "metadata": {
        "colab": {
          "base_uri": "https://localhost:8080/"
        },
        "id": "9A9x_74JM5KV",
        "outputId": "8b11e3da-dfce-4e29-c150-a6bae9c8faec"
      },
      "outputs": [
        {
          "name": "stdout",
          "output_type": "stream",
          "text": [
            "Mounted at /content/drive\n"
          ]
        }
      ],
      "source": [
        "from google.colab import drive\n",
        "drive.mount('/content/drive')"
      ]
    },
    {
      "cell_type": "code",
      "execution_count": null,
      "metadata": {},
      "outputs": [],
      "source": [
        "# Gloabal variables\n",
        "data_path = \"../input/\"\n",
        "model_path = \"../../H5/MIT/\"\n"
      ]
    },
    {
      "cell_type": "code",
      "execution_count": 3,
      "metadata": {
        "id": "rSmqPdX8NB4f"
      },
      "outputs": [],
      "source": [
        "# load data set\n",
        "df_train = pd.read_csv(data_path + \"mitbih_train.csv\", header=None)\n",
        "df_train = df_train.sample(frac=1)\n",
        "df_test = pd.read_csv(data_path + \"mitbih_test.csv\", header=None)\n",
        "\n",
        "y_train = np.array(df_train[187].values).astype(np.int8)\n",
        "X_train = np.array(df_train[list(range(187))].values)[..., np.newaxis]\n",
        "\n",
        "y_test = np.array(df_test[187].values).astype(np.int8)\n",
        "X_test = np.array(df_test[list(range(187))].values)[..., np.newaxis]"
      ]
    },
    {
      "cell_type": "code",
      "execution_count": 4,
      "metadata": {
        "id": "qF-n-_lM9IVT"
      },
      "outputs": [],
      "source": [
        "# pre-processing for the DBLSTM-WS model\n",
        "def DWT(signal, levels):\n",
        "  coeffs = pywt.wavedec(signal.flatten(), 'db6', mode='symmetric', level=levels)[1:]\n",
        "  coeffs = [np.pad(np.array(c), (0, 187-len(c))) for c in coeffs]\n",
        "  coeffs += [signal]\n",
        "  return np.stack(coeffs, axis=-1)\n",
        "\n",
        "def WSpreprocess(dataset, levels):\n",
        "  return np.squeeze(np.apply_along_axis(DWT, 1, dataset, levels))\n",
        "\n",
        "X_train_new = WSpreprocess(np.squeeze(X_train), 2)\n",
        "X_test_new = WSpreprocess(np.squeeze(X_test), 2)\n"
      ]
    },
    {
      "cell_type": "code",
      "execution_count": 5,
      "metadata": {
        "colab": {
          "base_uri": "https://localhost:8080/"
        },
        "id": "7gDqxWpINEL8",
        "outputId": "788af014-ec46-4195-d550-b1b5e0fde62c"
      },
      "outputs": [
        {
          "name": "stdout",
          "output_type": "stream",
          "text": [
            "transformer_mit.h5\n",
            "CNN_mit.h5\n",
            "RNN_mit.h5\n",
            "DBLSTM-WS_mit.h5\n",
            "ResNet.h5\n"
          ]
        }
      ],
      "source": [
        "ensemble_predictions_test_set = np.zeros((21892, 5))\n",
        "ensemble_predictions_train_set = np.zeros((87554, 5))\n",
        "\n",
        "\n",
        "import os\n",
        "for filename in os.listdir(model_path):\n",
        "  \n",
        "  print(filename)\n",
        "  model = keras.models.load_model(path + filename)\n",
        "\n",
        "  if filename == \"DBLSTM-WS_mit.h5\":\n",
        "    y_pred_train = model.predict(X_train_new)\n",
        "    y_pred_test = model.predict(X_test_new)  \n",
        "  else:\n",
        "    y_pred_train = model.predict(X_train)\n",
        "    y_pred_test = model.predict(X_test)\n",
        "\n",
        "  ensemble_predictions_train_set = ensemble_predictions_train_set + y_pred_train\n",
        "  ensemble_predictions_test_set = ensemble_predictions_test_set + y_pred_test"
      ]
    },
    {
      "cell_type": "code",
      "execution_count": 6,
      "metadata": {
        "colab": {
          "base_uri": "https://localhost:8080/"
        },
        "id": "AKaeHHr1NGzS",
        "outputId": "8babca7e-fdfa-4123-f6f6-1ae6cc6278fe"
      },
      "outputs": [
        {
          "name": "stdout",
          "output_type": "stream",
          "text": [
            "Test f1 score : 0.9263627881025872 \n",
            "Test accuracy score : 0.9871185821304587 \n"
          ]
        }
      ],
      "source": [
        "lr = LogisticRegression().fit(ensemble_predictions_train_set, y_train)\n",
        "\n",
        "y_pred = lr.predict(ensemble_predictions_test_set)\n",
        "\n",
        "f1 = f1_score(y_test, y_pred, average=\"macro\")\n",
        "print(\"Test f1 score : %s \"% f1)\n",
        "\n",
        "acc = accuracy_score(y_test, y_pred)\n",
        "print(\"Test accuracy score : %s \"% acc)"
      ]
    },
    {
      "cell_type": "code",
      "execution_count": 7,
      "metadata": {
        "colab": {
          "base_uri": "https://localhost:8080/",
          "height": 279
        },
        "id": "yuhMQuj2NJEU",
        "outputId": "920102f3-ee94-424c-9f6e-6562af4a4f9a"
      },
      "outputs": [
        {
          "data": {
            "image/png": "[encoded data removed]",
            "text/plain": [
              "<Figure size 432x288 with 2 Axes>"
            ]
          },
          "metadata": {
            "needs_background": "light"
          },
          "output_type": "display_data"
        }
      ],
      "source": [
        "# Plotting confusion matrix\n",
        "cm = confusion_matrix(y_test, y_pred)\n",
        "\n",
        "disp = ConfusionMatrixDisplay(confusion_matrix=cm, display_labels=[0,1,2,3])\n",
        "\n",
        "disp.plot(cmap=plt.cm.Blues)\n",
        "plt.show()"
      ]
    }
  ],
  "metadata": {
    "colab": {
      "machine_shape": "hm",
      "name": "ensemble_logistic_regression_mitbih.ipynb",
      "provenance": []
    },
    "kernelspec": {
      "display_name": "Python 3",
      "name": "python3"
    },
    "language_info": {
      "name": "python"
    }
  },
  "nbformat": 4,
  "nbformat_minor": 0
}
