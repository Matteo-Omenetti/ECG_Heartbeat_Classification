{
  "cells": [
    {
      "cell_type": "code",
      "execution_count": 1,
      "metadata": {
        "colab": {
          "base_uri": "https://localhost:8080/"
        },
        "id": "yRCjcu40n4Pd",
        "outputId": "18429c12-59a2-4b47-949b-9e4f47fa80cd"
      },
      "outputs": [
        {
          "name": "stdout",
          "output_type": "stream",
          "text": [
            "Tensorflow version 2.8.0\n",
            "Running on TPU  ['10.38.167.162:8470']\n",
            "INFO:tensorflow:Deallocate tpu buffers before initializing tpu system.\n"
          ]
        },
        {
          "name": "stderr",
          "output_type": "stream",
          "text": [
            "INFO:tensorflow:Deallocate tpu buffers before initializing tpu system.\n"
          ]
        },
        {
          "name": "stdout",
          "output_type": "stream",
          "text": [
            "INFO:tensorflow:Initializing the TPU system: grpc://10.38.167.162:8470\n"
          ]
        },
        {
          "name": "stderr",
          "output_type": "stream",
          "text": [
            "INFO:tensorflow:Initializing the TPU system: grpc://10.38.167.162:8470\n"
          ]
        },
        {
          "name": "stdout",
          "output_type": "stream",
          "text": [
            "INFO:tensorflow:Finished initializing TPU system.\n"
          ]
        },
        {
          "name": "stderr",
          "output_type": "stream",
          "text": [
            "INFO:tensorflow:Finished initializing TPU system.\n",
            "WARNING:absl:`tf.distribute.experimental.TPUStrategy` is deprecated, please use  the non experimental symbol `tf.distribute.TPUStrategy` instead.\n"
          ]
        },
        {
          "name": "stdout",
          "output_type": "stream",
          "text": [
            "INFO:tensorflow:Found TPU system:\n"
          ]
        },
        {
          "name": "stderr",
          "output_type": "stream",
          "text": [
            "INFO:tensorflow:Found TPU system:\n"
          ]
        },
        {
          "name": "stdout",
          "output_type": "stream",
          "text": [
            "INFO:tensorflow:*** Num TPU Cores: 8\n"
          ]
        },
        {
          "name": "stderr",
          "output_type": "stream",
          "text": [
            "INFO:tensorflow:*** Num TPU Cores: 8\n"
          ]
        },
        {
          "name": "stdout",
          "output_type": "stream",
          "text": [
            "INFO:tensorflow:*** Num TPU Workers: 1\n"
          ]
        },
        {
          "name": "stderr",
          "output_type": "stream",
          "text": [
            "INFO:tensorflow:*** Num TPU Workers: 1\n"
          ]
        },
        {
          "name": "stdout",
          "output_type": "stream",
          "text": [
            "INFO:tensorflow:*** Num TPU Cores Per Worker: 8\n"
          ]
        },
        {
          "name": "stderr",
          "output_type": "stream",
          "text": [
            "INFO:tensorflow:*** Num TPU Cores Per Worker: 8\n"
          ]
        },
        {
          "name": "stdout",
          "output_type": "stream",
          "text": [
            "INFO:tensorflow:*** Available Device: _DeviceAttributes(/job:localhost/replica:0/task:0/device:CPU:0, CPU, 0, 0)\n"
          ]
        },
        {
          "name": "stderr",
          "output_type": "stream",
          "text": [
            "INFO:tensorflow:*** Available Device: _DeviceAttributes(/job:localhost/replica:0/task:0/device:CPU:0, CPU, 0, 0)\n"
          ]
        },
        {
          "name": "stdout",
          "output_type": "stream",
          "text": [
            "INFO:tensorflow:*** Available Device: _DeviceAttributes(/job:worker/replica:0/task:0/device:CPU:0, CPU, 0, 0)\n"
          ]
        },
        {
          "name": "stderr",
          "output_type": "stream",
          "text": [
            "INFO:tensorflow:*** Available Device: _DeviceAttributes(/job:worker/replica:0/task:0/device:CPU:0, CPU, 0, 0)\n"
          ]
        },
        {
          "name": "stdout",
          "output_type": "stream",
          "text": [
            "INFO:tensorflow:*** Available Device: _DeviceAttributes(/job:worker/replica:0/task:0/device:TPU:0, TPU, 0, 0)\n"
          ]
        },
        {
          "name": "stderr",
          "output_type": "stream",
          "text": [
            "INFO:tensorflow:*** Available Device: _DeviceAttributes(/job:worker/replica:0/task:0/device:TPU:0, TPU, 0, 0)\n"
          ]
        },
        {
          "name": "stdout",
          "output_type": "stream",
          "text": [
            "INFO:tensorflow:*** Available Device: _DeviceAttributes(/job:worker/replica:0/task:0/device:TPU:1, TPU, 0, 0)\n"
          ]
        },
        {
          "name": "stderr",
          "output_type": "stream",
          "text": [
            "INFO:tensorflow:*** Available Device: _DeviceAttributes(/job:worker/replica:0/task:0/device:TPU:1, TPU, 0, 0)\n"
          ]
        },
        {
          "name": "stdout",
          "output_type": "stream",
          "text": [
            "INFO:tensorflow:*** Available Device: _DeviceAttributes(/job:worker/replica:0/task:0/device:TPU:2, TPU, 0, 0)\n"
          ]
        },
        {
          "name": "stderr",
          "output_type": "stream",
          "text": [
            "INFO:tensorflow:*** Available Device: _DeviceAttributes(/job:worker/replica:0/task:0/device:TPU:2, TPU, 0, 0)\n"
          ]
        },
        {
          "name": "stdout",
          "output_type": "stream",
          "text": [
            "INFO:tensorflow:*** Available Device: _DeviceAttributes(/job:worker/replica:0/task:0/device:TPU:3, TPU, 0, 0)\n"
          ]
        },
        {
          "name": "stderr",
          "output_type": "stream",
          "text": [
            "INFO:tensorflow:*** Available Device: _DeviceAttributes(/job:worker/replica:0/task:0/device:TPU:3, TPU, 0, 0)\n"
          ]
        },
        {
          "name": "stdout",
          "output_type": "stream",
          "text": [
            "INFO:tensorflow:*** Available Device: _DeviceAttributes(/job:worker/replica:0/task:0/device:TPU:4, TPU, 0, 0)\n"
          ]
        },
        {
          "name": "stderr",
          "output_type": "stream",
          "text": [
            "INFO:tensorflow:*** Available Device: _DeviceAttributes(/job:worker/replica:0/task:0/device:TPU:4, TPU, 0, 0)\n"
          ]
        },
        {
          "name": "stdout",
          "output_type": "stream",
          "text": [
            "INFO:tensorflow:*** Available Device: _DeviceAttributes(/job:worker/replica:0/task:0/device:TPU:5, TPU, 0, 0)\n"
          ]
        },
        {
          "name": "stderr",
          "output_type": "stream",
          "text": [
            "INFO:tensorflow:*** Available Device: _DeviceAttributes(/job:worker/replica:0/task:0/device:TPU:5, TPU, 0, 0)\n"
          ]
        },
        {
          "name": "stdout",
          "output_type": "stream",
          "text": [
            "INFO:tensorflow:*** Available Device: _DeviceAttributes(/job:worker/replica:0/task:0/device:TPU:6, TPU, 0, 0)\n"
          ]
        },
        {
          "name": "stderr",
          "output_type": "stream",
          "text": [
            "INFO:tensorflow:*** Available Device: _DeviceAttributes(/job:worker/replica:0/task:0/device:TPU:6, TPU, 0, 0)\n"
          ]
        },
        {
          "name": "stdout",
          "output_type": "stream",
          "text": [
            "INFO:tensorflow:*** Available Device: _DeviceAttributes(/job:worker/replica:0/task:0/device:TPU:7, TPU, 0, 0)\n"
          ]
        },
        {
          "name": "stderr",
          "output_type": "stream",
          "text": [
            "INFO:tensorflow:*** Available Device: _DeviceAttributes(/job:worker/replica:0/task:0/device:TPU:7, TPU, 0, 0)\n"
          ]
        },
        {
          "name": "stdout",
          "output_type": "stream",
          "text": [
            "INFO:tensorflow:*** Available Device: _DeviceAttributes(/job:worker/replica:0/task:0/device:TPU_SYSTEM:0, TPU_SYSTEM, 0, 0)\n"
          ]
        },
        {
          "name": "stderr",
          "output_type": "stream",
          "text": [
            "INFO:tensorflow:*** Available Device: _DeviceAttributes(/job:worker/replica:0/task:0/device:TPU_SYSTEM:0, TPU_SYSTEM, 0, 0)\n"
          ]
        },
        {
          "name": "stdout",
          "output_type": "stream",
          "text": [
            "INFO:tensorflow:*** Available Device: _DeviceAttributes(/job:worker/replica:0/task:0/device:XLA_CPU:0, XLA_CPU, 0, 0)\n"
          ]
        },
        {
          "name": "stderr",
          "output_type": "stream",
          "text": [
            "INFO:tensorflow:*** Available Device: _DeviceAttributes(/job:worker/replica:0/task:0/device:XLA_CPU:0, XLA_CPU, 0, 0)\n"
          ]
        }
      ],
      "source": [
        "%tensorflow_version 2.x\n",
        "import tensorflow as tf\n",
        "print(\"Tensorflow version \" + tf.__version__)\n",
        "\n",
        "try:\n",
        "  tpu = tf.distribute.cluster_resolver.TPUClusterResolver()  # TPU detection\n",
        "  print('Running on TPU ', tpu.cluster_spec().as_dict()['worker'])\n",
        "except ValueError:\n",
        "  raise BaseException('ERROR: Not connected to a TPU runtime; please see the previous cell in this notebook for instructions!')\n",
        "\n",
        "tf.config.experimental_connect_to_cluster(tpu)\n",
        "tf.tpu.experimental.initialize_tpu_system(tpu)\n",
        "tpu_strategy = tf.distribute.experimental.TPUStrategy(tpu)"
      ]
    },
    {
      "cell_type": "code",
      "execution_count": 2,
      "metadata": {
        "colab": {
          "base_uri": "https://localhost:8080/"
        },
        "id": "sbkzch19Y4MG",
        "outputId": "b54da69f-ec75-4a90-841c-ba89236e40db"
      },
      "outputs": [
        {
          "name": "stdout",
          "output_type": "stream",
          "text": [
            "Mounted at /content/drive\n"
          ]
        }
      ],
      "source": [
        "from google.colab import drive\n",
        "drive.mount('/content/drive')"
      ]
    },
    {
      "cell_type": "code",
      "execution_count": null,
      "metadata": {},
      "outputs": [],
      "source": [
        "# Gloabal variables\n",
        "data_path = \"../input/\"\n",
        "model_path = \"../../H5/MIT/transformer_mit.h5\"\n",
        "\n",
        "train = False"
      ]
    },
    {
      "cell_type": "code",
      "execution_count": 4,
      "metadata": {
        "id": "x6mVW4YKpixJ"
      },
      "outputs": [],
      "source": [
        "import pandas as pd\n",
        "import numpy as np\n",
        "\n",
        "from keras import optimizers, losses, activations, models\n",
        "from keras.callbacks import ModelCheckpoint, EarlyStopping, LearningRateScheduler, ReduceLROnPlateau\n",
        "from keras.layers import Dense, Input, Dropout, Convolution1D, MaxPool1D, GlobalMaxPool1D, GlobalAveragePooling1D, concatenate\n",
        "from sklearn.metrics import f1_score, accuracy_score\n",
        "from sklearn.metrics import ConfusionMatrixDisplay, confusion_matrix\n",
        "\n",
        "import tensorflow as tf\n",
        "from keras import Input, Model, layers\n",
        "from keras.models import Sequential\n",
        "from keras.layers import Dense, Flatten\n",
        "from keras import losses\n",
        "from tensorflow import keras\n",
        "from keras.callbacks import EarlyStopping\n",
        "\n",
        "import matplotlib.pyplot as plt\n",
        "\n",
        "from keras.models import Sequential\n",
        "from keras.layers import Dense, Activation, Dropout, Conv1D, GlobalAveragePooling1D, MaxPooling1D\n",
        "from keras import regularizers\n",
        "from keras.utils import np_utils\n",
        "from keras import utils\n",
        "from sklearn.model_selection import train_test_split\n",
        "\n",
        "import os\n",
        "from google.colab import drive\n",
        "from google.colab import files"
      ]
    },
    {
      "cell_type": "markdown",
      "metadata": {
        "id": "uLPivENoqojm"
      },
      "source": [
        "TRANSFORMER MITBIH"
      ]
    },
    {
      "cell_type": "code",
      "execution_count": 16,
      "metadata": {
        "id": "6TIb9oHkqnxQ"
      },
      "outputs": [],
      "source": [
        "df_train = pd.read_csv(data_path + \"mitbih_train.csv\", header=None)\n",
        "df_train = df_train.sample(frac=1)\n",
        "df_test = pd.read_csv(data_path + \"mitbih_test.csv\", header=None)\n",
        "\n",
        "y_train = np.array(df_train[187].values).astype(np.int8)\n",
        "X_train = np.array(df_train[list(range(187))].values)[..., np.newaxis]\n",
        "\n",
        "y_test = np.array(df_test[187].values).astype(np.int8)\n",
        "X_test = np.array(df_test[list(range(187))].values)[..., np.newaxis]"
      ]
    },
    {
      "cell_type": "code",
      "execution_count": 6,
      "metadata": {
        "id": "pgXzuMsVryvV"
      },
      "outputs": [],
      "source": [
        "def transformer_encoder(inputs, head_size, num_heads, ff_dim, dropout=0):\n",
        "    # Normalization and Attention\n",
        "    x = layers.LayerNormalization(epsilon=1e-6)(inputs)\n",
        "    x = layers.MultiHeadAttention(\n",
        "        key_dim=head_size, num_heads=num_heads, dropout=dropout\n",
        "    )(x, x)\n",
        "    x = layers.Dropout(dropout)(x)\n",
        "    res = x + inputs\n",
        "\n",
        "    # Feed Forward Part\n",
        "    x = layers.LayerNormalization(epsilon=1e-6)(res)\n",
        "    x = layers.Conv1D(filters=ff_dim, kernel_size=1, activation=\"relu\")(x)\n",
        "    x = layers.Dropout(dropout)(x)\n",
        "    x = layers.Conv1D(filters=inputs.shape[-1], kernel_size=1)(x)\n",
        "    return x + res"
      ]
    },
    {
      "cell_type": "code",
      "execution_count": 7,
      "metadata": {
        "id": "KVk5tW9Lr93M"
      },
      "outputs": [],
      "source": [
        "def build_model(\n",
        "    input_shape,\n",
        "    head_size,\n",
        "    num_heads,\n",
        "    ff_dim,\n",
        "    num_transformer_blocks,\n",
        "    mlp_units,\n",
        "    dropout=0,\n",
        "    mlp_dropout=0,\n",
        "    n_classes = 5,\n",
        "):\n",
        "    inputs = keras.Input(shape=input_shape)\n",
        "    x = inputs\n",
        "    for _ in range(num_transformer_blocks):\n",
        "        x = transformer_encoder(x, head_size, num_heads, ff_dim, dropout)\n",
        "\n",
        "    x = layers.GlobalAveragePooling1D(data_format=\"channels_first\")(x)\n",
        "    for dim in mlp_units:\n",
        "        x = layers.Dense(dim, activation=\"relu\")(x)\n",
        "        x = layers.Dropout(mlp_dropout)(x)\n",
        "    outputs = layers.Dense(n_classes, activation=\"softmax\")(x)\n",
        "    return keras.Model(inputs, outputs)"
      ]
    },
    {
      "cell_type": "code",
      "execution_count": 17,
      "metadata": {
        "colab": {
          "base_uri": "https://localhost:8080/"
        },
        "id": "1-1NhlW9sCfV",
        "outputId": "584e2df6-0384-4859-e3c5-502e96efb844"
      },
      "outputs": [
        {
          "name": "stdout",
          "output_type": "stream",
          "text": [
            "Number of weights: 53453\n"
          ]
        }
      ],
      "source": [
        "input_shape = X_train.shape[1:]\n",
        "\n",
        "with tpu_strategy.scope(): # creating the model in the TPUStrategy scope means we will train the model on the TPU\n",
        "  model = build_model(\n",
        "    input_shape,\n",
        "    head_size=256,\n",
        "    num_heads=4,\n",
        "    ff_dim=4,\n",
        "    num_transformer_blocks=4,\n",
        "    mlp_units=[128],\n",
        "    mlp_dropout=0.4,\n",
        "    dropout=0.25,\n",
        "    n_classes=5\n",
        "  )\n",
        "\n",
        "  model.compile(\n",
        "    loss=\"sparse_categorical_crossentropy\",\n",
        "    optimizer=keras.optimizers.Adam(learning_rate=1e-3),\n",
        "    metrics=[\"sparse_categorical_accuracy\"],\n",
        "  )\n",
        "\n",
        "file_path = model_path\n",
        "\n",
        "# model.summary()\n",
        "tf.keras.utils.plot_model(model, show_shapes=True, dpi=64)\n",
        "print(\"Number of weights: {}\".format(model.count_params()))"
      ]
    },
    {
      "cell_type": "code",
      "execution_count": 18,
      "metadata": {
        "colab": {
          "base_uri": "https://localhost:8080/"
        },
        "id": "6_BBzJ-sK6UE",
        "outputId": "25eaa406-e1cc-4ddf-eada-7941940e5180"
      },
      "outputs": [
        {
          "name": "stdout",
          "output_type": "stream",
          "text": [
            "Epoch 1/200\n",
            "1095/1095 [==============================] - ETA: 0s - loss: 0.3528 - sparse_categorical_accuracy: 0.9029\n",
            "Epoch 1: val_loss improved from inf to 0.21528, saving model to /content/drive/MyDrive/MLHC_PROJECT1/transformer.h5\n",
            "1095/1095 [==============================] - 46s 29ms/step - loss: 0.3528 - sparse_categorical_accuracy: 0.9029 - val_loss: 0.2153 - val_sparse_categorical_accuracy: 0.9417\n",
            "Epoch 2/200\n",
            "1095/1095 [==============================] - ETA: 0s - loss: 0.2207 - sparse_categorical_accuracy: 0.9400\n",
            "Epoch 2: val_loss improved from 0.21528 to 0.17241, saving model to /content/drive/MyDrive/MLHC_PROJECT1/transformer.h5\n",
            "1095/1095 [==============================] - 24s 22ms/step - loss: 0.2207 - sparse_categorical_accuracy: 0.9400 - val_loss: 0.1724 - val_sparse_categorical_accuracy: 0.9527\n",
            "Epoch 3/200\n",
            "1093/1095 [============================>.] - ETA: 0s - loss: 0.1896 - sparse_categorical_accuracy: 0.9478\n",
            "Epoch 3: val_loss improved from 0.17241 to 0.15322, saving model to /content/drive/MyDrive/MLHC_PROJECT1/transformer.h5\n",
            "1095/1095 [==============================] - 24s 22ms/step - loss: 0.1896 - sparse_categorical_accuracy: 0.9479 - val_loss: 0.1532 - val_sparse_categorical_accuracy: 0.9580\n",
            "Epoch 4/200\n",
            "1094/1095 [============================>.] - ETA: 0s - loss: 0.1714 - sparse_categorical_accuracy: 0.9521\n",
            "Epoch 4: val_loss improved from 0.15322 to 0.14025, saving model to /content/drive/MyDrive/MLHC_PROJECT1/transformer.h5\n",
            "1095/1095 [==============================] - 25s 23ms/step - loss: 0.1714 - sparse_categorical_accuracy: 0.9522 - val_loss: 0.1403 - val_sparse_categorical_accuracy: 0.9622\n",
            "Epoch 5/200\n",
            "1093/1095 [============================>.] - ETA: 0s - loss: 0.1612 - sparse_categorical_accuracy: 0.9549\n",
            "Epoch 5: val_loss improved from 0.14025 to 0.13221, saving model to /content/drive/MyDrive/MLHC_PROJECT1/transformer.h5\n",
            "1095/1095 [==============================] - 25s 22ms/step - loss: 0.1611 - sparse_categorical_accuracy: 0.9549 - val_loss: 0.1322 - val_sparse_categorical_accuracy: 0.9630\n",
            "Epoch 6/200\n",
            "1094/1095 [============================>.] - ETA: 0s - loss: 0.1535 - sparse_categorical_accuracy: 0.9574\n",
            "Epoch 6: val_loss improved from 0.13221 to 0.12248, saving model to /content/drive/MyDrive/MLHC_PROJECT1/transformer.h5\n",
            "1095/1095 [==============================] - 25s 23ms/step - loss: 0.1535 - sparse_categorical_accuracy: 0.9574 - val_loss: 0.1225 - val_sparse_categorical_accuracy: 0.9648\n",
            "Epoch 7/200\n",
            "1095/1095 [==============================] - ETA: 0s - loss: 0.1479 - sparse_categorical_accuracy: 0.9588\n",
            "Epoch 7: val_loss improved from 0.12248 to 0.12091, saving model to /content/drive/MyDrive/MLHC_PROJECT1/transformer.h5\n",
            "1095/1095 [==============================] - 23s 21ms/step - loss: 0.1479 - sparse_categorical_accuracy: 0.9588 - val_loss: 0.1209 - val_sparse_categorical_accuracy: 0.9662\n",
            "Epoch 8/200\n",
            "1093/1095 [============================>.] - ETA: 0s - loss: 0.1428 - sparse_categorical_accuracy: 0.9598\n",
            "Epoch 8: val_loss improved from 0.12091 to 0.11429, saving model to /content/drive/MyDrive/MLHC_PROJECT1/transformer.h5\n",
            "1095/1095 [==============================] - 25s 23ms/step - loss: 0.1427 - sparse_categorical_accuracy: 0.9598 - val_loss: 0.1143 - val_sparse_categorical_accuracy: 0.9674\n",
            "Epoch 9/200\n",
            "1095/1095 [==============================] - ETA: 0s - loss: 0.1382 - sparse_categorical_accuracy: 0.9612\n",
            "Epoch 9: val_loss improved from 0.11429 to 0.11351, saving model to /content/drive/MyDrive/MLHC_PROJECT1/transformer.h5\n",
            "1095/1095 [==============================] - 24s 22ms/step - loss: 0.1382 - sparse_categorical_accuracy: 0.9612 - val_loss: 0.1135 - val_sparse_categorical_accuracy: 0.9677\n",
            "Epoch 10/200\n",
            "1093/1095 [============================>.] - ETA: 0s - loss: 0.1345 - sparse_categorical_accuracy: 0.9622\n",
            "Epoch 10: val_loss improved from 0.11351 to 0.11037, saving model to /content/drive/MyDrive/MLHC_PROJECT1/transformer.h5\n",
            "1095/1095 [==============================] - 24s 22ms/step - loss: 0.1346 - sparse_categorical_accuracy: 0.9621 - val_loss: 0.1104 - val_sparse_categorical_accuracy: 0.9686\n",
            "Epoch 11/200\n",
            "1093/1095 [============================>.] - ETA: 0s - loss: 0.1320 - sparse_categorical_accuracy: 0.9635\n",
            "Epoch 11: val_loss improved from 0.11037 to 0.10658, saving model to /content/drive/MyDrive/MLHC_PROJECT1/transformer.h5\n",
            "1095/1095 [==============================] - 25s 22ms/step - loss: 0.1319 - sparse_categorical_accuracy: 0.9635 - val_loss: 0.1066 - val_sparse_categorical_accuracy: 0.9685\n",
            "Epoch 12/200\n",
            "1093/1095 [============================>.] - ETA: 0s - loss: 0.1277 - sparse_categorical_accuracy: 0.9639\n",
            "Epoch 12: val_loss improved from 0.10658 to 0.10505, saving model to /content/drive/MyDrive/MLHC_PROJECT1/transformer.h5\n",
            "1095/1095 [==============================] - 25s 23ms/step - loss: 0.1278 - sparse_categorical_accuracy: 0.9639 - val_loss: 0.1050 - val_sparse_categorical_accuracy: 0.9694\n",
            "Epoch 13/200\n",
            "1093/1095 [============================>.] - ETA: 0s - loss: 0.1247 - sparse_categorical_accuracy: 0.9648\n",
            "Epoch 13: val_loss did not improve from 0.10505\n",
            "1095/1095 [==============================] - 23s 21ms/step - loss: 0.1246 - sparse_categorical_accuracy: 0.9648 - val_loss: 0.1090 - val_sparse_categorical_accuracy: 0.9677\n",
            "Epoch 14/200\n",
            "1093/1095 [============================>.] - ETA: 0s - loss: 0.1221 - sparse_categorical_accuracy: 0.9660\n",
            "Epoch 14: val_loss improved from 0.10505 to 0.10462, saving model to /content/drive/MyDrive/MLHC_PROJECT1/transformer.h5\n",
            "1095/1095 [==============================] - 25s 23ms/step - loss: 0.1223 - sparse_categorical_accuracy: 0.9659 - val_loss: 0.1046 - val_sparse_categorical_accuracy: 0.9697\n",
            "Epoch 15/200\n",
            "1093/1095 [============================>.] - ETA: 0s - loss: 0.1198 - sparse_categorical_accuracy: 0.9660\n",
            "Epoch 15: val_loss improved from 0.10462 to 0.09942, saving model to /content/drive/MyDrive/MLHC_PROJECT1/transformer.h5\n",
            "1095/1095 [==============================] - 24s 22ms/step - loss: 0.1197 - sparse_categorical_accuracy: 0.9660 - val_loss: 0.0994 - val_sparse_categorical_accuracy: 0.9712\n",
            "Epoch 16/200\n",
            "1093/1095 [============================>.] - ETA: 0s - loss: 0.1209 - sparse_categorical_accuracy: 0.9660\n",
            "Epoch 16: val_loss did not improve from 0.09942\n",
            "1095/1095 [==============================] - 24s 22ms/step - loss: 0.1208 - sparse_categorical_accuracy: 0.9660 - val_loss: 0.1002 - val_sparse_categorical_accuracy: 0.9698\n",
            "Epoch 17/200\n",
            "1093/1095 [============================>.] - ETA: 0s - loss: 0.1162 - sparse_categorical_accuracy: 0.9669\n",
            "Epoch 17: val_loss improved from 0.09942 to 0.09678, saving model to /content/drive/MyDrive/MLHC_PROJECT1/transformer.h5\n",
            "1095/1095 [==============================] - 25s 23ms/step - loss: 0.1163 - sparse_categorical_accuracy: 0.9669 - val_loss: 0.0968 - val_sparse_categorical_accuracy: 0.9725\n",
            "Epoch 18/200\n",
            "1093/1095 [============================>.] - ETA: 0s - loss: 0.1161 - sparse_categorical_accuracy: 0.9676\n",
            "Epoch 18: val_loss did not improve from 0.09678\n",
            "1095/1095 [==============================] - 24s 22ms/step - loss: 0.1162 - sparse_categorical_accuracy: 0.9676 - val_loss: 0.0973 - val_sparse_categorical_accuracy: 0.9721\n",
            "Epoch 19/200\n",
            "1093/1095 [============================>.] - ETA: 0s - loss: 0.1152 - sparse_categorical_accuracy: 0.9679\n",
            "Epoch 19: val_loss improved from 0.09678 to 0.09546, saving model to /content/drive/MyDrive/MLHC_PROJECT1/transformer.h5\n",
            "1095/1095 [==============================] - 25s 23ms/step - loss: 0.1154 - sparse_categorical_accuracy: 0.9679 - val_loss: 0.0955 - val_sparse_categorical_accuracy: 0.9730\n",
            "Epoch 20/200\n",
            "1093/1095 [============================>.] - ETA: 0s - loss: 0.1136 - sparse_categorical_accuracy: 0.9677\n",
            "Epoch 20: val_loss improved from 0.09546 to 0.09124, saving model to /content/drive/MyDrive/MLHC_PROJECT1/transformer.h5\n",
            "1095/1095 [==============================] - 24s 22ms/step - loss: 0.1136 - sparse_categorical_accuracy: 0.9677 - val_loss: 0.0912 - val_sparse_categorical_accuracy: 0.9746\n",
            "Epoch 21/200\n",
            "1094/1095 [============================>.] - ETA: 0s - loss: 0.1144 - sparse_categorical_accuracy: 0.9674\n",
            "Epoch 21: val_loss did not improve from 0.09124\n",
            "1095/1095 [==============================] - 24s 22ms/step - loss: 0.1144 - sparse_categorical_accuracy: 0.9674 - val_loss: 0.0932 - val_sparse_categorical_accuracy: 0.9727\n",
            "Epoch 22/200\n",
            "1093/1095 [============================>.] - ETA: 0s - loss: 0.1108 - sparse_categorical_accuracy: 0.9687\n",
            "Epoch 22: val_loss did not improve from 0.09124\n",
            "1095/1095 [==============================] - 24s 22ms/step - loss: 0.1109 - sparse_categorical_accuracy: 0.9687 - val_loss: 0.0927 - val_sparse_categorical_accuracy: 0.9734\n",
            "Epoch 23/200\n",
            "1093/1095 [============================>.] - ETA: 0s - loss: 0.1097 - sparse_categorical_accuracy: 0.9687\n",
            "Epoch 23: val_loss improved from 0.09124 to 0.09020, saving model to /content/drive/MyDrive/MLHC_PROJECT1/transformer.h5\n",
            "1095/1095 [==============================] - 24s 22ms/step - loss: 0.1097 - sparse_categorical_accuracy: 0.9687 - val_loss: 0.0902 - val_sparse_categorical_accuracy: 0.9741\n",
            "Epoch 24/200\n",
            "1093/1095 [============================>.] - ETA: 0s - loss: 0.1090 - sparse_categorical_accuracy: 0.9690\n",
            "Epoch 24: val_loss did not improve from 0.09020\n",
            "1095/1095 [==============================] - 24s 22ms/step - loss: 0.1090 - sparse_categorical_accuracy: 0.9690 - val_loss: 0.0916 - val_sparse_categorical_accuracy: 0.9736\n",
            "Epoch 25/200\n",
            "1093/1095 [============================>.] - ETA: 0s - loss: 0.1052 - sparse_categorical_accuracy: 0.9695\n",
            "Epoch 25: val_loss did not improve from 0.09020\n",
            "1095/1095 [==============================] - 24s 22ms/step - loss: 0.1052 - sparse_categorical_accuracy: 0.9695 - val_loss: 0.0990 - val_sparse_categorical_accuracy: 0.9712\n",
            "Epoch 26/200\n",
            "1094/1095 [============================>.] - ETA: 0s - loss: 0.1059 - sparse_categorical_accuracy: 0.9696\n",
            "Epoch 26: val_loss did not improve from 0.09020\n",
            "1095/1095 [==============================] - 23s 21ms/step - loss: 0.1059 - sparse_categorical_accuracy: 0.9696 - val_loss: 0.0905 - val_sparse_categorical_accuracy: 0.9743\n",
            "Epoch 27/200\n",
            "1093/1095 [============================>.] - ETA: 0s - loss: 0.1057 - sparse_categorical_accuracy: 0.9700\n",
            "Epoch 27: val_loss did not improve from 0.09020\n",
            "1095/1095 [==============================] - 24s 22ms/step - loss: 0.1056 - sparse_categorical_accuracy: 0.9700 - val_loss: 0.0917 - val_sparse_categorical_accuracy: 0.9740\n",
            "Epoch 28/200\n",
            "1093/1095 [============================>.] - ETA: 0s - loss: 0.1058 - sparse_categorical_accuracy: 0.9701\n",
            "Epoch 28: val_loss improved from 0.09020 to 0.08676, saving model to /content/drive/MyDrive/MLHC_PROJECT1/transformer.h5\n",
            "1095/1095 [==============================] - 24s 22ms/step - loss: 0.1057 - sparse_categorical_accuracy: 0.9701 - val_loss: 0.0868 - val_sparse_categorical_accuracy: 0.9756\n",
            "Epoch 29/200\n",
            "1095/1095 [==============================] - ETA: 0s - loss: 0.1029 - sparse_categorical_accuracy: 0.9701\n",
            "Epoch 29: val_loss did not improve from 0.08676\n",
            "1095/1095 [==============================] - 23s 21ms/step - loss: 0.1029 - sparse_categorical_accuracy: 0.9701 - val_loss: 0.0879 - val_sparse_categorical_accuracy: 0.9753\n",
            "Epoch 30/200\n",
            "1094/1095 [============================>.] - ETA: 0s - loss: 0.1041 - sparse_categorical_accuracy: 0.9704\n",
            "Epoch 30: val_loss did not improve from 0.08676\n",
            "1095/1095 [==============================] - 23s 21ms/step - loss: 0.1041 - sparse_categorical_accuracy: 0.9704 - val_loss: 0.0904 - val_sparse_categorical_accuracy: 0.9738\n",
            "Epoch 31/200\n",
            "1093/1095 [============================>.] - ETA: 0s - loss: 0.1024 - sparse_categorical_accuracy: 0.9712\n",
            "Epoch 31: val_loss improved from 0.08676 to 0.08629, saving model to /content/drive/MyDrive/MLHC_PROJECT1/transformer.h5\n",
            "1095/1095 [==============================] - 23s 21ms/step - loss: 0.1024 - sparse_categorical_accuracy: 0.9712 - val_loss: 0.0863 - val_sparse_categorical_accuracy: 0.9754\n",
            "Epoch 32/200\n",
            "1093/1095 [============================>.] - ETA: 0s - loss: 0.1008 - sparse_categorical_accuracy: 0.9713\n",
            "Epoch 32: val_loss did not improve from 0.08629\n",
            "1095/1095 [==============================] - 22s 20ms/step - loss: 0.1007 - sparse_categorical_accuracy: 0.9713 - val_loss: 0.0874 - val_sparse_categorical_accuracy: 0.9759\n",
            "Epoch 33/200\n",
            "1093/1095 [============================>.] - ETA: 0s - loss: 0.1014 - sparse_categorical_accuracy: 0.9705\n",
            "Epoch 33: val_loss did not improve from 0.08629\n",
            "1095/1095 [==============================] - 23s 21ms/step - loss: 0.1014 - sparse_categorical_accuracy: 0.9705 - val_loss: 0.0865 - val_sparse_categorical_accuracy: 0.9753\n",
            "Epoch 34/200\n",
            "1094/1095 [============================>.] - ETA: 0s - loss: 0.1006 - sparse_categorical_accuracy: 0.9713\n",
            "Epoch 34: val_loss did not improve from 0.08629\n",
            "1095/1095 [==============================] - 23s 21ms/step - loss: 0.1006 - sparse_categorical_accuracy: 0.9713 - val_loss: 0.0863 - val_sparse_categorical_accuracy: 0.9754\n",
            "Epoch 35/200\n",
            "1093/1095 [============================>.] - ETA: 0s - loss: 0.0988 - sparse_categorical_accuracy: 0.9712\n",
            "Epoch 35: val_loss did not improve from 0.08629\n",
            "1095/1095 [==============================] - 23s 21ms/step - loss: 0.0988 - sparse_categorical_accuracy: 0.9712 - val_loss: 0.0884 - val_sparse_categorical_accuracy: 0.9746\n",
            "Epoch 36/200\n",
            "1094/1095 [============================>.] - ETA: 0s - loss: 0.1012 - sparse_categorical_accuracy: 0.9708\n",
            "Epoch 36: val_loss improved from 0.08629 to 0.08568, saving model to /content/drive/MyDrive/MLHC_PROJECT1/transformer.h5\n",
            "1095/1095 [==============================] - 24s 21ms/step - loss: 0.1012 - sparse_categorical_accuracy: 0.9708 - val_loss: 0.0857 - val_sparse_categorical_accuracy: 0.9763\n",
            "Epoch 37/200\n",
            "1094/1095 [============================>.] - ETA: 0s - loss: 0.0983 - sparse_categorical_accuracy: 0.9714\n",
            "Epoch 37: val_loss did not improve from 0.08568\n",
            "1095/1095 [==============================] - 24s 22ms/step - loss: 0.0983 - sparse_categorical_accuracy: 0.9714 - val_loss: 0.0860 - val_sparse_categorical_accuracy: 0.9765\n",
            "Epoch 38/200\n",
            "1095/1095 [==============================] - ETA: 0s - loss: 0.0973 - sparse_categorical_accuracy: 0.9718\n",
            "Epoch 38: val_loss did not improve from 0.08568\n",
            "1095/1095 [==============================] - 23s 21ms/step - loss: 0.0973 - sparse_categorical_accuracy: 0.9718 - val_loss: 0.0859 - val_sparse_categorical_accuracy: 0.9758\n",
            "Epoch 39/200\n",
            "1093/1095 [============================>.] - ETA: 0s - loss: 0.0963 - sparse_categorical_accuracy: 0.9718\n",
            "Epoch 39: val_loss did not improve from 0.08568\n",
            "1095/1095 [==============================] - 24s 22ms/step - loss: 0.0962 - sparse_categorical_accuracy: 0.9718 - val_loss: 0.0867 - val_sparse_categorical_accuracy: 0.9753\n",
            "Epoch 40/200\n",
            "1093/1095 [============================>.] - ETA: 0s - loss: 0.0981 - sparse_categorical_accuracy: 0.9713\n",
            "Epoch 40: val_loss did not improve from 0.08568\n",
            "1095/1095 [==============================] - 24s 22ms/step - loss: 0.0981 - sparse_categorical_accuracy: 0.9713 - val_loss: 0.0908 - val_sparse_categorical_accuracy: 0.9737\n",
            "Epoch 41/200\n",
            "1093/1095 [============================>.] - ETA: 0s - loss: 0.0976 - sparse_categorical_accuracy: 0.9718\n",
            "Epoch 41: val_loss did not improve from 0.08568\n",
            "1095/1095 [==============================] - 23s 21ms/step - loss: 0.0976 - sparse_categorical_accuracy: 0.9718 - val_loss: 0.0882 - val_sparse_categorical_accuracy: 0.9754\n",
            "Epoch 42/200\n",
            "1094/1095 [============================>.] - ETA: 0s - loss: 0.0949 - sparse_categorical_accuracy: 0.9724\n",
            "Epoch 42: val_loss improved from 0.08568 to 0.08307, saving model to /content/drive/MyDrive/MLHC_PROJECT1/transformer.h5\n",
            "1095/1095 [==============================] - 24s 22ms/step - loss: 0.0949 - sparse_categorical_accuracy: 0.9724 - val_loss: 0.0831 - val_sparse_categorical_accuracy: 0.9765\n",
            "Epoch 43/200\n",
            "1093/1095 [============================>.] - ETA: 0s - loss: 0.0919 - sparse_categorical_accuracy: 0.9730\n",
            "Epoch 43: val_loss did not improve from 0.08307\n",
            "1095/1095 [==============================] - 23s 21ms/step - loss: 0.0918 - sparse_categorical_accuracy: 0.9731 - val_loss: 0.0867 - val_sparse_categorical_accuracy: 0.9759\n",
            "Epoch 44/200\n",
            "1093/1095 [============================>.] - ETA: 0s - loss: 0.0935 - sparse_categorical_accuracy: 0.9731\n",
            "Epoch 44: val_loss did not improve from 0.08307\n",
            "1095/1095 [==============================] - 23s 21ms/step - loss: 0.0935 - sparse_categorical_accuracy: 0.9731 - val_loss: 0.0863 - val_sparse_categorical_accuracy: 0.9756\n",
            "Epoch 45/200\n",
            "1094/1095 [============================>.] - ETA: 0s - loss: 0.0935 - sparse_categorical_accuracy: 0.9731\n",
            "Epoch 45: val_loss did not improve from 0.08307\n",
            "1095/1095 [==============================] - 23s 21ms/step - loss: 0.0936 - sparse_categorical_accuracy: 0.9731 - val_loss: 0.0878 - val_sparse_categorical_accuracy: 0.9750\n",
            "Epoch 46/200\n",
            "1093/1095 [============================>.] - ETA: 0s - loss: 0.0948 - sparse_categorical_accuracy: 0.9724\n",
            "Epoch 46: val_loss did not improve from 0.08307\n",
            "1095/1095 [==============================] - 23s 21ms/step - loss: 0.0947 - sparse_categorical_accuracy: 0.9724 - val_loss: 0.0839 - val_sparse_categorical_accuracy: 0.9770\n",
            "Epoch 47/200\n",
            "1094/1095 [============================>.] - ETA: 0s - loss: 0.0926 - sparse_categorical_accuracy: 0.9733\n",
            "Epoch 47: val_loss improved from 0.08307 to 0.08287, saving model to /content/drive/MyDrive/MLHC_PROJECT1/transformer.h5\n",
            "1095/1095 [==============================] - 24s 22ms/step - loss: 0.0926 - sparse_categorical_accuracy: 0.9733 - val_loss: 0.0829 - val_sparse_categorical_accuracy: 0.9778\n",
            "Epoch 48/200\n",
            "1093/1095 [============================>.] - ETA: 0s - loss: 0.0926 - sparse_categorical_accuracy: 0.9733\n",
            "Epoch 48: val_loss did not improve from 0.08287\n",
            "1095/1095 [==============================] - 24s 22ms/step - loss: 0.0927 - sparse_categorical_accuracy: 0.9732 - val_loss: 0.0860 - val_sparse_categorical_accuracy: 0.9757\n",
            "Epoch 49/200\n",
            "1093/1095 [============================>.] - ETA: 0s - loss: 0.0926 - sparse_categorical_accuracy: 0.9724\n",
            "Epoch 49: val_loss did not improve from 0.08287\n",
            "1095/1095 [==============================] - 24s 22ms/step - loss: 0.0925 - sparse_categorical_accuracy: 0.9724 - val_loss: 0.0839 - val_sparse_categorical_accuracy: 0.9761\n",
            "Epoch 50/200\n",
            "1094/1095 [============================>.] - ETA: 0s - loss: 0.0918 - sparse_categorical_accuracy: 0.9731\n",
            "Epoch 50: val_loss did not improve from 0.08287\n",
            "1095/1095 [==============================] - 23s 21ms/step - loss: 0.0918 - sparse_categorical_accuracy: 0.9731 - val_loss: 0.0840 - val_sparse_categorical_accuracy: 0.9772\n",
            "Epoch 51/200\n",
            "1094/1095 [============================>.] - ETA: 0s - loss: 0.0928 - sparse_categorical_accuracy: 0.9726\n",
            "Epoch 51: val_loss improved from 0.08287 to 0.08200, saving model to /content/drive/MyDrive/MLHC_PROJECT1/transformer.h5\n",
            "1095/1095 [==============================] - 24s 22ms/step - loss: 0.0928 - sparse_categorical_accuracy: 0.9726 - val_loss: 0.0820 - val_sparse_categorical_accuracy: 0.9778\n",
            "Epoch 52/200\n",
            "1094/1095 [============================>.] - ETA: 0s - loss: 0.0907 - sparse_categorical_accuracy: 0.9734\n",
            "Epoch 52: val_loss did not improve from 0.08200\n",
            "1095/1095 [==============================] - 23s 21ms/step - loss: 0.0907 - sparse_categorical_accuracy: 0.9734 - val_loss: 0.0895 - val_sparse_categorical_accuracy: 0.9736\n",
            "Epoch 53/200\n",
            "1093/1095 [============================>.] - ETA: 0s - loss: 0.0914 - sparse_categorical_accuracy: 0.9732\n",
            "Epoch 53: val_loss did not improve from 0.08200\n",
            "1095/1095 [==============================] - 24s 22ms/step - loss: 0.0915 - sparse_categorical_accuracy: 0.9732 - val_loss: 0.0846 - val_sparse_categorical_accuracy: 0.9764\n",
            "Epoch 54/200\n",
            "1093/1095 [============================>.] - ETA: 0s - loss: 0.0890 - sparse_categorical_accuracy: 0.9732\n",
            "Epoch 54: val_loss did not improve from 0.08200\n",
            "1095/1095 [==============================] - 24s 22ms/step - loss: 0.0891 - sparse_categorical_accuracy: 0.9732 - val_loss: 0.0830 - val_sparse_categorical_accuracy: 0.9766\n",
            "Epoch 55/200\n",
            "1093/1095 [============================>.] - ETA: 0s - loss: 0.0909 - sparse_categorical_accuracy: 0.9734\n",
            "Epoch 55: val_loss did not improve from 0.08200\n",
            "1095/1095 [==============================] - 23s 21ms/step - loss: 0.0908 - sparse_categorical_accuracy: 0.9734 - val_loss: 0.0848 - val_sparse_categorical_accuracy: 0.9764\n",
            "Epoch 56/200\n",
            "1094/1095 [============================>.] - ETA: 0s - loss: 0.0892 - sparse_categorical_accuracy: 0.9741\n",
            "Epoch 56: val_loss did not improve from 0.08200\n",
            "1095/1095 [==============================] - 23s 21ms/step - loss: 0.0892 - sparse_categorical_accuracy: 0.9741 - val_loss: 0.0842 - val_sparse_categorical_accuracy: 0.9769\n",
            "Epoch 57/200\n",
            "1093/1095 [============================>.] - ETA: 0s - loss: 0.0885 - sparse_categorical_accuracy: 0.9741\n",
            "Epoch 57: val_loss did not improve from 0.08200\n",
            "1095/1095 [==============================] - 24s 22ms/step - loss: 0.0886 - sparse_categorical_accuracy: 0.9740 - val_loss: 0.0870 - val_sparse_categorical_accuracy: 0.9764\n",
            "Epoch 58/200\n",
            "1093/1095 [============================>.] - ETA: 0s - loss: 0.0888 - sparse_categorical_accuracy: 0.9735\n",
            "Epoch 58: val_loss did not improve from 0.08200\n",
            "1095/1095 [==============================] - 25s 23ms/step - loss: 0.0889 - sparse_categorical_accuracy: 0.9735 - val_loss: 0.0854 - val_sparse_categorical_accuracy: 0.9765\n",
            "Epoch 59/200\n",
            "1093/1095 [============================>.] - ETA: 0s - loss: 0.0878 - sparse_categorical_accuracy: 0.9742\n",
            "Epoch 59: val_loss did not improve from 0.08200\n",
            "1095/1095 [==============================] - 24s 21ms/step - loss: 0.0879 - sparse_categorical_accuracy: 0.9742 - val_loss: 0.0839 - val_sparse_categorical_accuracy: 0.9766\n",
            "Epoch 60/200\n",
            "1093/1095 [============================>.] - ETA: 0s - loss: 0.0876 - sparse_categorical_accuracy: 0.9738\n",
            "Epoch 60: val_loss did not improve from 0.08200\n",
            "1095/1095 [==============================] - 23s 21ms/step - loss: 0.0879 - sparse_categorical_accuracy: 0.9738 - val_loss: 0.0835 - val_sparse_categorical_accuracy: 0.9772\n",
            "Epoch 61/200\n",
            "1093/1095 [============================>.] - ETA: 0s - loss: 0.0887 - sparse_categorical_accuracy: 0.9738\n",
            "Epoch 61: val_loss did not improve from 0.08200\n",
            "1095/1095 [==============================] - 24s 22ms/step - loss: 0.0887 - sparse_categorical_accuracy: 0.9738 - val_loss: 0.0837 - val_sparse_categorical_accuracy: 0.9769\n",
            "Epoch 62/200\n",
            "1093/1095 [============================>.] - ETA: 0s - loss: 0.0878 - sparse_categorical_accuracy: 0.9740\n",
            "Epoch 62: val_loss did not improve from 0.08200\n",
            "1095/1095 [==============================] - 23s 21ms/step - loss: 0.0878 - sparse_categorical_accuracy: 0.9740 - val_loss: 0.0826 - val_sparse_categorical_accuracy: 0.9784\n",
            "Epoch 63/200\n",
            "1093/1095 [============================>.] - ETA: 0s - loss: 0.0856 - sparse_categorical_accuracy: 0.9743\n",
            "Epoch 63: val_loss did not improve from 0.08200\n",
            "1095/1095 [==============================] - 23s 21ms/step - loss: 0.0860 - sparse_categorical_accuracy: 0.9743 - val_loss: 0.0821 - val_sparse_categorical_accuracy: 0.9768\n",
            "Epoch 64/200\n",
            "1093/1095 [============================>.] - ETA: 0s - loss: 0.0875 - sparse_categorical_accuracy: 0.9737\n",
            "Epoch 64: val_loss did not improve from 0.08200\n",
            "1095/1095 [==============================] - 23s 21ms/step - loss: 0.0876 - sparse_categorical_accuracy: 0.9737 - val_loss: 0.0836 - val_sparse_categorical_accuracy: 0.9775\n",
            "Epoch 65/200\n",
            "1093/1095 [============================>.] - ETA: 0s - loss: 0.0893 - sparse_categorical_accuracy: 0.9735\n",
            "Epoch 65: val_loss improved from 0.08200 to 0.08114, saving model to /content/drive/MyDrive/MLHC_PROJECT1/transformer.h5\n",
            "1095/1095 [==============================] - 24s 22ms/step - loss: 0.0892 - sparse_categorical_accuracy: 0.9734 - val_loss: 0.0811 - val_sparse_categorical_accuracy: 0.9785\n",
            "Epoch 66/200\n",
            "1093/1095 [============================>.] - ETA: 0s - loss: 0.0859 - sparse_categorical_accuracy: 0.9745\n",
            "Epoch 66: val_loss did not improve from 0.08114\n",
            "1095/1095 [==============================] - 23s 21ms/step - loss: 0.0860 - sparse_categorical_accuracy: 0.9744 - val_loss: 0.0814 - val_sparse_categorical_accuracy: 0.9785\n",
            "Epoch 67/200\n",
            "1093/1095 [============================>.] - ETA: 0s - loss: 0.0868 - sparse_categorical_accuracy: 0.9742\n",
            "Epoch 67: val_loss did not improve from 0.08114\n",
            "1095/1095 [==============================] - 24s 22ms/step - loss: 0.0867 - sparse_categorical_accuracy: 0.9742 - val_loss: 0.0861 - val_sparse_categorical_accuracy: 0.9761\n",
            "Epoch 68/200\n",
            "1093/1095 [============================>.] - ETA: 0s - loss: 0.0854 - sparse_categorical_accuracy: 0.9746\n",
            "Epoch 68: val_loss did not improve from 0.08114\n",
            "1095/1095 [==============================] - 25s 22ms/step - loss: 0.0854 - sparse_categorical_accuracy: 0.9746 - val_loss: 0.0813 - val_sparse_categorical_accuracy: 0.9780\n",
            "Epoch 69/200\n",
            "1093/1095 [============================>.] - ETA: 0s - loss: 0.0852 - sparse_categorical_accuracy: 0.9742\n",
            "Epoch 69: val_loss did not improve from 0.08114\n",
            "1095/1095 [==============================] - 24s 22ms/step - loss: 0.0853 - sparse_categorical_accuracy: 0.9742 - val_loss: 0.0814 - val_sparse_categorical_accuracy: 0.9780\n",
            "Epoch 70/200\n",
            "1093/1095 [============================>.] - ETA: 0s - loss: 0.0860 - sparse_categorical_accuracy: 0.9746\n",
            "Epoch 70: val_loss did not improve from 0.08114\n",
            "1095/1095 [==============================] - 24s 22ms/step - loss: 0.0860 - sparse_categorical_accuracy: 0.9746 - val_loss: 0.0842 - val_sparse_categorical_accuracy: 0.9771\n",
            "Epoch 71/200\n",
            "1093/1095 [============================>.] - ETA: 0s - loss: 0.0875 - sparse_categorical_accuracy: 0.9741\n",
            "Epoch 71: val_loss did not improve from 0.08114\n",
            "1095/1095 [==============================] - 24s 22ms/step - loss: 0.0875 - sparse_categorical_accuracy: 0.9741 - val_loss: 0.0857 - val_sparse_categorical_accuracy: 0.9773\n",
            "Epoch 72/200\n",
            "1093/1095 [============================>.] - ETA: 0s - loss: 0.0840 - sparse_categorical_accuracy: 0.9753\n",
            "Epoch 72: val_loss did not improve from 0.08114\n",
            "1095/1095 [==============================] - 23s 21ms/step - loss: 0.0842 - sparse_categorical_accuracy: 0.9752 - val_loss: 0.0822 - val_sparse_categorical_accuracy: 0.9778\n",
            "Epoch 73/200\n",
            "1093/1095 [============================>.] - ETA: 0s - loss: 0.0835 - sparse_categorical_accuracy: 0.9751\n",
            "Epoch 73: val_loss did not improve from 0.08114\n",
            "1095/1095 [==============================] - 23s 21ms/step - loss: 0.0836 - sparse_categorical_accuracy: 0.9750 - val_loss: 0.0822 - val_sparse_categorical_accuracy: 0.9786\n",
            "Epoch 74/200\n",
            "1093/1095 [============================>.] - ETA: 0s - loss: 0.0850 - sparse_categorical_accuracy: 0.9751\n",
            "Epoch 74: val_loss did not improve from 0.08114\n",
            "1095/1095 [==============================] - 24s 22ms/step - loss: 0.0850 - sparse_categorical_accuracy: 0.9750 - val_loss: 0.0821 - val_sparse_categorical_accuracy: 0.9780\n",
            "Epoch 75/200\n",
            "1093/1095 [============================>.] - ETA: 0s - loss: 0.0854 - sparse_categorical_accuracy: 0.9741\n",
            "Epoch 75: val_loss did not improve from 0.08114\n",
            "1095/1095 [==============================] - 24s 22ms/step - loss: 0.0854 - sparse_categorical_accuracy: 0.9741 - val_loss: 0.0834 - val_sparse_categorical_accuracy: 0.9779\n",
            "Epoch 76/200\n",
            "1093/1095 [============================>.] - ETA: 0s - loss: 0.0849 - sparse_categorical_accuracy: 0.9746\n",
            "Epoch 76: val_loss did not improve from 0.08114\n",
            "1095/1095 [==============================] - 24s 22ms/step - loss: 0.0849 - sparse_categorical_accuracy: 0.9746 - val_loss: 0.0814 - val_sparse_categorical_accuracy: 0.9780\n",
            "Epoch 77/200\n",
            "1093/1095 [============================>.] - ETA: 0s - loss: 0.0836 - sparse_categorical_accuracy: 0.9753\n",
            "Epoch 77: val_loss improved from 0.08114 to 0.07957, saving model to /content/drive/MyDrive/MLHC_PROJECT1/transformer.h5\n",
            "1095/1095 [==============================] - 25s 22ms/step - loss: 0.0836 - sparse_categorical_accuracy: 0.9753 - val_loss: 0.0796 - val_sparse_categorical_accuracy: 0.9794\n",
            "Epoch 78/200\n",
            "1093/1095 [============================>.] - ETA: 0s - loss: 0.0845 - sparse_categorical_accuracy: 0.9749\n",
            "Epoch 78: val_loss did not improve from 0.07957\n",
            "1095/1095 [==============================] - 24s 22ms/step - loss: 0.0844 - sparse_categorical_accuracy: 0.9749 - val_loss: 0.0838 - val_sparse_categorical_accuracy: 0.9778\n",
            "Epoch 79/200\n",
            "1093/1095 [============================>.] - ETA: 0s - loss: 0.0823 - sparse_categorical_accuracy: 0.9754\n",
            "Epoch 79: val_loss did not improve from 0.07957\n",
            "1095/1095 [==============================] - 24s 22ms/step - loss: 0.0823 - sparse_categorical_accuracy: 0.9754 - val_loss: 0.0823 - val_sparse_categorical_accuracy: 0.9780\n",
            "Epoch 80/200\n",
            "1093/1095 [============================>.] - ETA: 0s - loss: 0.0827 - sparse_categorical_accuracy: 0.9754\n",
            "Epoch 80: val_loss did not improve from 0.07957\n",
            "1095/1095 [==============================] - 24s 21ms/step - loss: 0.0827 - sparse_categorical_accuracy: 0.9754 - val_loss: 0.0811 - val_sparse_categorical_accuracy: 0.9785\n",
            "Epoch 81/200\n",
            "1093/1095 [============================>.] - ETA: 0s - loss: 0.0820 - sparse_categorical_accuracy: 0.9754\n",
            "Epoch 81: val_loss did not improve from 0.07957\n",
            "1095/1095 [==============================] - 24s 22ms/step - loss: 0.0821 - sparse_categorical_accuracy: 0.9754 - val_loss: 0.0849 - val_sparse_categorical_accuracy: 0.9772\n",
            "Epoch 82/200\n",
            "1093/1095 [============================>.] - ETA: 0s - loss: 0.0821 - sparse_categorical_accuracy: 0.9753\n",
            "Epoch 82: val_loss did not improve from 0.07957\n",
            "1095/1095 [==============================] - 25s 22ms/step - loss: 0.0820 - sparse_categorical_accuracy: 0.9753 - val_loss: 0.0805 - val_sparse_categorical_accuracy: 0.9788\n",
            "Epoch 83/200\n",
            "1093/1095 [============================>.] - ETA: 0s - loss: 0.0826 - sparse_categorical_accuracy: 0.9753\n",
            "Epoch 83: val_loss did not improve from 0.07957\n",
            "1095/1095 [==============================] - 25s 23ms/step - loss: 0.0825 - sparse_categorical_accuracy: 0.9753 - val_loss: 0.0834 - val_sparse_categorical_accuracy: 0.9779\n",
            "Epoch 84/200\n",
            "1093/1095 [============================>.] - ETA: 0s - loss: 0.0820 - sparse_categorical_accuracy: 0.9755\n",
            "Epoch 84: val_loss improved from 0.07957 to 0.07874, saving model to /content/drive/MyDrive/MLHC_PROJECT1/transformer.h5\n",
            "1095/1095 [==============================] - 25s 22ms/step - loss: 0.0819 - sparse_categorical_accuracy: 0.9756 - val_loss: 0.0787 - val_sparse_categorical_accuracy: 0.9790\n",
            "Epoch 85/200\n",
            "1093/1095 [============================>.] - ETA: 0s - loss: 0.0841 - sparse_categorical_accuracy: 0.9749\n",
            "Epoch 85: val_loss did not improve from 0.07874\n",
            "1095/1095 [==============================] - 24s 22ms/step - loss: 0.0841 - sparse_categorical_accuracy: 0.9749 - val_loss: 0.0875 - val_sparse_categorical_accuracy: 0.9765\n",
            "Epoch 86/200\n",
            "1093/1095 [============================>.] - ETA: 0s - loss: 0.0791 - sparse_categorical_accuracy: 0.9761\n",
            "Epoch 86: val_loss did not improve from 0.07874\n",
            "1095/1095 [==============================] - 23s 21ms/step - loss: 0.0791 - sparse_categorical_accuracy: 0.9761 - val_loss: 0.0837 - val_sparse_categorical_accuracy: 0.9783\n",
            "Epoch 87/200\n",
            "1093/1095 [============================>.] - ETA: 0s - loss: 0.0822 - sparse_categorical_accuracy: 0.9746\n",
            "Epoch 87: val_loss did not improve from 0.07874\n",
            "1095/1095 [==============================] - 24s 22ms/step - loss: 0.0821 - sparse_categorical_accuracy: 0.9747 - val_loss: 0.0859 - val_sparse_categorical_accuracy: 0.9774\n",
            "Epoch 88/200\n",
            "1093/1095 [============================>.] - ETA: 0s - loss: 0.0823 - sparse_categorical_accuracy: 0.9746\n",
            "Epoch 88: val_loss did not improve from 0.07874\n",
            "1095/1095 [==============================] - 23s 21ms/step - loss: 0.0823 - sparse_categorical_accuracy: 0.9746 - val_loss: 0.0825 - val_sparse_categorical_accuracy: 0.9789\n",
            "Epoch 89/200\n",
            "1093/1095 [============================>.] - ETA: 0s - loss: 0.0806 - sparse_categorical_accuracy: 0.9757\n",
            "Epoch 89: val_loss did not improve from 0.07874\n",
            "1095/1095 [==============================] - 23s 21ms/step - loss: 0.0805 - sparse_categorical_accuracy: 0.9757 - val_loss: 0.0852 - val_sparse_categorical_accuracy: 0.9776\n",
            "Epoch 90/200\n",
            "1093/1095 [============================>.] - ETA: 0s - loss: 0.0803 - sparse_categorical_accuracy: 0.9753\n",
            "Epoch 90: val_loss did not improve from 0.07874\n",
            "1095/1095 [==============================] - 23s 21ms/step - loss: 0.0803 - sparse_categorical_accuracy: 0.9754 - val_loss: 0.0828 - val_sparse_categorical_accuracy: 0.9790\n",
            "Epoch 91/200\n",
            "1093/1095 [============================>.] - ETA: 0s - loss: 0.0803 - sparse_categorical_accuracy: 0.9759\n",
            "Epoch 91: val_loss did not improve from 0.07874\n",
            "1095/1095 [==============================] - 24s 22ms/step - loss: 0.0804 - sparse_categorical_accuracy: 0.9759 - val_loss: 0.0806 - val_sparse_categorical_accuracy: 0.9796\n",
            "Epoch 92/200\n",
            "1093/1095 [============================>.] - ETA: 0s - loss: 0.0810 - sparse_categorical_accuracy: 0.9757\n",
            "Epoch 92: val_loss did not improve from 0.07874\n",
            "1095/1095 [==============================] - 24s 22ms/step - loss: 0.0810 - sparse_categorical_accuracy: 0.9757 - val_loss: 0.0810 - val_sparse_categorical_accuracy: 0.9793\n",
            "Epoch 93/200\n",
            "1093/1095 [============================>.] - ETA: 0s - loss: 0.0809 - sparse_categorical_accuracy: 0.9760\n",
            "Epoch 93: val_loss did not improve from 0.07874\n",
            "1095/1095 [==============================] - 24s 22ms/step - loss: 0.0809 - sparse_categorical_accuracy: 0.9760 - val_loss: 0.0809 - val_sparse_categorical_accuracy: 0.9785\n",
            "Epoch 94/200\n",
            "1093/1095 [============================>.] - ETA: 0s - loss: 0.0812 - sparse_categorical_accuracy: 0.9750\n",
            "Epoch 94: val_loss did not improve from 0.07874\n",
            "1095/1095 [==============================] - 24s 21ms/step - loss: 0.0813 - sparse_categorical_accuracy: 0.9749 - val_loss: 0.0832 - val_sparse_categorical_accuracy: 0.9790\n",
            "Epoch 95/200\n",
            "1093/1095 [============================>.] - ETA: 0s - loss: 0.0797 - sparse_categorical_accuracy: 0.9762\n",
            "Epoch 95: val_loss did not improve from 0.07874\n",
            "1095/1095 [==============================] - 24s 21ms/step - loss: 0.0797 - sparse_categorical_accuracy: 0.9762 - val_loss: 0.0847 - val_sparse_categorical_accuracy: 0.9781\n",
            "Epoch 96/200\n",
            "1093/1095 [============================>.] - ETA: 0s - loss: 0.0794 - sparse_categorical_accuracy: 0.9754\n",
            "Epoch 96: val_loss did not improve from 0.07874\n",
            "1095/1095 [==============================] - 24s 22ms/step - loss: 0.0794 - sparse_categorical_accuracy: 0.9754 - val_loss: 0.0838 - val_sparse_categorical_accuracy: 0.9784\n",
            "Epoch 97/200\n",
            "1093/1095 [============================>.] - ETA: 0s - loss: 0.0796 - sparse_categorical_accuracy: 0.9760\n",
            "Epoch 97: val_loss did not improve from 0.07874\n",
            "1095/1095 [==============================] - 23s 21ms/step - loss: 0.0796 - sparse_categorical_accuracy: 0.9760 - val_loss: 0.0834 - val_sparse_categorical_accuracy: 0.9780\n",
            "Epoch 98/200\n",
            "1093/1095 [============================>.] - ETA: 0s - loss: 0.0777 - sparse_categorical_accuracy: 0.9767\n",
            "Epoch 98: val_loss did not improve from 0.07874\n",
            "1095/1095 [==============================] - 24s 22ms/step - loss: 0.0777 - sparse_categorical_accuracy: 0.9767 - val_loss: 0.0812 - val_sparse_categorical_accuracy: 0.9790\n",
            "Epoch 99/200\n",
            "1093/1095 [============================>.] - ETA: 0s - loss: 0.0773 - sparse_categorical_accuracy: 0.9763\n",
            "Epoch 99: val_loss did not improve from 0.07874\n",
            "1095/1095 [==============================] - 24s 22ms/step - loss: 0.0772 - sparse_categorical_accuracy: 0.9763 - val_loss: 0.0837 - val_sparse_categorical_accuracy: 0.9783\n",
            "Epoch 100/200\n",
            "1093/1095 [============================>.] - ETA: 0s - loss: 0.0796 - sparse_categorical_accuracy: 0.9757\n",
            "Epoch 100: val_loss did not improve from 0.07874\n",
            "1095/1095 [==============================] - 23s 21ms/step - loss: 0.0797 - sparse_categorical_accuracy: 0.9756 - val_loss: 0.0801 - val_sparse_categorical_accuracy: 0.9794\n",
            "Epoch 101/200\n",
            "1093/1095 [============================>.] - ETA: 0s - loss: 0.0772 - sparse_categorical_accuracy: 0.9772\n",
            "Epoch 101: val_loss did not improve from 0.07874\n",
            "1095/1095 [==============================] - 24s 21ms/step - loss: 0.0772 - sparse_categorical_accuracy: 0.9772 - val_loss: 0.0889 - val_sparse_categorical_accuracy: 0.9774\n",
            "Epoch 102/200\n",
            "1093/1095 [============================>.] - ETA: 0s - loss: 0.0790 - sparse_categorical_accuracy: 0.9762\n",
            "Epoch 102: val_loss did not improve from 0.07874\n",
            "1095/1095 [==============================] - 24s 22ms/step - loss: 0.0790 - sparse_categorical_accuracy: 0.9762 - val_loss: 0.0831 - val_sparse_categorical_accuracy: 0.9786\n",
            "Epoch 103/200\n",
            "1093/1095 [============================>.] - ETA: 0s - loss: 0.0794 - sparse_categorical_accuracy: 0.9764\n",
            "Epoch 103: val_loss did not improve from 0.07874\n",
            "1095/1095 [==============================] - 24s 22ms/step - loss: 0.0794 - sparse_categorical_accuracy: 0.9764 - val_loss: 0.0817 - val_sparse_categorical_accuracy: 0.9778\n",
            "Epoch 104/200\n",
            "1093/1095 [============================>.] - ETA: 0s - loss: 0.0790 - sparse_categorical_accuracy: 0.9762\n",
            "Epoch 104: val_loss did not improve from 0.07874\n",
            "1095/1095 [==============================] - 25s 22ms/step - loss: 0.0789 - sparse_categorical_accuracy: 0.9762 - val_loss: 0.0829 - val_sparse_categorical_accuracy: 0.9792\n"
          ]
        }
      ],
      "source": [
        "callbacks = [keras.callbacks.EarlyStopping(patience=15, restore_best_weights=True), \n",
        "             keras.callbacks.ModelCheckpoint(file_path, monitor='val_loss', verbose=1, save_best_only=True, mode='min')]\n",
        "\n",
        "if train:\n",
        "    history = model.fit(\n",
        "        X_train,\n",
        "        y_train,\n",
        "        validation_split=0.2,\n",
        "        epochs=200,\n",
        "        batch_size=64,\n",
        "        callbacks=callbacks,\n",
        "    )"
      ]
    },
    {
      "cell_type": "code",
      "execution_count": 19,
      "metadata": {
        "colab": {
          "base_uri": "https://localhost:8080/"
        },
        "id": "ibtGwrtpa-mz",
        "outputId": "2eab387f-779c-4ebb-9739-873187aebcf2"
      },
      "outputs": [
        {
          "name": "stdout",
          "output_type": "stream",
          "text": [
            "Test f1 score : 0.8661995226803887 \n",
            "Test accuracy score : 0.9762013520920885 \n"
          ]
        }
      ],
      "source": [
        "model.load_weights(model_path)\n",
        "\n",
        "pred_test = model.predict(X_test)\n",
        "pred_test = np.argmax(pred_test, axis=-1)\n",
        "\n",
        "f1 = f1_score(y_test, pred_test, average=\"macro\")\n",
        "\n",
        "print(\"Test f1 score : %s \"% f1)\n",
        "\n",
        "acc = accuracy_score(y_test, pred_test)\n",
        "\n",
        "print(\"Test accuracy score : %s \"% acc)"
      ]
    },
    {
      "cell_type": "code",
      "execution_count": 20,
      "metadata": {
        "colab": {
          "base_uri": "https://localhost:8080/",
          "height": 295
        },
        "id": "WYPNXPxpsrRS",
        "outputId": "57fc14d4-2fb6-488d-ebac-f91e362ecaff"
      },
      "outputs": [
        {
          "data": {
            "image/png": "[encoded data removed]",
            "text/plain": [
              "<Figure size 432x288 with 1 Axes>"
            ]
          },
          "metadata": {
            "needs_background": "light"
          },
          "output_type": "display_data"
        }
      ],
      "source": [
        "\n",
        "if train:\n",
        "    # Plot training & validation loss values\n",
        "    plt.plot(history.history['loss'])\n",
        "    plt.plot(history.history['val_loss'])\n",
        "    plt.title('Model loss')\n",
        "    plt.ylabel('loss')\n",
        "    plt.xlabel('Epoch')\n",
        "    plt.legend(['Train', 'Validation'], loc='upper left')\n",
        "    plt.show()"
      ]
    },
    {
      "cell_type": "code",
      "execution_count": 21,
      "metadata": {
        "colab": {
          "base_uri": "https://localhost:8080/",
          "height": 295
        },
        "id": "SxsyM_dts629",
        "outputId": "0a6f3980-3c30-4aa6-cd19-9fcd8aa57342"
      },
      "outputs": [
        {
          "data": {
            "image/png": "[encoded data removed]",
            "text/plain": [
              "<Figure size 432x288 with 1 Axes>"
            ]
          },
          "metadata": {
            "needs_background": "light"
          },
          "output_type": "display_data"
        }
      ],
      "source": [
        "if train:\n",
        "    # Plot training & validation accuracy values\n",
        "    plt.plot(history.history['sparse_categorical_accuracy'])\n",
        "    plt.plot(history.history['val_sparse_categorical_accuracy'])\n",
        "    plt.title('Model accuracy')\n",
        "    plt.ylabel('Accuracy')\n",
        "    plt.xlabel('Epoch')\n",
        "    plt.legend(['Train', 'Validation'], loc='upper left')\n",
        "    plt.show()"
      ]
    },
    {
      "cell_type": "code",
      "execution_count": 24,
      "metadata": {
        "colab": {
          "base_uri": "https://localhost:8080/",
          "height": 279
        },
        "id": "b-2fNqIgtpWL",
        "outputId": "eaf8aee3-faac-4954-be5b-2f43706eb119"
      },
      "outputs": [
        {
          "data": {
            "image/png": "[encoded data removed]",
            "text/plain": [
              "<Figure size 432x288 with 2 Axes>"
            ]
          },
          "metadata": {
            "needs_background": "light"
          },
          "output_type": "display_data"
        }
      ],
      "source": [
        "# Plotting confusion matrix\n",
        "cm = confusion_matrix(y_test, Y_pred_test)\n",
        "\n",
        "disp = ConfusionMatrixDisplay(confusion_matrix=cm, display_labels=[0,1,2,3])\n",
        "\n",
        "disp.plot(cmap=plt.cm.Blues)\n",
        "plt.show()"
      ]
    }
  ],
  "metadata": {
    "accelerator": "TPU",
    "colab": {
      "machine_shape": "hm",
      "name": "mlhc_project1_transformer_mitbih.ipynb",
      "provenance": []
    },
    "kernelspec": {
      "display_name": "Python 3",
      "name": "python3"
    },
    "language_info": {
      "name": "python"
    }
  },
  "nbformat": 4,
  "nbformat_minor": 0
}
