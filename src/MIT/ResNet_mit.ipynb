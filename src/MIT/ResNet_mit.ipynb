{
  "cells": [
    {
      "cell_type": "code",
      "execution_count": 6,
      "metadata": {
        "id": "-97OZ2IG8IEl"
      },
      "outputs": [],
      "source": [
        "import pandas as pd\n",
        "import numpy as np\n",
        "\n",
        "from keras import optimizers, losses, activations, models\n",
        "from keras.callbacks import ModelCheckpoint, EarlyStopping, LearningRateScheduler, ReduceLROnPlateau\n",
        "from keras.layers import Dense, Input, Dropout, Convolution1D, MaxPool1D, GlobalMaxPool1D, GlobalAveragePooling1D, concatenate\n",
        "from sklearn.metrics import f1_score, accuracy_score\n",
        "\n",
        "import tensorflow as tf\n",
        "from keras import Input, Model, layers\n",
        "from keras.models import Sequential\n",
        "from keras.layers import Dense, Flatten\n",
        "from keras import losses\n",
        "from tensorflow import keras\n",
        "from keras.callbacks import EarlyStopping\n",
        "\n",
        "from keras.models import Sequential\n",
        "from keras.layers import Dense, Activation, Dropout, Conv1D, GlobalAveragePooling1D, MaxPooling1D, Flatten, BatchNormalization, ReLU, add, GlobalAveragePooling1D\n",
        "from keras import regularizers\n",
        "from keras.utils import np_utils\n",
        "from keras import utils\n",
        "from sklearn.model_selection import train_test_split\n",
        "\n",
        "\n",
        "import matplotlib.pyplot as plt\n",
        "from sklearn.metrics import ConfusionMatrixDisplay, confusion_matrix"
      ]
    },
    {
      "cell_type": "code",
      "execution_count": 2,
      "metadata": {
        "colab": {
          "base_uri": "https://localhost:8080/"
        },
        "id": "cow2LoYC8Lhd",
        "outputId": "afff7719-a071-47c2-e160-484a1dee88cf"
      },
      "outputs": [
        {
          "name": "stdout",
          "output_type": "stream",
          "text": [
            "Mounted at /content/drive\n"
          ]
        }
      ],
      "source": [
        "from google.colab import drive\n",
        "drive.mount('/content/drive')"
      ]
    },
    {
      "cell_type": "code",
      "execution_count": null,
      "metadata": {},
      "outputs": [],
      "source": [
        "# Gloabal variables\n",
        "data_path = \"../input/\"\n",
        "model_path = \"../../H5/MIT/ResNet.h5\"\n",
        "\n",
        "train = False"
      ]
    },
    {
      "cell_type": "code",
      "execution_count": 3,
      "metadata": {
        "id": "0myvrize8OPf"
      },
      "outputs": [],
      "source": [
        "df_train = pd.read_csv(data_path + \"mitbih_train.csv\", header=None)\n",
        "df_train = df_train.sample(frac=1)\n",
        "df_test = pd.read_csv(data_path + \"mitbih_test.csv\", header=None)\n",
        "\n",
        "y_train = np.array(df_train[187].values).astype(np.int8)\n",
        "X_train = np.array(df_train[list(range(187))].values)[..., np.newaxis]\n",
        "\n",
        "y_test = np.array(df_test[187].values).astype(np.int8)\n",
        "X_test = np.array(df_test[list(range(187))].values)[..., np.newaxis]"
      ]
    },
    {
      "cell_type": "code",
      "execution_count": 22,
      "metadata": {
        "id": "YkAgS1Tn76kX"
      },
      "outputs": [],
      "source": [
        "input = Input(shape=(187, 1))\n",
        "\n",
        "b1_cnv1d_1 = Conv1D(filters=16, kernel_size=(5), strides=(2), padding='same', use_bias=False, kernel_initializer='normal')(input)\n",
        "b1_relu_1 = ReLU()(b1_cnv1d_1)\n",
        "b1_bn_1 = BatchNormalization(epsilon=1e-3, momentum=0.999)(b1_relu_1)\n",
        "\n",
        "b1_cnv1d_2 = Conv1D(filters=32, kernel_size=(3), strides=(2), padding='same', use_bias=False, kernel_initializer='normal')(b1_bn_1)\n",
        "b1_relu_2 = ReLU()(b1_cnv1d_2)\n",
        "b1_out = BatchNormalization(epsilon=1e-3, momentum=0.999)(b1_relu_2)\n",
        "\n",
        "'''block 2'''\n",
        "b2_cnv1d_1 = Conv1D(filters=32, kernel_size=(3), strides=(1), padding='same', use_bias=False, kernel_initializer='normal')(b1_out)\n",
        "b2_relu_1 = ReLU()(b2_cnv1d_1)\n",
        "b2_bn_1 = BatchNormalization(epsilon=1e-3, momentum=0.999)(b2_relu_1)\n",
        "\n",
        "b2_add = add([b1_out, b2_bn_1])\n",
        "\n",
        "b2_cnv1d_2 = Conv1D(filters=64, kernel_size=(5), strides=(2), padding='same', use_bias=False, kernel_initializer='normal')(b2_add)\n",
        "b2_relu_2 = ReLU(name='b2_relu_2')(b2_cnv1d_2)\n",
        "b2_out = BatchNormalization(epsilon=1e-3, momentum=0.999, name='b2_bn_2')(b2_relu_2)\n",
        "\n",
        "'''block 3'''\n",
        "b3_cnv1d_1 = Conv1D(filters=64, kernel_size=(3), strides=(1), padding='same', use_bias=False, kernel_initializer='normal')(b2_out)\n",
        "b3_relu_1 = ReLU(name='b3_relu_1')(b3_cnv1d_1)\n",
        "b3_bn_1 = BatchNormalization(epsilon=1e-3, momentum=0.999, name='b3_bn_1')(b3_relu_1)\n",
        "\n",
        "b3_add = add([b2_out, b3_bn_1])\n",
        "\n",
        "b3_cnv1d_2 = Conv1D(filters=128, kernel_size=(2), strides=(2), padding='same', use_bias=False, kernel_initializer='normal')(b3_add)\n",
        "b3_relu_2 = ReLU(name='b3_relu_2')(b3_cnv1d_2)\n",
        "b3_out = BatchNormalization(epsilon=1e-3, momentum=0.999, name='b3_out')(b3_relu_2)\n",
        "\n",
        "'''block 4'''\n",
        "b4_avg_p = GlobalAveragePooling1D()(b3_out)\n",
        "output = Dense(5, name='model_output', activation='softmax', kernel_initializer='he_uniform')(b4_avg_p)\n",
        "\n",
        "model = Model(input, output)\n",
        "\n",
        "opt = tf.keras.optimizers.Adam(learning_rate=0.001)\n",
        "model.compile(optimizer=opt, loss=losses.sparse_categorical_crossentropy, metrics=['acc'])\n"
      ]
    },
    {
      "cell_type": "code",
      "execution_count": 23,
      "metadata": {
        "colab": {
          "base_uri": "https://localhost:8080/"
        },
        "id": "k9im5S_28aPB",
        "outputId": "c2c7cccb-a45c-4bfd-a1c6-6cdbb7cd3b2b"
      },
      "outputs": [
        {
          "name": "stdout",
          "output_type": "stream",
          "text": [
            "Number of weights: 45589\n"
          ]
        }
      ],
      "source": [
        "file_path = model_path\n",
        "tf.keras.utils.plot_model(model, show_shapes=True, dpi=64)\n",
        "print(\"Number of weights: {}\".format(model.count_params()))"
      ]
    },
    {
      "cell_type": "code",
      "execution_count": 24,
      "metadata": {
        "colab": {
          "base_uri": "https://localhost:8080/"
        },
        "id": "YrRDH2gC8jNa",
        "outputId": "b3ab1431-ecab-4e8b-e75e-afc244d67b8b"
      },
      "outputs": [
        {
          "name": "stdout",
          "output_type": "stream",
          "text": [
            "Epoch 1/200\n",
            "\n",
            "Epoch 1: val_acc improved from -inf to 0.06339, saving model to /content/drive/MyDrive/MLHC_PROJECT1/MIT/ResNet.h5\n",
            "2463/2463 - 18s - loss: 0.1745 - acc: 0.9540 - val_loss: 4.2964 - val_acc: 0.0634 - lr: 0.0010 - 18s/epoch - 7ms/step\n",
            "Epoch 2/200\n",
            "\n",
            "Epoch 2: val_acc improved from 0.06339 to 0.16138, saving model to /content/drive/MyDrive/MLHC_PROJECT1/MIT/ResNet.h5\n",
            "2463/2463 - 16s - loss: 0.0900 - acc: 0.9749 - val_loss: 2.7875 - val_acc: 0.1614 - lr: 0.0010 - 16s/epoch - 6ms/step\n",
            "Epoch 3/200\n",
            "\n",
            "Epoch 3: val_acc improved from 0.16138 to 0.97179, saving model to /content/drive/MyDrive/MLHC_PROJECT1/MIT/ResNet.h5\n",
            "2463/2463 - 16s - loss: 0.0734 - acc: 0.9792 - val_loss: 0.0984 - val_acc: 0.9718 - lr: 0.0010 - 16s/epoch - 6ms/step\n",
            "Epoch 4/200\n",
            "\n",
            "Epoch 4: val_acc improved from 0.97179 to 0.97190, saving model to /content/drive/MyDrive/MLHC_PROJECT1/MIT/ResNet.h5\n",
            "2463/2463 - 17s - loss: 0.0633 - acc: 0.9816 - val_loss: 0.0970 - val_acc: 0.9719 - lr: 0.0010 - 17s/epoch - 7ms/step\n",
            "Epoch 5/200\n",
            "\n",
            "Epoch 5: val_acc improved from 0.97190 to 0.97899, saving model to /content/drive/MyDrive/MLHC_PROJECT1/MIT/ResNet.h5\n",
            "2463/2463 - 16s - loss: 0.0559 - acc: 0.9838 - val_loss: 0.0739 - val_acc: 0.9790 - lr: 0.0010 - 16s/epoch - 6ms/step\n",
            "Epoch 6/200\n",
            "\n",
            "Epoch 6: val_acc did not improve from 0.97899\n",
            "2463/2463 - 15s - loss: 0.0499 - acc: 0.9855 - val_loss: 0.1313 - val_acc: 0.9694 - lr: 0.0010 - 15s/epoch - 6ms/step\n",
            "Epoch 7/200\n",
            "\n",
            "Epoch 7: val_acc improved from 0.97899 to 0.98001, saving model to /content/drive/MyDrive/MLHC_PROJECT1/MIT/ResNet.h5\n",
            "2463/2463 - 16s - loss: 0.0460 - acc: 0.9865 - val_loss: 0.0776 - val_acc: 0.9800 - lr: 0.0010 - 16s/epoch - 6ms/step\n",
            "Epoch 8/200\n",
            "\n",
            "Epoch 8: val_acc did not improve from 0.98001\n",
            "2463/2463 - 16s - loss: 0.0417 - acc: 0.9871 - val_loss: 0.0848 - val_acc: 0.9768 - lr: 0.0010 - 16s/epoch - 6ms/step\n",
            "Epoch 9/200\n",
            "\n",
            "Epoch 9: val_acc did not improve from 0.98001\n",
            "2463/2463 - 15s - loss: 0.0397 - acc: 0.9879 - val_loss: 0.0729 - val_acc: 0.9798 - lr: 0.0010 - 15s/epoch - 6ms/step\n",
            "Epoch 10/200\n",
            "\n",
            "Epoch 10: val_acc did not improve from 0.98001\n",
            "\n",
            "Epoch 10: ReduceLROnPlateau reducing learning rate to 0.00010000000474974513.\n",
            "2463/2463 - 15s - loss: 0.0360 - acc: 0.9885 - val_loss: 0.1017 - val_acc: 0.9769 - lr: 0.0010 - 15s/epoch - 6ms/step\n",
            "Epoch 11/200\n",
            "\n",
            "Epoch 11: val_acc improved from 0.98001 to 0.98538, saving model to /content/drive/MyDrive/MLHC_PROJECT1/MIT/ResNet.h5\n",
            "2463/2463 - 16s - loss: 0.0219 - acc: 0.9929 - val_loss: 0.0553 - val_acc: 0.9854 - lr: 1.0000e-04 - 16s/epoch - 6ms/step\n",
            "Epoch 12/200\n",
            "\n",
            "Epoch 12: val_acc did not improve from 0.98538\n",
            "2463/2463 - 15s - loss: 0.0181 - acc: 0.9943 - val_loss: 0.0544 - val_acc: 0.9853 - lr: 1.0000e-04 - 15s/epoch - 6ms/step\n",
            "Epoch 13/200\n",
            "\n",
            "Epoch 13: val_acc did not improve from 0.98538\n",
            "2463/2463 - 15s - loss: 0.0163 - acc: 0.9948 - val_loss: 0.0559 - val_acc: 0.9853 - lr: 1.0000e-04 - 15s/epoch - 6ms/step\n",
            "Epoch 14/200\n",
            "\n",
            "Epoch 14: val_acc did not improve from 0.98538\n",
            "\n",
            "Epoch 14: ReduceLROnPlateau reducing learning rate to 1.0000000474974514e-05.\n",
            "2463/2463 - 15s - loss: 0.0150 - acc: 0.9954 - val_loss: 0.0570 - val_acc: 0.9852 - lr: 1.0000e-04 - 15s/epoch - 6ms/step\n",
            "Epoch 15/200\n",
            "\n",
            "Epoch 15: val_acc improved from 0.98538 to 0.98584, saving model to /content/drive/MyDrive/MLHC_PROJECT1/MIT/ResNet.h5\n",
            "2463/2463 - 16s - loss: 0.0124 - acc: 0.9963 - val_loss: 0.0559 - val_acc: 0.9858 - lr: 1.0000e-05 - 16s/epoch - 6ms/step\n",
            "Epoch 16/200\n",
            "\n",
            "Epoch 16: val_acc did not improve from 0.98584\n",
            "2463/2463 - 16s - loss: 0.0125 - acc: 0.9964 - val_loss: 0.0560 - val_acc: 0.9858 - lr: 1.0000e-05 - 16s/epoch - 6ms/step\n",
            "Epoch 17/200\n",
            "\n",
            "Epoch 17: val_acc improved from 0.98584 to 0.98595, saving model to /content/drive/MyDrive/MLHC_PROJECT1/MIT/ResNet.h5\n",
            "2463/2463 - 16s - loss: 0.0123 - acc: 0.9964 - val_loss: 0.0562 - val_acc: 0.9860 - lr: 1.0000e-05 - 16s/epoch - 6ms/step\n",
            "Epoch 18/200\n",
            "\n",
            "Epoch 18: val_acc did not improve from 0.98595\n",
            "2463/2463 - 15s - loss: 0.0119 - acc: 0.9965 - val_loss: 0.0563 - val_acc: 0.9857 - lr: 1.0000e-05 - 15s/epoch - 6ms/step\n",
            "Epoch 19/200\n",
            "\n",
            "Epoch 19: val_acc did not improve from 0.98595\n",
            "2463/2463 - 15s - loss: 0.0119 - acc: 0.9963 - val_loss: 0.0561 - val_acc: 0.9853 - lr: 1.0000e-05 - 15s/epoch - 6ms/step\n",
            "Epoch 20/200\n",
            "\n",
            "Epoch 20: val_acc did not improve from 0.98595\n",
            "\n",
            "Epoch 20: ReduceLROnPlateau reducing learning rate to 1.0000000656873453e-06.\n",
            "2463/2463 - 15s - loss: 0.0115 - acc: 0.9965 - val_loss: 0.0565 - val_acc: 0.9854 - lr: 1.0000e-05 - 15s/epoch - 6ms/step\n",
            "Epoch 21/200\n",
            "\n",
            "Epoch 21: val_acc did not improve from 0.98595\n",
            "2463/2463 - 15s - loss: 0.0115 - acc: 0.9964 - val_loss: 0.0566 - val_acc: 0.9856 - lr: 1.0000e-06 - 15s/epoch - 6ms/step\n",
            "Epoch 22/200\n",
            "\n",
            "Epoch 22: val_acc did not improve from 0.98595\n",
            "2463/2463 - 15s - loss: 0.0114 - acc: 0.9965 - val_loss: 0.0567 - val_acc: 0.9855 - lr: 1.0000e-06 - 15s/epoch - 6ms/step\n",
            "Epoch 23/200\n",
            "\n",
            "Epoch 23: val_acc did not improve from 0.98595\n",
            "\n",
            "Epoch 23: ReduceLROnPlateau reducing learning rate to 1.0000001111620805e-07.\n",
            "2463/2463 - 15s - loss: 0.0112 - acc: 0.9967 - val_loss: 0.0566 - val_acc: 0.9857 - lr: 1.0000e-06 - 15s/epoch - 6ms/step\n",
            "Epoch 24/200\n",
            "\n",
            "Epoch 24: val_acc did not improve from 0.98595\n",
            "2463/2463 - 15s - loss: 0.0112 - acc: 0.9966 - val_loss: 0.0566 - val_acc: 0.9856 - lr: 1.0000e-07 - 15s/epoch - 6ms/step\n",
            "Epoch 25/200\n",
            "\n",
            "Epoch 25: val_acc did not improve from 0.98595\n",
            "2463/2463 - 15s - loss: 0.0112 - acc: 0.9967 - val_loss: 0.0566 - val_acc: 0.9856 - lr: 1.0000e-07 - 15s/epoch - 6ms/step\n",
            "Epoch 26/200\n",
            "\n",
            "Epoch 26: val_acc did not improve from 0.98595\n",
            "\n",
            "Epoch 26: ReduceLROnPlateau reducing learning rate to 1.000000082740371e-08.\n",
            "2463/2463 - 15s - loss: 0.0115 - acc: 0.9965 - val_loss: 0.0566 - val_acc: 0.9856 - lr: 1.0000e-07 - 15s/epoch - 6ms/step\n",
            "Epoch 27/200\n",
            "\n",
            "Epoch 27: val_acc did not improve from 0.98595\n",
            "2463/2463 - 15s - loss: 0.0117 - acc: 0.9963 - val_loss: 0.0566 - val_acc: 0.9856 - lr: 1.0000e-08 - 15s/epoch - 6ms/step\n",
            "Epoch 27: early stopping\n"
          ]
        }
      ],
      "source": [
        "callbacks = [\n",
        "             ModelCheckpoint(file_path, monitor='val_acc', verbose=1, save_best_only=True, mode='max'),\n",
        "             ReduceLROnPlateau(monitor=\"val_acc\", mode=\"max\", patience=3, verbose=2),\n",
        "             EarlyStopping(monitor=\"val_acc\", mode=\"max\", patience=10, verbose=1)\n",
        "             ]\n",
        "\n",
        "if train:\n",
        "    history = model.fit(X_train, y_train, epochs=200, verbose=2, callbacks=callbacks, validation_split=0.1)"
      ]
    },
    {
      "cell_type": "code",
      "execution_count": 25,
      "metadata": {
        "colab": {
          "base_uri": "https://localhost:8080/"
        },
        "id": "Er5WA6dZ8ok7",
        "outputId": "fcbc39d4-58f8-4ba3-d9df-a7713bd5cd72"
      },
      "outputs": [
        {
          "name": "stdout",
          "output_type": "stream",
          "text": [
            "Test f1 score : 0.9351872498765259 \n",
            "Test accuracy score : 0.9882148730129727 \n"
          ]
        }
      ],
      "source": [
        "model.load_weights(model_path)\n",
        "\n",
        "pred_test = model.predict(X_test)\n",
        "pred_test = np.argmax(pred_test, axis=-1)\n",
        "\n",
        "f1 = f1_score(y_test, pred_test, average=\"macro\")\n",
        "\n",
        "print(\"Test f1 score : %s \"% f1)\n",
        "\n",
        "acc = accuracy_score(y_test, pred_test)\n",
        "\n",
        "print(\"Test accuracy score : %s \"% acc)"
      ]
    },
    {
      "cell_type": "code",
      "execution_count": 26,
      "metadata": {
        "colab": {
          "base_uri": "https://localhost:8080/",
          "height": 295
        },
        "id": "qltrddJr8q9h",
        "outputId": "1db42900-66ce-4994-82fa-12cbd05ed4d9"
      },
      "outputs": [
        {
          "data": {
            "image/png": "[encoded data removed]",
            "text/plain": [
              "<Figure size 432x288 with 1 Axes>"
            ]
          },
          "metadata": {
            "needs_background": "light"
          },
          "output_type": "display_data"
        }
      ],
      "source": [
        "if train:\n",
        "    # Plot training & validation loss values\n",
        "    plt.plot(history.history['loss'])\n",
        "    plt.plot(history.history['val_loss'])\n",
        "    plt.title('Model loss')\n",
        "    plt.ylabel('loss')\n",
        "    plt.xlabel('Epoch')\n",
        "    plt.legend(['Train', 'Validation'], loc='upper left')\n",
        "    plt.show()"
      ]
    },
    {
      "cell_type": "code",
      "execution_count": 27,
      "metadata": {
        "colab": {
          "base_uri": "https://localhost:8080/",
          "height": 295
        },
        "id": "pukGtrlM8uTt",
        "outputId": "2bbfece5-1352-435a-e763-50cdde9c92af"
      },
      "outputs": [
        {
          "data": {
            "image/png": "[encoded data removed]",
            "text/plain": [
              "<Figure size 432x288 with 1 Axes>"
            ]
          },
          "metadata": {
            "needs_background": "light"
          },
          "output_type": "display_data"
        }
      ],
      "source": [
        "if train:\n",
        "    # Plot training & validation accuracy values\n",
        "    plt.plot(history.history['acc'])\n",
        "    plt.plot(history.history['val_acc'])\n",
        "    plt.title('Model accuracy')\n",
        "    plt.ylabel('Accuracy')\n",
        "    plt.xlabel('Epoch')\n",
        "    plt.legend(['Train', 'Validation'], loc='upper left')\n",
        "    plt.show()"
      ]
    },
    {
      "cell_type": "code",
      "execution_count": 28,
      "metadata": {
        "colab": {
          "base_uri": "https://localhost:8080/",
          "height": 279
        },
        "id": "UKadJIsC8wU2",
        "outputId": "83d36b93-843d-4590-cb0f-7ae6b616763e"
      },
      "outputs": [
        {
          "data": {
            "image/png": "[encoded data removed]",
            "text/plain": [
              "<Figure size 432x288 with 2 Axes>"
            ]
          },
          "metadata": {
            "needs_background": "light"
          },
          "output_type": "display_data"
        }
      ],
      "source": [
        "# Plotting confusion matrix\n",
        "cm = confusion_matrix(y_test, pred_test)\n",
        "\n",
        "disp = ConfusionMatrixDisplay(confusion_matrix=cm, display_labels=[0,1,2,3])\n",
        "\n",
        "disp.plot(cmap=plt.cm.Blues)\n",
        "plt.show()"
      ]
    }
  ],
  "metadata": {
    "accelerator": "GPU",
    "colab": {
      "machine_shape": "hm",
      "name": "ResNet_mit.ipynb",
      "provenance": []
    },
    "kernelspec": {
      "display_name": "Python 3",
      "name": "python3"
    },
    "language_info": {
      "name": "python"
    }
  },
  "nbformat": 4,
  "nbformat_minor": 0
}
