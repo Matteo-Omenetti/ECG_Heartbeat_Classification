{
  "cells": [
    {
      "cell_type": "code",
      "execution_count": 1,
      "metadata": {
        "id": "UpjtJntaxYdR"
      },
      "outputs": [],
      "source": [
        "import pandas as pd\n",
        "import numpy as np\n",
        "\n",
        "from keras import optimizers, losses, activations, models\n",
        "from keras.callbacks import ModelCheckpoint, EarlyStopping, LearningRateScheduler, ReduceLROnPlateau\n",
        "from keras.layers import Dense, Input, Dropout, Convolution1D, MaxPool1D, GlobalMaxPool1D, GlobalAveragePooling1D, concatenate\n",
        "from sklearn.metrics import f1_score, accuracy_score\n",
        "\n",
        "import tensorflow as tf\n",
        "from keras import Input, Model, layers\n",
        "from keras.models import Sequential\n",
        "from keras.layers import Dense, Flatten\n",
        "from keras import losses\n",
        "from tensorflow import keras\n",
        "from keras.callbacks import EarlyStopping\n",
        "\n",
        "from keras.models import Sequential\n",
        "from keras.layers import Dense, Activation, Dropout, Conv1D, GlobalAveragePooling1D, MaxPooling1D\n",
        "from keras import regularizers\n",
        "from keras.utils import np_utils\n",
        "from keras import utils\n",
        "from sklearn.model_selection import train_test_split\n",
        "\n",
        "import matplotlib.pyplot as plt\n",
        "from sklearn.metrics import ConfusionMatrixDisplay, confusion_matrix\n",
        "\n",
        "import pywt\n",
        "from sklearn.metrics import roc_auc_score, RocCurveDisplay, average_precision_score, PrecisionRecallDisplay, auc"
      ]
    },
    {
      "cell_type": "code",
      "execution_count": 2,
      "metadata": {
        "colab": {
          "base_uri": "https://localhost:8080/"
        },
        "id": "OhfpzRpkxcE2",
        "outputId": "fe120e6a-b13b-4382-a2a8-d805251e73bd"
      },
      "outputs": [
        {
          "name": "stdout",
          "output_type": "stream",
          "text": [
            "Mounted at /content/drive\n"
          ]
        }
      ],
      "source": [
        "from google.colab import drive\n",
        "drive.mount('/content/drive')"
      ]
    },
    {
      "cell_type": "code",
      "execution_count": null,
      "metadata": {},
      "outputs": [],
      "source": [
        "# Gloabal variables\n",
        "data_path = \"../input/\"\n",
        "model_path = \"../../H5/PTB/CNN_ptb.h5\"\n",
        "\n",
        "train = False"
      ]
    },
    {
      "cell_type": "code",
      "execution_count": 3,
      "metadata": {
        "id": "u8h6nqKSxfTP"
      },
      "outputs": [],
      "source": [
        "# read the dataset\n",
        "df_1 = pd.read_csv(data_path + \"ptbdb_normal.csv\", header=None)\n",
        "df_2 = pd.read_csv(data_path + \"ptbdb_abnormal.csv\", header=None)\n",
        "df = pd.concat([df_1, df_2])\n",
        "\n",
        "df_train, df_test = train_test_split(df, test_size=0.2, random_state=1337, stratify=df[187])\n",
        "\n",
        "\n",
        "y_train = np.array(df_train[187].values).astype(np.int8)\n",
        "X_train = np.array(df_train[list(range(187))].values)[..., np.newaxis]\n",
        "\n",
        "y_test = np.array(df_test[187].values).astype(np.int8)\n",
        "X_test = np.array(df_test[list(range(187))].values)[..., np.newaxis]"
      ]
    },
    {
      "cell_type": "code",
      "execution_count": 4,
      "metadata": {
        "colab": {
          "base_uri": "https://localhost:8080/"
        },
        "id": "Kth7NAZixl6E",
        "outputId": "9ed29f1e-088c-471c-9b3a-2d6efec45bb7"
      },
      "outputs": [
        {
          "name": "stdout",
          "output_type": "stream",
          "text": [
            "Number of weights: 106386\n"
          ]
        }
      ],
      "source": [
        "# create the model\n",
        "model = Sequential()\n",
        "model.add(Conv1D(16, 10, activation='relu', input_shape=(187, 1)))\n",
        "model.add(MaxPooling1D(2))\n",
        "model.add(Dropout(0.))\n",
        "model.add(Conv1D(32, 5, activation='relu'))\n",
        "model.add(MaxPooling1D(2))\n",
        "model.add(Dropout(0.2))\n",
        "model.add(Conv1D(64, 10, activation='relu'))\n",
        "model.add(MaxPooling1D(2))\n",
        "model.add(Dropout(0.5))\n",
        "model.add(Conv1D(128, 2, activation='relu'))\n",
        "model.add(GlobalAveragePooling1D())\n",
        "# model.add(Flatten())\n",
        "model.add(Dense(128, kernel_initializer='normal', activation='relu'))\n",
        "model.add(Dropout(0.2))\n",
        "model.add(Dense(128, kernel_initializer='normal', activation='relu'))\n",
        "model.add(Dropout(0.1))\n",
        "model.add(Dense(256, kernel_initializer='normal', activation='relu'))\n",
        "model.add(Dropout(0.2))\n",
        "model.add(Dense(2, kernel_initializer='normal', activation='softmax'))\n",
        "\n",
        "# model.summary()\n",
        "\n",
        "opt = tf.keras.optimizers.Adam(learning_rate=0.001)\n",
        "model.compile(optimizer=opt, loss=losses.sparse_categorical_crossentropy, metrics=['acc'])\n",
        "\n",
        "tf.keras.utils.plot_model(model, show_shapes=True, dpi=64)\n",
        "print(\"Number of weights: {}\".format(model.count_params()))"
      ]
    },
    {
      "cell_type": "code",
      "execution_count": 5,
      "metadata": {
        "colab": {
          "base_uri": "https://localhost:8080/"
        },
        "id": "swbkRcsaxrZN",
        "outputId": "44fe3d5a-12d2-4833-b271-c7ee0fac73e1"
      },
      "outputs": [
        {
          "name": "stdout",
          "output_type": "stream",
          "text": [
            "Epoch 1/250\n",
            "\n",
            "Epoch 1: val_acc improved from -inf to 0.75279, saving model to /content/drive/MyDrive/MLHC_PROJECT1/CNN.h5\n",
            "328/328 - 12s - loss: 0.5291 - acc: 0.7408 - val_loss: 0.4889 - val_acc: 0.7528 - lr: 0.0010 - 12s/epoch - 37ms/step\n",
            "Epoch 2/250\n",
            "\n",
            "Epoch 2: val_acc improved from 0.75279 to 0.83004, saving model to /content/drive/MyDrive/MLHC_PROJECT1/CNN.h5\n",
            "328/328 - 1s - loss: 0.4216 - acc: 0.8087 - val_loss: 0.3886 - val_acc: 0.8300 - lr: 0.0010 - 1s/epoch - 4ms/step\n",
            "Epoch 3/250\n",
            "\n",
            "Epoch 3: val_acc improved from 0.83004 to 0.85408, saving model to /content/drive/MyDrive/MLHC_PROJECT1/CNN.h5\n",
            "328/328 - 1s - loss: 0.3616 - acc: 0.8436 - val_loss: 0.3316 - val_acc: 0.8541 - lr: 0.0010 - 1s/epoch - 4ms/step\n",
            "Epoch 4/250\n",
            "\n",
            "Epoch 4: val_acc did not improve from 0.85408\n",
            "328/328 - 1s - loss: 0.3194 - acc: 0.8665 - val_loss: 0.3515 - val_acc: 0.8429 - lr: 0.0010 - 1s/epoch - 4ms/step\n",
            "Epoch 5/250\n",
            "\n",
            "Epoch 5: val_acc improved from 0.85408 to 0.90129, saving model to /content/drive/MyDrive/MLHC_PROJECT1/CNN.h5\n",
            "328/328 - 1s - loss: 0.2756 - acc: 0.8890 - val_loss: 0.2530 - val_acc: 0.9013 - lr: 0.0010 - 1s/epoch - 4ms/step\n",
            "Epoch 6/250\n",
            "\n",
            "Epoch 6: val_acc improved from 0.90129 to 0.91845, saving model to /content/drive/MyDrive/MLHC_PROJECT1/CNN.h5\n",
            "328/328 - 1s - loss: 0.2476 - acc: 0.9021 - val_loss: 0.2096 - val_acc: 0.9185 - lr: 0.0010 - 1s/epoch - 4ms/step\n",
            "Epoch 7/250\n",
            "\n",
            "Epoch 7: val_acc did not improve from 0.91845\n",
            "328/328 - 1s - loss: 0.2281 - acc: 0.9109 - val_loss: 0.2049 - val_acc: 0.9159 - lr: 0.0010 - 1s/epoch - 4ms/step\n",
            "Epoch 8/250\n",
            "\n",
            "Epoch 8: val_acc improved from 0.91845 to 0.94163, saving model to /content/drive/MyDrive/MLHC_PROJECT1/CNN.h5\n",
            "328/328 - 2s - loss: 0.2062 - acc: 0.9225 - val_loss: 0.1512 - val_acc: 0.9416 - lr: 0.0010 - 2s/epoch - 6ms/step\n",
            "Epoch 9/250\n",
            "\n",
            "Epoch 9: val_acc did not improve from 0.94163\n",
            "328/328 - 2s - loss: 0.1885 - acc: 0.9281 - val_loss: 0.2157 - val_acc: 0.9133 - lr: 0.0010 - 2s/epoch - 6ms/step\n",
            "Epoch 10/250\n",
            "\n",
            "Epoch 10: val_acc improved from 0.94163 to 0.95279, saving model to /content/drive/MyDrive/MLHC_PROJECT1/CNN.h5\n",
            "328/328 - 2s - loss: 0.1693 - acc: 0.9356 - val_loss: 0.1214 - val_acc: 0.9528 - lr: 0.0010 - 2s/epoch - 7ms/step\n",
            "Epoch 11/250\n",
            "\n",
            "Epoch 11: val_acc improved from 0.95279 to 0.96137, saving model to /content/drive/MyDrive/MLHC_PROJECT1/CNN.h5\n",
            "328/328 - 2s - loss: 0.1575 - acc: 0.9426 - val_loss: 0.1106 - val_acc: 0.9614 - lr: 0.0010 - 2s/epoch - 6ms/step\n",
            "Epoch 12/250\n",
            "\n",
            "Epoch 12: val_acc did not improve from 0.96137\n",
            "328/328 - 1s - loss: 0.1559 - acc: 0.9433 - val_loss: 0.1779 - val_acc: 0.9305 - lr: 0.0010 - 1s/epoch - 4ms/step\n",
            "Epoch 13/250\n",
            "\n",
            "Epoch 13: val_acc did not improve from 0.96137\n",
            "328/328 - 1s - loss: 0.1423 - acc: 0.9448 - val_loss: 0.1591 - val_acc: 0.9425 - lr: 0.0010 - 1s/epoch - 4ms/step\n",
            "Epoch 14/250\n",
            "\n",
            "Epoch 14: val_acc did not improve from 0.96137\n",
            "\n",
            "Epoch 14: ReduceLROnPlateau reducing learning rate to 0.00010000000474974513.\n",
            "328/328 - 1s - loss: 0.1374 - acc: 0.9503 - val_loss: 0.1459 - val_acc: 0.9459 - lr: 0.0010 - 1s/epoch - 4ms/step\n",
            "Epoch 15/250\n",
            "\n",
            "Epoch 15: val_acc improved from 0.96137 to 0.96652, saving model to /content/drive/MyDrive/MLHC_PROJECT1/CNN.h5\n",
            "328/328 - 2s - loss: 0.1036 - acc: 0.9638 - val_loss: 0.1008 - val_acc: 0.9665 - lr: 1.0000e-04 - 2s/epoch - 5ms/step\n",
            "Epoch 16/250\n",
            "\n",
            "Epoch 16: val_acc did not improve from 0.96652\n",
            "328/328 - 2s - loss: 0.0948 - acc: 0.9657 - val_loss: 0.1212 - val_acc: 0.9562 - lr: 1.0000e-04 - 2s/epoch - 5ms/step\n",
            "Epoch 17/250\n",
            "\n",
            "Epoch 17: val_acc did not improve from 0.96652\n",
            "328/328 - 2s - loss: 0.0965 - acc: 0.9655 - val_loss: 0.1137 - val_acc: 0.9614 - lr: 1.0000e-04 - 2s/epoch - 5ms/step\n",
            "Epoch 18/250\n",
            "\n",
            "Epoch 18: val_acc improved from 0.96652 to 0.97167, saving model to /content/drive/MyDrive/MLHC_PROJECT1/CNN.h5\n",
            "328/328 - 2s - loss: 0.0900 - acc: 0.9670 - val_loss: 0.0833 - val_acc: 0.9717 - lr: 1.0000e-04 - 2s/epoch - 5ms/step\n",
            "Epoch 19/250\n",
            "\n",
            "Epoch 19: val_acc did not improve from 0.97167\n",
            "328/328 - 1s - loss: 0.0886 - acc: 0.9667 - val_loss: 0.1330 - val_acc: 0.9519 - lr: 1.0000e-04 - 1s/epoch - 4ms/step\n",
            "Epoch 20/250\n",
            "\n",
            "Epoch 20: val_acc did not improve from 0.97167\n",
            "328/328 - 1s - loss: 0.0861 - acc: 0.9696 - val_loss: 0.1149 - val_acc: 0.9579 - lr: 1.0000e-04 - 1s/epoch - 4ms/step\n",
            "Epoch 21/250\n",
            "\n",
            "Epoch 21: val_acc did not improve from 0.97167\n",
            "\n",
            "Epoch 21: ReduceLROnPlateau reducing learning rate to 1.0000000474974514e-05.\n",
            "328/328 - 1s - loss: 0.0867 - acc: 0.9681 - val_loss: 0.1126 - val_acc: 0.9614 - lr: 1.0000e-04 - 1s/epoch - 4ms/step\n",
            "Epoch 22/250\n",
            "\n",
            "Epoch 22: val_acc did not improve from 0.97167\n",
            "328/328 - 1s - loss: 0.0841 - acc: 0.9701 - val_loss: 0.0962 - val_acc: 0.9674 - lr: 1.0000e-05 - 1s/epoch - 4ms/step\n",
            "Epoch 23/250\n",
            "\n",
            "Epoch 23: val_acc did not improve from 0.97167\n",
            "328/328 - 2s - loss: 0.0818 - acc: 0.9702 - val_loss: 0.1032 - val_acc: 0.9657 - lr: 1.0000e-05 - 2s/epoch - 5ms/step\n",
            "Epoch 24/250\n",
            "\n",
            "Epoch 24: val_acc did not improve from 0.97167\n",
            "\n",
            "Epoch 24: ReduceLROnPlateau reducing learning rate to 1.0000000656873453e-06.\n",
            "328/328 - 2s - loss: 0.0848 - acc: 0.9678 - val_loss: 0.0970 - val_acc: 0.9665 - lr: 1.0000e-05 - 2s/epoch - 6ms/step\n",
            "Epoch 25/250\n",
            "\n",
            "Epoch 25: val_acc did not improve from 0.97167\n",
            "328/328 - 2s - loss: 0.0759 - acc: 0.9744 - val_loss: 0.0984 - val_acc: 0.9657 - lr: 1.0000e-06 - 2s/epoch - 5ms/step\n",
            "Epoch 26/250\n",
            "\n",
            "Epoch 26: val_acc did not improve from 0.97167\n",
            "328/328 - 2s - loss: 0.0795 - acc: 0.9718 - val_loss: 0.0979 - val_acc: 0.9657 - lr: 1.0000e-06 - 2s/epoch - 5ms/step\n",
            "Epoch 27/250\n",
            "\n",
            "Epoch 27: val_acc did not improve from 0.97167\n",
            "\n",
            "Epoch 27: ReduceLROnPlateau reducing learning rate to 1.0000001111620805e-07.\n",
            "328/328 - 1s - loss: 0.0796 - acc: 0.9732 - val_loss: 0.0992 - val_acc: 0.9648 - lr: 1.0000e-06 - 1s/epoch - 5ms/step\n",
            "Epoch 28/250\n",
            "\n",
            "Epoch 28: val_acc did not improve from 0.97167\n",
            "328/328 - 1s - loss: 0.0799 - acc: 0.9726 - val_loss: 0.0993 - val_acc: 0.9648 - lr: 1.0000e-07 - 1s/epoch - 4ms/step\n",
            "Epoch 29/250\n",
            "\n",
            "Epoch 29: val_acc did not improve from 0.97167\n",
            "328/328 - 1s - loss: 0.0771 - acc: 0.9721 - val_loss: 0.0990 - val_acc: 0.9648 - lr: 1.0000e-07 - 1s/epoch - 4ms/step\n",
            "Epoch 30/250\n",
            "\n",
            "Epoch 30: val_acc did not improve from 0.97167\n",
            "\n",
            "Epoch 30: ReduceLROnPlateau reducing learning rate to 1.000000082740371e-08.\n",
            "328/328 - 1s - loss: 0.0826 - acc: 0.9709 - val_loss: 0.0989 - val_acc: 0.9639 - lr: 1.0000e-07 - 1s/epoch - 4ms/step\n",
            "Epoch 31/250\n",
            "\n",
            "Epoch 31: val_acc did not improve from 0.97167\n",
            "328/328 - 1s - loss: 0.0800 - acc: 0.9717 - val_loss: 0.0989 - val_acc: 0.9639 - lr: 1.0000e-08 - 1s/epoch - 4ms/step\n",
            "Epoch 32/250\n",
            "\n",
            "Epoch 32: val_acc did not improve from 0.97167\n",
            "328/328 - 1s - loss: 0.0792 - acc: 0.9714 - val_loss: 0.0989 - val_acc: 0.9639 - lr: 1.0000e-08 - 1s/epoch - 4ms/step\n",
            "Epoch 33/250\n",
            "\n",
            "Epoch 33: val_acc did not improve from 0.97167\n",
            "\n",
            "Epoch 33: ReduceLROnPlateau reducing learning rate to 1.000000082740371e-09.\n",
            "328/328 - 1s - loss: 0.0782 - acc: 0.9719 - val_loss: 0.0989 - val_acc: 0.9639 - lr: 1.0000e-08 - 1s/epoch - 4ms/step\n",
            "Epoch 33: early stopping\n"
          ]
        }
      ],
      "source": [
        "callbacks = [ModelCheckpoint(model_path, monitor='val_acc', verbose=1, save_best_only=True, mode='max'),\n",
        "             ReduceLROnPlateau(monitor=\"val_acc\", mode=\"max\", patience=3, verbose=2),\n",
        "             EarlyStopping(monitor=\"val_acc\", mode=\"max\", patience=15, verbose=1)]\n",
        "\n",
        "if train:\n",
        "    history = model.fit(X_train, y_train, epochs=250, verbose=2, callbacks=callbacks, validation_split=0.1)"
      ]
    },
    {
      "cell_type": "code",
      "execution_count": 6,
      "metadata": {
        "colab": {
          "base_uri": "https://localhost:8080/"
        },
        "id": "MdcD1Hecy2o3",
        "outputId": "b541f1c0-3254-4cd8-b300-0a9db9b8859c"
      },
      "outputs": [
        {
          "name": "stdout",
          "output_type": "stream",
          "text": [
            "Test f1 score : 0.9695305194895818 \n",
            "Test accuracy score : 0.9752662315355548 \n"
          ]
        }
      ],
      "source": [
        "model.load_weights(model_path)\n",
        "\n",
        "pred_test = model.predict(X_test)\n",
        "pred_test = np.argmax(pred_test, axis=-1)\n",
        "\n",
        "f1 = f1_score(y_test, pred_test, average=\"macro\")\n",
        "\n",
        "print(\"Test f1 score : %s \"% f1)\n",
        "\n",
        "acc = accuracy_score(y_test, pred_test)\n",
        "\n",
        "print(\"Test accuracy score : %s \"% acc)"
      ]
    },
    {
      "cell_type": "code",
      "execution_count": 7,
      "metadata": {
        "colab": {
          "base_uri": "https://localhost:8080/",
          "height": 295
        },
        "id": "zvCMEOlIz2Ad",
        "outputId": "6de07041-bcc1-4410-daba-59ff1d1baa32"
      },
      "outputs": [
        {
          "data": {
            "image/png": "[encoded data removed]",
            "text/plain": [
              "<Figure size 432x288 with 1 Axes>"
            ]
          },
          "metadata": {
            "needs_background": "light"
          },
          "output_type": "display_data"
        }
      ],
      "source": [
        "if train:\n",
        "    # Plot training & validation loss values\n",
        "    plt.plot(history.history['loss'])\n",
        "    plt.plot(history.history['val_loss'])\n",
        "    plt.title('Model loss')\n",
        "    plt.ylabel('loss')\n",
        "    plt.xlabel('Epoch')\n",
        "    plt.legend(['Train', 'Validation'], loc='upper left')\n",
        "    plt.show()"
      ]
    },
    {
      "cell_type": "code",
      "execution_count": 8,
      "metadata": {
        "colab": {
          "base_uri": "https://localhost:8080/",
          "height": 295
        },
        "id": "EF8BRTjcz69X",
        "outputId": "b936d835-ecff-4959-ee14-4bfca1802561"
      },
      "outputs": [
        {
          "data": {
            "image/png": "[encoded data removed]",
            "text/plain": [
              "<Figure size 432x288 with 1 Axes>"
            ]
          },
          "metadata": {
            "needs_background": "light"
          },
          "output_type": "display_data"
        }
      ],
      "source": [
        "if train:\n",
        "    # Plot training & validation accuracy values\n",
        "    plt.plot(history.history['acc'])\n",
        "    plt.plot(history.history['val_acc'])\n",
        "    plt.title('Model accuracy')\n",
        "    plt.ylabel('Accuracy')\n",
        "    plt.xlabel('Epoch')\n",
        "    plt.legend(['Train', 'Validation'], loc='upper left')\n",
        "    plt.show()"
      ]
    },
    {
      "cell_type": "code",
      "execution_count": 9,
      "metadata": {
        "colab": {
          "base_uri": "https://localhost:8080/",
          "height": 296
        },
        "id": "MmArV_20Ihea",
        "outputId": "75a17fb2-c39f-4115-c5d2-62176b637e05"
      },
      "outputs": [
        {
          "name": "stdout",
          "output_type": "stream",
          "text": [
            "Model AUROC: 0.9748897100765767\n"
          ]
        },
        {
          "data": {
            "image/png": "[encoded data removed]",
            "text/plain": [
              "<Figure size 432x288 with 1 Axes>"
            ]
          },
          "metadata": {
            "needs_background": "light"
          },
          "output_type": "display_data"
        }
      ],
      "source": [
        "RocCurveDisplay.from_predictions(y_test.reshape(-1,1), pred_test)\n",
        "print(\"Model AUROC: {}\".format(roc_auc_score(y_test.reshape(-1,1), pred_test, average=None)))"
      ]
    },
    {
      "cell_type": "code",
      "execution_count": 10,
      "metadata": {
        "colab": {
          "base_uri": "https://localhost:8080/",
          "height": 296
        },
        "id": "nwT9lTZZIknL",
        "outputId": "14c88e7f-591d-4272-ec73-ed04e821bbf5"
      },
      "outputs": [
        {
          "name": "stdout",
          "output_type": "stream",
          "text": [
            "Model AUPRC: 0.9833679152873571\n"
          ]
        },
        {
          "data": {
            "image/png": "[encoded data removed]",
            "text/plain": [
              "<Figure size 432x288 with 1 Axes>"
            ]
          },
          "metadata": {
            "needs_background": "light"
          },
          "output_type": "display_data"
        }
      ],
      "source": [
        "PrecisionRecallDisplay.from_predictions(y_test.reshape(-1,1), pred_test)\n",
        "print(\"Model AUPRC: {}\".format(average_precision_score(y_test.reshape(-1,1), pred_test)))"
      ]
    },
    {
      "cell_type": "code",
      "execution_count": null,
      "metadata": {
        "colab": {
          "base_uri": "https://localhost:8080/",
          "height": 279
        },
        "id": "lxMXGIfWz9n-",
        "outputId": "dc7b2edc-a334-45fe-91f5-acfb96964e76"
      },
      "outputs": [
        {
          "data": {
            "image/png": "[encoded data removed]",
            "text/plain": [
              "<Figure size 432x288 with 2 Axes>"
            ]
          },
          "metadata": {
            "needs_background": "light"
          },
          "output_type": "display_data"
        }
      ],
      "source": [
        "# Plotting confusion matrix\n",
        "cm = confusion_matrix(y_test, pred_test)\n",
        "\n",
        "disp = ConfusionMatrixDisplay(confusion_matrix=cm, display_labels=[0,1,2,3])\n",
        "\n",
        "disp.plot(cmap=plt.cm.Blues)\n",
        "plt.show()"
      ]
    }
  ],
  "metadata": {
    "accelerator": "GPU",
    "colab": {
      "machine_shape": "hm",
      "name": "CNN_ptb.ipynb",
      "provenance": []
    },
    "kernelspec": {
      "display_name": "Python 3",
      "name": "python3"
    },
    "language_info": {
      "name": "python"
    }
  },
  "nbformat": 4,
  "nbformat_minor": 0
}
