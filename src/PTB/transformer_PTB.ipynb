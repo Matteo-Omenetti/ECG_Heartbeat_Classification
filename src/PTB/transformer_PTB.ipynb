{
  "cells": [
    {
      "cell_type": "code",
      "execution_count": 1,
      "metadata": {
        "colab": {
          "base_uri": "https://localhost:8080/"
        },
        "id": "yRCjcu40n4Pd",
        "outputId": "ec115b65-0881-4d62-9f98-9e7fb9861769"
      },
      "outputs": [
        {
          "name": "stdout",
          "output_type": "stream",
          "text": [
            "Tensorflow version 2.8.0\n",
            "Running on TPU  ['10.51.214.106:8470']\n",
            "INFO:tensorflow:Deallocate tpu buffers before initializing tpu system.\n"
          ]
        },
        {
          "name": "stderr",
          "output_type": "stream",
          "text": [
            "INFO:tensorflow:Deallocate tpu buffers before initializing tpu system.\n"
          ]
        },
        {
          "name": "stdout",
          "output_type": "stream",
          "text": [
            "INFO:tensorflow:Initializing the TPU system: grpc://10.51.214.106:8470\n"
          ]
        },
        {
          "name": "stderr",
          "output_type": "stream",
          "text": [
            "INFO:tensorflow:Initializing the TPU system: grpc://10.51.214.106:8470\n"
          ]
        },
        {
          "name": "stdout",
          "output_type": "stream",
          "text": [
            "INFO:tensorflow:Finished initializing TPU system.\n"
          ]
        },
        {
          "name": "stderr",
          "output_type": "stream",
          "text": [
            "INFO:tensorflow:Finished initializing TPU system.\n",
            "WARNING:absl:`tf.distribute.experimental.TPUStrategy` is deprecated, please use  the non experimental symbol `tf.distribute.TPUStrategy` instead.\n"
          ]
        },
        {
          "name": "stdout",
          "output_type": "stream",
          "text": [
            "INFO:tensorflow:Found TPU system:\n"
          ]
        },
        {
          "name": "stderr",
          "output_type": "stream",
          "text": [
            "INFO:tensorflow:Found TPU system:\n"
          ]
        },
        {
          "name": "stdout",
          "output_type": "stream",
          "text": [
            "INFO:tensorflow:*** Num TPU Cores: 8\n"
          ]
        },
        {
          "name": "stderr",
          "output_type": "stream",
          "text": [
            "INFO:tensorflow:*** Num TPU Cores: 8\n"
          ]
        },
        {
          "name": "stdout",
          "output_type": "stream",
          "text": [
            "INFO:tensorflow:*** Num TPU Workers: 1\n"
          ]
        },
        {
          "name": "stderr",
          "output_type": "stream",
          "text": [
            "INFO:tensorflow:*** Num TPU Workers: 1\n"
          ]
        },
        {
          "name": "stdout",
          "output_type": "stream",
          "text": [
            "INFO:tensorflow:*** Num TPU Cores Per Worker: 8\n"
          ]
        },
        {
          "name": "stderr",
          "output_type": "stream",
          "text": [
            "INFO:tensorflow:*** Num TPU Cores Per Worker: 8\n"
          ]
        },
        {
          "name": "stdout",
          "output_type": "stream",
          "text": [
            "INFO:tensorflow:*** Available Device: _DeviceAttributes(/job:localhost/replica:0/task:0/device:CPU:0, CPU, 0, 0)\n"
          ]
        },
        {
          "name": "stderr",
          "output_type": "stream",
          "text": [
            "INFO:tensorflow:*** Available Device: _DeviceAttributes(/job:localhost/replica:0/task:0/device:CPU:0, CPU, 0, 0)\n"
          ]
        },
        {
          "name": "stdout",
          "output_type": "stream",
          "text": [
            "INFO:tensorflow:*** Available Device: _DeviceAttributes(/job:worker/replica:0/task:0/device:CPU:0, CPU, 0, 0)\n"
          ]
        },
        {
          "name": "stderr",
          "output_type": "stream",
          "text": [
            "INFO:tensorflow:*** Available Device: _DeviceAttributes(/job:worker/replica:0/task:0/device:CPU:0, CPU, 0, 0)\n"
          ]
        },
        {
          "name": "stdout",
          "output_type": "stream",
          "text": [
            "INFO:tensorflow:*** Available Device: _DeviceAttributes(/job:worker/replica:0/task:0/device:TPU:0, TPU, 0, 0)\n"
          ]
        },
        {
          "name": "stderr",
          "output_type": "stream",
          "text": [
            "INFO:tensorflow:*** Available Device: _DeviceAttributes(/job:worker/replica:0/task:0/device:TPU:0, TPU, 0, 0)\n"
          ]
        },
        {
          "name": "stdout",
          "output_type": "stream",
          "text": [
            "INFO:tensorflow:*** Available Device: _DeviceAttributes(/job:worker/replica:0/task:0/device:TPU:1, TPU, 0, 0)\n"
          ]
        },
        {
          "name": "stderr",
          "output_type": "stream",
          "text": [
            "INFO:tensorflow:*** Available Device: _DeviceAttributes(/job:worker/replica:0/task:0/device:TPU:1, TPU, 0, 0)\n"
          ]
        },
        {
          "name": "stdout",
          "output_type": "stream",
          "text": [
            "INFO:tensorflow:*** Available Device: _DeviceAttributes(/job:worker/replica:0/task:0/device:TPU:2, TPU, 0, 0)\n"
          ]
        },
        {
          "name": "stderr",
          "output_type": "stream",
          "text": [
            "INFO:tensorflow:*** Available Device: _DeviceAttributes(/job:worker/replica:0/task:0/device:TPU:2, TPU, 0, 0)\n"
          ]
        },
        {
          "name": "stdout",
          "output_type": "stream",
          "text": [
            "INFO:tensorflow:*** Available Device: _DeviceAttributes(/job:worker/replica:0/task:0/device:TPU:3, TPU, 0, 0)\n"
          ]
        },
        {
          "name": "stderr",
          "output_type": "stream",
          "text": [
            "INFO:tensorflow:*** Available Device: _DeviceAttributes(/job:worker/replica:0/task:0/device:TPU:3, TPU, 0, 0)\n"
          ]
        },
        {
          "name": "stdout",
          "output_type": "stream",
          "text": [
            "INFO:tensorflow:*** Available Device: _DeviceAttributes(/job:worker/replica:0/task:0/device:TPU:4, TPU, 0, 0)\n"
          ]
        },
        {
          "name": "stderr",
          "output_type": "stream",
          "text": [
            "INFO:tensorflow:*** Available Device: _DeviceAttributes(/job:worker/replica:0/task:0/device:TPU:4, TPU, 0, 0)\n"
          ]
        },
        {
          "name": "stdout",
          "output_type": "stream",
          "text": [
            "INFO:tensorflow:*** Available Device: _DeviceAttributes(/job:worker/replica:0/task:0/device:TPU:5, TPU, 0, 0)\n"
          ]
        },
        {
          "name": "stderr",
          "output_type": "stream",
          "text": [
            "INFO:tensorflow:*** Available Device: _DeviceAttributes(/job:worker/replica:0/task:0/device:TPU:5, TPU, 0, 0)\n"
          ]
        },
        {
          "name": "stdout",
          "output_type": "stream",
          "text": [
            "INFO:tensorflow:*** Available Device: _DeviceAttributes(/job:worker/replica:0/task:0/device:TPU:6, TPU, 0, 0)\n"
          ]
        },
        {
          "name": "stderr",
          "output_type": "stream",
          "text": [
            "INFO:tensorflow:*** Available Device: _DeviceAttributes(/job:worker/replica:0/task:0/device:TPU:6, TPU, 0, 0)\n"
          ]
        },
        {
          "name": "stdout",
          "output_type": "stream",
          "text": [
            "INFO:tensorflow:*** Available Device: _DeviceAttributes(/job:worker/replica:0/task:0/device:TPU:7, TPU, 0, 0)\n"
          ]
        },
        {
          "name": "stderr",
          "output_type": "stream",
          "text": [
            "INFO:tensorflow:*** Available Device: _DeviceAttributes(/job:worker/replica:0/task:0/device:TPU:7, TPU, 0, 0)\n"
          ]
        },
        {
          "name": "stdout",
          "output_type": "stream",
          "text": [
            "INFO:tensorflow:*** Available Device: _DeviceAttributes(/job:worker/replica:0/task:0/device:TPU_SYSTEM:0, TPU_SYSTEM, 0, 0)\n"
          ]
        },
        {
          "name": "stderr",
          "output_type": "stream",
          "text": [
            "INFO:tensorflow:*** Available Device: _DeviceAttributes(/job:worker/replica:0/task:0/device:TPU_SYSTEM:0, TPU_SYSTEM, 0, 0)\n"
          ]
        },
        {
          "name": "stdout",
          "output_type": "stream",
          "text": [
            "INFO:tensorflow:*** Available Device: _DeviceAttributes(/job:worker/replica:0/task:0/device:XLA_CPU:0, XLA_CPU, 0, 0)\n"
          ]
        },
        {
          "name": "stderr",
          "output_type": "stream",
          "text": [
            "INFO:tensorflow:*** Available Device: _DeviceAttributes(/job:worker/replica:0/task:0/device:XLA_CPU:0, XLA_CPU, 0, 0)\n"
          ]
        }
      ],
      "source": [
        "%tensorflow_version 2.x\n",
        "import tensorflow as tf\n",
        "print(\"Tensorflow version \" + tf.__version__)\n",
        "\n",
        "try:\n",
        "  tpu = tf.distribute.cluster_resolver.TPUClusterResolver()  # TPU detection\n",
        "  print('Running on TPU ', tpu.cluster_spec().as_dict()['worker'])\n",
        "except ValueError:\n",
        "  raise BaseException('ERROR: Not connected to a TPU runtime; please see the previous cell in this notebook for instructions!')\n",
        "\n",
        "tf.config.experimental_connect_to_cluster(tpu)\n",
        "tf.tpu.experimental.initialize_tpu_system(tpu)\n",
        "tpu_strategy = tf.distribute.experimental.TPUStrategy(tpu)"
      ]
    },
    {
      "cell_type": "code",
      "execution_count": 2,
      "metadata": {
        "colab": {
          "base_uri": "https://localhost:8080/"
        },
        "id": "sbkzch19Y4MG",
        "outputId": "915ed338-b7ed-4ad5-ea89-23d2d58f2dec"
      },
      "outputs": [
        {
          "name": "stdout",
          "output_type": "stream",
          "text": [
            "Mounted at /content/drive\n"
          ]
        }
      ],
      "source": [
        "from google.colab import drive\n",
        "drive.mount('/content/drive')"
      ]
    },
    {
      "cell_type": "code",
      "execution_count": null,
      "metadata": {},
      "outputs": [],
      "source": [
        "# Gloabal variables\n",
        "data_path = \"../input/\"\n",
        "model_path = \"../../H5/PTB/transformer_ptb.h5\"\n",
        "\n",
        "train = False"
      ]
    },
    {
      "cell_type": "code",
      "execution_count": 3,
      "metadata": {
        "id": "x6mVW4YKpixJ"
      },
      "outputs": [],
      "source": [
        "import pandas as pd\n",
        "import numpy as np\n",
        "\n",
        "from keras import optimizers, losses, activations, models\n",
        "from keras.callbacks import ModelCheckpoint, EarlyStopping, LearningRateScheduler, ReduceLROnPlateau\n",
        "from keras.layers import Dense, Input, Dropout, Convolution1D, MaxPool1D, GlobalMaxPool1D, GlobalAveragePooling1D, concatenate\n",
        "from sklearn.metrics import f1_score, accuracy_score\n",
        "from sklearn.metrics import ConfusionMatrixDisplay, confusion_matrix\n",
        "\n",
        "import tensorflow as tf\n",
        "from keras import Input, Model, layers\n",
        "from keras.models import Sequential\n",
        "from keras.layers import Dense, Flatten\n",
        "from keras import losses\n",
        "from tensorflow import keras\n",
        "from keras.callbacks import EarlyStopping\n",
        "\n",
        "import matplotlib.pyplot as plt\n",
        "\n",
        "from keras.models import Sequential\n",
        "from keras.layers import Dense, Activation, Dropout, Conv1D, GlobalAveragePooling1D, MaxPooling1D\n",
        "from keras import regularizers\n",
        "from keras.utils import np_utils\n",
        "from keras import utils\n",
        "from sklearn.model_selection import train_test_split\n",
        "\n",
        "import os\n",
        "from google.colab import drive\n",
        "from google.colab import files\n",
        "\n",
        "import pywt\n",
        "from sklearn.metrics import roc_auc_score, RocCurveDisplay, average_precision_score, PrecisionRecallDisplay, auc"
      ]
    },
    {
      "cell_type": "markdown",
      "metadata": {
        "id": "uLPivENoqojm"
      },
      "source": [
        "TRANSFORMER MITBIH"
      ]
    },
    {
      "cell_type": "code",
      "execution_count": 4,
      "metadata": {
        "id": "6TIb9oHkqnxQ"
      },
      "outputs": [],
      "source": [
        "# read the dataset\n",
        "df_1 = pd.read_csv(data_path + \"ptbdb_normal.csv\", header=None)\n",
        "df_2 = pd.read_csv(data_path + \"ptbdb_abnormal.csv\", header=None)\n",
        "df = pd.concat([df_1, df_2])\n",
        "\n",
        "df_train, df_test = train_test_split(df, test_size=0.2, random_state=1337, stratify=df[187])\n",
        "\n",
        "\n",
        "y_train = np.array(df_train[187].values).astype(np.int8)\n",
        "X_train = np.array(df_train[list(range(187))].values)[..., np.newaxis]\n",
        "\n",
        "y_test = np.array(df_test[187].values).astype(np.int8)\n",
        "X_test = np.array(df_test[list(range(187))].values)[..., np.newaxis]"
      ]
    },
    {
      "cell_type": "code",
      "execution_count": 5,
      "metadata": {
        "id": "pgXzuMsVryvV"
      },
      "outputs": [],
      "source": [
        "def transformer_encoder(inputs, head_size, num_heads, ff_dim, dropout=0):\n",
        "    # Normalization and Attention\n",
        "    x = layers.LayerNormalization(epsilon=1e-6)(inputs)\n",
        "    x = layers.MultiHeadAttention(\n",
        "        key_dim=head_size, num_heads=num_heads, dropout=dropout\n",
        "    )(x, x)\n",
        "    x = layers.Dropout(dropout)(x)\n",
        "    res = x + inputs\n",
        "\n",
        "    # Feed Forward Part\n",
        "    x = layers.LayerNormalization(epsilon=1e-6)(res)\n",
        "    x = layers.Conv1D(filters=ff_dim, kernel_size=1, activation=\"relu\")(x)\n",
        "    x = layers.Dropout(dropout)(x)\n",
        "    x = layers.Conv1D(filters=inputs.shape[-1], kernel_size=1)(x)\n",
        "    return x + res"
      ]
    },
    {
      "cell_type": "code",
      "execution_count": 6,
      "metadata": {
        "id": "KVk5tW9Lr93M"
      },
      "outputs": [],
      "source": [
        "def build_model(\n",
        "    input_shape,\n",
        "    head_size,\n",
        "    num_heads,\n",
        "    ff_dim,\n",
        "    num_transformer_blocks,\n",
        "    mlp_units,\n",
        "    dropout=0,\n",
        "    mlp_dropout=0,\n",
        "    n_classes = 2,\n",
        "):\n",
        "    inputs = keras.Input(shape=input_shape)\n",
        "    x = inputs\n",
        "    for _ in range(num_transformer_blocks):\n",
        "        x = transformer_encoder(x, head_size, num_heads, ff_dim, dropout)\n",
        "\n",
        "    x = layers.GlobalAveragePooling1D(data_format=\"channels_first\")(x)\n",
        "    for dim in mlp_units:\n",
        "        x = layers.Dense(dim, activation=\"relu\")(x)\n",
        "        x = layers.Dropout(mlp_dropout)(x)\n",
        "    outputs = layers.Dense(n_classes, activation=\"softmax\")(x)\n",
        "    return keras.Model(inputs, outputs)"
      ]
    },
    {
      "cell_type": "code",
      "execution_count": 7,
      "metadata": {
        "colab": {
          "base_uri": "https://localhost:8080/"
        },
        "id": "1-1NhlW9sCfV",
        "outputId": "8fb691f2-6ef1-46b6-ea52-0ca9989c1055"
      },
      "outputs": [
        {
          "name": "stdout",
          "output_type": "stream",
          "text": [
            "Number of weights: 53066\n"
          ]
        }
      ],
      "source": [
        "input_shape = X_train.shape[1:]\n",
        "\n",
        "with tpu_strategy.scope(): # creating the model in the TPUStrategy scope means we will train the model on the TPU\n",
        "  model = build_model(\n",
        "    input_shape,\n",
        "    head_size=256,\n",
        "    num_heads=4,\n",
        "    ff_dim=4,\n",
        "    num_transformer_blocks=4,\n",
        "    mlp_units=[128],\n",
        "    mlp_dropout=0.4,\n",
        "    dropout=0.25,\n",
        "    n_classes=2\n",
        "  )\n",
        "\n",
        "  model.compile(\n",
        "    loss=\"sparse_categorical_crossentropy\",\n",
        "    optimizer=keras.optimizers.Adam(learning_rate=1e-3),\n",
        "    metrics=[\"sparse_categorical_accuracy\"],\n",
        "  )\n",
        "\n",
        "# model.summary()\n",
        "tf.keras.utils.plot_model(model, show_shapes=True, dpi=64)\n",
        "print(\"Number of weights: {}\".format(model.count_params()))"
      ]
    },
    {
      "cell_type": "code",
      "execution_count": 8,
      "metadata": {
        "colab": {
          "base_uri": "https://localhost:8080/"
        },
        "id": "6_BBzJ-sK6UE",
        "outputId": "6cd07a89-1e2a-4c3b-fe28-21fdcce63574"
      },
      "outputs": [
        {
          "name": "stdout",
          "output_type": "stream",
          "text": [
            "Epoch 1/200\n",
            "146/146 [==============================] - ETA: 0s - loss: 0.4751 - sparse_categorical_accuracy: 0.7654\n",
            "Epoch 1: val_loss improved from inf to 0.41797, saving model to /content/drive/MyDrive/MLHC_PROJECT1/transformer.h5\n",
            "146/146 [==============================] - 26s 84ms/step - loss: 0.4751 - sparse_categorical_accuracy: 0.7654 - val_loss: 0.4180 - val_sparse_categorical_accuracy: 0.8042\n",
            "Epoch 2/200\n",
            "145/146 [============================>.] - ETA: 0s - loss: 0.4031 - sparse_categorical_accuracy: 0.8108\n",
            "Epoch 2: val_loss improved from 0.41797 to 0.37788, saving model to /content/drive/MyDrive/MLHC_PROJECT1/transformer.h5\n",
            "146/146 [==============================] - 4s 29ms/step - loss: 0.4030 - sparse_categorical_accuracy: 0.8110 - val_loss: 0.3779 - val_sparse_categorical_accuracy: 0.8231\n",
            "Epoch 3/200\n",
            "146/146 [==============================] - ETA: 0s - loss: 0.3708 - sparse_categorical_accuracy: 0.8298\n",
            "Epoch 3: val_loss improved from 0.37788 to 0.35168, saving model to /content/drive/MyDrive/MLHC_PROJECT1/transformer.h5\n",
            "146/146 [==============================] - 4s 28ms/step - loss: 0.3708 - sparse_categorical_accuracy: 0.8298 - val_loss: 0.3517 - val_sparse_categorical_accuracy: 0.8433\n",
            "Epoch 4/200\n",
            "146/146 [==============================] - ETA: 0s - loss: 0.3448 - sparse_categorical_accuracy: 0.8469\n",
            "Epoch 4: val_loss improved from 0.35168 to 0.33080, saving model to /content/drive/MyDrive/MLHC_PROJECT1/transformer.h5\n",
            "146/146 [==============================] - 4s 28ms/step - loss: 0.3448 - sparse_categorical_accuracy: 0.8469 - val_loss: 0.3308 - val_sparse_categorical_accuracy: 0.8570\n",
            "Epoch 5/200\n",
            "145/146 [============================>.] - ETA: 0s - loss: 0.3269 - sparse_categorical_accuracy: 0.8564\n",
            "Epoch 5: val_loss improved from 0.33080 to 0.30961, saving model to /content/drive/MyDrive/MLHC_PROJECT1/transformer.h5\n",
            "146/146 [==============================] - 4s 29ms/step - loss: 0.3268 - sparse_categorical_accuracy: 0.8564 - val_loss: 0.3096 - val_sparse_categorical_accuracy: 0.8738\n",
            "Epoch 6/200\n",
            "145/146 [============================>.] - ETA: 0s - loss: 0.3046 - sparse_categorical_accuracy: 0.8679\n",
            "Epoch 6: val_loss improved from 0.30961 to 0.30279, saving model to /content/drive/MyDrive/MLHC_PROJECT1/transformer.h5\n",
            "146/146 [==============================] - 4s 29ms/step - loss: 0.3047 - sparse_categorical_accuracy: 0.8677 - val_loss: 0.3028 - val_sparse_categorical_accuracy: 0.8673\n",
            "Epoch 7/200\n",
            "145/146 [============================>.] - ETA: 0s - loss: 0.2908 - sparse_categorical_accuracy: 0.8756\n",
            "Epoch 7: val_loss improved from 0.30279 to 0.28169, saving model to /content/drive/MyDrive/MLHC_PROJECT1/transformer.h5\n",
            "146/146 [==============================] - 4s 30ms/step - loss: 0.2908 - sparse_categorical_accuracy: 0.8756 - val_loss: 0.2817 - val_sparse_categorical_accuracy: 0.8759\n",
            "Epoch 8/200\n",
            "146/146 [==============================] - ETA: 0s - loss: 0.2755 - sparse_categorical_accuracy: 0.8836\n",
            "Epoch 8: val_loss improved from 0.28169 to 0.25944, saving model to /content/drive/MyDrive/MLHC_PROJECT1/transformer.h5\n",
            "146/146 [==============================] - 4s 29ms/step - loss: 0.2755 - sparse_categorical_accuracy: 0.8836 - val_loss: 0.2594 - val_sparse_categorical_accuracy: 0.8995\n",
            "Epoch 9/200\n",
            "145/146 [============================>.] - ETA: 0s - loss: 0.2596 - sparse_categorical_accuracy: 0.8945\n",
            "Epoch 9: val_loss improved from 0.25944 to 0.25028, saving model to /content/drive/MyDrive/MLHC_PROJECT1/transformer.h5\n",
            "146/146 [==============================] - 4s 29ms/step - loss: 0.2593 - sparse_categorical_accuracy: 0.8947 - val_loss: 0.2503 - val_sparse_categorical_accuracy: 0.9004\n",
            "Epoch 10/200\n",
            "146/146 [==============================] - ETA: 0s - loss: 0.2492 - sparse_categorical_accuracy: 0.9017\n",
            "Epoch 10: val_loss improved from 0.25028 to 0.23670, saving model to /content/drive/MyDrive/MLHC_PROJECT1/transformer.h5\n",
            "146/146 [==============================] - 4s 29ms/step - loss: 0.2492 - sparse_categorical_accuracy: 0.9017 - val_loss: 0.2367 - val_sparse_categorical_accuracy: 0.9064\n",
            "Epoch 11/200\n",
            "145/146 [============================>.] - ETA: 0s - loss: 0.2388 - sparse_categorical_accuracy: 0.9085\n",
            "Epoch 11: val_loss improved from 0.23670 to 0.22582, saving model to /content/drive/MyDrive/MLHC_PROJECT1/transformer.h5\n",
            "146/146 [==============================] - 4s 29ms/step - loss: 0.2386 - sparse_categorical_accuracy: 0.9084 - val_loss: 0.2258 - val_sparse_categorical_accuracy: 0.9124\n",
            "Epoch 12/200\n",
            "144/146 [============================>.] - ETA: 0s - loss: 0.2272 - sparse_categorical_accuracy: 0.9133\n",
            "Epoch 12: val_loss improved from 0.22582 to 0.22006, saving model to /content/drive/MyDrive/MLHC_PROJECT1/transformer.h5\n",
            "146/146 [==============================] - 4s 28ms/step - loss: 0.2272 - sparse_categorical_accuracy: 0.9134 - val_loss: 0.2201 - val_sparse_categorical_accuracy: 0.9085\n",
            "Epoch 13/200\n",
            "145/146 [============================>.] - ETA: 0s - loss: 0.2192 - sparse_categorical_accuracy: 0.9168\n",
            "Epoch 13: val_loss improved from 0.22006 to 0.21252, saving model to /content/drive/MyDrive/MLHC_PROJECT1/transformer.h5\n",
            "146/146 [==============================] - 4s 29ms/step - loss: 0.2192 - sparse_categorical_accuracy: 0.9169 - val_loss: 0.2125 - val_sparse_categorical_accuracy: 0.9163\n",
            "Epoch 14/200\n",
            "145/146 [============================>.] - ETA: 0s - loss: 0.2131 - sparse_categorical_accuracy: 0.9202\n",
            "Epoch 14: val_loss improved from 0.21252 to 0.20315, saving model to /content/drive/MyDrive/MLHC_PROJECT1/transformer.h5\n",
            "146/146 [==============================] - 4s 29ms/step - loss: 0.2128 - sparse_categorical_accuracy: 0.9204 - val_loss: 0.2032 - val_sparse_categorical_accuracy: 0.9249\n",
            "Epoch 15/200\n",
            "145/146 [============================>.] - ETA: 0s - loss: 0.2069 - sparse_categorical_accuracy: 0.9205\n",
            "Epoch 15: val_loss improved from 0.20315 to 0.19504, saving model to /content/drive/MyDrive/MLHC_PROJECT1/transformer.h5\n",
            "146/146 [==============================] - 4s 29ms/step - loss: 0.2070 - sparse_categorical_accuracy: 0.9203 - val_loss: 0.1950 - val_sparse_categorical_accuracy: 0.9227\n",
            "Epoch 16/200\n",
            "145/146 [============================>.] - ETA: 0s - loss: 0.1985 - sparse_categorical_accuracy: 0.9248\n",
            "Epoch 16: val_loss did not improve from 0.19504\n",
            "146/146 [==============================] - 4s 24ms/step - loss: 0.1987 - sparse_categorical_accuracy: 0.9246 - val_loss: 0.1982 - val_sparse_categorical_accuracy: 0.9206\n",
            "Epoch 17/200\n",
            "145/146 [============================>.] - ETA: 0s - loss: 0.1898 - sparse_categorical_accuracy: 0.9286\n",
            "Epoch 17: val_loss improved from 0.19504 to 0.18394, saving model to /content/drive/MyDrive/MLHC_PROJECT1/transformer.h5\n",
            "146/146 [==============================] - 4s 28ms/step - loss: 0.1900 - sparse_categorical_accuracy: 0.9283 - val_loss: 0.1839 - val_sparse_categorical_accuracy: 0.9244\n",
            "Epoch 18/200\n",
            "146/146 [==============================] - ETA: 0s - loss: 0.1862 - sparse_categorical_accuracy: 0.9304\n",
            "Epoch 18: val_loss did not improve from 0.18394\n",
            "146/146 [==============================] - 3s 24ms/step - loss: 0.1862 - sparse_categorical_accuracy: 0.9304 - val_loss: 0.1882 - val_sparse_categorical_accuracy: 0.9334\n",
            "Epoch 19/200\n",
            "145/146 [============================>.] - ETA: 0s - loss: 0.1801 - sparse_categorical_accuracy: 0.9333\n",
            "Epoch 19: val_loss improved from 0.18394 to 0.17822, saving model to /content/drive/MyDrive/MLHC_PROJECT1/transformer.h5\n",
            "146/146 [==============================] - 4s 28ms/step - loss: 0.1798 - sparse_categorical_accuracy: 0.9334 - val_loss: 0.1782 - val_sparse_categorical_accuracy: 0.9283\n",
            "Epoch 20/200\n",
            "146/146 [==============================] - ETA: 0s - loss: 0.1795 - sparse_categorical_accuracy: 0.9316\n",
            "Epoch 20: val_loss improved from 0.17822 to 0.17730, saving model to /content/drive/MyDrive/MLHC_PROJECT1/transformer.h5\n",
            "146/146 [==============================] - 4s 28ms/step - loss: 0.1795 - sparse_categorical_accuracy: 0.9316 - val_loss: 0.1773 - val_sparse_categorical_accuracy: 0.9296\n",
            "Epoch 21/200\n",
            "145/146 [============================>.] - ETA: 0s - loss: 0.1731 - sparse_categorical_accuracy: 0.9385\n",
            "Epoch 21: val_loss improved from 0.17730 to 0.16988, saving model to /content/drive/MyDrive/MLHC_PROJECT1/transformer.h5\n",
            "146/146 [==============================] - 4s 28ms/step - loss: 0.1733 - sparse_categorical_accuracy: 0.9385 - val_loss: 0.1699 - val_sparse_categorical_accuracy: 0.9369\n",
            "Epoch 22/200\n",
            "145/146 [============================>.] - ETA: 0s - loss: 0.1737 - sparse_categorical_accuracy: 0.9363\n",
            "Epoch 22: val_loss improved from 0.16988 to 0.16443, saving model to /content/drive/MyDrive/MLHC_PROJECT1/transformer.h5\n",
            "146/146 [==============================] - 4s 28ms/step - loss: 0.1734 - sparse_categorical_accuracy: 0.9364 - val_loss: 0.1644 - val_sparse_categorical_accuracy: 0.9386\n",
            "Epoch 23/200\n",
            "145/146 [============================>.] - ETA: 0s - loss: 0.1653 - sparse_categorical_accuracy: 0.9394\n",
            "Epoch 23: val_loss did not improve from 0.16443\n",
            "146/146 [==============================] - 3s 23ms/step - loss: 0.1654 - sparse_categorical_accuracy: 0.9393 - val_loss: 0.1646 - val_sparse_categorical_accuracy: 0.9390\n",
            "Epoch 24/200\n",
            "146/146 [==============================] - ETA: 0s - loss: 0.1589 - sparse_categorical_accuracy: 0.9427\n",
            "Epoch 24: val_loss did not improve from 0.16443\n",
            "146/146 [==============================] - 3s 23ms/step - loss: 0.1589 - sparse_categorical_accuracy: 0.9427 - val_loss: 0.1687 - val_sparse_categorical_accuracy: 0.9334\n",
            "Epoch 25/200\n",
            "145/146 [============================>.] - ETA: 0s - loss: 0.1603 - sparse_categorical_accuracy: 0.9422\n",
            "Epoch 25: val_loss improved from 0.16443 to 0.15996, saving model to /content/drive/MyDrive/MLHC_PROJECT1/transformer.h5\n",
            "146/146 [==============================] - 4s 30ms/step - loss: 0.1607 - sparse_categorical_accuracy: 0.9420 - val_loss: 0.1600 - val_sparse_categorical_accuracy: 0.9377\n",
            "Epoch 26/200\n",
            "146/146 [==============================] - ETA: 0s - loss: 0.1554 - sparse_categorical_accuracy: 0.9448\n",
            "Epoch 26: val_loss improved from 0.15996 to 0.15705, saving model to /content/drive/MyDrive/MLHC_PROJECT1/transformer.h5\n",
            "146/146 [==============================] - 4s 28ms/step - loss: 0.1554 - sparse_categorical_accuracy: 0.9448 - val_loss: 0.1570 - val_sparse_categorical_accuracy: 0.9429\n",
            "Epoch 27/200\n",
            "145/146 [============================>.] - ETA: 0s - loss: 0.1532 - sparse_categorical_accuracy: 0.9456\n",
            "Epoch 27: val_loss did not improve from 0.15705\n",
            "146/146 [==============================] - 3s 24ms/step - loss: 0.1531 - sparse_categorical_accuracy: 0.9456 - val_loss: 0.1598 - val_sparse_categorical_accuracy: 0.9365\n",
            "Epoch 28/200\n",
            "145/146 [============================>.] - ETA: 0s - loss: 0.1544 - sparse_categorical_accuracy: 0.9440\n",
            "Epoch 28: val_loss improved from 0.15705 to 0.15264, saving model to /content/drive/MyDrive/MLHC_PROJECT1/transformer.h5\n",
            "146/146 [==============================] - 5s 31ms/step - loss: 0.1544 - sparse_categorical_accuracy: 0.9441 - val_loss: 0.1526 - val_sparse_categorical_accuracy: 0.9425\n",
            "Epoch 29/200\n",
            "145/146 [============================>.] - ETA: 0s - loss: 0.1493 - sparse_categorical_accuracy: 0.9464\n",
            "Epoch 29: val_loss did not improve from 0.15264\n",
            "146/146 [==============================] - 4s 24ms/step - loss: 0.1495 - sparse_categorical_accuracy: 0.9462 - val_loss: 0.1578 - val_sparse_categorical_accuracy: 0.9377\n",
            "Epoch 30/200\n",
            "145/146 [============================>.] - ETA: 0s - loss: 0.1516 - sparse_categorical_accuracy: 0.9457\n",
            "Epoch 30: val_loss improved from 0.15264 to 0.14784, saving model to /content/drive/MyDrive/MLHC_PROJECT1/transformer.h5\n",
            "146/146 [==============================] - 4s 29ms/step - loss: 0.1517 - sparse_categorical_accuracy: 0.9457 - val_loss: 0.1478 - val_sparse_categorical_accuracy: 0.9442\n",
            "Epoch 31/200\n",
            "145/146 [============================>.] - ETA: 0s - loss: 0.1482 - sparse_categorical_accuracy: 0.9452\n",
            "Epoch 31: val_loss improved from 0.14784 to 0.14521, saving model to /content/drive/MyDrive/MLHC_PROJECT1/transformer.h5\n",
            "146/146 [==============================] - 4s 30ms/step - loss: 0.1485 - sparse_categorical_accuracy: 0.9451 - val_loss: 0.1452 - val_sparse_categorical_accuracy: 0.9476\n",
            "Epoch 32/200\n",
            "145/146 [============================>.] - ETA: 0s - loss: 0.1484 - sparse_categorical_accuracy: 0.9462\n",
            "Epoch 32: val_loss did not improve from 0.14521\n",
            "146/146 [==============================] - 4s 24ms/step - loss: 0.1483 - sparse_categorical_accuracy: 0.9463 - val_loss: 0.1457 - val_sparse_categorical_accuracy: 0.9455\n",
            "Epoch 33/200\n",
            "145/146 [============================>.] - ETA: 0s - loss: 0.1419 - sparse_categorical_accuracy: 0.9502\n",
            "Epoch 33: val_loss improved from 0.14521 to 0.13952, saving model to /content/drive/MyDrive/MLHC_PROJECT1/transformer.h5\n",
            "146/146 [==============================] - 4s 28ms/step - loss: 0.1419 - sparse_categorical_accuracy: 0.9503 - val_loss: 0.1395 - val_sparse_categorical_accuracy: 0.9489\n",
            "Epoch 34/200\n",
            "145/146 [============================>.] - ETA: 0s - loss: 0.1334 - sparse_categorical_accuracy: 0.9538\n",
            "Epoch 34: val_loss did not improve from 0.13952\n",
            "146/146 [==============================] - 3s 23ms/step - loss: 0.1332 - sparse_categorical_accuracy: 0.9538 - val_loss: 0.1428 - val_sparse_categorical_accuracy: 0.9463\n",
            "Epoch 35/200\n",
            "146/146 [==============================] - ETA: 0s - loss: 0.1327 - sparse_categorical_accuracy: 0.9567\n",
            "Epoch 35: val_loss improved from 0.13952 to 0.13893, saving model to /content/drive/MyDrive/MLHC_PROJECT1/transformer.h5\n",
            "146/146 [==============================] - 5s 32ms/step - loss: 0.1327 - sparse_categorical_accuracy: 0.9567 - val_loss: 0.1389 - val_sparse_categorical_accuracy: 0.9468\n",
            "Epoch 36/200\n",
            "146/146 [==============================] - ETA: 0s - loss: 0.1345 - sparse_categorical_accuracy: 0.9517\n",
            "Epoch 36: val_loss improved from 0.13893 to 0.13766, saving model to /content/drive/MyDrive/MLHC_PROJECT1/transformer.h5\n",
            "146/146 [==============================] - 4s 28ms/step - loss: 0.1345 - sparse_categorical_accuracy: 0.9517 - val_loss: 0.1377 - val_sparse_categorical_accuracy: 0.9476\n",
            "Epoch 37/200\n",
            "145/146 [============================>.] - ETA: 0s - loss: 0.1332 - sparse_categorical_accuracy: 0.9531\n",
            "Epoch 37: val_loss improved from 0.13766 to 0.13361, saving model to /content/drive/MyDrive/MLHC_PROJECT1/transformer.h5\n",
            "146/146 [==============================] - 4s 29ms/step - loss: 0.1331 - sparse_categorical_accuracy: 0.9532 - val_loss: 0.1336 - val_sparse_categorical_accuracy: 0.9472\n",
            "Epoch 38/200\n",
            "145/146 [============================>.] - ETA: 0s - loss: 0.1306 - sparse_categorical_accuracy: 0.9542\n",
            "Epoch 38: val_loss did not improve from 0.13361\n",
            "146/146 [==============================] - 4s 24ms/step - loss: 0.1307 - sparse_categorical_accuracy: 0.9540 - val_loss: 0.1358 - val_sparse_categorical_accuracy: 0.9502\n",
            "Epoch 39/200\n",
            "145/146 [============================>.] - ETA: 0s - loss: 0.1250 - sparse_categorical_accuracy: 0.9546\n",
            "Epoch 39: val_loss did not improve from 0.13361\n",
            "146/146 [==============================] - 4s 24ms/step - loss: 0.1250 - sparse_categorical_accuracy: 0.9547 - val_loss: 0.1436 - val_sparse_categorical_accuracy: 0.9416\n",
            "Epoch 40/200\n",
            "145/146 [============================>.] - ETA: 0s - loss: 0.1277 - sparse_categorical_accuracy: 0.9548\n",
            "Epoch 40: val_loss did not improve from 0.13361\n",
            "146/146 [==============================] - 4s 24ms/step - loss: 0.1276 - sparse_categorical_accuracy: 0.9549 - val_loss: 0.1383 - val_sparse_categorical_accuracy: 0.9506\n",
            "Epoch 41/200\n",
            "145/146 [============================>.] - ETA: 0s - loss: 0.1272 - sparse_categorical_accuracy: 0.9539\n",
            "Epoch 41: val_loss did not improve from 0.13361\n",
            "146/146 [==============================] - 4s 24ms/step - loss: 0.1272 - sparse_categorical_accuracy: 0.9539 - val_loss: 0.1398 - val_sparse_categorical_accuracy: 0.9493\n",
            "Epoch 42/200\n",
            "145/146 [============================>.] - ETA: 0s - loss: 0.1216 - sparse_categorical_accuracy: 0.9602\n",
            "Epoch 42: val_loss did not improve from 0.13361\n",
            "146/146 [==============================] - 4s 24ms/step - loss: 0.1216 - sparse_categorical_accuracy: 0.9604 - val_loss: 0.1357 - val_sparse_categorical_accuracy: 0.9489\n",
            "Epoch 43/200\n",
            "145/146 [============================>.] - ETA: 0s - loss: 0.1239 - sparse_categorical_accuracy: 0.9554\n",
            "Epoch 43: val_loss did not improve from 0.13361\n",
            "146/146 [==============================] - 4s 24ms/step - loss: 0.1239 - sparse_categorical_accuracy: 0.9553 - val_loss: 0.1372 - val_sparse_categorical_accuracy: 0.9502\n",
            "Epoch 44/200\n",
            "145/146 [============================>.] - ETA: 0s - loss: 0.1276 - sparse_categorical_accuracy: 0.9557\n",
            "Epoch 44: val_loss did not improve from 0.13361\n",
            "146/146 [==============================] - 3s 23ms/step - loss: 0.1278 - sparse_categorical_accuracy: 0.9554 - val_loss: 0.1346 - val_sparse_categorical_accuracy: 0.9489\n",
            "Epoch 45/200\n",
            "145/146 [============================>.] - ETA: 0s - loss: 0.1223 - sparse_categorical_accuracy: 0.9582\n",
            "Epoch 45: val_loss improved from 0.13361 to 0.12717, saving model to /content/drive/MyDrive/MLHC_PROJECT1/transformer.h5\n",
            "146/146 [==============================] - 4s 30ms/step - loss: 0.1223 - sparse_categorical_accuracy: 0.9581 - val_loss: 0.1272 - val_sparse_categorical_accuracy: 0.9519\n",
            "Epoch 46/200\n",
            "145/146 [============================>.] - ETA: 0s - loss: 0.1195 - sparse_categorical_accuracy: 0.9607\n",
            "Epoch 46: val_loss improved from 0.12717 to 0.12628, saving model to /content/drive/MyDrive/MLHC_PROJECT1/transformer.h5\n",
            "146/146 [==============================] - 4s 29ms/step - loss: 0.1195 - sparse_categorical_accuracy: 0.9606 - val_loss: 0.1263 - val_sparse_categorical_accuracy: 0.9566\n",
            "Epoch 47/200\n",
            "145/146 [============================>.] - ETA: 0s - loss: 0.1189 - sparse_categorical_accuracy: 0.9572\n",
            "Epoch 47: val_loss did not improve from 0.12628\n",
            "146/146 [==============================] - 4s 24ms/step - loss: 0.1189 - sparse_categorical_accuracy: 0.9573 - val_loss: 0.1281 - val_sparse_categorical_accuracy: 0.9511\n",
            "Epoch 48/200\n",
            "145/146 [============================>.] - ETA: 0s - loss: 0.1125 - sparse_categorical_accuracy: 0.9601\n",
            "Epoch 48: val_loss did not improve from 0.12628\n",
            "146/146 [==============================] - 4s 24ms/step - loss: 0.1130 - sparse_categorical_accuracy: 0.9599 - val_loss: 0.1285 - val_sparse_categorical_accuracy: 0.9545\n",
            "Epoch 49/200\n",
            "145/146 [============================>.] - ETA: 0s - loss: 0.1153 - sparse_categorical_accuracy: 0.9587\n",
            "Epoch 49: val_loss did not improve from 0.12628\n",
            "146/146 [==============================] - 4s 25ms/step - loss: 0.1153 - sparse_categorical_accuracy: 0.9588 - val_loss: 0.1276 - val_sparse_categorical_accuracy: 0.9515\n",
            "Epoch 50/200\n",
            "145/146 [============================>.] - ETA: 0s - loss: 0.1156 - sparse_categorical_accuracy: 0.9623\n",
            "Epoch 50: val_loss improved from 0.12628 to 0.12516, saving model to /content/drive/MyDrive/MLHC_PROJECT1/transformer.h5\n",
            "146/146 [==============================] - 4s 30ms/step - loss: 0.1160 - sparse_categorical_accuracy: 0.9623 - val_loss: 0.1252 - val_sparse_categorical_accuracy: 0.9511\n",
            "Epoch 51/200\n",
            "145/146 [============================>.] - ETA: 0s - loss: 0.1077 - sparse_categorical_accuracy: 0.9615\n",
            "Epoch 51: val_loss did not improve from 0.12516\n",
            "146/146 [==============================] - 4s 25ms/step - loss: 0.1081 - sparse_categorical_accuracy: 0.9613 - val_loss: 0.1325 - val_sparse_categorical_accuracy: 0.9498\n",
            "Epoch 52/200\n",
            "145/146 [============================>.] - ETA: 0s - loss: 0.1087 - sparse_categorical_accuracy: 0.9626\n",
            "Epoch 52: val_loss did not improve from 0.12516\n",
            "146/146 [==============================] - 4s 26ms/step - loss: 0.1084 - sparse_categorical_accuracy: 0.9627 - val_loss: 0.1286 - val_sparse_categorical_accuracy: 0.9519\n",
            "Epoch 53/200\n",
            "145/146 [============================>.] - ETA: 0s - loss: 0.1089 - sparse_categorical_accuracy: 0.9634\n",
            "Epoch 53: val_loss did not improve from 0.12516\n",
            "146/146 [==============================] - 4s 25ms/step - loss: 0.1090 - sparse_categorical_accuracy: 0.9633 - val_loss: 0.1329 - val_sparse_categorical_accuracy: 0.9511\n",
            "Epoch 54/200\n",
            "145/146 [============================>.] - ETA: 0s - loss: 0.1072 - sparse_categorical_accuracy: 0.9650\n",
            "Epoch 54: val_loss improved from 0.12516 to 0.12436, saving model to /content/drive/MyDrive/MLHC_PROJECT1/transformer.h5\n",
            "146/146 [==============================] - 5s 32ms/step - loss: 0.1074 - sparse_categorical_accuracy: 0.9650 - val_loss: 0.1244 - val_sparse_categorical_accuracy: 0.9558\n",
            "Epoch 55/200\n",
            "145/146 [============================>.] - ETA: 0s - loss: 0.1080 - sparse_categorical_accuracy: 0.9622\n",
            "Epoch 55: val_loss did not improve from 0.12436\n",
            "146/146 [==============================] - 4s 24ms/step - loss: 0.1079 - sparse_categorical_accuracy: 0.9622 - val_loss: 0.1308 - val_sparse_categorical_accuracy: 0.9515\n",
            "Epoch 56/200\n",
            "145/146 [============================>.] - ETA: 0s - loss: 0.1070 - sparse_categorical_accuracy: 0.9641\n",
            "Epoch 56: val_loss improved from 0.12436 to 0.12126, saving model to /content/drive/MyDrive/MLHC_PROJECT1/transformer.h5\n",
            "146/146 [==============================] - 4s 29ms/step - loss: 0.1069 - sparse_categorical_accuracy: 0.9641 - val_loss: 0.1213 - val_sparse_categorical_accuracy: 0.9566\n",
            "Epoch 57/200\n",
            "145/146 [============================>.] - ETA: 0s - loss: 0.1043 - sparse_categorical_accuracy: 0.9638\n",
            "Epoch 57: val_loss did not improve from 0.12126\n",
            "146/146 [==============================] - 4s 25ms/step - loss: 0.1042 - sparse_categorical_accuracy: 0.9639 - val_loss: 0.1227 - val_sparse_categorical_accuracy: 0.9558\n",
            "Epoch 58/200\n",
            "145/146 [============================>.] - ETA: 0s - loss: 0.1034 - sparse_categorical_accuracy: 0.9650\n",
            "Epoch 58: val_loss improved from 0.12126 to 0.12097, saving model to /content/drive/MyDrive/MLHC_PROJECT1/transformer.h5\n",
            "146/146 [==============================] - 5s 31ms/step - loss: 0.1034 - sparse_categorical_accuracy: 0.9649 - val_loss: 0.1210 - val_sparse_categorical_accuracy: 0.9592\n",
            "Epoch 59/200\n",
            "145/146 [============================>.] - ETA: 0s - loss: 0.1039 - sparse_categorical_accuracy: 0.9643\n",
            "Epoch 59: val_loss did not improve from 0.12097\n",
            "146/146 [==============================] - 4s 25ms/step - loss: 0.1038 - sparse_categorical_accuracy: 0.9645 - val_loss: 0.1266 - val_sparse_categorical_accuracy: 0.9502\n",
            "Epoch 60/200\n",
            "145/146 [============================>.] - ETA: 0s - loss: 0.1060 - sparse_categorical_accuracy: 0.9626\n",
            "Epoch 60: val_loss improved from 0.12097 to 0.12066, saving model to /content/drive/MyDrive/MLHC_PROJECT1/transformer.h5\n",
            "146/146 [==============================] - 4s 29ms/step - loss: 0.1057 - sparse_categorical_accuracy: 0.9626 - val_loss: 0.1207 - val_sparse_categorical_accuracy: 0.9553\n",
            "Epoch 61/200\n",
            "145/146 [============================>.] - ETA: 0s - loss: 0.1013 - sparse_categorical_accuracy: 0.9639\n",
            "Epoch 61: val_loss did not improve from 0.12066\n",
            "146/146 [==============================] - 4s 24ms/step - loss: 0.1010 - sparse_categorical_accuracy: 0.9640 - val_loss: 0.1226 - val_sparse_categorical_accuracy: 0.9571\n",
            "Epoch 62/200\n",
            "145/146 [============================>.] - ETA: 0s - loss: 0.1023 - sparse_categorical_accuracy: 0.9657\n",
            "Epoch 62: val_loss did not improve from 0.12066\n",
            "146/146 [==============================] - 4s 24ms/step - loss: 0.1021 - sparse_categorical_accuracy: 0.9659 - val_loss: 0.1243 - val_sparse_categorical_accuracy: 0.9566\n",
            "Epoch 63/200\n",
            "145/146 [============================>.] - ETA: 0s - loss: 0.0952 - sparse_categorical_accuracy: 0.9666\n",
            "Epoch 63: val_loss improved from 0.12066 to 0.11564, saving model to /content/drive/MyDrive/MLHC_PROJECT1/transformer.h5\n",
            "146/146 [==============================] - 4s 29ms/step - loss: 0.0952 - sparse_categorical_accuracy: 0.9666 - val_loss: 0.1156 - val_sparse_categorical_accuracy: 0.9605\n",
            "Epoch 64/200\n",
            "145/146 [============================>.] - ETA: 0s - loss: 0.0979 - sparse_categorical_accuracy: 0.9665\n",
            "Epoch 64: val_loss did not improve from 0.11564\n",
            "146/146 [==============================] - 4s 24ms/step - loss: 0.0979 - sparse_categorical_accuracy: 0.9665 - val_loss: 0.1227 - val_sparse_categorical_accuracy: 0.9549\n",
            "Epoch 65/200\n",
            "145/146 [============================>.] - ETA: 0s - loss: 0.0977 - sparse_categorical_accuracy: 0.9663\n",
            "Epoch 65: val_loss did not improve from 0.11564\n",
            "146/146 [==============================] - 4s 24ms/step - loss: 0.0976 - sparse_categorical_accuracy: 0.9664 - val_loss: 0.1246 - val_sparse_categorical_accuracy: 0.9545\n",
            "Epoch 66/200\n",
            "146/146 [==============================] - ETA: 0s - loss: 0.0949 - sparse_categorical_accuracy: 0.9667\n",
            "Epoch 66: val_loss did not improve from 0.11564\n",
            "146/146 [==============================] - 3s 23ms/step - loss: 0.0949 - sparse_categorical_accuracy: 0.9667 - val_loss: 0.1229 - val_sparse_categorical_accuracy: 0.9549\n",
            "Epoch 67/200\n",
            "146/146 [==============================] - ETA: 0s - loss: 0.0946 - sparse_categorical_accuracy: 0.9667\n",
            "Epoch 67: val_loss did not improve from 0.11564\n",
            "146/146 [==============================] - 3s 23ms/step - loss: 0.0946 - sparse_categorical_accuracy: 0.9667 - val_loss: 0.1278 - val_sparse_categorical_accuracy: 0.9506\n",
            "Epoch 68/200\n",
            "146/146 [==============================] - ETA: 0s - loss: 0.0975 - sparse_categorical_accuracy: 0.9693\n",
            "Epoch 68: val_loss did not improve from 0.11564\n",
            "146/146 [==============================] - 3s 23ms/step - loss: 0.0975 - sparse_categorical_accuracy: 0.9693 - val_loss: 0.1190 - val_sparse_categorical_accuracy: 0.9588\n",
            "Epoch 69/200\n",
            "145/146 [============================>.] - ETA: 0s - loss: 0.1008 - sparse_categorical_accuracy: 0.9667\n",
            "Epoch 69: val_loss did not improve from 0.11564\n",
            "146/146 [==============================] - 4s 24ms/step - loss: 0.1012 - sparse_categorical_accuracy: 0.9666 - val_loss: 0.1193 - val_sparse_categorical_accuracy: 0.9579\n",
            "Epoch 70/200\n",
            "145/146 [============================>.] - ETA: 0s - loss: 0.0979 - sparse_categorical_accuracy: 0.9657\n",
            "Epoch 70: val_loss did not improve from 0.11564\n",
            "146/146 [==============================] - 4s 24ms/step - loss: 0.0977 - sparse_categorical_accuracy: 0.9659 - val_loss: 0.1222 - val_sparse_categorical_accuracy: 0.9584\n",
            "Epoch 71/200\n",
            "145/146 [============================>.] - ETA: 0s - loss: 0.1004 - sparse_categorical_accuracy: 0.9653\n",
            "Epoch 71: val_loss did not improve from 0.11564\n",
            "146/146 [==============================] - 3s 23ms/step - loss: 0.1006 - sparse_categorical_accuracy: 0.9653 - val_loss: 0.1237 - val_sparse_categorical_accuracy: 0.9584\n",
            "Epoch 72/200\n",
            "145/146 [============================>.] - ETA: 0s - loss: 0.0898 - sparse_categorical_accuracy: 0.9704\n",
            "Epoch 72: val_loss did not improve from 0.11564\n",
            "146/146 [==============================] - 3s 24ms/step - loss: 0.0903 - sparse_categorical_accuracy: 0.9700 - val_loss: 0.1293 - val_sparse_categorical_accuracy: 0.9575\n",
            "Epoch 73/200\n",
            "145/146 [============================>.] - ETA: 0s - loss: 0.0866 - sparse_categorical_accuracy: 0.9694\n",
            "Epoch 73: val_loss improved from 0.11564 to 0.11184, saving model to /content/drive/MyDrive/MLHC_PROJECT1/transformer.h5\n",
            "146/146 [==============================] - 4s 30ms/step - loss: 0.0870 - sparse_categorical_accuracy: 0.9691 - val_loss: 0.1118 - val_sparse_categorical_accuracy: 0.9626\n",
            "Epoch 74/200\n",
            "145/146 [============================>.] - ETA: 0s - loss: 0.0858 - sparse_categorical_accuracy: 0.9689\n",
            "Epoch 74: val_loss improved from 0.11184 to 0.11112, saving model to /content/drive/MyDrive/MLHC_PROJECT1/transformer.h5\n",
            "146/146 [==============================] - 4s 29ms/step - loss: 0.0856 - sparse_categorical_accuracy: 0.9690 - val_loss: 0.1111 - val_sparse_categorical_accuracy: 0.9631\n",
            "Epoch 75/200\n",
            "145/146 [============================>.] - ETA: 0s - loss: 0.0849 - sparse_categorical_accuracy: 0.9731\n",
            "Epoch 75: val_loss did not improve from 0.11112\n",
            "146/146 [==============================] - 3s 24ms/step - loss: 0.0848 - sparse_categorical_accuracy: 0.9730 - val_loss: 0.1238 - val_sparse_categorical_accuracy: 0.9614\n",
            "Epoch 76/200\n",
            "145/146 [============================>.] - ETA: 0s - loss: 0.0833 - sparse_categorical_accuracy: 0.9707\n",
            "Epoch 76: val_loss did not improve from 0.11112\n",
            "146/146 [==============================] - 3s 23ms/step - loss: 0.0833 - sparse_categorical_accuracy: 0.9707 - val_loss: 0.1177 - val_sparse_categorical_accuracy: 0.9596\n",
            "Epoch 77/200\n",
            "145/146 [============================>.] - ETA: 0s - loss: 0.0903 - sparse_categorical_accuracy: 0.9717\n",
            "Epoch 77: val_loss did not improve from 0.11112\n",
            "146/146 [==============================] - 4s 26ms/step - loss: 0.0902 - sparse_categorical_accuracy: 0.9718 - val_loss: 0.1190 - val_sparse_categorical_accuracy: 0.9622\n",
            "Epoch 78/200\n",
            "145/146 [============================>.] - ETA: 0s - loss: 0.0842 - sparse_categorical_accuracy: 0.9725\n",
            "Epoch 78: val_loss did not improve from 0.11112\n",
            "146/146 [==============================] - 4s 24ms/step - loss: 0.0845 - sparse_categorical_accuracy: 0.9724 - val_loss: 0.1151 - val_sparse_categorical_accuracy: 0.9626\n",
            "Epoch 79/200\n",
            "145/146 [============================>.] - ETA: 0s - loss: 0.0853 - sparse_categorical_accuracy: 0.9727\n",
            "Epoch 79: val_loss did not improve from 0.11112\n",
            "146/146 [==============================] - 4s 24ms/step - loss: 0.0855 - sparse_categorical_accuracy: 0.9725 - val_loss: 0.1149 - val_sparse_categorical_accuracy: 0.9635\n",
            "Epoch 80/200\n",
            "145/146 [============================>.] - ETA: 0s - loss: 0.0906 - sparse_categorical_accuracy: 0.9676\n",
            "Epoch 80: val_loss did not improve from 0.11112\n",
            "146/146 [==============================] - 4s 24ms/step - loss: 0.0904 - sparse_categorical_accuracy: 0.9677 - val_loss: 0.1158 - val_sparse_categorical_accuracy: 0.9609\n",
            "Epoch 81/200\n",
            "145/146 [============================>.] - ETA: 0s - loss: 0.0865 - sparse_categorical_accuracy: 0.9711\n",
            "Epoch 81: val_loss improved from 0.11112 to 0.11070, saving model to /content/drive/MyDrive/MLHC_PROJECT1/transformer.h5\n",
            "146/146 [==============================] - 4s 30ms/step - loss: 0.0868 - sparse_categorical_accuracy: 0.9711 - val_loss: 0.1107 - val_sparse_categorical_accuracy: 0.9639\n",
            "Epoch 82/200\n",
            "145/146 [============================>.] - ETA: 0s - loss: 0.0830 - sparse_categorical_accuracy: 0.9694\n",
            "Epoch 82: val_loss did not improve from 0.11070\n",
            "146/146 [==============================] - 4s 24ms/step - loss: 0.0830 - sparse_categorical_accuracy: 0.9693 - val_loss: 0.1190 - val_sparse_categorical_accuracy: 0.9592\n",
            "Epoch 83/200\n",
            "145/146 [============================>.] - ETA: 0s - loss: 0.0899 - sparse_categorical_accuracy: 0.9699\n",
            "Epoch 83: val_loss improved from 0.11070 to 0.11007, saving model to /content/drive/MyDrive/MLHC_PROJECT1/transformer.h5\n",
            "146/146 [==============================] - 4s 29ms/step - loss: 0.0897 - sparse_categorical_accuracy: 0.9700 - val_loss: 0.1101 - val_sparse_categorical_accuracy: 0.9635\n",
            "Epoch 84/200\n",
            "145/146 [============================>.] - ETA: 0s - loss: 0.0815 - sparse_categorical_accuracy: 0.9728\n",
            "Epoch 84: val_loss did not improve from 0.11007\n",
            "146/146 [==============================] - 4s 25ms/step - loss: 0.0813 - sparse_categorical_accuracy: 0.9729 - val_loss: 0.1201 - val_sparse_categorical_accuracy: 0.9622\n",
            "Epoch 85/200\n",
            "145/146 [============================>.] - ETA: 0s - loss: 0.0901 - sparse_categorical_accuracy: 0.9676\n",
            "Epoch 85: val_loss did not improve from 0.11007\n",
            "146/146 [==============================] - 4s 24ms/step - loss: 0.0900 - sparse_categorical_accuracy: 0.9676 - val_loss: 0.1124 - val_sparse_categorical_accuracy: 0.9631\n",
            "Epoch 86/200\n",
            "145/146 [============================>.] - ETA: 0s - loss: 0.0829 - sparse_categorical_accuracy: 0.9720\n",
            "Epoch 86: val_loss did not improve from 0.11007\n",
            "146/146 [==============================] - 4s 24ms/step - loss: 0.0832 - sparse_categorical_accuracy: 0.9719 - val_loss: 0.1109 - val_sparse_categorical_accuracy: 0.9661\n",
            "Epoch 87/200\n",
            "145/146 [============================>.] - ETA: 0s - loss: 0.0845 - sparse_categorical_accuracy: 0.9723\n",
            "Epoch 87: val_loss did not improve from 0.11007\n",
            "146/146 [==============================] - 4s 25ms/step - loss: 0.0845 - sparse_categorical_accuracy: 0.9722 - val_loss: 0.1133 - val_sparse_categorical_accuracy: 0.9635\n",
            "Epoch 88/200\n",
            "145/146 [============================>.] - ETA: 0s - loss: 0.0761 - sparse_categorical_accuracy: 0.9734\n",
            "Epoch 88: val_loss did not improve from 0.11007\n",
            "146/146 [==============================] - 4s 25ms/step - loss: 0.0766 - sparse_categorical_accuracy: 0.9733 - val_loss: 0.1151 - val_sparse_categorical_accuracy: 0.9605\n",
            "Epoch 89/200\n",
            "145/146 [============================>.] - ETA: 0s - loss: 0.0790 - sparse_categorical_accuracy: 0.9732\n",
            "Epoch 89: val_loss improved from 0.11007 to 0.10837, saving model to /content/drive/MyDrive/MLHC_PROJECT1/transformer.h5\n",
            "146/146 [==============================] - 4s 31ms/step - loss: 0.0791 - sparse_categorical_accuracy: 0.9730 - val_loss: 0.1084 - val_sparse_categorical_accuracy: 0.9644\n",
            "Epoch 90/200\n",
            "145/146 [============================>.] - ETA: 0s - loss: 0.0799 - sparse_categorical_accuracy: 0.9741\n",
            "Epoch 90: val_loss did not improve from 0.10837\n",
            "146/146 [==============================] - 3s 24ms/step - loss: 0.0798 - sparse_categorical_accuracy: 0.9742 - val_loss: 0.1127 - val_sparse_categorical_accuracy: 0.9652\n",
            "Epoch 91/200\n",
            "145/146 [============================>.] - ETA: 0s - loss: 0.0784 - sparse_categorical_accuracy: 0.9721\n",
            "Epoch 91: val_loss did not improve from 0.10837\n",
            "146/146 [==============================] - 3s 24ms/step - loss: 0.0783 - sparse_categorical_accuracy: 0.9721 - val_loss: 0.1141 - val_sparse_categorical_accuracy: 0.9626\n",
            "Epoch 92/200\n",
            "145/146 [============================>.] - ETA: 0s - loss: 0.0784 - sparse_categorical_accuracy: 0.9725\n",
            "Epoch 92: val_loss did not improve from 0.10837\n",
            "146/146 [==============================] - 3s 24ms/step - loss: 0.0785 - sparse_categorical_accuracy: 0.9724 - val_loss: 0.1116 - val_sparse_categorical_accuracy: 0.9622\n",
            "Epoch 93/200\n",
            "146/146 [==============================] - ETA: 0s - loss: 0.0756 - sparse_categorical_accuracy: 0.9741\n",
            "Epoch 93: val_loss did not improve from 0.10837\n",
            "146/146 [==============================] - 3s 23ms/step - loss: 0.0756 - sparse_categorical_accuracy: 0.9741 - val_loss: 0.1194 - val_sparse_categorical_accuracy: 0.9639\n",
            "Epoch 94/200\n",
            "145/146 [============================>.] - ETA: 0s - loss: 0.0825 - sparse_categorical_accuracy: 0.9711\n",
            "Epoch 94: val_loss did not improve from 0.10837\n",
            "146/146 [==============================] - 3s 24ms/step - loss: 0.0824 - sparse_categorical_accuracy: 0.9712 - val_loss: 0.1102 - val_sparse_categorical_accuracy: 0.9652\n",
            "Epoch 95/200\n",
            "145/146 [============================>.] - ETA: 0s - loss: 0.0783 - sparse_categorical_accuracy: 0.9749\n",
            "Epoch 95: val_loss did not improve from 0.10837\n",
            "146/146 [==============================] - 4s 24ms/step - loss: 0.0782 - sparse_categorical_accuracy: 0.9749 - val_loss: 0.1184 - val_sparse_categorical_accuracy: 0.9622\n",
            "Epoch 96/200\n",
            "145/146 [============================>.] - ETA: 0s - loss: 0.0767 - sparse_categorical_accuracy: 0.9753\n",
            "Epoch 96: val_loss did not improve from 0.10837\n",
            "146/146 [==============================] - 3s 24ms/step - loss: 0.0769 - sparse_categorical_accuracy: 0.9753 - val_loss: 0.1101 - val_sparse_categorical_accuracy: 0.9682\n",
            "Epoch 97/200\n",
            "145/146 [============================>.] - ETA: 0s - loss: 0.0770 - sparse_categorical_accuracy: 0.9733\n",
            "Epoch 97: val_loss did not improve from 0.10837\n",
            "146/146 [==============================] - 3s 24ms/step - loss: 0.0770 - sparse_categorical_accuracy: 0.9733 - val_loss: 0.1254 - val_sparse_categorical_accuracy: 0.9566\n",
            "Epoch 98/200\n",
            "145/146 [============================>.] - ETA: 0s - loss: 0.0782 - sparse_categorical_accuracy: 0.9756\n",
            "Epoch 98: val_loss did not improve from 0.10837\n",
            "146/146 [==============================] - 3s 23ms/step - loss: 0.0781 - sparse_categorical_accuracy: 0.9757 - val_loss: 0.1137 - val_sparse_categorical_accuracy: 0.9682\n",
            "Epoch 99/200\n",
            "145/146 [============================>.] - ETA: 0s - loss: 0.0766 - sparse_categorical_accuracy: 0.9737\n",
            "Epoch 99: val_loss did not improve from 0.10837\n",
            "146/146 [==============================] - 3s 23ms/step - loss: 0.0765 - sparse_categorical_accuracy: 0.9738 - val_loss: 0.1158 - val_sparse_categorical_accuracy: 0.9635\n",
            "Epoch 100/200\n",
            "145/146 [============================>.] - ETA: 0s - loss: 0.0717 - sparse_categorical_accuracy: 0.9762\n",
            "Epoch 100: val_loss improved from 0.10837 to 0.10360, saving model to /content/drive/MyDrive/MLHC_PROJECT1/transformer.h5\n",
            "146/146 [==============================] - 4s 30ms/step - loss: 0.0717 - sparse_categorical_accuracy: 0.9763 - val_loss: 0.1036 - val_sparse_categorical_accuracy: 0.9678\n",
            "Epoch 101/200\n",
            "145/146 [============================>.] - ETA: 0s - loss: 0.0727 - sparse_categorical_accuracy: 0.9750\n",
            "Epoch 101: val_loss did not improve from 0.10360\n",
            "146/146 [==============================] - 4s 24ms/step - loss: 0.0725 - sparse_categorical_accuracy: 0.9751 - val_loss: 0.1073 - val_sparse_categorical_accuracy: 0.9669\n",
            "Epoch 102/200\n",
            "145/146 [============================>.] - ETA: 0s - loss: 0.0753 - sparse_categorical_accuracy: 0.9751\n",
            "Epoch 102: val_loss did not improve from 0.10360\n",
            "146/146 [==============================] - 4s 24ms/step - loss: 0.0752 - sparse_categorical_accuracy: 0.9752 - val_loss: 0.1088 - val_sparse_categorical_accuracy: 0.9652\n",
            "Epoch 103/200\n",
            "145/146 [============================>.] - ETA: 0s - loss: 0.0690 - sparse_categorical_accuracy: 0.9768\n",
            "Epoch 103: val_loss did not improve from 0.10360\n",
            "146/146 [==============================] - 4s 24ms/step - loss: 0.0688 - sparse_categorical_accuracy: 0.9769 - val_loss: 0.1107 - val_sparse_categorical_accuracy: 0.9652\n",
            "Epoch 104/200\n",
            "145/146 [============================>.] - ETA: 0s - loss: 0.0726 - sparse_categorical_accuracy: 0.9738\n",
            "Epoch 104: val_loss did not improve from 0.10360\n",
            "146/146 [==============================] - 4s 24ms/step - loss: 0.0727 - sparse_categorical_accuracy: 0.9737 - val_loss: 0.1112 - val_sparse_categorical_accuracy: 0.9657\n",
            "Epoch 105/200\n",
            "145/146 [============================>.] - ETA: 0s - loss: 0.0729 - sparse_categorical_accuracy: 0.9748\n",
            "Epoch 105: val_loss did not improve from 0.10360\n",
            "146/146 [==============================] - 4s 24ms/step - loss: 0.0732 - sparse_categorical_accuracy: 0.9745 - val_loss: 0.1068 - val_sparse_categorical_accuracy: 0.9648\n",
            "Epoch 106/200\n",
            "145/146 [============================>.] - ETA: 0s - loss: 0.0780 - sparse_categorical_accuracy: 0.9745\n",
            "Epoch 106: val_loss did not improve from 0.10360\n",
            "146/146 [==============================] - 4s 25ms/step - loss: 0.0778 - sparse_categorical_accuracy: 0.9745 - val_loss: 0.1079 - val_sparse_categorical_accuracy: 0.9652\n",
            "Epoch 107/200\n",
            "145/146 [============================>.] - ETA: 0s - loss: 0.0712 - sparse_categorical_accuracy: 0.9752\n",
            "Epoch 107: val_loss did not improve from 0.10360\n",
            "146/146 [==============================] - 4s 24ms/step - loss: 0.0714 - sparse_categorical_accuracy: 0.9752 - val_loss: 0.1096 - val_sparse_categorical_accuracy: 0.9648\n",
            "Epoch 108/200\n",
            "145/146 [============================>.] - ETA: 0s - loss: 0.0732 - sparse_categorical_accuracy: 0.9747\n",
            "Epoch 108: val_loss did not improve from 0.10360\n",
            "146/146 [==============================] - 4s 24ms/step - loss: 0.0732 - sparse_categorical_accuracy: 0.9748 - val_loss: 0.1044 - val_sparse_categorical_accuracy: 0.9661\n",
            "Epoch 109/200\n",
            "145/146 [============================>.] - ETA: 0s - loss: 0.0727 - sparse_categorical_accuracy: 0.9758\n",
            "Epoch 109: val_loss did not improve from 0.10360\n",
            "146/146 [==============================] - 4s 25ms/step - loss: 0.0728 - sparse_categorical_accuracy: 0.9757 - val_loss: 0.1092 - val_sparse_categorical_accuracy: 0.9665\n",
            "Epoch 110/200\n",
            "145/146 [============================>.] - ETA: 0s - loss: 0.0681 - sparse_categorical_accuracy: 0.9782\n",
            "Epoch 110: val_loss did not improve from 0.10360\n",
            "146/146 [==============================] - 4s 25ms/step - loss: 0.0679 - sparse_categorical_accuracy: 0.9783 - val_loss: 0.1081 - val_sparse_categorical_accuracy: 0.9661\n",
            "Epoch 111/200\n",
            "145/146 [============================>.] - ETA: 0s - loss: 0.0698 - sparse_categorical_accuracy: 0.9762\n",
            "Epoch 111: val_loss did not improve from 0.10360\n",
            "146/146 [==============================] - 4s 25ms/step - loss: 0.0706 - sparse_categorical_accuracy: 0.9759 - val_loss: 0.1074 - val_sparse_categorical_accuracy: 0.9674\n",
            "Epoch 112/200\n",
            "145/146 [============================>.] - ETA: 0s - loss: 0.0678 - sparse_categorical_accuracy: 0.9773\n",
            "Epoch 112: val_loss improved from 0.10360 to 0.10112, saving model to /content/drive/MyDrive/MLHC_PROJECT1/transformer.h5\n",
            "146/146 [==============================] - 5s 32ms/step - loss: 0.0677 - sparse_categorical_accuracy: 0.9772 - val_loss: 0.1011 - val_sparse_categorical_accuracy: 0.9691\n",
            "Epoch 113/200\n",
            "145/146 [============================>.] - ETA: 0s - loss: 0.0628 - sparse_categorical_accuracy: 0.9791\n",
            "Epoch 113: val_loss did not improve from 0.10112\n",
            "146/146 [==============================] - 4s 25ms/step - loss: 0.0627 - sparse_categorical_accuracy: 0.9792 - val_loss: 0.1140 - val_sparse_categorical_accuracy: 0.9657\n",
            "Epoch 114/200\n",
            "145/146 [============================>.] - ETA: 0s - loss: 0.0661 - sparse_categorical_accuracy: 0.9755\n",
            "Epoch 114: val_loss did not improve from 0.10112\n",
            "146/146 [==============================] - 4s 29ms/step - loss: 0.0662 - sparse_categorical_accuracy: 0.9755 - val_loss: 0.1062 - val_sparse_categorical_accuracy: 0.9657\n",
            "Epoch 115/200\n",
            "145/146 [============================>.] - ETA: 0s - loss: 0.0680 - sparse_categorical_accuracy: 0.9754\n",
            "Epoch 115: val_loss did not improve from 0.10112\n",
            "146/146 [==============================] - 4s 25ms/step - loss: 0.0680 - sparse_categorical_accuracy: 0.9755 - val_loss: 0.1195 - val_sparse_categorical_accuracy: 0.9665\n",
            "Epoch 116/200\n",
            "145/146 [============================>.] - ETA: 0s - loss: 0.0711 - sparse_categorical_accuracy: 0.9761\n",
            "Epoch 116: val_loss did not improve from 0.10112\n",
            "146/146 [==============================] - 4s 26ms/step - loss: 0.0710 - sparse_categorical_accuracy: 0.9761 - val_loss: 0.1051 - val_sparse_categorical_accuracy: 0.9699\n",
            "Epoch 117/200\n",
            "145/146 [============================>.] - ETA: 0s - loss: 0.0664 - sparse_categorical_accuracy: 0.9783\n",
            "Epoch 117: val_loss did not improve from 0.10112\n",
            "146/146 [==============================] - 4s 25ms/step - loss: 0.0662 - sparse_categorical_accuracy: 0.9784 - val_loss: 0.1113 - val_sparse_categorical_accuracy: 0.9648\n",
            "Epoch 118/200\n",
            "145/146 [============================>.] - ETA: 0s - loss: 0.0645 - sparse_categorical_accuracy: 0.9775\n",
            "Epoch 118: val_loss did not improve from 0.10112\n",
            "146/146 [==============================] - 4s 26ms/step - loss: 0.0643 - sparse_categorical_accuracy: 0.9776 - val_loss: 0.1155 - val_sparse_categorical_accuracy: 0.9648\n",
            "Epoch 119/200\n",
            "145/146 [============================>.] - ETA: 0s - loss: 0.0626 - sparse_categorical_accuracy: 0.9794\n",
            "Epoch 119: val_loss did not improve from 0.10112\n",
            "146/146 [==============================] - 4s 25ms/step - loss: 0.0626 - sparse_categorical_accuracy: 0.9795 - val_loss: 0.1103 - val_sparse_categorical_accuracy: 0.9717\n",
            "Epoch 120/200\n",
            "145/146 [============================>.] - ETA: 0s - loss: 0.0654 - sparse_categorical_accuracy: 0.9797\n",
            "Epoch 120: val_loss did not improve from 0.10112\n",
            "146/146 [==============================] - 4s 25ms/step - loss: 0.0656 - sparse_categorical_accuracy: 0.9796 - val_loss: 0.1070 - val_sparse_categorical_accuracy: 0.9665\n",
            "Epoch 121/200\n",
            "145/146 [============================>.] - ETA: 0s - loss: 0.0590 - sparse_categorical_accuracy: 0.9807\n",
            "Epoch 121: val_loss did not improve from 0.10112\n",
            "146/146 [==============================] - 4s 25ms/step - loss: 0.0591 - sparse_categorical_accuracy: 0.9807 - val_loss: 0.1042 - val_sparse_categorical_accuracy: 0.9704\n",
            "Epoch 122/200\n",
            "145/146 [============================>.] - ETA: 0s - loss: 0.0632 - sparse_categorical_accuracy: 0.9793\n",
            "Epoch 122: val_loss did not improve from 0.10112\n",
            "146/146 [==============================] - 4s 24ms/step - loss: 0.0632 - sparse_categorical_accuracy: 0.9793 - val_loss: 0.1195 - val_sparse_categorical_accuracy: 0.9661\n",
            "Epoch 123/200\n",
            "145/146 [============================>.] - ETA: 0s - loss: 0.0628 - sparse_categorical_accuracy: 0.9792\n",
            "Epoch 123: val_loss did not improve from 0.10112\n",
            "146/146 [==============================] - 4s 24ms/step - loss: 0.0626 - sparse_categorical_accuracy: 0.9793 - val_loss: 0.1195 - val_sparse_categorical_accuracy: 0.9618\n",
            "Epoch 124/200\n",
            "145/146 [============================>.] - ETA: 0s - loss: 0.0648 - sparse_categorical_accuracy: 0.9791\n",
            "Epoch 124: val_loss did not improve from 0.10112\n",
            "146/146 [==============================] - 4s 24ms/step - loss: 0.0646 - sparse_categorical_accuracy: 0.9792 - val_loss: 0.1074 - val_sparse_categorical_accuracy: 0.9657\n",
            "Epoch 125/200\n",
            "145/146 [============================>.] - ETA: 0s - loss: 0.0604 - sparse_categorical_accuracy: 0.9798\n",
            "Epoch 125: val_loss did not improve from 0.10112\n",
            "146/146 [==============================] - 4s 24ms/step - loss: 0.0603 - sparse_categorical_accuracy: 0.9799 - val_loss: 0.1034 - val_sparse_categorical_accuracy: 0.9695\n",
            "Epoch 126/200\n",
            "145/146 [============================>.] - ETA: 0s - loss: 0.0631 - sparse_categorical_accuracy: 0.9775\n",
            "Epoch 126: val_loss did not improve from 0.10112\n",
            "146/146 [==============================] - 4s 25ms/step - loss: 0.0630 - sparse_categorical_accuracy: 0.9776 - val_loss: 0.1029 - val_sparse_categorical_accuracy: 0.9691\n",
            "Epoch 127/200\n",
            "145/146 [============================>.] - ETA: 0s - loss: 0.0619 - sparse_categorical_accuracy: 0.9791\n",
            "Epoch 127: val_loss did not improve from 0.10112\n",
            "146/146 [==============================] - 4s 27ms/step - loss: 0.0620 - sparse_categorical_accuracy: 0.9791 - val_loss: 0.1107 - val_sparse_categorical_accuracy: 0.9618\n"
          ]
        }
      ],
      "source": [
        "callbacks = [keras.callbacks.EarlyStopping(patience=15, restore_best_weights=True), \n",
        "             keras.callbacks.ModelCheckpoint(model_path, monitor='val_loss', verbose=1, save_best_only=True, mode='min')]\n",
        "\n",
        "if train:\n",
        "    history = model.fit(\n",
        "        X_train,\n",
        "        y_train,\n",
        "        validation_split=0.2,\n",
        "        epochs=200,\n",
        "        batch_size=64,\n",
        "        callbacks=callbacks,\n",
        "    )"
      ]
    },
    {
      "cell_type": "code",
      "execution_count": 9,
      "metadata": {
        "colab": {
          "base_uri": "https://localhost:8080/"
        },
        "id": "ibtGwrtpa-mz",
        "outputId": "916743c7-8e54-4ee9-a365-6e4ddf22e942"
      },
      "outputs": [
        {
          "name": "stdout",
          "output_type": "stream",
          "text": [
            "Test f1 score : 0.9612464068210748 \n",
            "Test accuracy score : 0.9687392648574373 \n"
          ]
        }
      ],
      "source": [
        "model.load_weights(model_path)\n",
        "\n",
        "pred_test = model.predict(X_test)\n",
        "pred_test = np.argmax(pred_test, axis=-1)\n",
        "\n",
        "f1 = f1_score(y_test, pred_test, average=\"macro\")\n",
        "\n",
        "print(\"Test f1 score : %s \"% f1)\n",
        "\n",
        "acc = accuracy_score(y_test, pred_test)\n",
        "\n",
        "print(\"Test accuracy score : %s \"% acc)"
      ]
    },
    {
      "cell_type": "code",
      "execution_count": 10,
      "metadata": {
        "colab": {
          "base_uri": "https://localhost:8080/",
          "height": 295
        },
        "id": "WYPNXPxpsrRS",
        "outputId": "43b82637-939a-4619-fae9-5a588e2fe7b6"
      },
      "outputs": [
        {
          "data": {
            "image/png": "[encoded data removed]",
            "text/plain": [
              "<Figure size 432x288 with 1 Axes>"
            ]
          },
          "metadata": {
            "needs_background": "light"
          },
          "output_type": "display_data"
        }
      ],
      "source": [
        "if train:\n",
        "    # Plot training & validation loss values\n",
        "    plt.plot(history.history['loss'])\n",
        "    plt.plot(history.history['val_loss'])\n",
        "    plt.title('Model loss')\n",
        "    plt.ylabel('loss')\n",
        "    plt.xlabel('Epoch')\n",
        "    plt.legend(['Train', 'Validation'], loc='upper left')\n",
        "    plt.show()"
      ]
    },
    {
      "cell_type": "code",
      "execution_count": 11,
      "metadata": {
        "colab": {
          "base_uri": "https://localhost:8080/",
          "height": 295
        },
        "id": "SxsyM_dts629",
        "outputId": "77fc8703-01a9-4bc0-d784-31564d19b53c"
      },
      "outputs": [
        {
          "data": {
            "image/png": "[encoded data removed]",
            "text/plain": [
              "<Figure size 432x288 with 1 Axes>"
            ]
          },
          "metadata": {
            "needs_background": "light"
          },
          "output_type": "display_data"
        }
      ],
      "source": [
        "if train:\n",
        "    # Plot training & validation accuracy values\n",
        "    plt.plot(history.history['sparse_categorical_accuracy'])\n",
        "    plt.plot(history.history['val_sparse_categorical_accuracy'])\n",
        "    plt.title('Model accuracy')\n",
        "    plt.ylabel('Accuracy')\n",
        "    plt.xlabel('Epoch')\n",
        "    plt.legend(['Train', 'Validation'], loc='upper left')\n",
        "    plt.show()"
      ]
    },
    {
      "cell_type": "code",
      "execution_count": 12,
      "metadata": {
        "colab": {
          "base_uri": "https://localhost:8080/",
          "height": 296
        },
        "id": "CbEINkfzKRxF",
        "outputId": "cdf1c816-c76e-4465-92c7-e5bce9870bd7"
      },
      "outputs": [
        {
          "name": "stdout",
          "output_type": "stream",
          "text": [
            "Model AUROC: 0.96352699589184\n"
          ]
        },
        {
          "data": {
            "image/png": "[encoded data removed]",
            "text/plain": [
              "<Figure size 432x288 with 1 Axes>"
            ]
          },
          "metadata": {
            "needs_background": "light"
          },
          "output_type": "display_data"
        }
      ],
      "source": [
        "RocCurveDisplay.from_predictions(y_test.reshape(-1,1), pred_test)\n",
        "print(\"Model AUROC: {}\".format(roc_auc_score(y_test.reshape(-1,1), pred_test, average=None)))"
      ]
    },
    {
      "cell_type": "code",
      "execution_count": 13,
      "metadata": {
        "colab": {
          "base_uri": "https://localhost:8080/",
          "height": 296
        },
        "id": "UQo5qUx9KYOQ",
        "outputId": "657c2055-4e4b-41ef-d019-6fc24ba9f82d"
      },
      "outputs": [
        {
          "name": "stdout",
          "output_type": "stream",
          "text": [
            "Model AUPRC: 0.974917558655897\n"
          ]
        },
        {
          "data": {
            "image/png": "[encoded data removed]",
            "text/plain": [
              "<Figure size 432x288 with 1 Axes>"
            ]
          },
          "metadata": {
            "needs_background": "light"
          },
          "output_type": "display_data"
        }
      ],
      "source": [
        "PrecisionRecallDisplay.from_predictions(y_test.reshape(-1,1), pred_test)\n",
        "print(\"Model AUPRC: {}\".format(average_precision_score(y_test.reshape(-1,1), pred_test)))"
      ]
    },
    {
      "cell_type": "code",
      "execution_count": 14,
      "metadata": {
        "colab": {
          "base_uri": "https://localhost:8080/",
          "height": 279
        },
        "id": "b-2fNqIgtpWL",
        "outputId": "f946a32f-269f-461f-93df-2d3b2d0d9437"
      },
      "outputs": [
        {
          "data": {
            "image/png": "[encoded data removed]",
            "text/plain": [
              "<Figure size 432x288 with 2 Axes>"
            ]
          },
          "metadata": {
            "needs_background": "light"
          },
          "output_type": "display_data"
        }
      ],
      "source": [
        "# Plotting confusion matrix\n",
        "cm = confusion_matrix(y_test, pred_test)\n",
        "\n",
        "disp = ConfusionMatrixDisplay(confusion_matrix=cm, display_labels=[0,1,2,3])\n",
        "\n",
        "disp.plot(cmap=plt.cm.Blues)\n",
        "plt.show()"
      ]
    }
  ],
  "metadata": {
    "accelerator": "TPU",
    "colab": {
      "machine_shape": "hm",
      "name": "transformer_PTB.ipynb",
      "provenance": []
    },
    "kernelspec": {
      "display_name": "Python 3",
      "name": "python3"
    },
    "language_info": {
      "name": "python"
    }
  },
  "nbformat": 4,
  "nbformat_minor": 0
}
