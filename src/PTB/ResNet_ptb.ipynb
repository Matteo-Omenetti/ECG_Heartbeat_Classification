{
  "cells": [
    {
      "cell_type": "code",
      "execution_count": 15,
      "metadata": {
        "id": "K7gzL1x3Ezsa"
      },
      "outputs": [],
      "source": [
        "import pandas as pd\n",
        "import numpy as np\n",
        "\n",
        "from keras import optimizers, losses, activations, models\n",
        "from keras.callbacks import ModelCheckpoint, EarlyStopping, LearningRateScheduler, ReduceLROnPlateau\n",
        "from keras.layers import Dense, Input, Dropout, Convolution1D, MaxPool1D, GlobalMaxPool1D, GlobalAveragePooling1D, concatenate\n",
        "from sklearn.metrics import f1_score, accuracy_score\n",
        "\n",
        "import tensorflow as tf\n",
        "from keras import Input, Model, layers\n",
        "from keras.models import Sequential\n",
        "from keras.layers import Dense, Flatten\n",
        "from keras import losses\n",
        "from tensorflow import keras\n",
        "from keras.callbacks import EarlyStopping\n",
        "\n",
        "from keras.models import Sequential\n",
        "from keras.layers import Dense, Activation, Dropout, Conv1D, GlobalAveragePooling1D, MaxPooling1D, Flatten, BatchNormalization, ReLU, add, GlobalAveragePooling1D\n",
        "from keras import regularizers\n",
        "from keras.utils import np_utils\n",
        "from keras import utils\n",
        "from sklearn.model_selection import train_test_split\n",
        "\n",
        "\n",
        "import matplotlib.pyplot as plt\n",
        "from sklearn.metrics import ConfusionMatrixDisplay, confusion_matrix\n",
        "\n",
        "import pywt\n",
        "from sklearn.metrics import roc_auc_score, RocCurveDisplay, average_precision_score, PrecisionRecallDisplay, auc"
      ]
    },
    {
      "cell_type": "code",
      "execution_count": 3,
      "metadata": {
        "colab": {
          "base_uri": "https://localhost:8080/"
        },
        "id": "i5AFfFA1E9pC",
        "outputId": "7fe9f9e5-7afa-4959-8997-1a96c6bb5c10"
      },
      "outputs": [
        {
          "name": "stdout",
          "output_type": "stream",
          "text": [
            "Mounted at /content/drive\n"
          ]
        }
      ],
      "source": [
        "from google.colab import drive\n",
        "drive.mount('/content/drive')"
      ]
    },
    {
      "cell_type": "code",
      "execution_count": null,
      "metadata": {},
      "outputs": [],
      "source": [
        "# Gloabal variables\n",
        "data_path = \"../input/\"\n",
        "model_path = \"../../H5/PTB/ResNet.h5\"\n",
        "\n",
        "train = False"
      ]
    },
    {
      "cell_type": "code",
      "execution_count": 4,
      "metadata": {
        "id": "jQgTxjD7FTmb"
      },
      "outputs": [],
      "source": [
        "# read the dataset\n",
        "df_1 = pd.read_csv(data_path + \"ptbdb_normal.csv\", header=None)\n",
        "df_2 = pd.read_csv(data_path + \"ptbdb_abnormal.csv\", header=None)\n",
        "df = pd.concat([df_1, df_2])\n",
        "\n",
        "df_train, df_test = train_test_split(df, test_size=0.2, random_state=1337, stratify=df[187])\n",
        "\n",
        "\n",
        "y_train = np.array(df_train[187].values).astype(np.int8)\n",
        "X_train = np.array(df_train[list(range(187))].values)[..., np.newaxis]\n",
        "\n",
        "y_test = np.array(df_test[187].values).astype(np.int8)\n",
        "X_test = np.array(df_test[list(range(187))].values)[..., np.newaxis]"
      ]
    },
    {
      "cell_type": "code",
      "execution_count": 5,
      "metadata": {
        "id": "qvt8SBBVFApq"
      },
      "outputs": [],
      "source": [
        "input = Input(shape=(187, 1))\n",
        "\n",
        "b1_cnv1d_1 = Conv1D(filters=16, kernel_size=(5), strides=(2), padding='same', use_bias=False, kernel_initializer='normal')(input)\n",
        "b1_relu_1 = ReLU()(b1_cnv1d_1)\n",
        "b1_bn_1 = BatchNormalization(epsilon=1e-3, momentum=0.999)(b1_relu_1)\n",
        "\n",
        "b1_cnv1d_2 = Conv1D(filters=32, kernel_size=(3), strides=(2), padding='same', use_bias=False, kernel_initializer='normal')(b1_bn_1)\n",
        "b1_relu_2 = ReLU()(b1_cnv1d_2)\n",
        "b1_out = BatchNormalization(epsilon=1e-3, momentum=0.999)(b1_relu_2)\n",
        "\n",
        "'''block 2'''\n",
        "b2_cnv1d_1 = Conv1D(filters=32, kernel_size=(3), strides=(1), padding='same', use_bias=False, kernel_initializer='normal')(b1_out)\n",
        "b2_relu_1 = ReLU()(b2_cnv1d_1)\n",
        "b2_bn_1 = BatchNormalization(epsilon=1e-3, momentum=0.999)(b2_relu_1)\n",
        "\n",
        "b2_add = add([b1_out, b2_bn_1])\n",
        "\n",
        "b2_cnv1d_2 = Conv1D(filters=64, kernel_size=(5), strides=(2), padding='same', use_bias=False, kernel_initializer='normal')(b2_add)\n",
        "b2_relu_2 = ReLU(name='b2_relu_2')(b2_cnv1d_2)\n",
        "b2_out = BatchNormalization(epsilon=1e-3, momentum=0.999, name='b2_bn_2')(b2_relu_2)\n",
        "\n",
        "'''block 3'''\n",
        "b3_cnv1d_1 = Conv1D(filters=64, kernel_size=(3), strides=(1), padding='same', use_bias=False, kernel_initializer='normal')(b2_out)\n",
        "b3_relu_1 = ReLU(name='b3_relu_1')(b3_cnv1d_1)\n",
        "b3_bn_1 = BatchNormalization(epsilon=1e-3, momentum=0.999, name='b3_bn_1')(b3_relu_1)\n",
        "\n",
        "b3_add = add([b2_out, b3_bn_1])\n",
        "\n",
        "b3_cnv1d_2 = Conv1D(filters=128, kernel_size=(2), strides=(2), padding='same', use_bias=False, kernel_initializer='normal')(b3_add)\n",
        "b3_relu_2 = ReLU(name='b3_relu_2')(b3_cnv1d_2)\n",
        "b3_out = BatchNormalization(epsilon=1e-3, momentum=0.999, name='b3_out')(b3_relu_2)\n",
        "\n",
        "'''block 4'''\n",
        "b4_avg_p = GlobalAveragePooling1D()(b3_out)\n",
        "output = Dense(2, name='model_output', activation='softmax', kernel_initializer='he_uniform')(b4_avg_p)\n",
        "\n",
        "model = Model(input, output)\n",
        "\n",
        "opt = tf.keras.optimizers.Adam(learning_rate=0.001)\n",
        "model.compile(optimizer=opt, loss=losses.sparse_categorical_crossentropy, metrics=['acc'])\n"
      ]
    },
    {
      "cell_type": "code",
      "execution_count": 6,
      "metadata": {
        "colab": {
          "base_uri": "https://localhost:8080/"
        },
        "id": "B3MhCmf1FC0v",
        "outputId": "f5684a26-c7e9-4083-a173-037b16faa22f"
      },
      "outputs": [
        {
          "name": "stdout",
          "output_type": "stream",
          "text": [
            "Number of weights: 45202\n"
          ]
        }
      ],
      "source": [
        "file_path = model_path\n",
        "tf.keras.utils.plot_model(model, show_shapes=True, dpi=64)\n",
        "print(\"Number of weights: {}\".format(model.count_params()))"
      ]
    },
    {
      "cell_type": "code",
      "execution_count": 16,
      "metadata": {
        "colab": {
          "base_uri": "https://localhost:8080/"
        },
        "id": "8WYrXAjuFFb-",
        "outputId": "d70edb56-076d-4bb9-fccc-ad588428b45e"
      },
      "outputs": [
        {
          "name": "stdout",
          "output_type": "stream",
          "text": [
            "Epoch 1/200\n",
            "\n",
            "Epoch 1: val_acc improved from -inf to 0.69785, saving model to /content/drive/MyDrive/MLHC_PROJECT1/H5/PTB/ResNet.h5\n",
            "328/328 - 3s - loss: 0.0224 - acc: 0.9945 - val_loss: 0.7319 - val_acc: 0.6979 - lr: 1.0000e-06 - 3s/epoch - 9ms/step\n",
            "Epoch 2/200\n",
            "\n",
            "Epoch 2: val_acc did not improve from 0.69785\n",
            "328/328 - 2s - loss: 0.0243 - acc: 0.9938 - val_loss: 0.6551 - val_acc: 0.6712 - lr: 1.0000e-06 - 2s/epoch - 7ms/step\n",
            "Epoch 3/200\n",
            "\n",
            "Epoch 3: val_acc did not improve from 0.69785\n",
            "328/328 - 2s - loss: 0.0235 - acc: 0.9947 - val_loss: 0.6463 - val_acc: 0.6893 - lr: 1.0000e-06 - 2s/epoch - 7ms/step\n",
            "Epoch 4/200\n",
            "\n",
            "Epoch 4: val_acc improved from 0.69785 to 0.70043, saving model to /content/drive/MyDrive/MLHC_PROJECT1/H5/PTB/ResNet.h5\n",
            "328/328 - 3s - loss: 0.0256 - acc: 0.9942 - val_loss: 0.7219 - val_acc: 0.7004 - lr: 1.0000e-06 - 3s/epoch - 8ms/step\n",
            "Epoch 5/200\n",
            "\n",
            "Epoch 5: val_acc did not improve from 0.70043\n",
            "328/328 - 2s - loss: 0.0233 - acc: 0.9949 - val_loss: 0.8285 - val_acc: 0.6996 - lr: 1.0000e-06 - 2s/epoch - 7ms/step\n",
            "Epoch 6/200\n",
            "\n",
            "Epoch 6: val_acc did not improve from 0.70043\n",
            "328/328 - 2s - loss: 0.0251 - acc: 0.9937 - val_loss: 0.9051 - val_acc: 0.6927 - lr: 1.0000e-06 - 2s/epoch - 7ms/step\n",
            "Epoch 7/200\n",
            "\n",
            "Epoch 7: val_acc did not improve from 0.70043\n",
            "\n",
            "Epoch 7: ReduceLROnPlateau reducing learning rate to 1.0000001111620805e-07.\n",
            "328/328 - 2s - loss: 0.0240 - acc: 0.9943 - val_loss: 0.9766 - val_acc: 0.6824 - lr: 1.0000e-06 - 2s/epoch - 7ms/step\n",
            "Epoch 8/200\n",
            "\n",
            "Epoch 8: val_acc did not improve from 0.70043\n",
            "328/328 - 2s - loss: 0.0243 - acc: 0.9935 - val_loss: 0.9728 - val_acc: 0.6841 - lr: 1.0000e-07 - 2s/epoch - 7ms/step\n",
            "Epoch 9/200\n",
            "\n",
            "Epoch 9: val_acc improved from 0.70043 to 0.70815, saving model to /content/drive/MyDrive/MLHC_PROJECT1/H5/PTB/ResNet.h5\n",
            "328/328 - 3s - loss: 0.0245 - acc: 0.9940 - val_loss: 0.8894 - val_acc: 0.7082 - lr: 1.0000e-07 - 3s/epoch - 10ms/step\n",
            "Epoch 10/200\n",
            "\n",
            "Epoch 10: val_acc improved from 0.70815 to 0.75622, saving model to /content/drive/MyDrive/MLHC_PROJECT1/H5/PTB/ResNet.h5\n",
            "328/328 - 2s - loss: 0.0246 - acc: 0.9939 - val_loss: 0.7328 - val_acc: 0.7562 - lr: 1.0000e-07 - 2s/epoch - 7ms/step\n",
            "Epoch 11/200\n",
            "\n",
            "Epoch 11: val_acc improved from 0.75622 to 0.79828, saving model to /content/drive/MyDrive/MLHC_PROJECT1/H5/PTB/ResNet.h5\n",
            "328/328 - 2s - loss: 0.0242 - acc: 0.9935 - val_loss: 0.5058 - val_acc: 0.7983 - lr: 1.0000e-07 - 2s/epoch - 7ms/step\n",
            "Epoch 12/200\n",
            "\n",
            "Epoch 12: val_acc improved from 0.79828 to 0.88240, saving model to /content/drive/MyDrive/MLHC_PROJECT1/H5/PTB/ResNet.h5\n",
            "328/328 - 2s - loss: 0.0248 - acc: 0.9944 - val_loss: 0.2937 - val_acc: 0.8824 - lr: 1.0000e-07 - 2s/epoch - 7ms/step\n",
            "Epoch 13/200\n",
            "\n",
            "Epoch 13: val_acc improved from 0.88240 to 0.93391, saving model to /content/drive/MyDrive/MLHC_PROJECT1/H5/PTB/ResNet.h5\n",
            "328/328 - 2s - loss: 0.0249 - acc: 0.9940 - val_loss: 0.1617 - val_acc: 0.9339 - lr: 1.0000e-07 - 2s/epoch - 7ms/step\n",
            "Epoch 14/200\n",
            "\n",
            "Epoch 14: val_acc improved from 0.93391 to 0.96567, saving model to /content/drive/MyDrive/MLHC_PROJECT1/H5/PTB/ResNet.h5\n",
            "328/328 - 2s - loss: 0.0243 - acc: 0.9937 - val_loss: 0.1010 - val_acc: 0.9657 - lr: 1.0000e-07 - 2s/epoch - 7ms/step\n",
            "Epoch 15/200\n",
            "\n",
            "Epoch 15: val_acc improved from 0.96567 to 0.96996, saving model to /content/drive/MyDrive/MLHC_PROJECT1/H5/PTB/ResNet.h5\n",
            "328/328 - 2s - loss: 0.0228 - acc: 0.9952 - val_loss: 0.0740 - val_acc: 0.9700 - lr: 1.0000e-07 - 2s/epoch - 7ms/step\n",
            "Epoch 16/200\n",
            "\n",
            "Epoch 16: val_acc improved from 0.96996 to 0.97253, saving model to /content/drive/MyDrive/MLHC_PROJECT1/H5/PTB/ResNet.h5\n",
            "328/328 - 2s - loss: 0.0258 - acc: 0.9933 - val_loss: 0.0620 - val_acc: 0.9725 - lr: 1.0000e-07 - 2s/epoch - 7ms/step\n",
            "Epoch 17/200\n",
            "\n",
            "Epoch 17: val_acc improved from 0.97253 to 0.97597, saving model to /content/drive/MyDrive/MLHC_PROJECT1/H5/PTB/ResNet.h5\n",
            "328/328 - 2s - loss: 0.0246 - acc: 0.9940 - val_loss: 0.0562 - val_acc: 0.9760 - lr: 1.0000e-07 - 2s/epoch - 7ms/step\n",
            "Epoch 18/200\n",
            "\n",
            "Epoch 18: val_acc improved from 0.97597 to 0.97940, saving model to /content/drive/MyDrive/MLHC_PROJECT1/H5/PTB/ResNet.h5\n",
            "328/328 - 2s - loss: 0.0248 - acc: 0.9938 - val_loss: 0.0535 - val_acc: 0.9794 - lr: 1.0000e-07 - 2s/epoch - 7ms/step\n",
            "Epoch 19/200\n",
            "\n",
            "Epoch 19: val_acc improved from 0.97940 to 0.98026, saving model to /content/drive/MyDrive/MLHC_PROJECT1/H5/PTB/ResNet.h5\n",
            "328/328 - 2s - loss: 0.0254 - acc: 0.9939 - val_loss: 0.0524 - val_acc: 0.9803 - lr: 1.0000e-07 - 2s/epoch - 7ms/step\n",
            "Epoch 20/200\n",
            "\n",
            "Epoch 20: val_acc did not improve from 0.98026\n",
            "328/328 - 2s - loss: 0.0237 - acc: 0.9947 - val_loss: 0.0518 - val_acc: 0.9803 - lr: 1.0000e-07 - 2s/epoch - 7ms/step\n",
            "Epoch 21/200\n",
            "\n",
            "Epoch 21: val_acc did not improve from 0.98026\n",
            "328/328 - 2s - loss: 0.0241 - acc: 0.9949 - val_loss: 0.0515 - val_acc: 0.9803 - lr: 1.0000e-07 - 2s/epoch - 7ms/step\n",
            "Epoch 22/200\n",
            "\n",
            "Epoch 22: val_acc improved from 0.98026 to 0.98197, saving model to /content/drive/MyDrive/MLHC_PROJECT1/H5/PTB/ResNet.h5\n",
            "328/328 - 2s - loss: 0.0232 - acc: 0.9938 - val_loss: 0.0514 - val_acc: 0.9820 - lr: 1.0000e-07 - 2s/epoch - 7ms/step\n",
            "Epoch 23/200\n",
            "\n",
            "Epoch 23: val_acc did not improve from 0.98197\n",
            "328/328 - 2s - loss: 0.0244 - acc: 0.9939 - val_loss: 0.0513 - val_acc: 0.9820 - lr: 1.0000e-07 - 2s/epoch - 7ms/step\n",
            "Epoch 24/200\n",
            "\n",
            "Epoch 24: val_acc improved from 0.98197 to 0.98283, saving model to /content/drive/MyDrive/MLHC_PROJECT1/H5/PTB/ResNet.h5\n",
            "328/328 - 2s - loss: 0.0217 - acc: 0.9956 - val_loss: 0.0513 - val_acc: 0.9828 - lr: 1.0000e-07 - 2s/epoch - 7ms/step\n",
            "Epoch 25/200\n",
            "\n",
            "Epoch 25: val_acc did not improve from 0.98283\n",
            "328/328 - 2s - loss: 0.0245 - acc: 0.9941 - val_loss: 0.0513 - val_acc: 0.9828 - lr: 1.0000e-07 - 2s/epoch - 7ms/step\n",
            "Epoch 26/200\n",
            "\n",
            "Epoch 26: val_acc did not improve from 0.98283\n",
            "328/328 - 2s - loss: 0.0237 - acc: 0.9936 - val_loss: 0.0513 - val_acc: 0.9828 - lr: 1.0000e-07 - 2s/epoch - 7ms/step\n",
            "Epoch 27/200\n",
            "\n",
            "Epoch 27: val_acc did not improve from 0.98283\n",
            "\n",
            "Epoch 27: ReduceLROnPlateau reducing learning rate to 1.000000082740371e-08.\n",
            "328/328 - 2s - loss: 0.0234 - acc: 0.9946 - val_loss: 0.0513 - val_acc: 0.9828 - lr: 1.0000e-07 - 2s/epoch - 7ms/step\n",
            "Epoch 28/200\n",
            "\n",
            "Epoch 28: val_acc did not improve from 0.98283\n",
            "328/328 - 2s - loss: 0.0262 - acc: 0.9929 - val_loss: 0.0513 - val_acc: 0.9828 - lr: 1.0000e-08 - 2s/epoch - 7ms/step\n",
            "Epoch 29/200\n",
            "\n",
            "Epoch 29: val_acc did not improve from 0.98283\n",
            "328/328 - 2s - loss: 0.0231 - acc: 0.9951 - val_loss: 0.0513 - val_acc: 0.9828 - lr: 1.0000e-08 - 2s/epoch - 7ms/step\n",
            "Epoch 30/200\n",
            "\n",
            "Epoch 30: val_acc did not improve from 0.98283\n",
            "\n",
            "Epoch 30: ReduceLROnPlateau reducing learning rate to 1.000000082740371e-09.\n",
            "328/328 - 2s - loss: 0.0248 - acc: 0.9937 - val_loss: 0.0513 - val_acc: 0.9828 - lr: 1.0000e-08 - 2s/epoch - 7ms/step\n",
            "Epoch 31/200\n",
            "\n",
            "Epoch 31: val_acc did not improve from 0.98283\n",
            "328/328 - 2s - loss: 0.0233 - acc: 0.9945 - val_loss: 0.0513 - val_acc: 0.9828 - lr: 1.0000e-09 - 2s/epoch - 7ms/step\n",
            "Epoch 32/200\n",
            "\n",
            "Epoch 32: val_acc did not improve from 0.98283\n",
            "328/328 - 2s - loss: 0.0251 - acc: 0.9931 - val_loss: 0.0513 - val_acc: 0.9828 - lr: 1.0000e-09 - 2s/epoch - 7ms/step\n",
            "Epoch 33/200\n",
            "\n",
            "Epoch 33: val_acc did not improve from 0.98283\n",
            "\n",
            "Epoch 33: ReduceLROnPlateau reducing learning rate to 1.000000082740371e-10.\n",
            "328/328 - 2s - loss: 0.0220 - acc: 0.9946 - val_loss: 0.0513 - val_acc: 0.9828 - lr: 1.0000e-09 - 2s/epoch - 7ms/step\n",
            "Epoch 34/200\n",
            "\n",
            "Epoch 34: val_acc did not improve from 0.98283\n",
            "328/328 - 2s - loss: 0.0232 - acc: 0.9949 - val_loss: 0.0513 - val_acc: 0.9828 - lr: 1.0000e-10 - 2s/epoch - 7ms/step\n",
            "Epoch 35/200\n",
            "\n",
            "Epoch 35: val_acc did not improve from 0.98283\n",
            "328/328 - 2s - loss: 0.0227 - acc: 0.9942 - val_loss: 0.0513 - val_acc: 0.9828 - lr: 1.0000e-10 - 2s/epoch - 7ms/step\n",
            "Epoch 36/200\n",
            "\n",
            "Epoch 36: val_acc did not improve from 0.98283\n",
            "\n",
            "Epoch 36: ReduceLROnPlateau reducing learning rate to 1.000000082740371e-11.\n",
            "328/328 - 2s - loss: 0.0233 - acc: 0.9951 - val_loss: 0.0513 - val_acc: 0.9828 - lr: 1.0000e-10 - 2s/epoch - 7ms/step\n",
            "Epoch 37/200\n",
            "\n",
            "Epoch 37: val_acc did not improve from 0.98283\n",
            "328/328 - 3s - loss: 0.0269 - acc: 0.9929 - val_loss: 0.0513 - val_acc: 0.9828 - lr: 1.0000e-11 - 3s/epoch - 9ms/step\n",
            "Epoch 38/200\n",
            "\n",
            "Epoch 38: val_acc did not improve from 0.98283\n",
            "328/328 - 2s - loss: 0.0256 - acc: 0.9938 - val_loss: 0.0513 - val_acc: 0.9828 - lr: 1.0000e-11 - 2s/epoch - 7ms/step\n",
            "Epoch 39/200\n",
            "\n",
            "Epoch 39: val_acc did not improve from 0.98283\n",
            "\n",
            "Epoch 39: ReduceLROnPlateau reducing learning rate to 1.000000082740371e-12.\n",
            "328/328 - 2s - loss: 0.0244 - acc: 0.9936 - val_loss: 0.0513 - val_acc: 0.9828 - lr: 1.0000e-11 - 2s/epoch - 7ms/step\n",
            "Epoch 40/200\n",
            "\n",
            "Epoch 40: val_acc did not improve from 0.98283\n",
            "328/328 - 2s - loss: 0.0233 - acc: 0.9946 - val_loss: 0.0513 - val_acc: 0.9828 - lr: 1.0000e-12 - 2s/epoch - 7ms/step\n",
            "Epoch 41/200\n",
            "\n",
            "Epoch 41: val_acc did not improve from 0.98283\n",
            "328/328 - 2s - loss: 0.0240 - acc: 0.9944 - val_loss: 0.0513 - val_acc: 0.9828 - lr: 1.0000e-12 - 2s/epoch - 7ms/step\n",
            "Epoch 42/200\n",
            "\n",
            "Epoch 42: val_acc did not improve from 0.98283\n",
            "\n",
            "Epoch 42: ReduceLROnPlateau reducing learning rate to 1.0000001044244145e-13.\n",
            "328/328 - 3s - loss: 0.0239 - acc: 0.9937 - val_loss: 0.0513 - val_acc: 0.9828 - lr: 1.0000e-12 - 3s/epoch - 9ms/step\n",
            "Epoch 43/200\n",
            "\n",
            "Epoch 43: val_acc did not improve from 0.98283\n",
            "328/328 - 2s - loss: 0.0240 - acc: 0.9941 - val_loss: 0.0513 - val_acc: 0.9828 - lr: 1.0000e-13 - 2s/epoch - 7ms/step\n",
            "Epoch 44/200\n",
            "\n",
            "Epoch 44: val_acc did not improve from 0.98283\n",
            "328/328 - 2s - loss: 0.0219 - acc: 0.9947 - val_loss: 0.0513 - val_acc: 0.9828 - lr: 1.0000e-13 - 2s/epoch - 7ms/step\n",
            "Epoch 44: early stopping\n"
          ]
        }
      ],
      "source": [
        "callbacks = [\n",
        "             ModelCheckpoint(file_path, monitor='val_acc', verbose=1, save_best_only=True, mode='max'),\n",
        "             ReduceLROnPlateau(monitor=\"val_acc\", mode=\"max\", patience=3, verbose=2),\n",
        "             EarlyStopping(monitor=\"val_acc\", mode=\"max\", patience=20, verbose=1)\n",
        "             ]\n",
        "if train:\n",
        "    history = model.fit(X_train, y_train, epochs=200, verbose=2, callbacks=callbacks, validation_split=0.1)"
      ]
    },
    {
      "cell_type": "code",
      "execution_count": 17,
      "metadata": {
        "colab": {
          "base_uri": "https://localhost:8080/"
        },
        "id": "JEkGqb1KFIKq",
        "outputId": "42fad951-4324-40ac-a411-34a45f0f4ea1"
      },
      "outputs": [
        {
          "name": "stdout",
          "output_type": "stream",
          "text": [
            "Test f1 score : 0.9832003540786298 \n",
            "Test accuracy score : 0.9866025420817588 \n"
          ]
        }
      ],
      "source": [
        "model.load_weights(model_path)\n",
        "pred_test = model.predict(X_test)\n",
        "pred_test = np.argmax(pred_test, axis=-1)\n",
        "\n",
        "f1 = f1_score(y_test, pred_test, average=\"macro\")\n",
        "\n",
        "print(\"Test f1 score : %s \"% f1)\n",
        "\n",
        "acc = accuracy_score(y_test, pred_test)\n",
        "\n",
        "print(\"Test accuracy score : %s \"% acc)"
      ]
    },
    {
      "cell_type": "code",
      "execution_count": 18,
      "metadata": {
        "colab": {
          "base_uri": "https://localhost:8080/",
          "height": 295
        },
        "id": "M70LLsF2FYGS",
        "outputId": "b761d473-1000-4ec6-e31c-17fd37e9b1ef"
      },
      "outputs": [
        {
          "data": {
            "image/png": "[encoded data removed]",
            "text/plain": [
              "<Figure size 432x288 with 1 Axes>"
            ]
          },
          "metadata": {
            "needs_background": "light"
          },
          "output_type": "display_data"
        }
      ],
      "source": [
        "if train:\n",
        "    # Plot training & validation loss values\n",
        "    plt.plot(history.history['loss'])\n",
        "    plt.plot(history.history['val_loss'])\n",
        "    plt.title('Model loss')\n",
        "    plt.ylabel('loss')\n",
        "    plt.xlabel('Epoch')\n",
        "    plt.legend(['Train', 'Validation'], loc='upper left')\n",
        "    plt.show()"
      ]
    },
    {
      "cell_type": "code",
      "execution_count": 19,
      "metadata": {
        "colab": {
          "base_uri": "https://localhost:8080/",
          "height": 295
        },
        "id": "fnMFj2bzFaZS",
        "outputId": "0ee6d697-de2f-435d-93ee-ab07f01c4dad"
      },
      "outputs": [
        {
          "data": {
            "image/png": "[encoded data removed]",
            "text/plain": [
              "<Figure size 432x288 with 1 Axes>"
            ]
          },
          "metadata": {
            "needs_background": "light"
          },
          "output_type": "display_data"
        }
      ],
      "source": [
        "if train:\n",
        "    # Plot training & validation accuracy values\n",
        "    plt.plot(history.history['acc'])\n",
        "    plt.plot(history.history['val_acc'])\n",
        "    plt.title('Model accuracy')\n",
        "    plt.ylabel('Accuracy')\n",
        "    plt.xlabel('Epoch')\n",
        "    plt.legend(['Train', 'Validation'], loc='upper left')\n",
        "    plt.show()"
      ]
    },
    {
      "cell_type": "code",
      "execution_count": 20,
      "metadata": {
        "colab": {
          "base_uri": "https://localhost:8080/",
          "height": 296
        },
        "id": "7Sedz3QYHIi1",
        "outputId": "5f533c5d-8aeb-47fb-97eb-01b9700efe4a"
      },
      "outputs": [
        {
          "name": "stdout",
          "output_type": "stream",
          "text": [
            "Model AUROC: 0.9800781291347695\n"
          ]
        },
        {
          "data": {
            "image/png": "[encoded data removed]",
            "text/plain": [
              "<Figure size 432x288 with 1 Axes>"
            ]
          },
          "metadata": {
            "needs_background": "light"
          },
          "output_type": "display_data"
        }
      ],
      "source": [
        "RocCurveDisplay.from_predictions(y_test.reshape(-1,1), pred_test)\n",
        "print(\"Model AUROC: {}\".format(roc_auc_score(y_test.reshape(-1,1), pred_test, average=None)))"
      ]
    },
    {
      "cell_type": "code",
      "execution_count": 21,
      "metadata": {
        "colab": {
          "base_uri": "https://localhost:8080/",
          "height": 296
        },
        "id": "GmstRX7rHJFU",
        "outputId": "8f728289-c7c3-4093-e3ba-cfd05596d8db"
      },
      "outputs": [
        {
          "name": "stdout",
          "output_type": "stream",
          "text": [
            "Model AUPRC: 0.9854010279567486\n"
          ]
        },
        {
          "data": {
            "image/png": "[encoded data removed]",
            "text/plain": [
              "<Figure size 432x288 with 1 Axes>"
            ]
          },
          "metadata": {
            "needs_background": "light"
          },
          "output_type": "display_data"
        }
      ],
      "source": [
        "PrecisionRecallDisplay.from_predictions(y_test.reshape(-1,1), pred_test)\n",
        "print(\"Model AUPRC: {}\".format(average_precision_score(y_test.reshape(-1,1), pred_test)))"
      ]
    },
    {
      "cell_type": "code",
      "execution_count": 22,
      "metadata": {
        "colab": {
          "base_uri": "https://localhost:8080/",
          "height": 279
        },
        "id": "wbQMXPVRFfdP",
        "outputId": "518d5f25-54f7-4ff6-c101-1d434411e698"
      },
      "outputs": [
        {
          "data": {
            "image/png": "[encoded data removed]",
            "text/plain": [
              "<Figure size 432x288 with 2 Axes>"
            ]
          },
          "metadata": {
            "needs_background": "light"
          },
          "output_type": "display_data"
        }
      ],
      "source": [
        "# Plotting confusion matrix\n",
        "cm = confusion_matrix(y_test, pred_test)\n",
        "\n",
        "disp = ConfusionMatrixDisplay(confusion_matrix=cm, display_labels=[0,1,2,3])\n",
        "\n",
        "disp.plot(cmap=plt.cm.Blues)\n",
        "plt.show()"
      ]
    }
  ],
  "metadata": {
    "accelerator": "GPU",
    "colab": {
      "name": "ResNet_ptb.ipynb",
      "provenance": []
    },
    "kernelspec": {
      "display_name": "Python 3",
      "name": "python3"
    },
    "language_info": {
      "name": "python"
    }
  },
  "nbformat": 4,
  "nbformat_minor": 0
}
