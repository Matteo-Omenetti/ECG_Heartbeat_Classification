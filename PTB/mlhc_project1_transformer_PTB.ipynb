{
  "cells": [
    {
      "cell_type": "code",
      "execution_count": 1,
      "metadata": {
        "colab": {
          "base_uri": "https://localhost:8080/"
        },
        "id": "yRCjcu40n4Pd",
        "outputId": "f780b69c-b46c-4765-c53c-0e1f6063348e"
      },
      "outputs": [
        {
          "output_type": "stream",
          "name": "stdout",
          "text": [
            "Tensorflow version 2.8.0\n",
            "Running on TPU  ['10.53.91.106:8470']\n",
            "INFO:tensorflow:Deallocate tpu buffers before initializing tpu system.\n"
          ]
        },
        {
          "output_type": "stream",
          "name": "stderr",
          "text": [
            "INFO:tensorflow:Deallocate tpu buffers before initializing tpu system.\n"
          ]
        },
        {
          "output_type": "stream",
          "name": "stdout",
          "text": [
            "INFO:tensorflow:Initializing the TPU system: grpc://10.53.91.106:8470\n"
          ]
        },
        {
          "output_type": "stream",
          "name": "stderr",
          "text": [
            "INFO:tensorflow:Initializing the TPU system: grpc://10.53.91.106:8470\n"
          ]
        },
        {
          "output_type": "stream",
          "name": "stdout",
          "text": [
            "INFO:tensorflow:Finished initializing TPU system.\n"
          ]
        },
        {
          "output_type": "stream",
          "name": "stderr",
          "text": [
            "INFO:tensorflow:Finished initializing TPU system.\n",
            "WARNING:absl:`tf.distribute.experimental.TPUStrategy` is deprecated, please use  the non experimental symbol `tf.distribute.TPUStrategy` instead.\n"
          ]
        },
        {
          "output_type": "stream",
          "name": "stdout",
          "text": [
            "INFO:tensorflow:Found TPU system:\n"
          ]
        },
        {
          "output_type": "stream",
          "name": "stderr",
          "text": [
            "INFO:tensorflow:Found TPU system:\n"
          ]
        },
        {
          "output_type": "stream",
          "name": "stdout",
          "text": [
            "INFO:tensorflow:*** Num TPU Cores: 8\n"
          ]
        },
        {
          "output_type": "stream",
          "name": "stderr",
          "text": [
            "INFO:tensorflow:*** Num TPU Cores: 8\n"
          ]
        },
        {
          "output_type": "stream",
          "name": "stdout",
          "text": [
            "INFO:tensorflow:*** Num TPU Workers: 1\n"
          ]
        },
        {
          "output_type": "stream",
          "name": "stderr",
          "text": [
            "INFO:tensorflow:*** Num TPU Workers: 1\n"
          ]
        },
        {
          "output_type": "stream",
          "name": "stdout",
          "text": [
            "INFO:tensorflow:*** Num TPU Cores Per Worker: 8\n"
          ]
        },
        {
          "output_type": "stream",
          "name": "stderr",
          "text": [
            "INFO:tensorflow:*** Num TPU Cores Per Worker: 8\n"
          ]
        },
        {
          "output_type": "stream",
          "name": "stdout",
          "text": [
            "INFO:tensorflow:*** Available Device: _DeviceAttributes(/job:localhost/replica:0/task:0/device:CPU:0, CPU, 0, 0)\n"
          ]
        },
        {
          "output_type": "stream",
          "name": "stderr",
          "text": [
            "INFO:tensorflow:*** Available Device: _DeviceAttributes(/job:localhost/replica:0/task:0/device:CPU:0, CPU, 0, 0)\n"
          ]
        },
        {
          "output_type": "stream",
          "name": "stdout",
          "text": [
            "INFO:tensorflow:*** Available Device: _DeviceAttributes(/job:worker/replica:0/task:0/device:CPU:0, CPU, 0, 0)\n"
          ]
        },
        {
          "output_type": "stream",
          "name": "stderr",
          "text": [
            "INFO:tensorflow:*** Available Device: _DeviceAttributes(/job:worker/replica:0/task:0/device:CPU:0, CPU, 0, 0)\n"
          ]
        },
        {
          "output_type": "stream",
          "name": "stdout",
          "text": [
            "INFO:tensorflow:*** Available Device: _DeviceAttributes(/job:worker/replica:0/task:0/device:TPU:0, TPU, 0, 0)\n"
          ]
        },
        {
          "output_type": "stream",
          "name": "stderr",
          "text": [
            "INFO:tensorflow:*** Available Device: _DeviceAttributes(/job:worker/replica:0/task:0/device:TPU:0, TPU, 0, 0)\n"
          ]
        },
        {
          "output_type": "stream",
          "name": "stdout",
          "text": [
            "INFO:tensorflow:*** Available Device: _DeviceAttributes(/job:worker/replica:0/task:0/device:TPU:1, TPU, 0, 0)\n"
          ]
        },
        {
          "output_type": "stream",
          "name": "stderr",
          "text": [
            "INFO:tensorflow:*** Available Device: _DeviceAttributes(/job:worker/replica:0/task:0/device:TPU:1, TPU, 0, 0)\n"
          ]
        },
        {
          "output_type": "stream",
          "name": "stdout",
          "text": [
            "INFO:tensorflow:*** Available Device: _DeviceAttributes(/job:worker/replica:0/task:0/device:TPU:2, TPU, 0, 0)\n"
          ]
        },
        {
          "output_type": "stream",
          "name": "stderr",
          "text": [
            "INFO:tensorflow:*** Available Device: _DeviceAttributes(/job:worker/replica:0/task:0/device:TPU:2, TPU, 0, 0)\n"
          ]
        },
        {
          "output_type": "stream",
          "name": "stdout",
          "text": [
            "INFO:tensorflow:*** Available Device: _DeviceAttributes(/job:worker/replica:0/task:0/device:TPU:3, TPU, 0, 0)\n"
          ]
        },
        {
          "output_type": "stream",
          "name": "stderr",
          "text": [
            "INFO:tensorflow:*** Available Device: _DeviceAttributes(/job:worker/replica:0/task:0/device:TPU:3, TPU, 0, 0)\n"
          ]
        },
        {
          "output_type": "stream",
          "name": "stdout",
          "text": [
            "INFO:tensorflow:*** Available Device: _DeviceAttributes(/job:worker/replica:0/task:0/device:TPU:4, TPU, 0, 0)\n"
          ]
        },
        {
          "output_type": "stream",
          "name": "stderr",
          "text": [
            "INFO:tensorflow:*** Available Device: _DeviceAttributes(/job:worker/replica:0/task:0/device:TPU:4, TPU, 0, 0)\n"
          ]
        },
        {
          "output_type": "stream",
          "name": "stdout",
          "text": [
            "INFO:tensorflow:*** Available Device: _DeviceAttributes(/job:worker/replica:0/task:0/device:TPU:5, TPU, 0, 0)\n"
          ]
        },
        {
          "output_type": "stream",
          "name": "stderr",
          "text": [
            "INFO:tensorflow:*** Available Device: _DeviceAttributes(/job:worker/replica:0/task:0/device:TPU:5, TPU, 0, 0)\n"
          ]
        },
        {
          "output_type": "stream",
          "name": "stdout",
          "text": [
            "INFO:tensorflow:*** Available Device: _DeviceAttributes(/job:worker/replica:0/task:0/device:TPU:6, TPU, 0, 0)\n"
          ]
        },
        {
          "output_type": "stream",
          "name": "stderr",
          "text": [
            "INFO:tensorflow:*** Available Device: _DeviceAttributes(/job:worker/replica:0/task:0/device:TPU:6, TPU, 0, 0)\n"
          ]
        },
        {
          "output_type": "stream",
          "name": "stdout",
          "text": [
            "INFO:tensorflow:*** Available Device: _DeviceAttributes(/job:worker/replica:0/task:0/device:TPU:7, TPU, 0, 0)\n"
          ]
        },
        {
          "output_type": "stream",
          "name": "stderr",
          "text": [
            "INFO:tensorflow:*** Available Device: _DeviceAttributes(/job:worker/replica:0/task:0/device:TPU:7, TPU, 0, 0)\n"
          ]
        },
        {
          "output_type": "stream",
          "name": "stdout",
          "text": [
            "INFO:tensorflow:*** Available Device: _DeviceAttributes(/job:worker/replica:0/task:0/device:TPU_SYSTEM:0, TPU_SYSTEM, 0, 0)\n"
          ]
        },
        {
          "output_type": "stream",
          "name": "stderr",
          "text": [
            "INFO:tensorflow:*** Available Device: _DeviceAttributes(/job:worker/replica:0/task:0/device:TPU_SYSTEM:0, TPU_SYSTEM, 0, 0)\n"
          ]
        },
        {
          "output_type": "stream",
          "name": "stdout",
          "text": [
            "INFO:tensorflow:*** Available Device: _DeviceAttributes(/job:worker/replica:0/task:0/device:XLA_CPU:0, XLA_CPU, 0, 0)\n"
          ]
        },
        {
          "output_type": "stream",
          "name": "stderr",
          "text": [
            "INFO:tensorflow:*** Available Device: _DeviceAttributes(/job:worker/replica:0/task:0/device:XLA_CPU:0, XLA_CPU, 0, 0)\n"
          ]
        }
      ],
      "source": [
        "%tensorflow_version 2.x\n",
        "import tensorflow as tf\n",
        "print(\"Tensorflow version \" + tf.__version__)\n",
        "\n",
        "try:\n",
        "  tpu = tf.distribute.cluster_resolver.TPUClusterResolver()  # TPU detection\n",
        "  print('Running on TPU ', tpu.cluster_spec().as_dict()['worker'])\n",
        "except ValueError:\n",
        "  raise BaseException('ERROR: Not connected to a TPU runtime; please see the previous cell in this notebook for instructions!')\n",
        "\n",
        "tf.config.experimental_connect_to_cluster(tpu)\n",
        "tf.tpu.experimental.initialize_tpu_system(tpu)\n",
        "tpu_strategy = tf.distribute.experimental.TPUStrategy(tpu)"
      ]
    },
    {
      "cell_type": "code",
      "source": [
        "from google.colab import drive\n",
        "drive.mount('/content/drive')"
      ],
      "metadata": {
        "colab": {
          "base_uri": "https://localhost:8080/"
        },
        "id": "sbkzch19Y4MG",
        "outputId": "05a1c8c6-0bc7-423b-8e42-60a218e9073d"
      },
      "execution_count": 2,
      "outputs": [
        {
          "output_type": "stream",
          "name": "stdout",
          "text": [
            "Mounted at /content/drive\n"
          ]
        }
      ]
    },
    {
      "cell_type": "code",
      "execution_count": 3,
      "metadata": {
        "id": "x6mVW4YKpixJ"
      },
      "outputs": [],
      "source": [
        "import pandas as pd\n",
        "import numpy as np\n",
        "\n",
        "from keras import optimizers, losses, activations, models\n",
        "from keras.callbacks import ModelCheckpoint, EarlyStopping, LearningRateScheduler, ReduceLROnPlateau\n",
        "from keras.layers import Dense, Input, Dropout, Convolution1D, MaxPool1D, GlobalMaxPool1D, GlobalAveragePooling1D, concatenate\n",
        "from sklearn.metrics import f1_score, accuracy_score\n",
        "from sklearn.metrics import ConfusionMatrixDisplay, confusion_matrix\n",
        "\n",
        "import tensorflow as tf\n",
        "from keras import Input, Model, layers\n",
        "from keras.models import Sequential\n",
        "from keras.layers import Dense, Flatten\n",
        "from keras import losses\n",
        "from tensorflow import keras\n",
        "from keras.callbacks import EarlyStopping\n",
        "\n",
        "import matplotlib.pyplot as plt\n",
        "\n",
        "from keras.models import Sequential\n",
        "from keras.layers import Dense, Activation, Dropout, Conv1D, GlobalAveragePooling1D, MaxPooling1D\n",
        "from keras import regularizers\n",
        "from keras.utils import np_utils\n",
        "from keras import utils\n",
        "from sklearn.model_selection import train_test_split\n",
        "\n",
        "import os\n",
        "from google.colab import drive\n",
        "from google.colab import files"
      ]
    },
    {
      "cell_type": "markdown",
      "metadata": {
        "id": "uLPivENoqojm"
      },
      "source": [
        "TRANSFORMER MITBIH"
      ]
    },
    {
      "cell_type": "code",
      "execution_count": 4,
      "metadata": {
        "id": "6TIb9oHkqnxQ"
      },
      "outputs": [],
      "source": [
        "df_1 = pd.read_csv(\"/content/drive/MyDrive/MLHC_PROJECT1/ptbdb_normal.csv\", header=None)\n",
        "df_2 = pd.read_csv(\"/content/drive/MyDrive/MLHC_PROJECT1/ptbdb_abnormal.csv\", header=None)\n",
        "df = pd.concat([df_1, df_2])\n",
        "\n",
        "df_train, df_test = train_test_split(df, test_size=0.2, random_state=1337, stratify=df[187])\n",
        "\n",
        "\n",
        "y_train = np.array(df_train[187].values).astype(np.int8)\n",
        "X_train = np.array(df_train[list(range(187))].values)[..., np.newaxis]\n",
        "\n",
        "y_test = np.array(df_test[187].values).astype(np.int8)\n",
        "X_test = np.array(df_test[list(range(187))].values)[..., np.newaxis]"
      ]
    },
    {
      "cell_type": "code",
      "execution_count": 5,
      "metadata": {
        "id": "pgXzuMsVryvV"
      },
      "outputs": [],
      "source": [
        "def transformer_encoder(inputs, head_size, num_heads, ff_dim, dropout=0):\n",
        "    # Normalization and Attention\n",
        "    x = layers.LayerNormalization(epsilon=1e-6)(inputs)\n",
        "    x = layers.MultiHeadAttention(\n",
        "        key_dim=head_size, num_heads=num_heads, dropout=dropout\n",
        "    )(x, x)\n",
        "    x = layers.Dropout(dropout)(x)\n",
        "    res = x + inputs\n",
        "\n",
        "    # Feed Forward Part\n",
        "    x = layers.LayerNormalization(epsilon=1e-6)(res)\n",
        "    x = layers.Conv1D(filters=ff_dim, kernel_size=1, activation=\"relu\")(x)\n",
        "    x = layers.Dropout(dropout)(x)\n",
        "    x = layers.Conv1D(filters=inputs.shape[-1], kernel_size=1)(x)\n",
        "    return x + res"
      ]
    },
    {
      "cell_type": "code",
      "execution_count": 6,
      "metadata": {
        "id": "KVk5tW9Lr93M"
      },
      "outputs": [],
      "source": [
        "def build_model(\n",
        "    input_shape,\n",
        "    head_size,\n",
        "    num_heads,\n",
        "    ff_dim,\n",
        "    num_transformer_blocks,\n",
        "    mlp_units,\n",
        "    dropout=0,\n",
        "    mlp_dropout=0,\n",
        "    n_classes = 2,\n",
        "):\n",
        "    inputs = keras.Input(shape=input_shape)\n",
        "    x = inputs\n",
        "    for _ in range(num_transformer_blocks):\n",
        "        x = transformer_encoder(x, head_size, num_heads, ff_dim, dropout)\n",
        "\n",
        "    x = layers.GlobalAveragePooling1D(data_format=\"channels_first\")(x)\n",
        "    for dim in mlp_units:\n",
        "        x = layers.Dense(dim, activation=\"relu\")(x)\n",
        "        x = layers.Dropout(mlp_dropout)(x)\n",
        "    outputs = layers.Dense(n_classes, activation=\"softmax\")(x)\n",
        "    return keras.Model(inputs, outputs)"
      ]
    },
    {
      "cell_type": "code",
      "execution_count": 7,
      "metadata": {
        "colab": {
          "base_uri": "https://localhost:8080/"
        },
        "id": "1-1NhlW9sCfV",
        "outputId": "db79a712-3956-43a8-b059-1b1e8c545484"
      },
      "outputs": [
        {
          "output_type": "stream",
          "name": "stdout",
          "text": [
            "Number of weights: 53453\n"
          ]
        }
      ],
      "source": [
        "input_shape = X_train.shape[1:]\n",
        "\n",
        "with tpu_strategy.scope(): # creating the model in the TPUStrategy scope means we will train the model on the TPU\n",
        "  model = build_model(\n",
        "    input_shape,\n",
        "    head_size=256,\n",
        "    num_heads=4,\n",
        "    ff_dim=4,\n",
        "    num_transformer_blocks=4,\n",
        "    mlp_units=[128],\n",
        "    mlp_dropout=0.4,\n",
        "    dropout=0.25,\n",
        "    n_classes=5\n",
        "  )\n",
        "\n",
        "  model.compile(\n",
        "    loss=\"sparse_categorical_crossentropy\",\n",
        "    optimizer=keras.optimizers.Adam(learning_rate=1e-3),\n",
        "    metrics=[\"sparse_categorical_accuracy\"],\n",
        "  )\n",
        "\n",
        "file_path = \"/content/drive/MyDrive/MLHC_PROJECT1/transformer.h5\"\n",
        "\n",
        "# model.summary()\n",
        "tf.keras.utils.plot_model(model, show_shapes=True, dpi=64)\n",
        "print(\"Number of weights: {}\".format(model.count_params()))"
      ]
    },
    {
      "cell_type": "code",
      "source": [
        "callbacks = [keras.callbacks.EarlyStopping(patience=15, restore_best_weights=True), \n",
        "             keras.callbacks.ModelCheckpoint(file_path, monitor='val_loss', verbose=1, save_best_only=True, mode='min')]\n",
        "\n",
        "history = model.fit(\n",
        "    X_train,\n",
        "    y_train,\n",
        "    validation_split=0.2,\n",
        "    epochs=200,\n",
        "    batch_size=64,\n",
        "    callbacks=callbacks,\n",
        ")"
      ],
      "metadata": {
        "colab": {
          "base_uri": "https://localhost:8080/"
        },
        "id": "6_BBzJ-sK6UE",
        "outputId": "64e726e8-eeb2-4acf-ac93-39b3003e9490"
      },
      "execution_count": 8,
      "outputs": [
        {
          "output_type": "stream",
          "name": "stdout",
          "text": [
            "Epoch 1/200\n",
            "146/146 [==============================] - ETA: 0s - loss: 0.6060 - sparse_categorical_accuracy: 0.7111\n",
            "Epoch 1: val_loss improved from inf to 0.46194, saving model to /content/drive/MyDrive/MLHC_PROJECT1/transformer.h5\n",
            "146/146 [==============================] - 26s 86ms/step - loss: 0.6060 - sparse_categorical_accuracy: 0.7111 - val_loss: 0.4619 - val_sparse_categorical_accuracy: 0.7742\n",
            "Epoch 2/200\n",
            "145/146 [============================>.] - ETA: 0s - loss: 0.4573 - sparse_categorical_accuracy: 0.7777\n",
            "Epoch 2: val_loss improved from 0.46194 to 0.42732, saving model to /content/drive/MyDrive/MLHC_PROJECT1/transformer.h5\n",
            "146/146 [==============================] - 4s 30ms/step - loss: 0.4575 - sparse_categorical_accuracy: 0.7776 - val_loss: 0.4273 - val_sparse_categorical_accuracy: 0.8038\n",
            "Epoch 3/200\n",
            "145/146 [============================>.] - ETA: 0s - loss: 0.4274 - sparse_categorical_accuracy: 0.7940\n",
            "Epoch 3: val_loss improved from 0.42732 to 0.40510, saving model to /content/drive/MyDrive/MLHC_PROJECT1/transformer.h5\n",
            "146/146 [==============================] - 4s 30ms/step - loss: 0.4274 - sparse_categorical_accuracy: 0.7940 - val_loss: 0.4051 - val_sparse_categorical_accuracy: 0.8021\n",
            "Epoch 4/200\n",
            "145/146 [============================>.] - ETA: 0s - loss: 0.4050 - sparse_categorical_accuracy: 0.8075\n",
            "Epoch 4: val_loss improved from 0.40510 to 0.38318, saving model to /content/drive/MyDrive/MLHC_PROJECT1/transformer.h5\n",
            "146/146 [==============================] - 4s 29ms/step - loss: 0.4048 - sparse_categorical_accuracy: 0.8078 - val_loss: 0.3832 - val_sparse_categorical_accuracy: 0.8227\n",
            "Epoch 5/200\n",
            "145/146 [============================>.] - ETA: 0s - loss: 0.3841 - sparse_categorical_accuracy: 0.8235\n",
            "Epoch 5: val_loss improved from 0.38318 to 0.36267, saving model to /content/drive/MyDrive/MLHC_PROJECT1/transformer.h5\n",
            "146/146 [==============================] - 4s 30ms/step - loss: 0.3843 - sparse_categorical_accuracy: 0.8235 - val_loss: 0.3627 - val_sparse_categorical_accuracy: 0.8390\n",
            "Epoch 6/200\n",
            "145/146 [============================>.] - ETA: 0s - loss: 0.3740 - sparse_categorical_accuracy: 0.8292\n",
            "Epoch 6: val_loss improved from 0.36267 to 0.35488, saving model to /content/drive/MyDrive/MLHC_PROJECT1/transformer.h5\n",
            "146/146 [==============================] - 4s 30ms/step - loss: 0.3741 - sparse_categorical_accuracy: 0.8291 - val_loss: 0.3549 - val_sparse_categorical_accuracy: 0.8454\n",
            "Epoch 7/200\n",
            "145/146 [============================>.] - ETA: 0s - loss: 0.3576 - sparse_categorical_accuracy: 0.8362\n",
            "Epoch 7: val_loss improved from 0.35488 to 0.34150, saving model to /content/drive/MyDrive/MLHC_PROJECT1/transformer.h5\n",
            "146/146 [==============================] - 4s 30ms/step - loss: 0.3583 - sparse_categorical_accuracy: 0.8360 - val_loss: 0.3415 - val_sparse_categorical_accuracy: 0.8544\n",
            "Epoch 8/200\n",
            "145/146 [============================>.] - ETA: 0s - loss: 0.3498 - sparse_categorical_accuracy: 0.8433\n",
            "Epoch 8: val_loss improved from 0.34150 to 0.33344, saving model to /content/drive/MyDrive/MLHC_PROJECT1/transformer.h5\n",
            "146/146 [==============================] - 4s 30ms/step - loss: 0.3495 - sparse_categorical_accuracy: 0.8434 - val_loss: 0.3334 - val_sparse_categorical_accuracy: 0.8562\n",
            "Epoch 9/200\n",
            "145/146 [============================>.] - ETA: 0s - loss: 0.3367 - sparse_categorical_accuracy: 0.8522\n",
            "Epoch 9: val_loss improved from 0.33344 to 0.31964, saving model to /content/drive/MyDrive/MLHC_PROJECT1/transformer.h5\n",
            "146/146 [==============================] - 4s 30ms/step - loss: 0.3366 - sparse_categorical_accuracy: 0.8523 - val_loss: 0.3196 - val_sparse_categorical_accuracy: 0.8669\n",
            "Epoch 10/200\n",
            "145/146 [============================>.] - ETA: 0s - loss: 0.3265 - sparse_categorical_accuracy: 0.8527\n",
            "Epoch 10: val_loss improved from 0.31964 to 0.31727, saving model to /content/drive/MyDrive/MLHC_PROJECT1/transformer.h5\n",
            "146/146 [==============================] - 4s 29ms/step - loss: 0.3264 - sparse_categorical_accuracy: 0.8527 - val_loss: 0.3173 - val_sparse_categorical_accuracy: 0.8660\n",
            "Epoch 11/200\n",
            "145/146 [============================>.] - ETA: 0s - loss: 0.3199 - sparse_categorical_accuracy: 0.8593\n",
            "Epoch 11: val_loss improved from 0.31727 to 0.30273, saving model to /content/drive/MyDrive/MLHC_PROJECT1/transformer.h5\n",
            "146/146 [==============================] - 5s 31ms/step - loss: 0.3199 - sparse_categorical_accuracy: 0.8593 - val_loss: 0.3027 - val_sparse_categorical_accuracy: 0.8789\n",
            "Epoch 12/200\n",
            "145/146 [============================>.] - ETA: 0s - loss: 0.3049 - sparse_categorical_accuracy: 0.8664\n",
            "Epoch 12: val_loss improved from 0.30273 to 0.29026, saving model to /content/drive/MyDrive/MLHC_PROJECT1/transformer.h5\n",
            "146/146 [==============================] - 4s 30ms/step - loss: 0.3046 - sparse_categorical_accuracy: 0.8665 - val_loss: 0.2903 - val_sparse_categorical_accuracy: 0.8836\n",
            "Epoch 13/200\n",
            "145/146 [============================>.] - ETA: 0s - loss: 0.2978 - sparse_categorical_accuracy: 0.8695\n",
            "Epoch 13: val_loss improved from 0.29026 to 0.28592, saving model to /content/drive/MyDrive/MLHC_PROJECT1/transformer.h5\n",
            "146/146 [==============================] - 4s 29ms/step - loss: 0.2976 - sparse_categorical_accuracy: 0.8695 - val_loss: 0.2859 - val_sparse_categorical_accuracy: 0.8854\n",
            "Epoch 14/200\n",
            "145/146 [============================>.] - ETA: 0s - loss: 0.2896 - sparse_categorical_accuracy: 0.8738\n",
            "Epoch 14: val_loss improved from 0.28592 to 0.28277, saving model to /content/drive/MyDrive/MLHC_PROJECT1/transformer.h5\n",
            "146/146 [==============================] - 4s 30ms/step - loss: 0.2896 - sparse_categorical_accuracy: 0.8737 - val_loss: 0.2828 - val_sparse_categorical_accuracy: 0.8763\n",
            "Epoch 15/200\n",
            "145/146 [============================>.] - ETA: 0s - loss: 0.2799 - sparse_categorical_accuracy: 0.8814\n",
            "Epoch 15: val_loss improved from 0.28277 to 0.26689, saving model to /content/drive/MyDrive/MLHC_PROJECT1/transformer.h5\n",
            "146/146 [==============================] - 4s 30ms/step - loss: 0.2800 - sparse_categorical_accuracy: 0.8813 - val_loss: 0.2669 - val_sparse_categorical_accuracy: 0.8961\n",
            "Epoch 16/200\n",
            "145/146 [============================>.] - ETA: 0s - loss: 0.2728 - sparse_categorical_accuracy: 0.8867\n",
            "Epoch 16: val_loss improved from 0.26689 to 0.25993, saving model to /content/drive/MyDrive/MLHC_PROJECT1/transformer.h5\n",
            "146/146 [==============================] - 5s 31ms/step - loss: 0.2726 - sparse_categorical_accuracy: 0.8868 - val_loss: 0.2599 - val_sparse_categorical_accuracy: 0.8927\n",
            "Epoch 17/200\n",
            "145/146 [============================>.] - ETA: 0s - loss: 0.2620 - sparse_categorical_accuracy: 0.8918\n",
            "Epoch 17: val_loss improved from 0.25993 to 0.24540, saving model to /content/drive/MyDrive/MLHC_PROJECT1/transformer.h5\n",
            "146/146 [==============================] - 4s 31ms/step - loss: 0.2617 - sparse_categorical_accuracy: 0.8920 - val_loss: 0.2454 - val_sparse_categorical_accuracy: 0.9124\n",
            "Epoch 18/200\n",
            "145/146 [============================>.] - ETA: 0s - loss: 0.2542 - sparse_categorical_accuracy: 0.8980\n",
            "Epoch 18: val_loss improved from 0.24540 to 0.24071, saving model to /content/drive/MyDrive/MLHC_PROJECT1/transformer.h5\n",
            "146/146 [==============================] - 5s 31ms/step - loss: 0.2544 - sparse_categorical_accuracy: 0.8981 - val_loss: 0.2407 - val_sparse_categorical_accuracy: 0.9141\n",
            "Epoch 19/200\n",
            "145/146 [============================>.] - ETA: 0s - loss: 0.2465 - sparse_categorical_accuracy: 0.8999\n",
            "Epoch 19: val_loss improved from 0.24071 to 0.23372, saving model to /content/drive/MyDrive/MLHC_PROJECT1/transformer.h5\n",
            "146/146 [==============================] - 4s 31ms/step - loss: 0.2465 - sparse_categorical_accuracy: 0.8998 - val_loss: 0.2337 - val_sparse_categorical_accuracy: 0.9073\n",
            "Epoch 20/200\n",
            "145/146 [============================>.] - ETA: 0s - loss: 0.2386 - sparse_categorical_accuracy: 0.9056\n",
            "Epoch 20: val_loss improved from 0.23372 to 0.22476, saving model to /content/drive/MyDrive/MLHC_PROJECT1/transformer.h5\n",
            "146/146 [==============================] - 5s 31ms/step - loss: 0.2384 - sparse_categorical_accuracy: 0.9058 - val_loss: 0.2248 - val_sparse_categorical_accuracy: 0.9111\n",
            "Epoch 21/200\n",
            "145/146 [============================>.] - ETA: 0s - loss: 0.2351 - sparse_categorical_accuracy: 0.9086\n",
            "Epoch 21: val_loss improved from 0.22476 to 0.22463, saving model to /content/drive/MyDrive/MLHC_PROJECT1/transformer.h5\n",
            "146/146 [==============================] - 4s 31ms/step - loss: 0.2346 - sparse_categorical_accuracy: 0.9088 - val_loss: 0.2246 - val_sparse_categorical_accuracy: 0.9077\n",
            "Epoch 22/200\n",
            "145/146 [============================>.] - ETA: 0s - loss: 0.2301 - sparse_categorical_accuracy: 0.9133\n",
            "Epoch 22: val_loss improved from 0.22463 to 0.21066, saving model to /content/drive/MyDrive/MLHC_PROJECT1/transformer.h5\n",
            "146/146 [==============================] - 4s 30ms/step - loss: 0.2299 - sparse_categorical_accuracy: 0.9133 - val_loss: 0.2107 - val_sparse_categorical_accuracy: 0.9176\n",
            "Epoch 23/200\n",
            "145/146 [============================>.] - ETA: 0s - loss: 0.2191 - sparse_categorical_accuracy: 0.9161\n",
            "Epoch 23: val_loss improved from 0.21066 to 0.20498, saving model to /content/drive/MyDrive/MLHC_PROJECT1/transformer.h5\n",
            "146/146 [==============================] - 5s 31ms/step - loss: 0.2188 - sparse_categorical_accuracy: 0.9162 - val_loss: 0.2050 - val_sparse_categorical_accuracy: 0.9236\n",
            "Epoch 24/200\n",
            "145/146 [============================>.] - ETA: 0s - loss: 0.2155 - sparse_categorical_accuracy: 0.9187\n",
            "Epoch 24: val_loss did not improve from 0.20498\n",
            "146/146 [==============================] - 4s 26ms/step - loss: 0.2155 - sparse_categorical_accuracy: 0.9185 - val_loss: 0.2077 - val_sparse_categorical_accuracy: 0.9120\n",
            "Epoch 25/200\n",
            "145/146 [============================>.] - ETA: 0s - loss: 0.2096 - sparse_categorical_accuracy: 0.9206\n",
            "Epoch 25: val_loss improved from 0.20498 to 0.19350, saving model to /content/drive/MyDrive/MLHC_PROJECT1/transformer.h5\n",
            "146/146 [==============================] - 5s 32ms/step - loss: 0.2095 - sparse_categorical_accuracy: 0.9205 - val_loss: 0.1935 - val_sparse_categorical_accuracy: 0.9304\n",
            "Epoch 26/200\n",
            "145/146 [============================>.] - ETA: 0s - loss: 0.2059 - sparse_categorical_accuracy: 0.9247\n",
            "Epoch 26: val_loss did not improve from 0.19350\n",
            "146/146 [==============================] - 4s 25ms/step - loss: 0.2056 - sparse_categorical_accuracy: 0.9247 - val_loss: 0.1960 - val_sparse_categorical_accuracy: 0.9257\n",
            "Epoch 27/200\n",
            "145/146 [============================>.] - ETA: 0s - loss: 0.1982 - sparse_categorical_accuracy: 0.9275\n",
            "Epoch 27: val_loss improved from 0.19350 to 0.18862, saving model to /content/drive/MyDrive/MLHC_PROJECT1/transformer.h5\n",
            "146/146 [==============================] - 4s 31ms/step - loss: 0.1980 - sparse_categorical_accuracy: 0.9275 - val_loss: 0.1886 - val_sparse_categorical_accuracy: 0.9343\n",
            "Epoch 28/200\n",
            "145/146 [============================>.] - ETA: 0s - loss: 0.1947 - sparse_categorical_accuracy: 0.9263\n",
            "Epoch 28: val_loss did not improve from 0.18862\n",
            "146/146 [==============================] - 4s 25ms/step - loss: 0.1947 - sparse_categorical_accuracy: 0.9261 - val_loss: 0.1887 - val_sparse_categorical_accuracy: 0.9334\n",
            "Epoch 29/200\n",
            "145/146 [============================>.] - ETA: 0s - loss: 0.1903 - sparse_categorical_accuracy: 0.9290\n",
            "Epoch 29: val_loss improved from 0.18862 to 0.17967, saving model to /content/drive/MyDrive/MLHC_PROJECT1/transformer.h5\n",
            "146/146 [==============================] - 5s 32ms/step - loss: 0.1900 - sparse_categorical_accuracy: 0.9292 - val_loss: 0.1797 - val_sparse_categorical_accuracy: 0.9334\n",
            "Epoch 30/200\n",
            "145/146 [============================>.] - ETA: 0s - loss: 0.1862 - sparse_categorical_accuracy: 0.9337\n",
            "Epoch 30: val_loss improved from 0.17967 to 0.17523, saving model to /content/drive/MyDrive/MLHC_PROJECT1/transformer.h5\n",
            "146/146 [==============================] - 4s 30ms/step - loss: 0.1864 - sparse_categorical_accuracy: 0.9334 - val_loss: 0.1752 - val_sparse_categorical_accuracy: 0.9369\n",
            "Epoch 31/200\n",
            "145/146 [============================>.] - ETA: 0s - loss: 0.1777 - sparse_categorical_accuracy: 0.9388\n",
            "Epoch 31: val_loss improved from 0.17523 to 0.16821, saving model to /content/drive/MyDrive/MLHC_PROJECT1/transformer.h5\n",
            "146/146 [==============================] - 4s 29ms/step - loss: 0.1775 - sparse_categorical_accuracy: 0.9389 - val_loss: 0.1682 - val_sparse_categorical_accuracy: 0.9412\n",
            "Epoch 32/200\n",
            "145/146 [============================>.] - ETA: 0s - loss: 0.1738 - sparse_categorical_accuracy: 0.9391\n",
            "Epoch 32: val_loss improved from 0.16821 to 0.16647, saving model to /content/drive/MyDrive/MLHC_PROJECT1/transformer.h5\n",
            "146/146 [==============================] - 4s 30ms/step - loss: 0.1745 - sparse_categorical_accuracy: 0.9388 - val_loss: 0.1665 - val_sparse_categorical_accuracy: 0.9407\n",
            "Epoch 33/200\n",
            "145/146 [============================>.] - ETA: 0s - loss: 0.1698 - sparse_categorical_accuracy: 0.9365\n",
            "Epoch 33: val_loss did not improve from 0.16647\n",
            "146/146 [==============================] - 4s 25ms/step - loss: 0.1700 - sparse_categorical_accuracy: 0.9363 - val_loss: 0.1690 - val_sparse_categorical_accuracy: 0.9365\n",
            "Epoch 34/200\n",
            "145/146 [============================>.] - ETA: 0s - loss: 0.1698 - sparse_categorical_accuracy: 0.9370\n",
            "Epoch 34: val_loss improved from 0.16647 to 0.16124, saving model to /content/drive/MyDrive/MLHC_PROJECT1/transformer.h5\n",
            "146/146 [==============================] - 4s 30ms/step - loss: 0.1695 - sparse_categorical_accuracy: 0.9371 - val_loss: 0.1612 - val_sparse_categorical_accuracy: 0.9468\n",
            "Epoch 35/200\n",
            "145/146 [============================>.] - ETA: 0s - loss: 0.1671 - sparse_categorical_accuracy: 0.9427\n",
            "Epoch 35: val_loss did not improve from 0.16124\n",
            "146/146 [==============================] - 4s 26ms/step - loss: 0.1673 - sparse_categorical_accuracy: 0.9424 - val_loss: 0.1673 - val_sparse_categorical_accuracy: 0.9390\n",
            "Epoch 36/200\n",
            "145/146 [============================>.] - ETA: 0s - loss: 0.1627 - sparse_categorical_accuracy: 0.9390\n",
            "Epoch 36: val_loss improved from 0.16124 to 0.15368, saving model to /content/drive/MyDrive/MLHC_PROJECT1/transformer.h5\n",
            "146/146 [==============================] - 5s 32ms/step - loss: 0.1624 - sparse_categorical_accuracy: 0.9392 - val_loss: 0.1537 - val_sparse_categorical_accuracy: 0.9455\n",
            "Epoch 37/200\n",
            "145/146 [============================>.] - ETA: 0s - loss: 0.1577 - sparse_categorical_accuracy: 0.9446\n",
            "Epoch 37: val_loss did not improve from 0.15368\n",
            "146/146 [==============================] - 4s 26ms/step - loss: 0.1575 - sparse_categorical_accuracy: 0.9447 - val_loss: 0.1603 - val_sparse_categorical_accuracy: 0.9420\n",
            "Epoch 38/200\n",
            "145/146 [============================>.] - ETA: 0s - loss: 0.1594 - sparse_categorical_accuracy: 0.9412\n",
            "Epoch 38: val_loss did not improve from 0.15368\n",
            "146/146 [==============================] - 4s 26ms/step - loss: 0.1590 - sparse_categorical_accuracy: 0.9414 - val_loss: 0.1656 - val_sparse_categorical_accuracy: 0.9399\n",
            "Epoch 39/200\n",
            "145/146 [============================>.] - ETA: 0s - loss: 0.1585 - sparse_categorical_accuracy: 0.9450\n",
            "Epoch 39: val_loss improved from 0.15368 to 0.14647, saving model to /content/drive/MyDrive/MLHC_PROJECT1/transformer.h5\n",
            "146/146 [==============================] - 5s 31ms/step - loss: 0.1583 - sparse_categorical_accuracy: 0.9452 - val_loss: 0.1465 - val_sparse_categorical_accuracy: 0.9472\n",
            "Epoch 40/200\n",
            "145/146 [============================>.] - ETA: 0s - loss: 0.1499 - sparse_categorical_accuracy: 0.9482\n",
            "Epoch 40: val_loss improved from 0.14647 to 0.14461, saving model to /content/drive/MyDrive/MLHC_PROJECT1/transformer.h5\n",
            "146/146 [==============================] - 4s 30ms/step - loss: 0.1499 - sparse_categorical_accuracy: 0.9481 - val_loss: 0.1446 - val_sparse_categorical_accuracy: 0.9498\n",
            "Epoch 41/200\n",
            "145/146 [============================>.] - ETA: 0s - loss: 0.1469 - sparse_categorical_accuracy: 0.9489\n",
            "Epoch 41: val_loss did not improve from 0.14461\n",
            "146/146 [==============================] - 4s 26ms/step - loss: 0.1467 - sparse_categorical_accuracy: 0.9489 - val_loss: 0.1506 - val_sparse_categorical_accuracy: 0.9468\n",
            "Epoch 42/200\n",
            "145/146 [============================>.] - ETA: 0s - loss: 0.1456 - sparse_categorical_accuracy: 0.9475\n",
            "Epoch 42: val_loss improved from 0.14461 to 0.13991, saving model to /content/drive/MyDrive/MLHC_PROJECT1/transformer.h5\n",
            "146/146 [==============================] - 5s 31ms/step - loss: 0.1455 - sparse_categorical_accuracy: 0.9475 - val_loss: 0.1399 - val_sparse_categorical_accuracy: 0.9511\n",
            "Epoch 43/200\n",
            "145/146 [============================>.] - ETA: 0s - loss: 0.1465 - sparse_categorical_accuracy: 0.9471\n",
            "Epoch 43: val_loss did not improve from 0.13991\n",
            "146/146 [==============================] - 4s 26ms/step - loss: 0.1466 - sparse_categorical_accuracy: 0.9471 - val_loss: 0.1412 - val_sparse_categorical_accuracy: 0.9502\n",
            "Epoch 44/200\n",
            "145/146 [============================>.] - ETA: 0s - loss: 0.1435 - sparse_categorical_accuracy: 0.9490\n",
            "Epoch 44: val_loss did not improve from 0.13991\n",
            "146/146 [==============================] - 4s 28ms/step - loss: 0.1433 - sparse_categorical_accuracy: 0.9492 - val_loss: 0.1474 - val_sparse_categorical_accuracy: 0.9468\n",
            "Epoch 45/200\n",
            "145/146 [============================>.] - ETA: 0s - loss: 0.1374 - sparse_categorical_accuracy: 0.9499\n",
            "Epoch 45: val_loss improved from 0.13991 to 0.13862, saving model to /content/drive/MyDrive/MLHC_PROJECT1/transformer.h5\n",
            "146/146 [==============================] - 5s 32ms/step - loss: 0.1382 - sparse_categorical_accuracy: 0.9496 - val_loss: 0.1386 - val_sparse_categorical_accuracy: 0.9493\n",
            "Epoch 46/200\n",
            "145/146 [============================>.] - ETA: 0s - loss: 0.1374 - sparse_categorical_accuracy: 0.9523\n",
            "Epoch 46: val_loss did not improve from 0.13862\n",
            "146/146 [==============================] - 4s 26ms/step - loss: 0.1375 - sparse_categorical_accuracy: 0.9522 - val_loss: 0.1387 - val_sparse_categorical_accuracy: 0.9511\n",
            "Epoch 47/200\n",
            "145/146 [============================>.] - ETA: 0s - loss: 0.1362 - sparse_categorical_accuracy: 0.9525\n",
            "Epoch 47: val_loss improved from 0.13862 to 0.13055, saving model to /content/drive/MyDrive/MLHC_PROJECT1/transformer.h5\n",
            "146/146 [==============================] - 5s 31ms/step - loss: 0.1359 - sparse_categorical_accuracy: 0.9524 - val_loss: 0.1305 - val_sparse_categorical_accuracy: 0.9523\n",
            "Epoch 48/200\n",
            "145/146 [============================>.] - ETA: 0s - loss: 0.1384 - sparse_categorical_accuracy: 0.9529\n",
            "Epoch 48: val_loss did not improve from 0.13055\n",
            "146/146 [==============================] - 4s 26ms/step - loss: 0.1383 - sparse_categorical_accuracy: 0.9530 - val_loss: 0.1317 - val_sparse_categorical_accuracy: 0.9532\n",
            "Epoch 49/200\n",
            "145/146 [============================>.] - ETA: 0s - loss: 0.1261 - sparse_categorical_accuracy: 0.9560\n",
            "Epoch 49: val_loss improved from 0.13055 to 0.12920, saving model to /content/drive/MyDrive/MLHC_PROJECT1/transformer.h5\n",
            "146/146 [==============================] - 5s 32ms/step - loss: 0.1263 - sparse_categorical_accuracy: 0.9558 - val_loss: 0.1292 - val_sparse_categorical_accuracy: 0.9545\n",
            "Epoch 50/200\n",
            "145/146 [============================>.] - ETA: 0s - loss: 0.1340 - sparse_categorical_accuracy: 0.9518\n",
            "Epoch 50: val_loss did not improve from 0.12920\n",
            "146/146 [==============================] - 4s 25ms/step - loss: 0.1340 - sparse_categorical_accuracy: 0.9518 - val_loss: 0.1460 - val_sparse_categorical_accuracy: 0.9438\n",
            "Epoch 51/200\n",
            "145/146 [============================>.] - ETA: 0s - loss: 0.1312 - sparse_categorical_accuracy: 0.9528\n",
            "Epoch 51: val_loss improved from 0.12920 to 0.12904, saving model to /content/drive/MyDrive/MLHC_PROJECT1/transformer.h5\n",
            "146/146 [==============================] - 4s 30ms/step - loss: 0.1310 - sparse_categorical_accuracy: 0.9529 - val_loss: 0.1290 - val_sparse_categorical_accuracy: 0.9519\n",
            "Epoch 52/200\n",
            "145/146 [============================>.] - ETA: 0s - loss: 0.1249 - sparse_categorical_accuracy: 0.9560\n",
            "Epoch 52: val_loss improved from 0.12904 to 0.12825, saving model to /content/drive/MyDrive/MLHC_PROJECT1/transformer.h5\n",
            "146/146 [==============================] - 4s 30ms/step - loss: 0.1250 - sparse_categorical_accuracy: 0.9560 - val_loss: 0.1282 - val_sparse_categorical_accuracy: 0.9536\n",
            "Epoch 53/200\n",
            "145/146 [============================>.] - ETA: 0s - loss: 0.1267 - sparse_categorical_accuracy: 0.9547\n",
            "Epoch 53: val_loss improved from 0.12825 to 0.12649, saving model to /content/drive/MyDrive/MLHC_PROJECT1/transformer.h5\n",
            "146/146 [==============================] - 4s 30ms/step - loss: 0.1266 - sparse_categorical_accuracy: 0.9547 - val_loss: 0.1265 - val_sparse_categorical_accuracy: 0.9532\n",
            "Epoch 54/200\n",
            "145/146 [============================>.] - ETA: 0s - loss: 0.1281 - sparse_categorical_accuracy: 0.9547\n",
            "Epoch 54: val_loss improved from 0.12649 to 0.12479, saving model to /content/drive/MyDrive/MLHC_PROJECT1/transformer.h5\n",
            "146/146 [==============================] - 4s 30ms/step - loss: 0.1281 - sparse_categorical_accuracy: 0.9547 - val_loss: 0.1248 - val_sparse_categorical_accuracy: 0.9532\n",
            "Epoch 55/200\n",
            "145/146 [============================>.] - ETA: 0s - loss: 0.1235 - sparse_categorical_accuracy: 0.9552\n",
            "Epoch 55: val_loss did not improve from 0.12479\n",
            "146/146 [==============================] - 4s 25ms/step - loss: 0.1237 - sparse_categorical_accuracy: 0.9550 - val_loss: 0.1260 - val_sparse_categorical_accuracy: 0.9562\n",
            "Epoch 56/200\n",
            "145/146 [============================>.] - ETA: 0s - loss: 0.1197 - sparse_categorical_accuracy: 0.9563\n",
            "Epoch 56: val_loss did not improve from 0.12479\n",
            "146/146 [==============================] - 4s 25ms/step - loss: 0.1195 - sparse_categorical_accuracy: 0.9564 - val_loss: 0.1325 - val_sparse_categorical_accuracy: 0.9519\n",
            "Epoch 57/200\n",
            "145/146 [============================>.] - ETA: 0s - loss: 0.1140 - sparse_categorical_accuracy: 0.9591\n",
            "Epoch 57: val_loss improved from 0.12479 to 0.12153, saving model to /content/drive/MyDrive/MLHC_PROJECT1/transformer.h5\n",
            "146/146 [==============================] - 5s 31ms/step - loss: 0.1139 - sparse_categorical_accuracy: 0.9590 - val_loss: 0.1215 - val_sparse_categorical_accuracy: 0.9571\n",
            "Epoch 58/200\n",
            "145/146 [============================>.] - ETA: 0s - loss: 0.1159 - sparse_categorical_accuracy: 0.9607\n",
            "Epoch 58: val_loss did not improve from 0.12153\n",
            "146/146 [==============================] - 4s 25ms/step - loss: 0.1159 - sparse_categorical_accuracy: 0.9607 - val_loss: 0.1285 - val_sparse_categorical_accuracy: 0.9549\n",
            "Epoch 59/200\n",
            "145/146 [============================>.] - ETA: 0s - loss: 0.1205 - sparse_categorical_accuracy: 0.9594\n",
            "Epoch 59: val_loss did not improve from 0.12153\n",
            "146/146 [==============================] - 4s 25ms/step - loss: 0.1201 - sparse_categorical_accuracy: 0.9595 - val_loss: 0.1230 - val_sparse_categorical_accuracy: 0.9575\n",
            "Epoch 60/200\n",
            "145/146 [============================>.] - ETA: 0s - loss: 0.1211 - sparse_categorical_accuracy: 0.9603\n",
            "Epoch 60: val_loss improved from 0.12153 to 0.11853, saving model to /content/drive/MyDrive/MLHC_PROJECT1/transformer.h5\n",
            "146/146 [==============================] - 5s 32ms/step - loss: 0.1209 - sparse_categorical_accuracy: 0.9604 - val_loss: 0.1185 - val_sparse_categorical_accuracy: 0.9558\n",
            "Epoch 61/200\n",
            "145/146 [============================>.] - ETA: 0s - loss: 0.1145 - sparse_categorical_accuracy: 0.9621\n",
            "Epoch 61: val_loss did not improve from 0.11853\n",
            "146/146 [==============================] - 4s 25ms/step - loss: 0.1143 - sparse_categorical_accuracy: 0.9622 - val_loss: 0.1200 - val_sparse_categorical_accuracy: 0.9558\n",
            "Epoch 62/200\n",
            "145/146 [============================>.] - ETA: 0s - loss: 0.1145 - sparse_categorical_accuracy: 0.9603\n",
            "Epoch 62: val_loss did not improve from 0.11853\n",
            "146/146 [==============================] - 4s 26ms/step - loss: 0.1143 - sparse_categorical_accuracy: 0.9605 - val_loss: 0.1214 - val_sparse_categorical_accuracy: 0.9566\n",
            "Epoch 63/200\n",
            "145/146 [============================>.] - ETA: 0s - loss: 0.1112 - sparse_categorical_accuracy: 0.9620\n",
            "Epoch 63: val_loss did not improve from 0.11853\n",
            "146/146 [==============================] - 4s 25ms/step - loss: 0.1110 - sparse_categorical_accuracy: 0.9621 - val_loss: 0.1205 - val_sparse_categorical_accuracy: 0.9558\n",
            "Epoch 64/200\n",
            "145/146 [============================>.] - ETA: 0s - loss: 0.1133 - sparse_categorical_accuracy: 0.9609\n",
            "Epoch 64: val_loss did not improve from 0.11853\n",
            "146/146 [==============================] - 4s 25ms/step - loss: 0.1131 - sparse_categorical_accuracy: 0.9609 - val_loss: 0.1207 - val_sparse_categorical_accuracy: 0.9553\n",
            "Epoch 65/200\n",
            "145/146 [============================>.] - ETA: 0s - loss: 0.1116 - sparse_categorical_accuracy: 0.9614\n",
            "Epoch 65: val_loss did not improve from 0.11853\n",
            "146/146 [==============================] - 4s 26ms/step - loss: 0.1113 - sparse_categorical_accuracy: 0.9616 - val_loss: 0.1193 - val_sparse_categorical_accuracy: 0.9571\n",
            "Epoch 66/200\n",
            "145/146 [============================>.] - ETA: 0s - loss: 0.1046 - sparse_categorical_accuracy: 0.9656\n",
            "Epoch 66: val_loss improved from 0.11853 to 0.11031, saving model to /content/drive/MyDrive/MLHC_PROJECT1/transformer.h5\n",
            "146/146 [==============================] - 5s 32ms/step - loss: 0.1047 - sparse_categorical_accuracy: 0.9656 - val_loss: 0.1103 - val_sparse_categorical_accuracy: 0.9614\n",
            "Epoch 67/200\n",
            "145/146 [============================>.] - ETA: 0s - loss: 0.1120 - sparse_categorical_accuracy: 0.9615\n",
            "Epoch 67: val_loss did not improve from 0.11031\n",
            "146/146 [==============================] - 4s 25ms/step - loss: 0.1118 - sparse_categorical_accuracy: 0.9617 - val_loss: 0.1159 - val_sparse_categorical_accuracy: 0.9618\n",
            "Epoch 68/200\n",
            "145/146 [============================>.] - ETA: 0s - loss: 0.1080 - sparse_categorical_accuracy: 0.9624\n",
            "Epoch 68: val_loss did not improve from 0.11031\n",
            "146/146 [==============================] - 4s 26ms/step - loss: 0.1082 - sparse_categorical_accuracy: 0.9622 - val_loss: 0.1259 - val_sparse_categorical_accuracy: 0.9532\n",
            "Epoch 69/200\n",
            "145/146 [============================>.] - ETA: 0s - loss: 0.1033 - sparse_categorical_accuracy: 0.9657\n",
            "Epoch 69: val_loss did not improve from 0.11031\n",
            "146/146 [==============================] - 4s 26ms/step - loss: 0.1034 - sparse_categorical_accuracy: 0.9655 - val_loss: 0.1300 - val_sparse_categorical_accuracy: 0.9523\n",
            "Epoch 70/200\n",
            "145/146 [============================>.] - ETA: 0s - loss: 0.1068 - sparse_categorical_accuracy: 0.9648\n",
            "Epoch 70: val_loss did not improve from 0.11031\n",
            "146/146 [==============================] - 4s 25ms/step - loss: 0.1066 - sparse_categorical_accuracy: 0.9649 - val_loss: 0.1141 - val_sparse_categorical_accuracy: 0.9575\n",
            "Epoch 71/200\n",
            "145/146 [============================>.] - ETA: 0s - loss: 0.1018 - sparse_categorical_accuracy: 0.9635\n",
            "Epoch 71: val_loss did not improve from 0.11031\n",
            "146/146 [==============================] - 4s 25ms/step - loss: 0.1016 - sparse_categorical_accuracy: 0.9636 - val_loss: 0.1129 - val_sparse_categorical_accuracy: 0.9618\n",
            "Epoch 72/200\n",
            "145/146 [============================>.] - ETA: 0s - loss: 0.0987 - sparse_categorical_accuracy: 0.9668\n",
            "Epoch 72: val_loss did not improve from 0.11031\n",
            "146/146 [==============================] - 4s 26ms/step - loss: 0.0989 - sparse_categorical_accuracy: 0.9666 - val_loss: 0.1134 - val_sparse_categorical_accuracy: 0.9553\n",
            "Epoch 73/200\n",
            "145/146 [============================>.] - ETA: 0s - loss: 0.1056 - sparse_categorical_accuracy: 0.9625\n",
            "Epoch 73: val_loss did not improve from 0.11031\n",
            "146/146 [==============================] - 4s 25ms/step - loss: 0.1053 - sparse_categorical_accuracy: 0.9626 - val_loss: 0.1120 - val_sparse_categorical_accuracy: 0.9614\n",
            "Epoch 74/200\n",
            "145/146 [============================>.] - ETA: 0s - loss: 0.0984 - sparse_categorical_accuracy: 0.9678\n",
            "Epoch 74: val_loss did not improve from 0.11031\n",
            "146/146 [==============================] - 4s 25ms/step - loss: 0.0983 - sparse_categorical_accuracy: 0.9679 - val_loss: 0.1128 - val_sparse_categorical_accuracy: 0.9605\n",
            "Epoch 75/200\n",
            "145/146 [============================>.] - ETA: 0s - loss: 0.0978 - sparse_categorical_accuracy: 0.9640\n",
            "Epoch 75: val_loss did not improve from 0.11031\n",
            "146/146 [==============================] - 4s 25ms/step - loss: 0.0978 - sparse_categorical_accuracy: 0.9639 - val_loss: 0.1161 - val_sparse_categorical_accuracy: 0.9558\n",
            "Epoch 76/200\n",
            "145/146 [============================>.] - ETA: 0s - loss: 0.0961 - sparse_categorical_accuracy: 0.9672\n",
            "Epoch 76: val_loss improved from 0.11031 to 0.10545, saving model to /content/drive/MyDrive/MLHC_PROJECT1/transformer.h5\n",
            "146/146 [==============================] - 5s 31ms/step - loss: 0.0960 - sparse_categorical_accuracy: 0.9674 - val_loss: 0.1055 - val_sparse_categorical_accuracy: 0.9644\n",
            "Epoch 77/200\n",
            "145/146 [============================>.] - ETA: 0s - loss: 0.0977 - sparse_categorical_accuracy: 0.9680\n",
            "Epoch 77: val_loss did not improve from 0.10545\n",
            "146/146 [==============================] - 4s 25ms/step - loss: 0.0974 - sparse_categorical_accuracy: 0.9681 - val_loss: 0.1103 - val_sparse_categorical_accuracy: 0.9635\n",
            "Epoch 78/200\n",
            "145/146 [============================>.] - ETA: 0s - loss: 0.0990 - sparse_categorical_accuracy: 0.9669\n",
            "Epoch 78: val_loss did not improve from 0.10545\n",
            "146/146 [==============================] - 4s 25ms/step - loss: 0.0991 - sparse_categorical_accuracy: 0.9668 - val_loss: 0.1133 - val_sparse_categorical_accuracy: 0.9609\n",
            "Epoch 79/200\n",
            "145/146 [============================>.] - ETA: 0s - loss: 0.0929 - sparse_categorical_accuracy: 0.9678\n",
            "Epoch 79: val_loss improved from 0.10545 to 0.10376, saving model to /content/drive/MyDrive/MLHC_PROJECT1/transformer.h5\n",
            "146/146 [==============================] - 5s 31ms/step - loss: 0.0931 - sparse_categorical_accuracy: 0.9678 - val_loss: 0.1038 - val_sparse_categorical_accuracy: 0.9626\n",
            "Epoch 80/200\n",
            "145/146 [============================>.] - ETA: 0s - loss: 0.0944 - sparse_categorical_accuracy: 0.9665\n",
            "Epoch 80: val_loss did not improve from 0.10376\n",
            "146/146 [==============================] - 4s 25ms/step - loss: 0.0942 - sparse_categorical_accuracy: 0.9666 - val_loss: 0.1042 - val_sparse_categorical_accuracy: 0.9618\n",
            "Epoch 81/200\n",
            "145/146 [============================>.] - ETA: 0s - loss: 0.0904 - sparse_categorical_accuracy: 0.9689\n",
            "Epoch 81: val_loss did not improve from 0.10376\n",
            "146/146 [==============================] - 4s 27ms/step - loss: 0.0905 - sparse_categorical_accuracy: 0.9689 - val_loss: 0.1106 - val_sparse_categorical_accuracy: 0.9631\n",
            "Epoch 82/200\n",
            "145/146 [============================>.] - ETA: 0s - loss: 0.0955 - sparse_categorical_accuracy: 0.9668\n",
            "Epoch 82: val_loss did not improve from 0.10376\n",
            "146/146 [==============================] - 4s 24ms/step - loss: 0.0955 - sparse_categorical_accuracy: 0.9668 - val_loss: 0.1193 - val_sparse_categorical_accuracy: 0.9562\n",
            "Epoch 83/200\n",
            "145/146 [============================>.] - ETA: 0s - loss: 0.0976 - sparse_categorical_accuracy: 0.9667\n",
            "Epoch 83: val_loss did not improve from 0.10376\n",
            "146/146 [==============================] - 4s 25ms/step - loss: 0.0980 - sparse_categorical_accuracy: 0.9665 - val_loss: 0.1071 - val_sparse_categorical_accuracy: 0.9652\n",
            "Epoch 84/200\n",
            "145/146 [============================>.] - ETA: 0s - loss: 0.0947 - sparse_categorical_accuracy: 0.9682\n",
            "Epoch 84: val_loss did not improve from 0.10376\n",
            "146/146 [==============================] - 4s 25ms/step - loss: 0.0950 - sparse_categorical_accuracy: 0.9681 - val_loss: 0.1094 - val_sparse_categorical_accuracy: 0.9626\n",
            "Epoch 85/200\n",
            "145/146 [============================>.] - ETA: 0s - loss: 0.0974 - sparse_categorical_accuracy: 0.9666\n",
            "Epoch 85: val_loss did not improve from 0.10376\n",
            "146/146 [==============================] - 4s 25ms/step - loss: 0.0971 - sparse_categorical_accuracy: 0.9667 - val_loss: 0.1074 - val_sparse_categorical_accuracy: 0.9596\n",
            "Epoch 86/200\n",
            "145/146 [============================>.] - ETA: 0s - loss: 0.0869 - sparse_categorical_accuracy: 0.9705\n",
            "Epoch 86: val_loss did not improve from 0.10376\n",
            "146/146 [==============================] - 4s 25ms/step - loss: 0.0870 - sparse_categorical_accuracy: 0.9705 - val_loss: 0.1121 - val_sparse_categorical_accuracy: 0.9579\n",
            "Epoch 87/200\n",
            "145/146 [============================>.] - ETA: 0s - loss: 0.0877 - sparse_categorical_accuracy: 0.9720\n",
            "Epoch 87: val_loss did not improve from 0.10376\n",
            "146/146 [==============================] - 4s 25ms/step - loss: 0.0875 - sparse_categorical_accuracy: 0.9721 - val_loss: 0.1074 - val_sparse_categorical_accuracy: 0.9609\n",
            "Epoch 88/200\n",
            "145/146 [============================>.] - ETA: 0s - loss: 0.0900 - sparse_categorical_accuracy: 0.9699\n",
            "Epoch 88: val_loss did not improve from 0.10376\n",
            "146/146 [==============================] - 4s 25ms/step - loss: 0.0900 - sparse_categorical_accuracy: 0.9699 - val_loss: 0.1065 - val_sparse_categorical_accuracy: 0.9626\n",
            "Epoch 89/200\n",
            "145/146 [============================>.] - ETA: 0s - loss: 0.0901 - sparse_categorical_accuracy: 0.9678\n",
            "Epoch 89: val_loss did not improve from 0.10376\n",
            "146/146 [==============================] - 4s 24ms/step - loss: 0.0900 - sparse_categorical_accuracy: 0.9678 - val_loss: 0.1047 - val_sparse_categorical_accuracy: 0.9614\n",
            "Epoch 90/200\n",
            "145/146 [============================>.] - ETA: 0s - loss: 0.0877 - sparse_categorical_accuracy: 0.9710\n",
            "Epoch 90: val_loss did not improve from 0.10376\n",
            "146/146 [==============================] - 4s 25ms/step - loss: 0.0876 - sparse_categorical_accuracy: 0.9711 - val_loss: 0.1099 - val_sparse_categorical_accuracy: 0.9575\n",
            "Epoch 91/200\n",
            "145/146 [============================>.] - ETA: 0s - loss: 0.0856 - sparse_categorical_accuracy: 0.9704\n",
            "Epoch 91: val_loss did not improve from 0.10376\n",
            "146/146 [==============================] - 4s 25ms/step - loss: 0.0857 - sparse_categorical_accuracy: 0.9704 - val_loss: 0.1039 - val_sparse_categorical_accuracy: 0.9657\n",
            "Epoch 92/200\n",
            "145/146 [============================>.] - ETA: 0s - loss: 0.0907 - sparse_categorical_accuracy: 0.9692\n",
            "Epoch 92: val_loss improved from 0.10376 to 0.10084, saving model to /content/drive/MyDrive/MLHC_PROJECT1/transformer.h5\n",
            "146/146 [==============================] - 5s 32ms/step - loss: 0.0908 - sparse_categorical_accuracy: 0.9692 - val_loss: 0.1008 - val_sparse_categorical_accuracy: 0.9652\n",
            "Epoch 93/200\n",
            "145/146 [============================>.] - ETA: 0s - loss: 0.0905 - sparse_categorical_accuracy: 0.9689\n",
            "Epoch 93: val_loss did not improve from 0.10084\n",
            "146/146 [==============================] - 4s 25ms/step - loss: 0.0905 - sparse_categorical_accuracy: 0.9689 - val_loss: 0.1147 - val_sparse_categorical_accuracy: 0.9626\n",
            "Epoch 94/200\n",
            "145/146 [============================>.] - ETA: 0s - loss: 0.0936 - sparse_categorical_accuracy: 0.9684\n",
            "Epoch 94: val_loss did not improve from 0.10084\n",
            "146/146 [==============================] - 4s 25ms/step - loss: 0.0933 - sparse_categorical_accuracy: 0.9685 - val_loss: 0.1052 - val_sparse_categorical_accuracy: 0.9622\n",
            "Epoch 95/200\n",
            "145/146 [============================>.] - ETA: 0s - loss: 0.0800 - sparse_categorical_accuracy: 0.9741\n",
            "Epoch 95: val_loss did not improve from 0.10084\n",
            "146/146 [==============================] - 4s 26ms/step - loss: 0.0798 - sparse_categorical_accuracy: 0.9742 - val_loss: 0.1035 - val_sparse_categorical_accuracy: 0.9626\n",
            "Epoch 96/200\n",
            "145/146 [============================>.] - ETA: 0s - loss: 0.0880 - sparse_categorical_accuracy: 0.9718\n",
            "Epoch 96: val_loss did not improve from 0.10084\n",
            "146/146 [==============================] - 4s 26ms/step - loss: 0.0880 - sparse_categorical_accuracy: 0.9718 - val_loss: 0.1038 - val_sparse_categorical_accuracy: 0.9661\n",
            "Epoch 97/200\n",
            "145/146 [============================>.] - ETA: 0s - loss: 0.0809 - sparse_categorical_accuracy: 0.9721\n",
            "Epoch 97: val_loss did not improve from 0.10084\n",
            "146/146 [==============================] - 4s 26ms/step - loss: 0.0811 - sparse_categorical_accuracy: 0.9720 - val_loss: 0.1100 - val_sparse_categorical_accuracy: 0.9592\n",
            "Epoch 98/200\n",
            "145/146 [============================>.] - ETA: 0s - loss: 0.0855 - sparse_categorical_accuracy: 0.9712\n",
            "Epoch 98: val_loss did not improve from 0.10084\n",
            "146/146 [==============================] - 4s 26ms/step - loss: 0.0856 - sparse_categorical_accuracy: 0.9711 - val_loss: 0.1182 - val_sparse_categorical_accuracy: 0.9566\n",
            "Epoch 99/200\n",
            "145/146 [============================>.] - ETA: 0s - loss: 0.0811 - sparse_categorical_accuracy: 0.9733\n",
            "Epoch 99: val_loss did not improve from 0.10084\n",
            "146/146 [==============================] - 4s 26ms/step - loss: 0.0810 - sparse_categorical_accuracy: 0.9734 - val_loss: 0.1070 - val_sparse_categorical_accuracy: 0.9614\n",
            "Epoch 100/200\n",
            "145/146 [============================>.] - ETA: 0s - loss: 0.0809 - sparse_categorical_accuracy: 0.9723\n",
            "Epoch 100: val_loss did not improve from 0.10084\n",
            "146/146 [==============================] - 4s 26ms/step - loss: 0.0812 - sparse_categorical_accuracy: 0.9723 - val_loss: 0.1025 - val_sparse_categorical_accuracy: 0.9652\n",
            "Epoch 101/200\n",
            "145/146 [============================>.] - ETA: 0s - loss: 0.0830 - sparse_categorical_accuracy: 0.9703\n",
            "Epoch 101: val_loss did not improve from 0.10084\n",
            "146/146 [==============================] - 4s 26ms/step - loss: 0.0828 - sparse_categorical_accuracy: 0.9704 - val_loss: 0.1054 - val_sparse_categorical_accuracy: 0.9605\n",
            "Epoch 102/200\n",
            "145/146 [============================>.] - ETA: 0s - loss: 0.0827 - sparse_categorical_accuracy: 0.9713\n",
            "Epoch 102: val_loss improved from 0.10084 to 0.09723, saving model to /content/drive/MyDrive/MLHC_PROJECT1/transformer.h5\n",
            "146/146 [==============================] - 5s 31ms/step - loss: 0.0829 - sparse_categorical_accuracy: 0.9712 - val_loss: 0.0972 - val_sparse_categorical_accuracy: 0.9665\n",
            "Epoch 103/200\n",
            "145/146 [============================>.] - ETA: 0s - loss: 0.0795 - sparse_categorical_accuracy: 0.9722\n",
            "Epoch 103: val_loss did not improve from 0.09723\n",
            "146/146 [==============================] - 4s 25ms/step - loss: 0.0794 - sparse_categorical_accuracy: 0.9722 - val_loss: 0.1054 - val_sparse_categorical_accuracy: 0.9596\n",
            "Epoch 104/200\n",
            "145/146 [============================>.] - ETA: 0s - loss: 0.0818 - sparse_categorical_accuracy: 0.9727\n",
            "Epoch 104: val_loss did not improve from 0.09723\n",
            "146/146 [==============================] - 4s 25ms/step - loss: 0.0818 - sparse_categorical_accuracy: 0.9728 - val_loss: 0.1155 - val_sparse_categorical_accuracy: 0.9605\n",
            "Epoch 105/200\n",
            "145/146 [============================>.] - ETA: 0s - loss: 0.0793 - sparse_categorical_accuracy: 0.9736\n",
            "Epoch 105: val_loss did not improve from 0.09723\n",
            "146/146 [==============================] - 4s 25ms/step - loss: 0.0792 - sparse_categorical_accuracy: 0.9737 - val_loss: 0.1123 - val_sparse_categorical_accuracy: 0.9584\n",
            "Epoch 106/200\n",
            "145/146 [============================>.] - ETA: 0s - loss: 0.0775 - sparse_categorical_accuracy: 0.9731\n",
            "Epoch 106: val_loss did not improve from 0.09723\n",
            "146/146 [==============================] - 4s 25ms/step - loss: 0.0773 - sparse_categorical_accuracy: 0.9732 - val_loss: 0.1007 - val_sparse_categorical_accuracy: 0.9631\n",
            "Epoch 107/200\n",
            "145/146 [============================>.] - ETA: 0s - loss: 0.0734 - sparse_categorical_accuracy: 0.9744\n",
            "Epoch 107: val_loss improved from 0.09723 to 0.09645, saving model to /content/drive/MyDrive/MLHC_PROJECT1/transformer.h5\n",
            "146/146 [==============================] - 5s 31ms/step - loss: 0.0732 - sparse_categorical_accuracy: 0.9744 - val_loss: 0.0964 - val_sparse_categorical_accuracy: 0.9678\n",
            "Epoch 108/200\n",
            "145/146 [============================>.] - ETA: 0s - loss: 0.0708 - sparse_categorical_accuracy: 0.9760\n",
            "Epoch 108: val_loss did not improve from 0.09645\n",
            "146/146 [==============================] - 4s 25ms/step - loss: 0.0708 - sparse_categorical_accuracy: 0.9759 - val_loss: 0.1002 - val_sparse_categorical_accuracy: 0.9678\n",
            "Epoch 109/200\n",
            "145/146 [============================>.] - ETA: 0s - loss: 0.0772 - sparse_categorical_accuracy: 0.9737\n",
            "Epoch 109: val_loss did not improve from 0.09645\n",
            "146/146 [==============================] - 4s 25ms/step - loss: 0.0770 - sparse_categorical_accuracy: 0.9738 - val_loss: 0.1092 - val_sparse_categorical_accuracy: 0.9631\n",
            "Epoch 110/200\n",
            "145/146 [============================>.] - ETA: 0s - loss: 0.0818 - sparse_categorical_accuracy: 0.9735\n",
            "Epoch 110: val_loss did not improve from 0.09645\n",
            "146/146 [==============================] - 4s 26ms/step - loss: 0.0818 - sparse_categorical_accuracy: 0.9736 - val_loss: 0.1023 - val_sparse_categorical_accuracy: 0.9614\n",
            "Epoch 111/200\n",
            "145/146 [============================>.] - ETA: 0s - loss: 0.0751 - sparse_categorical_accuracy: 0.9765\n",
            "Epoch 111: val_loss did not improve from 0.09645\n",
            "146/146 [==============================] - 4s 26ms/step - loss: 0.0750 - sparse_categorical_accuracy: 0.9765 - val_loss: 0.1028 - val_sparse_categorical_accuracy: 0.9661\n",
            "Epoch 112/200\n",
            "145/146 [============================>.] - ETA: 0s - loss: 0.0715 - sparse_categorical_accuracy: 0.9776\n",
            "Epoch 112: val_loss did not improve from 0.09645\n",
            "146/146 [==============================] - 4s 26ms/step - loss: 0.0713 - sparse_categorical_accuracy: 0.9777 - val_loss: 0.0991 - val_sparse_categorical_accuracy: 0.9665\n",
            "Epoch 113/200\n",
            "145/146 [============================>.] - ETA: 0s - loss: 0.0680 - sparse_categorical_accuracy: 0.9777\n",
            "Epoch 113: val_loss did not improve from 0.09645\n",
            "146/146 [==============================] - 4s 26ms/step - loss: 0.0680 - sparse_categorical_accuracy: 0.9778 - val_loss: 0.1036 - val_sparse_categorical_accuracy: 0.9626\n",
            "Epoch 114/200\n",
            "145/146 [============================>.] - ETA: 0s - loss: 0.0771 - sparse_categorical_accuracy: 0.9752\n",
            "Epoch 114: val_loss did not improve from 0.09645\n",
            "146/146 [==============================] - 4s 26ms/step - loss: 0.0770 - sparse_categorical_accuracy: 0.9752 - val_loss: 0.1095 - val_sparse_categorical_accuracy: 0.9605\n",
            "Epoch 115/200\n",
            "145/146 [============================>.] - ETA: 0s - loss: 0.0768 - sparse_categorical_accuracy: 0.9739\n",
            "Epoch 115: val_loss did not improve from 0.09645\n",
            "146/146 [==============================] - 4s 26ms/step - loss: 0.0767 - sparse_categorical_accuracy: 0.9740 - val_loss: 0.1060 - val_sparse_categorical_accuracy: 0.9626\n",
            "Epoch 116/200\n",
            "145/146 [============================>.] - ETA: 0s - loss: 0.0770 - sparse_categorical_accuracy: 0.9756\n",
            "Epoch 116: val_loss did not improve from 0.09645\n",
            "146/146 [==============================] - 4s 26ms/step - loss: 0.0769 - sparse_categorical_accuracy: 0.9756 - val_loss: 0.0996 - val_sparse_categorical_accuracy: 0.9644\n",
            "Epoch 117/200\n",
            "145/146 [============================>.] - ETA: 0s - loss: 0.0745 - sparse_categorical_accuracy: 0.9751\n",
            "Epoch 117: val_loss did not improve from 0.09645\n",
            "146/146 [==============================] - 4s 26ms/step - loss: 0.0745 - sparse_categorical_accuracy: 0.9752 - val_loss: 0.1039 - val_sparse_categorical_accuracy: 0.9618\n",
            "Epoch 118/200\n",
            "145/146 [============================>.] - ETA: 0s - loss: 0.0747 - sparse_categorical_accuracy: 0.9744\n",
            "Epoch 118: val_loss did not improve from 0.09645\n",
            "146/146 [==============================] - 4s 26ms/step - loss: 0.0747 - sparse_categorical_accuracy: 0.9743 - val_loss: 0.1088 - val_sparse_categorical_accuracy: 0.9626\n",
            "Epoch 119/200\n",
            "145/146 [============================>.] - ETA: 0s - loss: 0.0747 - sparse_categorical_accuracy: 0.9736\n",
            "Epoch 119: val_loss did not improve from 0.09645\n",
            "146/146 [==============================] - 4s 26ms/step - loss: 0.0747 - sparse_categorical_accuracy: 0.9736 - val_loss: 0.0986 - val_sparse_categorical_accuracy: 0.9639\n",
            "Epoch 120/200\n",
            "145/146 [============================>.] - ETA: 0s - loss: 0.0693 - sparse_categorical_accuracy: 0.9748\n",
            "Epoch 120: val_loss did not improve from 0.09645\n",
            "146/146 [==============================] - 4s 26ms/step - loss: 0.0693 - sparse_categorical_accuracy: 0.9748 - val_loss: 0.0980 - val_sparse_categorical_accuracy: 0.9678\n",
            "Epoch 121/200\n",
            "145/146 [============================>.] - ETA: 0s - loss: 0.0673 - sparse_categorical_accuracy: 0.9769\n",
            "Epoch 121: val_loss did not improve from 0.09645\n",
            "146/146 [==============================] - 4s 26ms/step - loss: 0.0672 - sparse_categorical_accuracy: 0.9770 - val_loss: 0.1013 - val_sparse_categorical_accuracy: 0.9639\n",
            "Epoch 122/200\n",
            "145/146 [============================>.] - ETA: 0s - loss: 0.0763 - sparse_categorical_accuracy: 0.9755\n",
            "Epoch 122: val_loss did not improve from 0.09645\n",
            "146/146 [==============================] - 4s 29ms/step - loss: 0.0763 - sparse_categorical_accuracy: 0.9755 - val_loss: 0.1112 - val_sparse_categorical_accuracy: 0.9605\n"
          ]
        }
      ]
    },
    {
      "cell_type": "code",
      "source": [
        "pred_test = model.predict(X_test)\n",
        "pred_test = np.argmax(pred_test, axis=-1)\n",
        "\n",
        "f1 = f1_score(y_test, pred_test, average=\"macro\")\n",
        "\n",
        "print(\"Test f1 score : %s \"% f1)\n",
        "\n",
        "acc = accuracy_score(y_test, pred_test)\n",
        "\n",
        "print(\"Test accuracy score : %s \"% acc)"
      ],
      "metadata": {
        "colab": {
          "base_uri": "https://localhost:8080/"
        },
        "id": "ibtGwrtpa-mz",
        "outputId": "58854dd3-1a91-435e-fdf3-b2b3150566e8"
      },
      "execution_count": 9,
      "outputs": [
        {
          "output_type": "stream",
          "name": "stdout",
          "text": [
            "Test f1 score : 0.9532423832147443 \n",
            "Test accuracy score : 0.9622122981793199 \n"
          ]
        }
      ]
    },
    {
      "cell_type": "code",
      "execution_count": 10,
      "metadata": {
        "colab": {
          "base_uri": "https://localhost:8080/",
          "height": 295
        },
        "id": "WYPNXPxpsrRS",
        "outputId": "48a3daa0-a3f8-4fbb-e5a8-f134ddd26b56"
      },
      "outputs": [
        {
          "output_type": "display_data",
          "data": {
            "text/plain": [
              "<Figure size 432x288 with 1 Axes>"
            ],
            "image/png": "[encoded data removed]"
          },
          "metadata": {
            "needs_background": "light"
          }
        }
      ],
      "source": [
        "# Plot training & validation loss values\n",
        "plt.plot(history.history['loss'])\n",
        "plt.plot(history.history['val_loss'])\n",
        "plt.title('Model loss')\n",
        "plt.ylabel('loss')\n",
        "plt.xlabel('Epoch')\n",
        "plt.legend(['Train', 'Validation'], loc='upper left')\n",
        "plt.show()"
      ]
    },
    {
      "cell_type": "code",
      "execution_count": 11,
      "metadata": {
        "id": "SxsyM_dts629",
        "colab": {
          "base_uri": "https://localhost:8080/",
          "height": 295
        },
        "outputId": "dca5c0c6-ced9-4f26-e8b4-229219d25da0"
      },
      "outputs": [
        {
          "output_type": "display_data",
          "data": {
            "text/plain": [
              "<Figure size 432x288 with 1 Axes>"
            ],
            "image/png": "[encoded data removed]"
          },
          "metadata": {
            "needs_background": "light"
          }
        }
      ],
      "source": [
        "# Plot training & validation accuracy values\n",
        "plt.plot(history.history['sparse_categorical_accuracy'])\n",
        "plt.plot(history.history['val_sparse_categorical_accuracy'])\n",
        "plt.title('Model accuracy')\n",
        "plt.ylabel('Accuracy')\n",
        "plt.xlabel('Epoch')\n",
        "plt.legend(['Train', 'Validation'], loc='upper left')\n",
        "plt.show()"
      ]
    },
    {
      "cell_type": "code",
      "execution_count": 12,
      "metadata": {
        "id": "JP8xB4XItEcO"
      },
      "outputs": [],
      "source": [
        "model.load_weights(file_path)"
      ]
    },
    {
      "cell_type": "code",
      "execution_count": 13,
      "metadata": {
        "colab": {
          "base_uri": "https://localhost:8080/"
        },
        "id": "f1Ep1AgMtNrq",
        "outputId": "c19b4975-30b4-4795-c305-12e87ae7e817"
      },
      "outputs": [
        {
          "output_type": "stream",
          "name": "stdout",
          "text": [
            "Model accuracy: 0.962212324142456\n"
          ]
        }
      ],
      "source": [
        "Y_pred_test = model.predict(X_test)\n",
        "Y_pred_test = np.argmax(Y_pred_test, axis=1)\n",
        "m = tf.keras.metrics.Accuracy()\n",
        "m.update_state(y_test, Y_pred_test)\n",
        "print(\"Model accuracy: {}\".format(m.result().numpy()))"
      ]
    },
    {
      "cell_type": "code",
      "execution_count": 14,
      "metadata": {
        "colab": {
          "base_uri": "https://localhost:8080/",
          "height": 279
        },
        "id": "b-2fNqIgtpWL",
        "outputId": "b046b03f-0bbf-46b3-e314-2a2c95366842"
      },
      "outputs": [
        {
          "output_type": "display_data",
          "data": {
            "text/plain": [
              "<Figure size 432x288 with 2 Axes>"
            ],
            "image/png": "[encoded data removed]"
          },
          "metadata": {
            "needs_background": "light"
          }
        }
      ],
      "source": [
        "# Plotting confusion matrix\n",
        "cm = confusion_matrix(y_test, Y_pred_test)\n",
        "\n",
        "disp = ConfusionMatrixDisplay(confusion_matrix=cm, display_labels=[0,1,2,3])\n",
        "\n",
        "disp.plot(cmap=plt.cm.Blues)\n",
        "plt.show()"
      ]
    }
  ],
  "metadata": {
    "accelerator": "TPU",
    "colab": {
      "machine_shape": "hm",
      "name": "mlhc_project1_transformer_PTB.ipynb",
      "provenance": []
    },
    "kernelspec": {
      "display_name": "Python 3",
      "name": "python3"
    },
    "language_info": {
      "name": "python"
    }
  },
  "nbformat": 4,
  "nbformat_minor": 0
}