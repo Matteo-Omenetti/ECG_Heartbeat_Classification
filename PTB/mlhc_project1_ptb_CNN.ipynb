{
  "nbformat": 4,
  "nbformat_minor": 0,
  "metadata": {
    "colab": {
      "name": "mlhc_project1_ptb_CNN.ipynb",
      "provenance": [],
      "machine_shape": "hm"
    },
    "kernelspec": {
      "name": "python3",
      "display_name": "Python 3"
    },
    "language_info": {
      "name": "python"
    },
    "accelerator": "TPU"
  },
  "cells": [
    {
      "cell_type": "code",
      "execution_count": 1,
      "metadata": {
        "id": "UpjtJntaxYdR"
      },
      "outputs": [],
      "source": [
        "import pandas as pd\n",
        "import numpy as np\n",
        "\n",
        "from keras import optimizers, losses, activations, models\n",
        "from keras.callbacks import ModelCheckpoint, EarlyStopping, LearningRateScheduler, ReduceLROnPlateau\n",
        "from keras.layers import Dense, Input, Dropout, Convolution1D, MaxPool1D, GlobalMaxPool1D, GlobalAveragePooling1D, concatenate\n",
        "from sklearn.metrics import f1_score, accuracy_score\n",
        "\n",
        "import tensorflow as tf\n",
        "from keras import Input, Model, layers\n",
        "from keras.models import Sequential\n",
        "from keras.layers import Dense, Flatten\n",
        "from keras import losses\n",
        "from tensorflow import keras\n",
        "from keras.callbacks import EarlyStopping\n",
        "\n",
        "from keras.models import Sequential\n",
        "from keras.layers import Dense, Activation, Dropout, Conv1D, GlobalAveragePooling1D, MaxPooling1D\n",
        "from keras import regularizers\n",
        "from keras.utils import np_utils\n",
        "from keras import utils\n",
        "from sklearn.model_selection import train_test_split\n",
        "\n",
        "import matplotlib.pyplot as plt\n",
        "from sklearn.metrics import ConfusionMatrixDisplay, confusion_matrix"
      ]
    },
    {
      "cell_type": "code",
      "source": [
        "from google.colab import drive\n",
        "drive.mount('/content/drive')"
      ],
      "metadata": {
        "colab": {
          "base_uri": "https://localhost:8080/"
        },
        "id": "OhfpzRpkxcE2",
        "outputId": "8e33c911-ddc7-49ba-b979-d10948697a89"
      },
      "execution_count": 2,
      "outputs": [
        {
          "output_type": "stream",
          "name": "stdout",
          "text": [
            "Mounted at /content/drive\n"
          ]
        }
      ]
    },
    {
      "cell_type": "code",
      "source": [
        "# read the dataset\n",
        "df_1 = pd.read_csv(\"/content/drive/MyDrive/MLHC_PROJECT1/ptbdb_normal.csv\", header=None)\n",
        "df_2 = pd.read_csv(\"/content/drive/MyDrive/MLHC_PROJECT1/ptbdb_abnormal.csv\", header=None)\n",
        "df = pd.concat([df_1, df_2])\n",
        "\n",
        "df_train, df_test = train_test_split(df, test_size=0.2, random_state=1337, stratify=df[187])\n",
        "\n",
        "\n",
        "y_train = np.array(df_train[187].values).astype(np.int8)\n",
        "X_train = np.array(df_train[list(range(187))].values)[..., np.newaxis]\n",
        "\n",
        "y_test = np.array(df_test[187].values).astype(np.int8)\n",
        "X_test = np.array(df_test[list(range(187))].values)[..., np.newaxis]"
      ],
      "metadata": {
        "id": "u8h6nqKSxfTP"
      },
      "execution_count": 3,
      "outputs": []
    },
    {
      "cell_type": "code",
      "source": [
        "# create the model\n",
        "model = Sequential()\n",
        "model.add(Conv1D(16, 10, activation='relu', input_shape=(187, 1)))\n",
        "model.add(MaxPooling1D(2))\n",
        "model.add(Dropout(0.))\n",
        "model.add(Conv1D(32, 5, activation='relu'))\n",
        "model.add(MaxPooling1D(2))\n",
        "model.add(Dropout(0.2))\n",
        "model.add(Conv1D(64, 10, activation='relu'))\n",
        "model.add(MaxPooling1D(2))\n",
        "model.add(Dropout(0.5))\n",
        "model.add(Conv1D(128, 2, activation='relu'))\n",
        "model.add(GlobalAveragePooling1D())\n",
        "# model.add(Flatten())\n",
        "model.add(Dense(128, kernel_initializer='normal', activation='relu'))\n",
        "model.add(Dropout(0.2))\n",
        "model.add(Dense(128, kernel_initializer='normal', activation='relu'))\n",
        "model.add(Dropout(0.1))\n",
        "model.add(Dense(256, kernel_initializer='normal', activation='relu'))\n",
        "model.add(Dropout(0.2))\n",
        "model.add(Dense(2, kernel_initializer='normal', activation='softmax'))\n",
        "\n",
        "# model.summary()\n",
        "\n",
        "opt = tf.keras.optimizers.Adam(learning_rate=0.001)\n",
        "model.compile(optimizer=opt, loss=losses.sparse_categorical_crossentropy, metrics=['acc'])\n",
        "\n",
        "file_path = \"/content/drive/MyDrive/MLHC_PROJECT1/CNN.h5\"\n",
        "tf.keras.utils.plot_model(model, show_shapes=True, dpi=64)\n",
        "print(\"Number of weights: {}\".format(model.count_params()))"
      ],
      "metadata": {
        "colab": {
          "base_uri": "https://localhost:8080/"
        },
        "id": "Kth7NAZixl6E",
        "outputId": "7cdd1ef3-1bfd-47a5-e532-78153865d20a"
      },
      "execution_count": 4,
      "outputs": [
        {
          "output_type": "stream",
          "name": "stdout",
          "text": [
            "Number of weights: 106386\n"
          ]
        }
      ]
    },
    {
      "cell_type": "code",
      "source": [
        "callbacks = [ModelCheckpoint(file_path, monitor='val_acc', verbose=1, save_best_only=True, mode='max'),\n",
        "             ReduceLROnPlateau(monitor=\"val_acc\", mode=\"max\", patience=3, verbose=2),\n",
        "             EarlyStopping(monitor=\"val_acc\", mode=\"max\", patience=15, verbose=1)]\n",
        "\n",
        "history = model.fit(X_train, y_train, epochs=250, verbose=2, callbacks=callbacks, validation_split=0.1)"
      ],
      "metadata": {
        "colab": {
          "base_uri": "https://localhost:8080/"
        },
        "id": "swbkRcsaxrZN",
        "outputId": "e544f8c3-8ea1-4a02-98b5-8683edb60ba0"
      },
      "execution_count": 5,
      "outputs": [
        {
          "output_type": "stream",
          "name": "stdout",
          "text": [
            "Epoch 1/250\n",
            "\n",
            "Epoch 1: val_acc improved from -inf to 0.74936, saving model to /content/drive/MyDrive/MLHC_PROJECT1/CNN.h5\n",
            "328/328 - 6s - loss: 0.5313 - acc: 0.7352 - val_loss: 0.4937 - val_acc: 0.7494 - lr: 0.0010 - 6s/epoch - 17ms/step\n",
            "Epoch 2/250\n",
            "\n",
            "Epoch 2: val_acc improved from 0.74936 to 0.82232, saving model to /content/drive/MyDrive/MLHC_PROJECT1/CNN.h5\n",
            "328/328 - 4s - loss: 0.4327 - acc: 0.7907 - val_loss: 0.3968 - val_acc: 0.8223 - lr: 0.0010 - 4s/epoch - 13ms/step\n",
            "Epoch 3/250\n",
            "\n",
            "Epoch 3: val_acc improved from 0.82232 to 0.84292, saving model to /content/drive/MyDrive/MLHC_PROJECT1/CNN.h5\n",
            "328/328 - 4s - loss: 0.3692 - acc: 0.8386 - val_loss: 0.3563 - val_acc: 0.8429 - lr: 0.0010 - 4s/epoch - 13ms/step\n",
            "Epoch 4/250\n",
            "\n",
            "Epoch 4: val_acc improved from 0.84292 to 0.88155, saving model to /content/drive/MyDrive/MLHC_PROJECT1/CNN.h5\n",
            "328/328 - 4s - loss: 0.3069 - acc: 0.8743 - val_loss: 0.2994 - val_acc: 0.8815 - lr: 0.0010 - 4s/epoch - 13ms/step\n",
            "Epoch 5/250\n",
            "\n",
            "Epoch 5: val_acc improved from 0.88155 to 0.88240, saving model to /content/drive/MyDrive/MLHC_PROJECT1/CNN.h5\n",
            "328/328 - 4s - loss: 0.2507 - acc: 0.8992 - val_loss: 0.2609 - val_acc: 0.8824 - lr: 0.0010 - 4s/epoch - 12ms/step\n",
            "Epoch 6/250\n",
            "\n",
            "Epoch 6: val_acc improved from 0.88240 to 0.90129, saving model to /content/drive/MyDrive/MLHC_PROJECT1/CNN.h5\n",
            "328/328 - 4s - loss: 0.2300 - acc: 0.9076 - val_loss: 0.2408 - val_acc: 0.9013 - lr: 0.0010 - 4s/epoch - 12ms/step\n",
            "Epoch 7/250\n",
            "\n",
            "Epoch 7: val_acc improved from 0.90129 to 0.91674, saving model to /content/drive/MyDrive/MLHC_PROJECT1/CNN.h5\n",
            "328/328 - 4s - loss: 0.1940 - acc: 0.9263 - val_loss: 0.2253 - val_acc: 0.9167 - lr: 0.0010 - 4s/epoch - 12ms/step\n",
            "Epoch 8/250\n",
            "\n",
            "Epoch 8: val_acc improved from 0.91674 to 0.94335, saving model to /content/drive/MyDrive/MLHC_PROJECT1/CNN.h5\n",
            "328/328 - 4s - loss: 0.1838 - acc: 0.9303 - val_loss: 0.1532 - val_acc: 0.9433 - lr: 0.0010 - 4s/epoch - 12ms/step\n",
            "Epoch 9/250\n",
            "\n",
            "Epoch 9: val_acc did not improve from 0.94335\n",
            "328/328 - 4s - loss: 0.1624 - acc: 0.9378 - val_loss: 0.1453 - val_acc: 0.9433 - lr: 0.0010 - 4s/epoch - 12ms/step\n",
            "Epoch 10/250\n",
            "\n",
            "Epoch 10: val_acc improved from 0.94335 to 0.95708, saving model to /content/drive/MyDrive/MLHC_PROJECT1/CNN.h5\n",
            "328/328 - 4s - loss: 0.1596 - acc: 0.9374 - val_loss: 0.1162 - val_acc: 0.9571 - lr: 0.0010 - 4s/epoch - 13ms/step\n",
            "Epoch 11/250\n",
            "\n",
            "Epoch 11: val_acc improved from 0.95708 to 0.95880, saving model to /content/drive/MyDrive/MLHC_PROJECT1/CNN.h5\n",
            "328/328 - 4s - loss: 0.1409 - acc: 0.9470 - val_loss: 0.1065 - val_acc: 0.9588 - lr: 0.0010 - 4s/epoch - 12ms/step\n",
            "Epoch 12/250\n",
            "\n",
            "Epoch 12: val_acc did not improve from 0.95880\n",
            "328/328 - 4s - loss: 0.1279 - acc: 0.9518 - val_loss: 0.0987 - val_acc: 0.9571 - lr: 0.0010 - 4s/epoch - 12ms/step\n",
            "Epoch 13/250\n",
            "\n",
            "Epoch 13: val_acc did not improve from 0.95880\n",
            "328/328 - 4s - loss: 0.1221 - acc: 0.9550 - val_loss: 0.1921 - val_acc: 0.9373 - lr: 0.0010 - 4s/epoch - 12ms/step\n",
            "Epoch 14/250\n",
            "\n",
            "Epoch 14: val_acc did not improve from 0.95880\n",
            "\n",
            "Epoch 14: ReduceLROnPlateau reducing learning rate to 0.00010000000474974513.\n",
            "328/328 - 4s - loss: 0.1155 - acc: 0.9563 - val_loss: 0.1531 - val_acc: 0.9468 - lr: 0.0010 - 4s/epoch - 13ms/step\n",
            "Epoch 15/250\n",
            "\n",
            "Epoch 15: val_acc improved from 0.95880 to 0.97511, saving model to /content/drive/MyDrive/MLHC_PROJECT1/CNN.h5\n",
            "328/328 - 5s - loss: 0.0878 - acc: 0.9688 - val_loss: 0.0760 - val_acc: 0.9751 - lr: 1.0000e-04 - 5s/epoch - 14ms/step\n",
            "Epoch 16/250\n",
            "\n",
            "Epoch 16: val_acc improved from 0.97511 to 0.97597, saving model to /content/drive/MyDrive/MLHC_PROJECT1/CNN.h5\n",
            "328/328 - 4s - loss: 0.0760 - acc: 0.9729 - val_loss: 0.0777 - val_acc: 0.9760 - lr: 1.0000e-04 - 4s/epoch - 13ms/step\n",
            "Epoch 17/250\n",
            "\n",
            "Epoch 17: val_acc improved from 0.97597 to 0.97768, saving model to /content/drive/MyDrive/MLHC_PROJECT1/CNN.h5\n",
            "328/328 - 4s - loss: 0.0738 - acc: 0.9733 - val_loss: 0.0763 - val_acc: 0.9777 - lr: 1.0000e-04 - 4s/epoch - 13ms/step\n",
            "Epoch 18/250\n",
            "\n",
            "Epoch 18: val_acc did not improve from 0.97768\n",
            "328/328 - 4s - loss: 0.0693 - acc: 0.9746 - val_loss: 0.0892 - val_acc: 0.9691 - lr: 1.0000e-04 - 4s/epoch - 13ms/step\n",
            "Epoch 19/250\n",
            "\n",
            "Epoch 19: val_acc improved from 0.97768 to 0.97854, saving model to /content/drive/MyDrive/MLHC_PROJECT1/CNN.h5\n",
            "328/328 - 5s - loss: 0.0729 - acc: 0.9726 - val_loss: 0.0717 - val_acc: 0.9785 - lr: 1.0000e-04 - 5s/epoch - 14ms/step\n",
            "Epoch 20/250\n",
            "\n",
            "Epoch 20: val_acc did not improve from 0.97854\n",
            "328/328 - 4s - loss: 0.0679 - acc: 0.9761 - val_loss: 0.0823 - val_acc: 0.9717 - lr: 1.0000e-04 - 4s/epoch - 13ms/step\n",
            "Epoch 21/250\n",
            "\n",
            "Epoch 21: val_acc did not improve from 0.97854\n",
            "328/328 - 4s - loss: 0.0697 - acc: 0.9744 - val_loss: 0.0885 - val_acc: 0.9751 - lr: 1.0000e-04 - 4s/epoch - 13ms/step\n",
            "Epoch 22/250\n",
            "\n",
            "Epoch 22: val_acc did not improve from 0.97854\n",
            "\n",
            "Epoch 22: ReduceLROnPlateau reducing learning rate to 1.0000000474974514e-05.\n",
            "328/328 - 4s - loss: 0.0675 - acc: 0.9751 - val_loss: 0.0758 - val_acc: 0.9760 - lr: 1.0000e-04 - 4s/epoch - 13ms/step\n",
            "Epoch 23/250\n",
            "\n",
            "Epoch 23: val_acc did not improve from 0.97854\n",
            "328/328 - 4s - loss: 0.0639 - acc: 0.9769 - val_loss: 0.0696 - val_acc: 0.9768 - lr: 1.0000e-05 - 4s/epoch - 12ms/step\n",
            "Epoch 24/250\n",
            "\n",
            "Epoch 24: val_acc did not improve from 0.97854\n",
            "328/328 - 4s - loss: 0.0637 - acc: 0.9778 - val_loss: 0.0707 - val_acc: 0.9777 - lr: 1.0000e-05 - 4s/epoch - 13ms/step\n",
            "Epoch 25/250\n",
            "\n",
            "Epoch 25: val_acc did not improve from 0.97854\n",
            "\n",
            "Epoch 25: ReduceLROnPlateau reducing learning rate to 1.0000000656873453e-06.\n",
            "328/328 - 4s - loss: 0.0603 - acc: 0.9786 - val_loss: 0.0788 - val_acc: 0.9734 - lr: 1.0000e-05 - 4s/epoch - 13ms/step\n",
            "Epoch 26/250\n",
            "\n",
            "Epoch 26: val_acc did not improve from 0.97854\n",
            "328/328 - 4s - loss: 0.0597 - acc: 0.9807 - val_loss: 0.0749 - val_acc: 0.9751 - lr: 1.0000e-06 - 4s/epoch - 13ms/step\n",
            "Epoch 27/250\n",
            "\n",
            "Epoch 27: val_acc did not improve from 0.97854\n",
            "328/328 - 4s - loss: 0.0607 - acc: 0.9788 - val_loss: 0.0737 - val_acc: 0.9760 - lr: 1.0000e-06 - 4s/epoch - 13ms/step\n",
            "Epoch 28/250\n",
            "\n",
            "Epoch 28: val_acc did not improve from 0.97854\n",
            "\n",
            "Epoch 28: ReduceLROnPlateau reducing learning rate to 1.0000001111620805e-07.\n",
            "328/328 - 4s - loss: 0.0670 - acc: 0.9765 - val_loss: 0.0719 - val_acc: 0.9768 - lr: 1.0000e-06 - 4s/epoch - 13ms/step\n",
            "Epoch 29/250\n",
            "\n",
            "Epoch 29: val_acc did not improve from 0.97854\n",
            "328/328 - 4s - loss: 0.0648 - acc: 0.9778 - val_loss: 0.0717 - val_acc: 0.9768 - lr: 1.0000e-07 - 4s/epoch - 13ms/step\n",
            "Epoch 30/250\n",
            "\n",
            "Epoch 30: val_acc did not improve from 0.97854\n",
            "328/328 - 4s - loss: 0.0619 - acc: 0.9784 - val_loss: 0.0717 - val_acc: 0.9768 - lr: 1.0000e-07 - 4s/epoch - 13ms/step\n",
            "Epoch 31/250\n",
            "\n",
            "Epoch 31: val_acc did not improve from 0.97854\n",
            "\n",
            "Epoch 31: ReduceLROnPlateau reducing learning rate to 1.000000082740371e-08.\n",
            "328/328 - 4s - loss: 0.0617 - acc: 0.9800 - val_loss: 0.0715 - val_acc: 0.9768 - lr: 1.0000e-07 - 4s/epoch - 13ms/step\n",
            "Epoch 32/250\n",
            "\n",
            "Epoch 32: val_acc did not improve from 0.97854\n",
            "328/328 - 4s - loss: 0.0637 - acc: 0.9763 - val_loss: 0.0715 - val_acc: 0.9768 - lr: 1.0000e-08 - 4s/epoch - 13ms/step\n",
            "Epoch 33/250\n",
            "\n",
            "Epoch 33: val_acc did not improve from 0.97854\n",
            "328/328 - 4s - loss: 0.0563 - acc: 0.9802 - val_loss: 0.0715 - val_acc: 0.9768 - lr: 1.0000e-08 - 4s/epoch - 13ms/step\n",
            "Epoch 34/250\n",
            "\n",
            "Epoch 34: val_acc did not improve from 0.97854\n",
            "\n",
            "Epoch 34: ReduceLROnPlateau reducing learning rate to 1.000000082740371e-09.\n",
            "328/328 - 4s - loss: 0.0668 - acc: 0.9764 - val_loss: 0.0715 - val_acc: 0.9768 - lr: 1.0000e-08 - 4s/epoch - 13ms/step\n",
            "Epoch 34: early stopping\n"
          ]
        }
      ]
    },
    {
      "cell_type": "code",
      "source": [
        "pred_test = model.predict(X_test)\n",
        "pred_test = np.argmax(pred_test, axis=-1)\n",
        "\n",
        "f1 = f1_score(y_test, pred_test, average=\"macro\")\n",
        "\n",
        "print(\"Test f1 score : %s \"% f1)\n",
        "\n",
        "acc = accuracy_score(y_test, pred_test)\n",
        "\n",
        "print(\"Test accuracy score : %s \"% acc)"
      ],
      "metadata": {
        "colab": {
          "base_uri": "https://localhost:8080/"
        },
        "id": "MdcD1Hecy2o3",
        "outputId": "c07be79f-d861-46d0-811f-60a05dd71126"
      },
      "execution_count": 6,
      "outputs": [
        {
          "output_type": "stream",
          "name": "stdout",
          "text": [
            "Test f1 score : 0.9782809532733496 \n",
            "Test accuracy score : 0.9824802473376847 \n"
          ]
        }
      ]
    },
    {
      "cell_type": "code",
      "source": [
        "# Plot training & validation loss values\n",
        "plt.plot(history.history['loss'])\n",
        "plt.plot(history.history['val_loss'])\n",
        "plt.title('Model loss')\n",
        "plt.ylabel('loss')\n",
        "plt.xlabel('Epoch')\n",
        "plt.legend(['Train', 'Validation'], loc='upper left')\n",
        "plt.show()"
      ],
      "metadata": {
        "colab": {
          "base_uri": "https://localhost:8080/",
          "height": 295
        },
        "id": "zvCMEOlIz2Ad",
        "outputId": "b5ae303d-ab20-44b3-bbba-3fdf3ffb6c54"
      },
      "execution_count": 7,
      "outputs": [
        {
          "output_type": "display_data",
          "data": {
            "text/plain": [
              "<Figure size 432x288 with 1 Axes>"
            ],
            "image/png": "[encoded data removed]"
          },
          "metadata": {
            "needs_background": "light"
          }
        }
      ]
    },
    {
      "cell_type": "code",
      "source": [
        "# Plot training & validation accuracy values\n",
        "plt.plot(history.history['acc'])\n",
        "plt.plot(history.history['val_acc'])\n",
        "plt.title('Model accuracy')\n",
        "plt.ylabel('Accuracy')\n",
        "plt.xlabel('Epoch')\n",
        "plt.legend(['Train', 'Validation'], loc='upper left')\n",
        "plt.show()"
      ],
      "metadata": {
        "colab": {
          "base_uri": "https://localhost:8080/",
          "height": 295
        },
        "id": "EF8BRTjcz69X",
        "outputId": "857c4727-1737-45d9-eeee-61680f3b0890"
      },
      "execution_count": 9,
      "outputs": [
        {
          "output_type": "display_data",
          "data": {
            "text/plain": [
              "<Figure size 432x288 with 1 Axes>"
            ],
            "image/png": "[encoded data removed]"
          },
          "metadata": {
            "needs_background": "light"
          }
        }
      ]
    },
    {
      "cell_type": "code",
      "source": [
        "# Plotting confusion matrix\n",
        "cm = confusion_matrix(y_test, pred_test)\n",
        "\n",
        "disp = ConfusionMatrixDisplay(confusion_matrix=cm, display_labels=[0,1,2,3])\n",
        "\n",
        "disp.plot(cmap=plt.cm.Blues)\n",
        "plt.show()"
      ],
      "metadata": {
        "colab": {
          "base_uri": "https://localhost:8080/",
          "height": 279
        },
        "id": "lxMXGIfWz9n-",
        "outputId": "dc7b2edc-a334-45fe-91f5-acfb96964e76"
      },
      "execution_count": 10,
      "outputs": [
        {
          "output_type": "display_data",
          "data": {
            "text/plain": [
              "<Figure size 432x288 with 2 Axes>"
            ],
            "image/png": "[encoded data removed]"
          },
          "metadata": {
            "needs_background": "light"
          }
        }
      ]
    }
  ]
}