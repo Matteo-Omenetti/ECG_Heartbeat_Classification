{
  "cells": [
    {
      "cell_type": "code",
      "execution_count": 1,
      "metadata": {
        "colab": {
          "base_uri": "https://localhost:8080/"
        },
        "id": "yRCjcu40n4Pd",
        "outputId": "48e3b58c-854e-46cc-e613-dce7a9cd9258"
      },
      "outputs": [
        {
          "output_type": "stream",
          "name": "stdout",
          "text": [
            "Tensorflow version 2.8.0\n",
            "Running on TPU  ['10.49.24.186:8470']\n",
            "INFO:tensorflow:Deallocate tpu buffers before initializing tpu system.\n"
          ]
        },
        {
          "output_type": "stream",
          "name": "stderr",
          "text": [
            "INFO:tensorflow:Deallocate tpu buffers before initializing tpu system.\n"
          ]
        },
        {
          "output_type": "stream",
          "name": "stdout",
          "text": [
            "INFO:tensorflow:Initializing the TPU system: grpc://10.49.24.186:8470\n"
          ]
        },
        {
          "output_type": "stream",
          "name": "stderr",
          "text": [
            "INFO:tensorflow:Initializing the TPU system: grpc://10.49.24.186:8470\n"
          ]
        },
        {
          "output_type": "stream",
          "name": "stdout",
          "text": [
            "INFO:tensorflow:Finished initializing TPU system.\n"
          ]
        },
        {
          "output_type": "stream",
          "name": "stderr",
          "text": [
            "INFO:tensorflow:Finished initializing TPU system.\n",
            "WARNING:absl:`tf.distribute.experimental.TPUStrategy` is deprecated, please use  the non experimental symbol `tf.distribute.TPUStrategy` instead.\n"
          ]
        },
        {
          "output_type": "stream",
          "name": "stdout",
          "text": [
            "INFO:tensorflow:Found TPU system:\n"
          ]
        },
        {
          "output_type": "stream",
          "name": "stderr",
          "text": [
            "INFO:tensorflow:Found TPU system:\n"
          ]
        },
        {
          "output_type": "stream",
          "name": "stdout",
          "text": [
            "INFO:tensorflow:*** Num TPU Cores: 8\n"
          ]
        },
        {
          "output_type": "stream",
          "name": "stderr",
          "text": [
            "INFO:tensorflow:*** Num TPU Cores: 8\n"
          ]
        },
        {
          "output_type": "stream",
          "name": "stdout",
          "text": [
            "INFO:tensorflow:*** Num TPU Workers: 1\n"
          ]
        },
        {
          "output_type": "stream",
          "name": "stderr",
          "text": [
            "INFO:tensorflow:*** Num TPU Workers: 1\n"
          ]
        },
        {
          "output_type": "stream",
          "name": "stdout",
          "text": [
            "INFO:tensorflow:*** Num TPU Cores Per Worker: 8\n"
          ]
        },
        {
          "output_type": "stream",
          "name": "stderr",
          "text": [
            "INFO:tensorflow:*** Num TPU Cores Per Worker: 8\n"
          ]
        },
        {
          "output_type": "stream",
          "name": "stdout",
          "text": [
            "INFO:tensorflow:*** Available Device: _DeviceAttributes(/job:localhost/replica:0/task:0/device:CPU:0, CPU, 0, 0)\n"
          ]
        },
        {
          "output_type": "stream",
          "name": "stderr",
          "text": [
            "INFO:tensorflow:*** Available Device: _DeviceAttributes(/job:localhost/replica:0/task:0/device:CPU:0, CPU, 0, 0)\n"
          ]
        },
        {
          "output_type": "stream",
          "name": "stdout",
          "text": [
            "INFO:tensorflow:*** Available Device: _DeviceAttributes(/job:worker/replica:0/task:0/device:CPU:0, CPU, 0, 0)\n"
          ]
        },
        {
          "output_type": "stream",
          "name": "stderr",
          "text": [
            "INFO:tensorflow:*** Available Device: _DeviceAttributes(/job:worker/replica:0/task:0/device:CPU:0, CPU, 0, 0)\n"
          ]
        },
        {
          "output_type": "stream",
          "name": "stdout",
          "text": [
            "INFO:tensorflow:*** Available Device: _DeviceAttributes(/job:worker/replica:0/task:0/device:TPU:0, TPU, 0, 0)\n"
          ]
        },
        {
          "output_type": "stream",
          "name": "stderr",
          "text": [
            "INFO:tensorflow:*** Available Device: _DeviceAttributes(/job:worker/replica:0/task:0/device:TPU:0, TPU, 0, 0)\n"
          ]
        },
        {
          "output_type": "stream",
          "name": "stdout",
          "text": [
            "INFO:tensorflow:*** Available Device: _DeviceAttributes(/job:worker/replica:0/task:0/device:TPU:1, TPU, 0, 0)\n"
          ]
        },
        {
          "output_type": "stream",
          "name": "stderr",
          "text": [
            "INFO:tensorflow:*** Available Device: _DeviceAttributes(/job:worker/replica:0/task:0/device:TPU:1, TPU, 0, 0)\n"
          ]
        },
        {
          "output_type": "stream",
          "name": "stdout",
          "text": [
            "INFO:tensorflow:*** Available Device: _DeviceAttributes(/job:worker/replica:0/task:0/device:TPU:2, TPU, 0, 0)\n"
          ]
        },
        {
          "output_type": "stream",
          "name": "stderr",
          "text": [
            "INFO:tensorflow:*** Available Device: _DeviceAttributes(/job:worker/replica:0/task:0/device:TPU:2, TPU, 0, 0)\n"
          ]
        },
        {
          "output_type": "stream",
          "name": "stdout",
          "text": [
            "INFO:tensorflow:*** Available Device: _DeviceAttributes(/job:worker/replica:0/task:0/device:TPU:3, TPU, 0, 0)\n"
          ]
        },
        {
          "output_type": "stream",
          "name": "stderr",
          "text": [
            "INFO:tensorflow:*** Available Device: _DeviceAttributes(/job:worker/replica:0/task:0/device:TPU:3, TPU, 0, 0)\n"
          ]
        },
        {
          "output_type": "stream",
          "name": "stdout",
          "text": [
            "INFO:tensorflow:*** Available Device: _DeviceAttributes(/job:worker/replica:0/task:0/device:TPU:4, TPU, 0, 0)\n"
          ]
        },
        {
          "output_type": "stream",
          "name": "stderr",
          "text": [
            "INFO:tensorflow:*** Available Device: _DeviceAttributes(/job:worker/replica:0/task:0/device:TPU:4, TPU, 0, 0)\n"
          ]
        },
        {
          "output_type": "stream",
          "name": "stdout",
          "text": [
            "INFO:tensorflow:*** Available Device: _DeviceAttributes(/job:worker/replica:0/task:0/device:TPU:5, TPU, 0, 0)\n"
          ]
        },
        {
          "output_type": "stream",
          "name": "stderr",
          "text": [
            "INFO:tensorflow:*** Available Device: _DeviceAttributes(/job:worker/replica:0/task:0/device:TPU:5, TPU, 0, 0)\n"
          ]
        },
        {
          "output_type": "stream",
          "name": "stdout",
          "text": [
            "INFO:tensorflow:*** Available Device: _DeviceAttributes(/job:worker/replica:0/task:0/device:TPU:6, TPU, 0, 0)\n"
          ]
        },
        {
          "output_type": "stream",
          "name": "stderr",
          "text": [
            "INFO:tensorflow:*** Available Device: _DeviceAttributes(/job:worker/replica:0/task:0/device:TPU:6, TPU, 0, 0)\n"
          ]
        },
        {
          "output_type": "stream",
          "name": "stdout",
          "text": [
            "INFO:tensorflow:*** Available Device: _DeviceAttributes(/job:worker/replica:0/task:0/device:TPU:7, TPU, 0, 0)\n"
          ]
        },
        {
          "output_type": "stream",
          "name": "stderr",
          "text": [
            "INFO:tensorflow:*** Available Device: _DeviceAttributes(/job:worker/replica:0/task:0/device:TPU:7, TPU, 0, 0)\n"
          ]
        },
        {
          "output_type": "stream",
          "name": "stdout",
          "text": [
            "INFO:tensorflow:*** Available Device: _DeviceAttributes(/job:worker/replica:0/task:0/device:TPU_SYSTEM:0, TPU_SYSTEM, 0, 0)\n"
          ]
        },
        {
          "output_type": "stream",
          "name": "stderr",
          "text": [
            "INFO:tensorflow:*** Available Device: _DeviceAttributes(/job:worker/replica:0/task:0/device:TPU_SYSTEM:0, TPU_SYSTEM, 0, 0)\n"
          ]
        },
        {
          "output_type": "stream",
          "name": "stdout",
          "text": [
            "INFO:tensorflow:*** Available Device: _DeviceAttributes(/job:worker/replica:0/task:0/device:XLA_CPU:0, XLA_CPU, 0, 0)\n"
          ]
        },
        {
          "output_type": "stream",
          "name": "stderr",
          "text": [
            "INFO:tensorflow:*** Available Device: _DeviceAttributes(/job:worker/replica:0/task:0/device:XLA_CPU:0, XLA_CPU, 0, 0)\n"
          ]
        }
      ],
      "source": [
        "%tensorflow_version 2.x\n",
        "import tensorflow as tf\n",
        "print(\"Tensorflow version \" + tf.__version__)\n",
        "\n",
        "try:\n",
        "  tpu = tf.distribute.cluster_resolver.TPUClusterResolver()  # TPU detection\n",
        "  print('Running on TPU ', tpu.cluster_spec().as_dict()['worker'])\n",
        "except ValueError:\n",
        "  raise BaseException('ERROR: Not connected to a TPU runtime; please see the previous cell in this notebook for instructions!')\n",
        "\n",
        "tf.config.experimental_connect_to_cluster(tpu)\n",
        "tf.tpu.experimental.initialize_tpu_system(tpu)\n",
        "tpu_strategy = tf.distribute.experimental.TPUStrategy(tpu)"
      ]
    },
    {
      "cell_type": "code",
      "source": [
        "from google.colab import drive\n",
        "drive.mount('/content/drive')"
      ],
      "metadata": {
        "colab": {
          "base_uri": "https://localhost:8080/"
        },
        "id": "sbkzch19Y4MG",
        "outputId": "8bce0a79-ec4e-40a2-cdf5-71f249b101a6"
      },
      "execution_count": 2,
      "outputs": [
        {
          "output_type": "stream",
          "name": "stdout",
          "text": [
            "Mounted at /content/drive\n"
          ]
        }
      ]
    },
    {
      "cell_type": "code",
      "execution_count": 3,
      "metadata": {
        "id": "x6mVW4YKpixJ"
      },
      "outputs": [],
      "source": [
        "import pandas as pd\n",
        "import numpy as np\n",
        "\n",
        "from keras import optimizers, losses, activations, models\n",
        "from keras.callbacks import ModelCheckpoint, EarlyStopping, LearningRateScheduler, ReduceLROnPlateau\n",
        "from keras.layers import Dense, Input, Dropout, Convolution1D, MaxPool1D, GlobalMaxPool1D, GlobalAveragePooling1D, concatenate\n",
        "from sklearn.metrics import f1_score, accuracy_score\n",
        "from sklearn.metrics import ConfusionMatrixDisplay, confusion_matrix\n",
        "\n",
        "import tensorflow as tf\n",
        "from keras import Input, Model, layers\n",
        "from keras.models import Sequential\n",
        "from keras.layers import Dense, Flatten\n",
        "from keras import losses\n",
        "from tensorflow import keras\n",
        "from keras.callbacks import EarlyStopping\n",
        "\n",
        "import matplotlib.pyplot as plt\n",
        "\n",
        "from keras.models import Sequential\n",
        "from keras.layers import Dense, Activation, Dropout, Conv1D, GlobalAveragePooling1D, MaxPooling1D\n",
        "from keras import regularizers\n",
        "from keras.utils import np_utils\n",
        "from keras import utils\n",
        "from sklearn.model_selection import train_test_split\n",
        "\n",
        "import os\n",
        "from google.colab import drive\n",
        "from google.colab import files"
      ]
    },
    {
      "cell_type": "markdown",
      "metadata": {
        "id": "uLPivENoqojm"
      },
      "source": [
        "TRANSFORMER MITBIH"
      ]
    },
    {
      "cell_type": "code",
      "execution_count": 4,
      "metadata": {
        "id": "6TIb9oHkqnxQ"
      },
      "outputs": [],
      "source": [
        "df_1 = pd.read_csv(\"/content/drive/MyDrive/MLHC_PROJECT1/ptbdb_normal.csv\", header=None)\n",
        "df_2 = pd.read_csv(\"/content/drive/MyDrive/MLHC_PROJECT1/ptbdb_abnormal.csv\", header=None)\n",
        "df = pd.concat([df_1, df_2])\n",
        "\n",
        "df_train, df_test = train_test_split(df, test_size=0.2, random_state=1337, stratify=df[187])\n",
        "\n",
        "\n",
        "y_train = np.array(df_train[187].values).astype(np.int8)\n",
        "X_train = np.array(df_train[list(range(187))].values)[..., np.newaxis]\n",
        "\n",
        "y_test = np.array(df_test[187].values).astype(np.int8)\n",
        "X_test = np.array(df_test[list(range(187))].values)[..., np.newaxis]"
      ]
    },
    {
      "cell_type": "code",
      "execution_count": 5,
      "metadata": {
        "id": "pgXzuMsVryvV"
      },
      "outputs": [],
      "source": [
        "def transformer_encoder(inputs, head_size, num_heads, ff_dim, dropout=0):\n",
        "    # Normalization and Attention\n",
        "    x = layers.LayerNormalization(epsilon=1e-6)(inputs)\n",
        "    x = layers.MultiHeadAttention(\n",
        "        key_dim=head_size, num_heads=num_heads, dropout=dropout\n",
        "    )(x, x)\n",
        "    x = layers.Dropout(dropout)(x)\n",
        "    res = x + inputs\n",
        "\n",
        "    # Feed Forward Part\n",
        "    x = layers.LayerNormalization(epsilon=1e-6)(res)\n",
        "    x = layers.Conv1D(filters=ff_dim, kernel_size=1, activation=\"relu\")(x)\n",
        "    x = layers.Dropout(dropout)(x)\n",
        "    x = layers.Conv1D(filters=inputs.shape[-1], kernel_size=1)(x)\n",
        "    return x + res"
      ]
    },
    {
      "cell_type": "code",
      "execution_count": 6,
      "metadata": {
        "id": "KVk5tW9Lr93M"
      },
      "outputs": [],
      "source": [
        "def build_model(\n",
        "    input_shape,\n",
        "    head_size,\n",
        "    num_heads,\n",
        "    ff_dim,\n",
        "    num_transformer_blocks,\n",
        "    mlp_units,\n",
        "    dropout=0,\n",
        "    mlp_dropout=0,\n",
        "    n_classes = 2,\n",
        "):\n",
        "    inputs = keras.Input(shape=input_shape)\n",
        "    x = inputs\n",
        "    for _ in range(num_transformer_blocks):\n",
        "        x = transformer_encoder(x, head_size, num_heads, ff_dim, dropout)\n",
        "\n",
        "    x = layers.GlobalAveragePooling1D(data_format=\"channels_first\")(x)\n",
        "    for dim in mlp_units:\n",
        "        x = layers.Dense(dim, activation=\"relu\")(x)\n",
        "        x = layers.Dropout(mlp_dropout)(x)\n",
        "    outputs = layers.Dense(n_classes, activation=\"softmax\")(x)\n",
        "    return keras.Model(inputs, outputs)"
      ]
    },
    {
      "cell_type": "code",
      "execution_count": 9,
      "metadata": {
        "colab": {
          "base_uri": "https://localhost:8080/"
        },
        "id": "1-1NhlW9sCfV",
        "outputId": "a96f1da3-913d-470f-ec21-ea1d9e450ab3"
      },
      "outputs": [
        {
          "output_type": "stream",
          "name": "stdout",
          "text": [
            "Number of weights: 53066\n"
          ]
        }
      ],
      "source": [
        "input_shape = X_train.shape[1:]\n",
        "\n",
        "with tpu_strategy.scope(): # creating the model in the TPUStrategy scope means we will train the model on the TPU\n",
        "  model = build_model(\n",
        "    input_shape,\n",
        "    head_size=256,\n",
        "    num_heads=4,\n",
        "    ff_dim=4,\n",
        "    num_transformer_blocks=4,\n",
        "    mlp_units=[128],\n",
        "    mlp_dropout=0.4,\n",
        "    dropout=0.25,\n",
        "    n_classes=2\n",
        "  )\n",
        "\n",
        "  model.compile(\n",
        "    loss=\"sparse_categorical_crossentropy\",\n",
        "    optimizer=keras.optimizers.Adam(learning_rate=1e-3),\n",
        "    metrics=[\"sparse_categorical_accuracy\"],\n",
        "  )\n",
        "\n",
        "file_path = \"/content/drive/MyDrive/MLHC_PROJECT1/transformer.h5\"\n",
        "\n",
        "# model.summary()\n",
        "tf.keras.utils.plot_model(model, show_shapes=True, dpi=64)\n",
        "print(\"Number of weights: {}\".format(model.count_params()))"
      ]
    },
    {
      "cell_type": "code",
      "source": [
        "callbacks = [keras.callbacks.EarlyStopping(patience=15, restore_best_weights=True), \n",
        "             keras.callbacks.ModelCheckpoint(file_path, monitor='val_loss', verbose=1, save_best_only=True, mode='min')]\n",
        "\n",
        "history = model.fit(\n",
        "    X_train,\n",
        "    y_train,\n",
        "    validation_split=0.2,\n",
        "    epochs=200,\n",
        "    batch_size=64,\n",
        "    callbacks=callbacks,\n",
        ")"
      ],
      "metadata": {
        "colab": {
          "base_uri": "https://localhost:8080/"
        },
        "id": "6_BBzJ-sK6UE",
        "outputId": "5ac89f81-4ace-424b-fa95-2462a39f1a7a"
      },
      "execution_count": 10,
      "outputs": [
        {
          "output_type": "stream",
          "name": "stdout",
          "text": [
            "Epoch 1/200\n",
            "146/146 [==============================] - ETA: 0s - loss: 0.4642 - sparse_categorical_accuracy: 0.7748\n",
            "Epoch 1: val_loss improved from inf to 0.41256, saving model to /content/drive/MyDrive/MLHC_PROJECT1/transformer.h5\n",
            "146/146 [==============================] - 27s 86ms/step - loss: 0.4642 - sparse_categorical_accuracy: 0.7748 - val_loss: 0.4126 - val_sparse_categorical_accuracy: 0.8124\n",
            "Epoch 2/200\n",
            "145/146 [============================>.] - ETA: 0s - loss: 0.3958 - sparse_categorical_accuracy: 0.8113\n",
            "Epoch 2: val_loss improved from 0.41256 to 0.36685, saving model to /content/drive/MyDrive/MLHC_PROJECT1/transformer.h5\n",
            "146/146 [==============================] - 4s 30ms/step - loss: 0.3958 - sparse_categorical_accuracy: 0.8114 - val_loss: 0.3669 - val_sparse_categorical_accuracy: 0.8313\n",
            "Epoch 3/200\n",
            "145/146 [============================>.] - ETA: 0s - loss: 0.3603 - sparse_categorical_accuracy: 0.8335\n",
            "Epoch 3: val_loss improved from 0.36685 to 0.34535, saving model to /content/drive/MyDrive/MLHC_PROJECT1/transformer.h5\n",
            "146/146 [==============================] - 5s 31ms/step - loss: 0.3604 - sparse_categorical_accuracy: 0.8332 - val_loss: 0.3453 - val_sparse_categorical_accuracy: 0.8489\n",
            "Epoch 4/200\n",
            "145/146 [============================>.] - ETA: 0s - loss: 0.3361 - sparse_categorical_accuracy: 0.8514\n",
            "Epoch 4: val_loss improved from 0.34535 to 0.31411, saving model to /content/drive/MyDrive/MLHC_PROJECT1/transformer.h5\n",
            "146/146 [==============================] - 4s 31ms/step - loss: 0.3357 - sparse_categorical_accuracy: 0.8516 - val_loss: 0.3141 - val_sparse_categorical_accuracy: 0.8678\n",
            "Epoch 5/200\n",
            "145/146 [============================>.] - ETA: 0s - loss: 0.3099 - sparse_categorical_accuracy: 0.8639\n",
            "Epoch 5: val_loss improved from 0.31411 to 0.29556, saving model to /content/drive/MyDrive/MLHC_PROJECT1/transformer.h5\n",
            "146/146 [==============================] - 5s 31ms/step - loss: 0.3095 - sparse_categorical_accuracy: 0.8640 - val_loss: 0.2956 - val_sparse_categorical_accuracy: 0.8841\n",
            "Epoch 6/200\n",
            "145/146 [============================>.] - ETA: 0s - loss: 0.2940 - sparse_categorical_accuracy: 0.8789\n",
            "Epoch 6: val_loss improved from 0.29556 to 0.28421, saving model to /content/drive/MyDrive/MLHC_PROJECT1/transformer.h5\n",
            "146/146 [==============================] - 5s 31ms/step - loss: 0.2942 - sparse_categorical_accuracy: 0.8789 - val_loss: 0.2842 - val_sparse_categorical_accuracy: 0.8875\n",
            "Epoch 7/200\n",
            "145/146 [============================>.] - ETA: 0s - loss: 0.2787 - sparse_categorical_accuracy: 0.8884\n",
            "Epoch 7: val_loss improved from 0.28421 to 0.26888, saving model to /content/drive/MyDrive/MLHC_PROJECT1/transformer.h5\n",
            "146/146 [==============================] - 4s 31ms/step - loss: 0.2786 - sparse_categorical_accuracy: 0.8885 - val_loss: 0.2689 - val_sparse_categorical_accuracy: 0.8978\n",
            "Epoch 8/200\n",
            "145/146 [============================>.] - ETA: 0s - loss: 0.2608 - sparse_categorical_accuracy: 0.8958\n",
            "Epoch 8: val_loss improved from 0.26888 to 0.25265, saving model to /content/drive/MyDrive/MLHC_PROJECT1/transformer.h5\n",
            "146/146 [==============================] - 4s 30ms/step - loss: 0.2609 - sparse_categorical_accuracy: 0.8957 - val_loss: 0.2526 - val_sparse_categorical_accuracy: 0.9025\n",
            "Epoch 9/200\n",
            "145/146 [============================>.] - ETA: 0s - loss: 0.2504 - sparse_categorical_accuracy: 0.9011\n",
            "Epoch 9: val_loss improved from 0.25265 to 0.24307, saving model to /content/drive/MyDrive/MLHC_PROJECT1/transformer.h5\n",
            "146/146 [==============================] - 4s 30ms/step - loss: 0.2503 - sparse_categorical_accuracy: 0.9010 - val_loss: 0.2431 - val_sparse_categorical_accuracy: 0.8965\n",
            "Epoch 10/200\n",
            "145/146 [============================>.] - ETA: 0s - loss: 0.2379 - sparse_categorical_accuracy: 0.9050\n",
            "Epoch 10: val_loss improved from 0.24307 to 0.23136, saving model to /content/drive/MyDrive/MLHC_PROJECT1/transformer.h5\n",
            "146/146 [==============================] - 5s 31ms/step - loss: 0.2375 - sparse_categorical_accuracy: 0.9053 - val_loss: 0.2314 - val_sparse_categorical_accuracy: 0.9137\n",
            "Epoch 11/200\n",
            "145/146 [============================>.] - ETA: 0s - loss: 0.2335 - sparse_categorical_accuracy: 0.9111\n",
            "Epoch 11: val_loss improved from 0.23136 to 0.22300, saving model to /content/drive/MyDrive/MLHC_PROJECT1/transformer.h5\n",
            "146/146 [==============================] - 5s 31ms/step - loss: 0.2334 - sparse_categorical_accuracy: 0.9111 - val_loss: 0.2230 - val_sparse_categorical_accuracy: 0.9133\n",
            "Epoch 12/200\n",
            "145/146 [============================>.] - ETA: 0s - loss: 0.2217 - sparse_categorical_accuracy: 0.9156\n",
            "Epoch 12: val_loss did not improve from 0.22300\n",
            "146/146 [==============================] - 4s 25ms/step - loss: 0.2218 - sparse_categorical_accuracy: 0.9155 - val_loss: 0.2255 - val_sparse_categorical_accuracy: 0.8991\n",
            "Epoch 13/200\n",
            "145/146 [============================>.] - ETA: 0s - loss: 0.2128 - sparse_categorical_accuracy: 0.9156\n",
            "Epoch 13: val_loss improved from 0.22300 to 0.20528, saving model to /content/drive/MyDrive/MLHC_PROJECT1/transformer.h5\n",
            "146/146 [==============================] - 5s 33ms/step - loss: 0.2126 - sparse_categorical_accuracy: 0.9156 - val_loss: 0.2053 - val_sparse_categorical_accuracy: 0.9184\n",
            "Epoch 14/200\n",
            "145/146 [============================>.] - ETA: 0s - loss: 0.2071 - sparse_categorical_accuracy: 0.9214\n",
            "Epoch 14: val_loss improved from 0.20528 to 0.20134, saving model to /content/drive/MyDrive/MLHC_PROJECT1/transformer.h5\n",
            "146/146 [==============================] - 4s 30ms/step - loss: 0.2069 - sparse_categorical_accuracy: 0.9217 - val_loss: 0.2013 - val_sparse_categorical_accuracy: 0.9201\n",
            "Epoch 15/200\n",
            "145/146 [============================>.] - ETA: 0s - loss: 0.2032 - sparse_categorical_accuracy: 0.9212\n",
            "Epoch 15: val_loss improved from 0.20134 to 0.20053, saving model to /content/drive/MyDrive/MLHC_PROJECT1/transformer.h5\n",
            "146/146 [==============================] - 4s 30ms/step - loss: 0.2030 - sparse_categorical_accuracy: 0.9214 - val_loss: 0.2005 - val_sparse_categorical_accuracy: 0.9206\n",
            "Epoch 16/200\n",
            "145/146 [============================>.] - ETA: 0s - loss: 0.1944 - sparse_categorical_accuracy: 0.9264\n",
            "Epoch 16: val_loss improved from 0.20053 to 0.18891, saving model to /content/drive/MyDrive/MLHC_PROJECT1/transformer.h5\n",
            "146/146 [==============================] - 4s 30ms/step - loss: 0.1945 - sparse_categorical_accuracy: 0.9263 - val_loss: 0.1889 - val_sparse_categorical_accuracy: 0.9296\n",
            "Epoch 17/200\n",
            "145/146 [============================>.] - ETA: 0s - loss: 0.1887 - sparse_categorical_accuracy: 0.9321\n",
            "Epoch 17: val_loss improved from 0.18891 to 0.18418, saving model to /content/drive/MyDrive/MLHC_PROJECT1/transformer.h5\n",
            "146/146 [==============================] - 4s 30ms/step - loss: 0.1884 - sparse_categorical_accuracy: 0.9323 - val_loss: 0.1842 - val_sparse_categorical_accuracy: 0.9292\n",
            "Epoch 18/200\n",
            "145/146 [============================>.] - ETA: 0s - loss: 0.1831 - sparse_categorical_accuracy: 0.9331\n",
            "Epoch 18: val_loss improved from 0.18418 to 0.18345, saving model to /content/drive/MyDrive/MLHC_PROJECT1/transformer.h5\n",
            "146/146 [==============================] - 4s 30ms/step - loss: 0.1830 - sparse_categorical_accuracy: 0.9332 - val_loss: 0.1834 - val_sparse_categorical_accuracy: 0.9270\n",
            "Epoch 19/200\n",
            "145/146 [============================>.] - ETA: 0s - loss: 0.1834 - sparse_categorical_accuracy: 0.9303\n",
            "Epoch 19: val_loss improved from 0.18345 to 0.17817, saving model to /content/drive/MyDrive/MLHC_PROJECT1/transformer.h5\n",
            "146/146 [==============================] - 4s 29ms/step - loss: 0.1834 - sparse_categorical_accuracy: 0.9303 - val_loss: 0.1782 - val_sparse_categorical_accuracy: 0.9317\n",
            "Epoch 20/200\n",
            "145/146 [============================>.] - ETA: 0s - loss: 0.1739 - sparse_categorical_accuracy: 0.9345\n",
            "Epoch 20: val_loss improved from 0.17817 to 0.17104, saving model to /content/drive/MyDrive/MLHC_PROJECT1/transformer.h5\n",
            "146/146 [==============================] - 4s 30ms/step - loss: 0.1739 - sparse_categorical_accuracy: 0.9345 - val_loss: 0.1710 - val_sparse_categorical_accuracy: 0.9360\n",
            "Epoch 21/200\n",
            "145/146 [============================>.] - ETA: 0s - loss: 0.1715 - sparse_categorical_accuracy: 0.9373\n",
            "Epoch 21: val_loss did not improve from 0.17104\n",
            "146/146 [==============================] - 4s 25ms/step - loss: 0.1714 - sparse_categorical_accuracy: 0.9374 - val_loss: 0.1756 - val_sparse_categorical_accuracy: 0.9304\n",
            "Epoch 22/200\n",
            "145/146 [============================>.] - ETA: 0s - loss: 0.1674 - sparse_categorical_accuracy: 0.9397\n",
            "Epoch 22: val_loss did not improve from 0.17104\n",
            "146/146 [==============================] - 4s 25ms/step - loss: 0.1675 - sparse_categorical_accuracy: 0.9395 - val_loss: 0.1712 - val_sparse_categorical_accuracy: 0.9309\n",
            "Epoch 23/200\n",
            "145/146 [============================>.] - ETA: 0s - loss: 0.1632 - sparse_categorical_accuracy: 0.9406\n",
            "Epoch 23: val_loss improved from 0.17104 to 0.16040, saving model to /content/drive/MyDrive/MLHC_PROJECT1/transformer.h5\n",
            "146/146 [==============================] - 5s 31ms/step - loss: 0.1633 - sparse_categorical_accuracy: 0.9405 - val_loss: 0.1604 - val_sparse_categorical_accuracy: 0.9343\n",
            "Epoch 24/200\n",
            "145/146 [============================>.] - ETA: 0s - loss: 0.1594 - sparse_categorical_accuracy: 0.9436\n",
            "Epoch 24: val_loss did not improve from 0.16040\n",
            "146/146 [==============================] - 4s 25ms/step - loss: 0.1595 - sparse_categorical_accuracy: 0.9437 - val_loss: 0.1736 - val_sparse_categorical_accuracy: 0.9304\n",
            "Epoch 25/200\n",
            "145/146 [============================>.] - ETA: 0s - loss: 0.1557 - sparse_categorical_accuracy: 0.9445\n",
            "Epoch 25: val_loss improved from 0.16040 to 0.15944, saving model to /content/drive/MyDrive/MLHC_PROJECT1/transformer.h5\n",
            "146/146 [==============================] - 4s 30ms/step - loss: 0.1558 - sparse_categorical_accuracy: 0.9446 - val_loss: 0.1594 - val_sparse_categorical_accuracy: 0.9360\n",
            "Epoch 26/200\n",
            "145/146 [============================>.] - ETA: 0s - loss: 0.1551 - sparse_categorical_accuracy: 0.9440\n",
            "Epoch 26: val_loss did not improve from 0.15944\n",
            "146/146 [==============================] - 4s 25ms/step - loss: 0.1550 - sparse_categorical_accuracy: 0.9439 - val_loss: 0.1663 - val_sparse_categorical_accuracy: 0.9343\n",
            "Epoch 27/200\n",
            "145/146 [============================>.] - ETA: 0s - loss: 0.1528 - sparse_categorical_accuracy: 0.9443\n",
            "Epoch 27: val_loss improved from 0.15944 to 0.15592, saving model to /content/drive/MyDrive/MLHC_PROJECT1/transformer.h5\n",
            "146/146 [==============================] - 5s 32ms/step - loss: 0.1531 - sparse_categorical_accuracy: 0.9442 - val_loss: 0.1559 - val_sparse_categorical_accuracy: 0.9369\n",
            "Epoch 28/200\n",
            "145/146 [============================>.] - ETA: 0s - loss: 0.1442 - sparse_categorical_accuracy: 0.9473\n",
            "Epoch 28: val_loss did not improve from 0.15592\n",
            "146/146 [==============================] - 4s 25ms/step - loss: 0.1442 - sparse_categorical_accuracy: 0.9473 - val_loss: 0.1697 - val_sparse_categorical_accuracy: 0.9283\n",
            "Epoch 29/200\n",
            "145/146 [============================>.] - ETA: 0s - loss: 0.1462 - sparse_categorical_accuracy: 0.9489\n",
            "Epoch 29: val_loss improved from 0.15592 to 0.15524, saving model to /content/drive/MyDrive/MLHC_PROJECT1/transformer.h5\n",
            "146/146 [==============================] - 4s 31ms/step - loss: 0.1461 - sparse_categorical_accuracy: 0.9490 - val_loss: 0.1552 - val_sparse_categorical_accuracy: 0.9390\n",
            "Epoch 30/200\n",
            "145/146 [============================>.] - ETA: 0s - loss: 0.1443 - sparse_categorical_accuracy: 0.9494\n",
            "Epoch 30: val_loss improved from 0.15524 to 0.14793, saving model to /content/drive/MyDrive/MLHC_PROJECT1/transformer.h5\n",
            "146/146 [==============================] - 4s 30ms/step - loss: 0.1442 - sparse_categorical_accuracy: 0.9493 - val_loss: 0.1479 - val_sparse_categorical_accuracy: 0.9412\n",
            "Epoch 31/200\n",
            "145/146 [============================>.] - ETA: 0s - loss: 0.1454 - sparse_categorical_accuracy: 0.9471\n",
            "Epoch 31: val_loss did not improve from 0.14793\n",
            "146/146 [==============================] - 4s 25ms/step - loss: 0.1459 - sparse_categorical_accuracy: 0.9467 - val_loss: 0.1573 - val_sparse_categorical_accuracy: 0.9438\n",
            "Epoch 32/200\n",
            "145/146 [============================>.] - ETA: 0s - loss: 0.1406 - sparse_categorical_accuracy: 0.9519\n",
            "Epoch 32: val_loss did not improve from 0.14793\n",
            "146/146 [==============================] - 4s 25ms/step - loss: 0.1405 - sparse_categorical_accuracy: 0.9520 - val_loss: 0.1614 - val_sparse_categorical_accuracy: 0.9365\n",
            "Epoch 33/200\n",
            "145/146 [============================>.] - ETA: 0s - loss: 0.1393 - sparse_categorical_accuracy: 0.9514\n",
            "Epoch 33: val_loss did not improve from 0.14793\n",
            "146/146 [==============================] - 4s 25ms/step - loss: 0.1389 - sparse_categorical_accuracy: 0.9516 - val_loss: 0.1523 - val_sparse_categorical_accuracy: 0.9433\n",
            "Epoch 34/200\n",
            "145/146 [============================>.] - ETA: 0s - loss: 0.1395 - sparse_categorical_accuracy: 0.9516\n",
            "Epoch 34: val_loss improved from 0.14793 to 0.14302, saving model to /content/drive/MyDrive/MLHC_PROJECT1/transformer.h5\n",
            "146/146 [==============================] - 5s 32ms/step - loss: 0.1394 - sparse_categorical_accuracy: 0.9517 - val_loss: 0.1430 - val_sparse_categorical_accuracy: 0.9489\n",
            "Epoch 35/200\n",
            "145/146 [============================>.] - ETA: 0s - loss: 0.1376 - sparse_categorical_accuracy: 0.9505\n",
            "Epoch 35: val_loss improved from 0.14302 to 0.14073, saving model to /content/drive/MyDrive/MLHC_PROJECT1/transformer.h5\n",
            "146/146 [==============================] - 4s 29ms/step - loss: 0.1375 - sparse_categorical_accuracy: 0.9506 - val_loss: 0.1407 - val_sparse_categorical_accuracy: 0.9450\n",
            "Epoch 36/200\n",
            "145/146 [============================>.] - ETA: 0s - loss: 0.1303 - sparse_categorical_accuracy: 0.9531\n",
            "Epoch 36: val_loss did not improve from 0.14073\n",
            "146/146 [==============================] - 4s 25ms/step - loss: 0.1300 - sparse_categorical_accuracy: 0.9533 - val_loss: 0.1436 - val_sparse_categorical_accuracy: 0.9446\n",
            "Epoch 37/200\n",
            "145/146 [============================>.] - ETA: 0s - loss: 0.1271 - sparse_categorical_accuracy: 0.9544\n",
            "Epoch 37: val_loss did not improve from 0.14073\n",
            "146/146 [==============================] - 4s 25ms/step - loss: 0.1268 - sparse_categorical_accuracy: 0.9546 - val_loss: 0.1525 - val_sparse_categorical_accuracy: 0.9412\n",
            "Epoch 38/200\n",
            "145/146 [============================>.] - ETA: 0s - loss: 0.1252 - sparse_categorical_accuracy: 0.9580\n",
            "Epoch 38: val_loss improved from 0.14073 to 0.13825, saving model to /content/drive/MyDrive/MLHC_PROJECT1/transformer.h5\n",
            "146/146 [==============================] - 5s 32ms/step - loss: 0.1251 - sparse_categorical_accuracy: 0.9580 - val_loss: 0.1383 - val_sparse_categorical_accuracy: 0.9468\n",
            "Epoch 39/200\n",
            "145/146 [============================>.] - ETA: 0s - loss: 0.1210 - sparse_categorical_accuracy: 0.9580\n",
            "Epoch 39: val_loss improved from 0.13825 to 0.13498, saving model to /content/drive/MyDrive/MLHC_PROJECT1/transformer.h5\n",
            "146/146 [==============================] - 4s 30ms/step - loss: 0.1212 - sparse_categorical_accuracy: 0.9578 - val_loss: 0.1350 - val_sparse_categorical_accuracy: 0.9463\n",
            "Epoch 40/200\n",
            "145/146 [============================>.] - ETA: 0s - loss: 0.1272 - sparse_categorical_accuracy: 0.9566\n",
            "Epoch 40: val_loss did not improve from 0.13498\n",
            "146/146 [==============================] - 4s 25ms/step - loss: 0.1272 - sparse_categorical_accuracy: 0.9564 - val_loss: 0.1369 - val_sparse_categorical_accuracy: 0.9485\n",
            "Epoch 41/200\n",
            "145/146 [============================>.] - ETA: 0s - loss: 0.1251 - sparse_categorical_accuracy: 0.9569\n",
            "Epoch 41: val_loss did not improve from 0.13498\n",
            "146/146 [==============================] - 4s 24ms/step - loss: 0.1255 - sparse_categorical_accuracy: 0.9566 - val_loss: 0.1357 - val_sparse_categorical_accuracy: 0.9489\n",
            "Epoch 42/200\n",
            "145/146 [============================>.] - ETA: 0s - loss: 0.1174 - sparse_categorical_accuracy: 0.9582\n",
            "Epoch 42: val_loss improved from 0.13498 to 0.13490, saving model to /content/drive/MyDrive/MLHC_PROJECT1/transformer.h5\n",
            "146/146 [==============================] - 5s 31ms/step - loss: 0.1174 - sparse_categorical_accuracy: 0.9581 - val_loss: 0.1349 - val_sparse_categorical_accuracy: 0.9489\n",
            "Epoch 43/200\n",
            "145/146 [============================>.] - ETA: 0s - loss: 0.1182 - sparse_categorical_accuracy: 0.9594\n",
            "Epoch 43: val_loss did not improve from 0.13490\n",
            "146/146 [==============================] - 4s 25ms/step - loss: 0.1183 - sparse_categorical_accuracy: 0.9593 - val_loss: 0.1367 - val_sparse_categorical_accuracy: 0.9463\n",
            "Epoch 44/200\n",
            "145/146 [============================>.] - ETA: 0s - loss: 0.1254 - sparse_categorical_accuracy: 0.9546\n",
            "Epoch 44: val_loss did not improve from 0.13490\n",
            "146/146 [==============================] - 4s 25ms/step - loss: 0.1254 - sparse_categorical_accuracy: 0.9547 - val_loss: 0.1457 - val_sparse_categorical_accuracy: 0.9446\n",
            "Epoch 45/200\n",
            "145/146 [============================>.] - ETA: 0s - loss: 0.1237 - sparse_categorical_accuracy: 0.9567\n",
            "Epoch 45: val_loss improved from 0.13490 to 0.13432, saving model to /content/drive/MyDrive/MLHC_PROJECT1/transformer.h5\n",
            "146/146 [==============================] - 5s 31ms/step - loss: 0.1242 - sparse_categorical_accuracy: 0.9566 - val_loss: 0.1343 - val_sparse_categorical_accuracy: 0.9506\n",
            "Epoch 46/200\n",
            "145/146 [============================>.] - ETA: 0s - loss: 0.1113 - sparse_categorical_accuracy: 0.9622\n",
            "Epoch 46: val_loss improved from 0.13432 to 0.13406, saving model to /content/drive/MyDrive/MLHC_PROJECT1/transformer.h5\n",
            "146/146 [==============================] - 4s 30ms/step - loss: 0.1111 - sparse_categorical_accuracy: 0.9623 - val_loss: 0.1341 - val_sparse_categorical_accuracy: 0.9442\n",
            "Epoch 47/200\n",
            "145/146 [============================>.] - ETA: 0s - loss: 0.1073 - sparse_categorical_accuracy: 0.9615\n",
            "Epoch 47: val_loss improved from 0.13406 to 0.13216, saving model to /content/drive/MyDrive/MLHC_PROJECT1/transformer.h5\n",
            "146/146 [==============================] - 4s 30ms/step - loss: 0.1076 - sparse_categorical_accuracy: 0.9614 - val_loss: 0.1322 - val_sparse_categorical_accuracy: 0.9502\n",
            "Epoch 48/200\n",
            "145/146 [============================>.] - ETA: 0s - loss: 0.1090 - sparse_categorical_accuracy: 0.9616\n",
            "Epoch 48: val_loss improved from 0.13216 to 0.12791, saving model to /content/drive/MyDrive/MLHC_PROJECT1/transformer.h5\n",
            "146/146 [==============================] - 4s 30ms/step - loss: 0.1091 - sparse_categorical_accuracy: 0.9617 - val_loss: 0.1279 - val_sparse_categorical_accuracy: 0.9528\n",
            "Epoch 49/200\n",
            "145/146 [============================>.] - ETA: 0s - loss: 0.1102 - sparse_categorical_accuracy: 0.9622\n",
            "Epoch 49: val_loss did not improve from 0.12791\n",
            "146/146 [==============================] - 4s 25ms/step - loss: 0.1101 - sparse_categorical_accuracy: 0.9623 - val_loss: 0.1316 - val_sparse_categorical_accuracy: 0.9472\n",
            "Epoch 50/200\n",
            "145/146 [============================>.] - ETA: 0s - loss: 0.1106 - sparse_categorical_accuracy: 0.9607\n",
            "Epoch 50: val_loss did not improve from 0.12791\n",
            "146/146 [==============================] - 4s 25ms/step - loss: 0.1110 - sparse_categorical_accuracy: 0.9606 - val_loss: 0.1301 - val_sparse_categorical_accuracy: 0.9532\n",
            "Epoch 51/200\n",
            "145/146 [============================>.] - ETA: 0s - loss: 0.1071 - sparse_categorical_accuracy: 0.9637\n",
            "Epoch 51: val_loss did not improve from 0.12791\n",
            "146/146 [==============================] - 4s 25ms/step - loss: 0.1071 - sparse_categorical_accuracy: 0.9637 - val_loss: 0.1283 - val_sparse_categorical_accuracy: 0.9523\n",
            "Epoch 52/200\n",
            "145/146 [============================>.] - ETA: 0s - loss: 0.1074 - sparse_categorical_accuracy: 0.9627\n",
            "Epoch 52: val_loss did not improve from 0.12791\n",
            "146/146 [==============================] - 4s 25ms/step - loss: 0.1073 - sparse_categorical_accuracy: 0.9627 - val_loss: 0.1385 - val_sparse_categorical_accuracy: 0.9459\n",
            "Epoch 53/200\n",
            "145/146 [============================>.] - ETA: 0s - loss: 0.1057 - sparse_categorical_accuracy: 0.9627\n",
            "Epoch 53: val_loss did not improve from 0.12791\n",
            "146/146 [==============================] - 4s 25ms/step - loss: 0.1055 - sparse_categorical_accuracy: 0.9628 - val_loss: 0.1468 - val_sparse_categorical_accuracy: 0.9455\n",
            "Epoch 54/200\n",
            "145/146 [============================>.] - ETA: 0s - loss: 0.1076 - sparse_categorical_accuracy: 0.9636\n",
            "Epoch 54: val_loss improved from 0.12791 to 0.12627, saving model to /content/drive/MyDrive/MLHC_PROJECT1/transformer.h5\n",
            "146/146 [==============================] - 5s 31ms/step - loss: 0.1074 - sparse_categorical_accuracy: 0.9637 - val_loss: 0.1263 - val_sparse_categorical_accuracy: 0.9476\n",
            "Epoch 55/200\n",
            "145/146 [============================>.] - ETA: 0s - loss: 0.1057 - sparse_categorical_accuracy: 0.9648\n",
            "Epoch 55: val_loss did not improve from 0.12627\n",
            "146/146 [==============================] - 4s 25ms/step - loss: 0.1061 - sparse_categorical_accuracy: 0.9648 - val_loss: 0.1335 - val_sparse_categorical_accuracy: 0.9515\n",
            "Epoch 56/200\n",
            "145/146 [============================>.] - ETA: 0s - loss: 0.1037 - sparse_categorical_accuracy: 0.9647\n",
            "Epoch 56: val_loss improved from 0.12627 to 0.12468, saving model to /content/drive/MyDrive/MLHC_PROJECT1/transformer.h5\n",
            "146/146 [==============================] - 4s 30ms/step - loss: 0.1040 - sparse_categorical_accuracy: 0.9646 - val_loss: 0.1247 - val_sparse_categorical_accuracy: 0.9523\n",
            "Epoch 57/200\n",
            "145/146 [============================>.] - ETA: 0s - loss: 0.1031 - sparse_categorical_accuracy: 0.9642\n",
            "Epoch 57: val_loss improved from 0.12468 to 0.12345, saving model to /content/drive/MyDrive/MLHC_PROJECT1/transformer.h5\n",
            "146/146 [==============================] - 4s 31ms/step - loss: 0.1031 - sparse_categorical_accuracy: 0.9642 - val_loss: 0.1235 - val_sparse_categorical_accuracy: 0.9523\n",
            "Epoch 58/200\n",
            "145/146 [============================>.] - ETA: 0s - loss: 0.0988 - sparse_categorical_accuracy: 0.9671\n",
            "Epoch 58: val_loss did not improve from 0.12345\n",
            "146/146 [==============================] - 4s 25ms/step - loss: 0.0986 - sparse_categorical_accuracy: 0.9671 - val_loss: 0.1270 - val_sparse_categorical_accuracy: 0.9528\n",
            "Epoch 59/200\n",
            "145/146 [============================>.] - ETA: 0s - loss: 0.1043 - sparse_categorical_accuracy: 0.9634\n",
            "Epoch 59: val_loss did not improve from 0.12345\n",
            "146/146 [==============================] - 4s 25ms/step - loss: 0.1043 - sparse_categorical_accuracy: 0.9634 - val_loss: 0.1277 - val_sparse_categorical_accuracy: 0.9532\n",
            "Epoch 60/200\n",
            "145/146 [============================>.] - ETA: 0s - loss: 0.1012 - sparse_categorical_accuracy: 0.9636\n",
            "Epoch 60: val_loss did not improve from 0.12345\n",
            "146/146 [==============================] - 4s 25ms/step - loss: 0.1010 - sparse_categorical_accuracy: 0.9637 - val_loss: 0.1237 - val_sparse_categorical_accuracy: 0.9541\n",
            "Epoch 61/200\n",
            "145/146 [============================>.] - ETA: 0s - loss: 0.1022 - sparse_categorical_accuracy: 0.9652\n",
            "Epoch 61: val_loss did not improve from 0.12345\n",
            "146/146 [==============================] - 4s 25ms/step - loss: 0.1023 - sparse_categorical_accuracy: 0.9651 - val_loss: 0.1273 - val_sparse_categorical_accuracy: 0.9498\n",
            "Epoch 62/200\n",
            "145/146 [============================>.] - ETA: 0s - loss: 0.0979 - sparse_categorical_accuracy: 0.9661\n",
            "Epoch 62: val_loss did not improve from 0.12345\n",
            "146/146 [==============================] - 4s 29ms/step - loss: 0.0981 - sparse_categorical_accuracy: 0.9660 - val_loss: 0.1241 - val_sparse_categorical_accuracy: 0.9545\n",
            "Epoch 63/200\n",
            "145/146 [============================>.] - ETA: 0s - loss: 0.0998 - sparse_categorical_accuracy: 0.9663\n",
            "Epoch 63: val_loss did not improve from 0.12345\n",
            "146/146 [==============================] - 4s 25ms/step - loss: 0.0996 - sparse_categorical_accuracy: 0.9663 - val_loss: 0.1276 - val_sparse_categorical_accuracy: 0.9498\n",
            "Epoch 64/200\n",
            "145/146 [============================>.] - ETA: 0s - loss: 0.1040 - sparse_categorical_accuracy: 0.9657\n",
            "Epoch 64: val_loss improved from 0.12345 to 0.12333, saving model to /content/drive/MyDrive/MLHC_PROJECT1/transformer.h5\n",
            "146/146 [==============================] - 5s 31ms/step - loss: 0.1038 - sparse_categorical_accuracy: 0.9657 - val_loss: 0.1233 - val_sparse_categorical_accuracy: 0.9558\n",
            "Epoch 65/200\n",
            "145/146 [============================>.] - ETA: 0s - loss: 0.0969 - sparse_categorical_accuracy: 0.9662\n",
            "Epoch 65: val_loss did not improve from 0.12333\n",
            "146/146 [==============================] - 4s 25ms/step - loss: 0.0975 - sparse_categorical_accuracy: 0.9660 - val_loss: 0.1324 - val_sparse_categorical_accuracy: 0.9515\n",
            "Epoch 66/200\n",
            "145/146 [============================>.] - ETA: 0s - loss: 0.0919 - sparse_categorical_accuracy: 0.9686\n",
            "Epoch 66: val_loss improved from 0.12333 to 0.12300, saving model to /content/drive/MyDrive/MLHC_PROJECT1/transformer.h5\n",
            "146/146 [==============================] - 5s 31ms/step - loss: 0.0921 - sparse_categorical_accuracy: 0.9685 - val_loss: 0.1230 - val_sparse_categorical_accuracy: 0.9541\n",
            "Epoch 67/200\n",
            "145/146 [============================>.] - ETA: 0s - loss: 0.0944 - sparse_categorical_accuracy: 0.9671\n",
            "Epoch 67: val_loss improved from 0.12300 to 0.12004, saving model to /content/drive/MyDrive/MLHC_PROJECT1/transformer.h5\n",
            "146/146 [==============================] - 4s 30ms/step - loss: 0.0943 - sparse_categorical_accuracy: 0.9672 - val_loss: 0.1200 - val_sparse_categorical_accuracy: 0.9532\n",
            "Epoch 68/200\n",
            "145/146 [============================>.] - ETA: 0s - loss: 0.0922 - sparse_categorical_accuracy: 0.9679\n",
            "Epoch 68: val_loss did not improve from 0.12004\n",
            "146/146 [==============================] - 4s 25ms/step - loss: 0.0923 - sparse_categorical_accuracy: 0.9678 - val_loss: 0.1306 - val_sparse_categorical_accuracy: 0.9541\n",
            "Epoch 69/200\n",
            "145/146 [============================>.] - ETA: 0s - loss: 0.0897 - sparse_categorical_accuracy: 0.9698\n",
            "Epoch 69: val_loss did not improve from 0.12004\n",
            "146/146 [==============================] - 4s 25ms/step - loss: 0.0901 - sparse_categorical_accuracy: 0.9697 - val_loss: 0.1230 - val_sparse_categorical_accuracy: 0.9541\n",
            "Epoch 70/200\n",
            "145/146 [============================>.] - ETA: 0s - loss: 0.0950 - sparse_categorical_accuracy: 0.9681\n",
            "Epoch 70: val_loss did not improve from 0.12004\n",
            "146/146 [==============================] - 4s 25ms/step - loss: 0.0949 - sparse_categorical_accuracy: 0.9681 - val_loss: 0.1213 - val_sparse_categorical_accuracy: 0.9566\n",
            "Epoch 71/200\n",
            "145/146 [============================>.] - ETA: 0s - loss: 0.0916 - sparse_categorical_accuracy: 0.9692\n",
            "Epoch 71: val_loss did not improve from 0.12004\n",
            "146/146 [==============================] - 4s 25ms/step - loss: 0.0914 - sparse_categorical_accuracy: 0.9693 - val_loss: 0.1201 - val_sparse_categorical_accuracy: 0.9549\n",
            "Epoch 72/200\n",
            "145/146 [============================>.] - ETA: 0s - loss: 0.0905 - sparse_categorical_accuracy: 0.9686\n",
            "Epoch 72: val_loss improved from 0.12004 to 0.11694, saving model to /content/drive/MyDrive/MLHC_PROJECT1/transformer.h5\n",
            "146/146 [==============================] - 4s 31ms/step - loss: 0.0906 - sparse_categorical_accuracy: 0.9685 - val_loss: 0.1169 - val_sparse_categorical_accuracy: 0.9579\n",
            "Epoch 73/200\n",
            "145/146 [============================>.] - ETA: 0s - loss: 0.0873 - sparse_categorical_accuracy: 0.9696\n",
            "Epoch 73: val_loss did not improve from 0.11694\n",
            "146/146 [==============================] - 4s 25ms/step - loss: 0.0872 - sparse_categorical_accuracy: 0.9696 - val_loss: 0.1212 - val_sparse_categorical_accuracy: 0.9553\n",
            "Epoch 74/200\n",
            "145/146 [============================>.] - ETA: 0s - loss: 0.0903 - sparse_categorical_accuracy: 0.9665\n",
            "Epoch 74: val_loss improved from 0.11694 to 0.11601, saving model to /content/drive/MyDrive/MLHC_PROJECT1/transformer.h5\n",
            "146/146 [==============================] - 4s 30ms/step - loss: 0.0903 - sparse_categorical_accuracy: 0.9665 - val_loss: 0.1160 - val_sparse_categorical_accuracy: 0.9575\n",
            "Epoch 75/200\n",
            "145/146 [============================>.] - ETA: 0s - loss: 0.0888 - sparse_categorical_accuracy: 0.9723\n",
            "Epoch 75: val_loss did not improve from 0.11601\n",
            "146/146 [==============================] - 4s 25ms/step - loss: 0.0890 - sparse_categorical_accuracy: 0.9721 - val_loss: 0.1215 - val_sparse_categorical_accuracy: 0.9562\n",
            "Epoch 76/200\n",
            "145/146 [============================>.] - ETA: 0s - loss: 0.0834 - sparse_categorical_accuracy: 0.9716\n",
            "Epoch 76: val_loss improved from 0.11601 to 0.11534, saving model to /content/drive/MyDrive/MLHC_PROJECT1/transformer.h5\n",
            "146/146 [==============================] - 5s 32ms/step - loss: 0.0835 - sparse_categorical_accuracy: 0.9715 - val_loss: 0.1153 - val_sparse_categorical_accuracy: 0.9592\n",
            "Epoch 77/200\n",
            "145/146 [============================>.] - ETA: 0s - loss: 0.0788 - sparse_categorical_accuracy: 0.9737\n",
            "Epoch 77: val_loss improved from 0.11534 to 0.11393, saving model to /content/drive/MyDrive/MLHC_PROJECT1/transformer.h5\n",
            "146/146 [==============================] - 4s 30ms/step - loss: 0.0788 - sparse_categorical_accuracy: 0.9737 - val_loss: 0.1139 - val_sparse_categorical_accuracy: 0.9609\n",
            "Epoch 78/200\n",
            "145/146 [============================>.] - ETA: 0s - loss: 0.0873 - sparse_categorical_accuracy: 0.9711\n",
            "Epoch 78: val_loss did not improve from 0.11393\n",
            "146/146 [==============================] - 4s 25ms/step - loss: 0.0872 - sparse_categorical_accuracy: 0.9711 - val_loss: 0.1377 - val_sparse_categorical_accuracy: 0.9493\n",
            "Epoch 79/200\n",
            "145/146 [============================>.] - ETA: 0s - loss: 0.0827 - sparse_categorical_accuracy: 0.9731\n",
            "Epoch 79: val_loss did not improve from 0.11393\n",
            "146/146 [==============================] - 4s 25ms/step - loss: 0.0831 - sparse_categorical_accuracy: 0.9729 - val_loss: 0.1218 - val_sparse_categorical_accuracy: 0.9596\n",
            "Epoch 80/200\n",
            "145/146 [============================>.] - ETA: 0s - loss: 0.0825 - sparse_categorical_accuracy: 0.9723\n",
            "Epoch 80: val_loss did not improve from 0.11393\n",
            "146/146 [==============================] - 4s 25ms/step - loss: 0.0824 - sparse_categorical_accuracy: 0.9724 - val_loss: 0.1189 - val_sparse_categorical_accuracy: 0.9618\n",
            "Epoch 81/200\n",
            "145/146 [============================>.] - ETA: 0s - loss: 0.0809 - sparse_categorical_accuracy: 0.9726\n",
            "Epoch 81: val_loss did not improve from 0.11393\n",
            "146/146 [==============================] - 4s 25ms/step - loss: 0.0814 - sparse_categorical_accuracy: 0.9724 - val_loss: 0.1174 - val_sparse_categorical_accuracy: 0.9601\n",
            "Epoch 82/200\n",
            "145/146 [============================>.] - ETA: 0s - loss: 0.0805 - sparse_categorical_accuracy: 0.9721\n",
            "Epoch 82: val_loss did not improve from 0.11393\n",
            "146/146 [==============================] - 4s 25ms/step - loss: 0.0805 - sparse_categorical_accuracy: 0.9721 - val_loss: 0.1173 - val_sparse_categorical_accuracy: 0.9596\n",
            "Epoch 83/200\n",
            "145/146 [============================>.] - ETA: 0s - loss: 0.0828 - sparse_categorical_accuracy: 0.9728\n",
            "Epoch 83: val_loss did not improve from 0.11393\n",
            "146/146 [==============================] - 4s 25ms/step - loss: 0.0828 - sparse_categorical_accuracy: 0.9729 - val_loss: 0.1165 - val_sparse_categorical_accuracy: 0.9553\n",
            "Epoch 84/200\n",
            "145/146 [============================>.] - ETA: 0s - loss: 0.0897 - sparse_categorical_accuracy: 0.9689\n",
            "Epoch 84: val_loss did not improve from 0.11393\n",
            "146/146 [==============================] - 4s 25ms/step - loss: 0.0895 - sparse_categorical_accuracy: 0.9690 - val_loss: 0.1316 - val_sparse_categorical_accuracy: 0.9511\n",
            "Epoch 85/200\n",
            "145/146 [============================>.] - ETA: 0s - loss: 0.0765 - sparse_categorical_accuracy: 0.9718\n",
            "Epoch 85: val_loss did not improve from 0.11393\n",
            "146/146 [==============================] - 4s 25ms/step - loss: 0.0764 - sparse_categorical_accuracy: 0.9718 - val_loss: 0.1144 - val_sparse_categorical_accuracy: 0.9609\n",
            "Epoch 86/200\n",
            "145/146 [============================>.] - ETA: 0s - loss: 0.0776 - sparse_categorical_accuracy: 0.9749\n",
            "Epoch 86: val_loss did not improve from 0.11393\n",
            "146/146 [==============================] - 4s 25ms/step - loss: 0.0776 - sparse_categorical_accuracy: 0.9749 - val_loss: 0.1243 - val_sparse_categorical_accuracy: 0.9592\n",
            "Epoch 87/200\n",
            "145/146 [============================>.] - ETA: 0s - loss: 0.0813 - sparse_categorical_accuracy: 0.9713\n",
            "Epoch 87: val_loss did not improve from 0.11393\n",
            "146/146 [==============================] - 4s 25ms/step - loss: 0.0813 - sparse_categorical_accuracy: 0.9713 - val_loss: 0.1154 - val_sparse_categorical_accuracy: 0.9601\n",
            "Epoch 88/200\n",
            "145/146 [============================>.] - ETA: 0s - loss: 0.0775 - sparse_categorical_accuracy: 0.9733\n",
            "Epoch 88: val_loss did not improve from 0.11393\n",
            "146/146 [==============================] - 4s 25ms/step - loss: 0.0774 - sparse_categorical_accuracy: 0.9733 - val_loss: 0.1194 - val_sparse_categorical_accuracy: 0.9592\n",
            "Epoch 89/200\n",
            "145/146 [============================>.] - ETA: 0s - loss: 0.0774 - sparse_categorical_accuracy: 0.9744\n",
            "Epoch 89: val_loss did not improve from 0.11393\n",
            "146/146 [==============================] - 4s 25ms/step - loss: 0.0772 - sparse_categorical_accuracy: 0.9744 - val_loss: 0.1233 - val_sparse_categorical_accuracy: 0.9553\n",
            "Epoch 90/200\n",
            "145/146 [============================>.] - ETA: 0s - loss: 0.0739 - sparse_categorical_accuracy: 0.9751\n",
            "Epoch 90: val_loss did not improve from 0.11393\n",
            "146/146 [==============================] - 4s 25ms/step - loss: 0.0739 - sparse_categorical_accuracy: 0.9751 - val_loss: 0.1215 - val_sparse_categorical_accuracy: 0.9579\n",
            "Epoch 91/200\n",
            "145/146 [============================>.] - ETA: 0s - loss: 0.0827 - sparse_categorical_accuracy: 0.9738\n",
            "Epoch 91: val_loss did not improve from 0.11393\n",
            "146/146 [==============================] - 4s 25ms/step - loss: 0.0826 - sparse_categorical_accuracy: 0.9739 - val_loss: 0.1171 - val_sparse_categorical_accuracy: 0.9575\n",
            "Epoch 92/200\n",
            "145/146 [============================>.] - ETA: 0s - loss: 0.0762 - sparse_categorical_accuracy: 0.9740\n",
            "Epoch 92: val_loss did not improve from 0.11393\n",
            "146/146 [==============================] - 4s 28ms/step - loss: 0.0762 - sparse_categorical_accuracy: 0.9740 - val_loss: 0.1206 - val_sparse_categorical_accuracy: 0.9605\n"
          ]
        }
      ]
    },
    {
      "cell_type": "code",
      "source": [
        "pred_test = model.predict(X_test)\n",
        "pred_test = np.argmax(pred_test, axis=-1)\n",
        "\n",
        "f1 = f1_score(y_test, pred_test, average=\"macro\")\n",
        "\n",
        "print(\"Test f1 score : %s \"% f1)\n",
        "\n",
        "acc = accuracy_score(y_test, pred_test)\n",
        "\n",
        "print(\"Test accuracy score : %s \"% acc)"
      ],
      "metadata": {
        "colab": {
          "base_uri": "https://localhost:8080/"
        },
        "id": "ibtGwrtpa-mz",
        "outputId": "240058b9-62e2-44bb-c462-b1cf9ca3565e"
      },
      "execution_count": 11,
      "outputs": [
        {
          "output_type": "stream",
          "name": "stdout",
          "text": [
            "Test f1 score : 0.9503223264741202 \n",
            "Test accuracy score : 0.9598076262452765 \n"
          ]
        }
      ]
    },
    {
      "cell_type": "code",
      "execution_count": 12,
      "metadata": {
        "colab": {
          "base_uri": "https://localhost:8080/",
          "height": 295
        },
        "id": "WYPNXPxpsrRS",
        "outputId": "8aa258d5-a581-48e2-8cc7-09f3ddf744c5"
      },
      "outputs": [
        {
          "output_type": "display_data",
          "data": {
            "text/plain": [
              "<Figure size 432x288 with 1 Axes>"
            ],
            "image/png": "[encoded data removed]"
          },
          "metadata": {
            "needs_background": "light"
          }
        }
      ],
      "source": [
        "# Plot training & validation loss values\n",
        "plt.plot(history.history['loss'])\n",
        "plt.plot(history.history['val_loss'])\n",
        "plt.title('Model loss')\n",
        "plt.ylabel('loss')\n",
        "plt.xlabel('Epoch')\n",
        "plt.legend(['Train', 'Validation'], loc='upper left')\n",
        "plt.show()"
      ]
    },
    {
      "cell_type": "code",
      "execution_count": 13,
      "metadata": {
        "id": "SxsyM_dts629",
        "colab": {
          "base_uri": "https://localhost:8080/",
          "height": 295
        },
        "outputId": "206717cc-5a67-4365-dde2-72942374f58f"
      },
      "outputs": [
        {
          "output_type": "display_data",
          "data": {
            "text/plain": [
              "<Figure size 432x288 with 1 Axes>"
            ],
            "image/png": "[encoded data removed]"
          },
          "metadata": {
            "needs_background": "light"
          }
        }
      ],
      "source": [
        "# Plot training & validation accuracy values\n",
        "plt.plot(history.history['sparse_categorical_accuracy'])\n",
        "plt.plot(history.history['val_sparse_categorical_accuracy'])\n",
        "plt.title('Model accuracy')\n",
        "plt.ylabel('Accuracy')\n",
        "plt.xlabel('Epoch')\n",
        "plt.legend(['Train', 'Validation'], loc='upper left')\n",
        "plt.show()"
      ]
    },
    {
      "cell_type": "code",
      "execution_count": null,
      "metadata": {
        "id": "JP8xB4XItEcO"
      },
      "outputs": [],
      "source": [
        "model.load_weights(file_path)"
      ]
    },
    {
      "cell_type": "code",
      "execution_count": 14,
      "metadata": {
        "colab": {
          "base_uri": "https://localhost:8080/"
        },
        "id": "f1Ep1AgMtNrq",
        "outputId": "e3be3443-712f-4149-845e-4319f6c45305"
      },
      "outputs": [
        {
          "output_type": "stream",
          "name": "stdout",
          "text": [
            "Model accuracy: 0.9598076343536377\n"
          ]
        }
      ],
      "source": [
        "Y_pred_test = model.predict(X_test)\n",
        "Y_pred_test = np.argmax(Y_pred_test, axis=1)\n",
        "m = tf.keras.metrics.Accuracy()\n",
        "m.update_state(y_test, Y_pred_test)\n",
        "print(\"Model accuracy: {}\".format(m.result().numpy()))"
      ]
    },
    {
      "cell_type": "code",
      "execution_count": 15,
      "metadata": {
        "colab": {
          "base_uri": "https://localhost:8080/",
          "height": 280
        },
        "id": "b-2fNqIgtpWL",
        "outputId": "486928a0-7c14-465a-8c20-57e64c643b8f"
      },
      "outputs": [
        {
          "output_type": "display_data",
          "data": {
            "text/plain": [
              "<Figure size 432x288 with 2 Axes>"
            ],
            "image/png": "[encoded data removed]"
          },
          "metadata": {
            "needs_background": "light"
          }
        }
      ],
      "source": [
        "# Plotting confusion matrix\n",
        "cm = confusion_matrix(y_test, Y_pred_test)\n",
        "\n",
        "disp = ConfusionMatrixDisplay(confusion_matrix=cm, display_labels=[0,1,2,3])\n",
        "\n",
        "disp.plot(cmap=plt.cm.Blues)\n",
        "plt.show()"
      ]
    }
  ],
  "metadata": {
    "accelerator": "TPU",
    "colab": {
      "machine_shape": "hm",
      "name": "mlhc_project1_transformer_PTB.ipynb",
      "provenance": []
    },
    "kernelspec": {
      "display_name": "Python 3",
      "name": "python3"
    },
    "language_info": {
      "name": "python"
    }
  },
  "nbformat": 4,
  "nbformat_minor": 0
}