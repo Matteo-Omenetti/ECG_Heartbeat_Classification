{
  "nbformat": 4,
  "nbformat_minor": 0,
  "metadata": {
    "colab": {
      "name": "ensemble_logistic_regression_ptb.ipynb",
      "provenance": []
    },
    "kernelspec": {
      "name": "python3",
      "display_name": "Python 3"
    },
    "language_info": {
      "name": "python"
    }
  },
  "cells": [
    {
      "cell_type": "code",
      "execution_count": 1,
      "metadata": {
        "id": "27AVs_cHIeXc"
      },
      "outputs": [],
      "source": [
        "import pandas as pd\n",
        "import numpy as np\n",
        "import tensorflow as tf\n",
        "from tensorflow import keras\n",
        "\n",
        "from keras.utils import np_utils\n",
        "from keras import utils\n",
        "from sklearn.model_selection import train_test_split\n",
        "\n",
        "from sklearn.metrics import ConfusionMatrixDisplay, confusion_matrix\n",
        "from sklearn.metrics import f1_score, accuracy_score\n",
        "import matplotlib.pyplot as plt\n",
        "\n",
        "from sklearn.linear_model import LogisticRegression\n",
        "\n",
        "import pywt\n",
        "from sklearn.metrics import roc_auc_score, RocCurveDisplay, average_precision_score, PrecisionRecallDisplay, auc"
      ]
    },
    {
      "cell_type": "code",
      "source": [
        "from google.colab import drive\n",
        "drive.mount('/content/drive')"
      ],
      "metadata": {
        "colab": {
          "base_uri": "https://localhost:8080/"
        },
        "id": "d3WW-3tRIkqj",
        "outputId": "58c293a1-4b04-4f60-a419-e28daf47c5f1"
      },
      "execution_count": 2,
      "outputs": [
        {
          "output_type": "stream",
          "name": "stdout",
          "text": [
            "Mounted at /content/drive\n"
          ]
        }
      ]
    },
    {
      "cell_type": "code",
      "source": [
        "# read the dataset\n",
        "df_1 = pd.read_csv(\"/content/drive/MyDrive/MLHC_PROJECT1/ptbdb_normal.csv\", header=None)\n",
        "df_2 = pd.read_csv(\"/content/drive/MyDrive/MLHC_PROJECT1/ptbdb_abnormal.csv\", header=None)\n",
        "df = pd.concat([df_1, df_2])\n",
        "\n",
        "df_train, df_test = train_test_split(df, test_size=0.2, random_state=1337, stratify=df[187])\n",
        "\n",
        "\n",
        "y_train = np.array(df_train[187].values).astype(np.int8)\n",
        "X_train = np.array(df_train[list(range(187))].values)[..., np.newaxis]\n",
        "\n",
        "y_test = np.array(df_test[187].values).astype(np.int8)\n",
        "X_test = np.array(df_test[list(range(187))].values)[..., np.newaxis]"
      ],
      "metadata": {
        "id": "LRudKv1SIq6i"
      },
      "execution_count": 3,
      "outputs": []
    },
    {
      "cell_type": "code",
      "source": [
        "# pre-processing for the DBLSTM-WS model\n",
        "def DWT(signal, levels):\n",
        "  coeffs = pywt.wavedec(signal.flatten(), 'db6', mode='symmetric', level=levels)[1:]\n",
        "  coeffs = [np.pad(np.array(c), (0, 187-len(c))) for c in coeffs]\n",
        "  coeffs += [signal]\n",
        "  return np.stack(coeffs, axis=-1)\n",
        "\n",
        "def WSpreprocess(dataset, levels):\n",
        "  return np.squeeze(np.apply_along_axis(DWT, 1, dataset, levels))\n",
        "\n",
        "X_train_new = WSpreprocess(np.squeeze(X_train), 2)\n",
        "X_test_new = WSpreprocess(np.squeeze(X_test), 2)"
      ],
      "metadata": {
        "id": "Y6zR-rHiItgX"
      },
      "execution_count": 4,
      "outputs": []
    },
    {
      "cell_type": "code",
      "source": [
        "ensemble_predictions_test_set = np.zeros((2911, 2))\n",
        "ensemble_predictions_train_set = np.zeros((11641, 2))\n",
        "\n",
        "path = \"/content/drive/MyDrive/MLHC_PROJECT1/H5/PTB/\"\n",
        "import os\n",
        "for filename in os.listdir(path):\n",
        "  \n",
        "  print(filename)\n",
        "\n",
        "  # if filename == \"transformer_mit.h5\":\n",
        "  #   print(\"Skipping transformer...\")\n",
        "  #   continue\n",
        "  \n",
        "  model = keras.models.load_model(path + filename)\n",
        "\n",
        "  if filename == \"DBLSTM-WS_ptb.h5\":\n",
        "    y_pred_train = model.predict(X_train_new)\n",
        "    y_pred_test = model.predict(X_test_new)  \n",
        "  else:\n",
        "    y_pred_train = model.predict(X_train)\n",
        "    y_pred_test = model.predict(X_test)\n",
        "\n",
        "  ensemble_predictions_train_set = ensemble_predictions_train_set + y_pred_train\n",
        "  ensemble_predictions_test_set = ensemble_predictions_test_set + y_pred_test"
      ],
      "metadata": {
        "colab": {
          "base_uri": "https://localhost:8080/"
        },
        "id": "Hfi1HTipIuRi",
        "outputId": "12938003-33c0-41a9-95f0-e761466c5889"
      },
      "execution_count": 7,
      "outputs": [
        {
          "output_type": "stream",
          "name": "stdout",
          "text": [
            "CNN_ptb.h5\n",
            "transformer_ptb.h5\n",
            "DBLSTM-WS_ptb.h5\n",
            "RNN_ptb.h5\n"
          ]
        }
      ]
    },
    {
      "cell_type": "code",
      "source": [
        "lr = LogisticRegression().fit(ensemble_predictions_train_set, y_train)\n",
        "# from sklearn.ensemble import RandomForestClassifier\n",
        "# lr = RandomForestClassifier(max_depth=30, random_state=0)\n",
        "# lr.fit(ensemble_predictions_train_set, y_train)\n",
        "\n",
        "y_pred = lr.predict(ensemble_predictions_test_set)\n",
        "\n",
        "f1 = f1_score(y_test, y_pred, average=\"macro\")\n",
        "print(\"Test f1 score : %s \"% f1)\n",
        "\n",
        "acc = accuracy_score(y_test, y_pred)\n",
        "print(\"Test accuracy score : %s \"% acc)"
      ],
      "metadata": {
        "colab": {
          "base_uri": "https://localhost:8080/"
        },
        "id": "2kCnXW_aJdjU",
        "outputId": "aebcaed6-deac-48f6-bb1f-7596f8926fb8"
      },
      "execution_count": 16,
      "outputs": [
        {
          "output_type": "stream",
          "name": "stdout",
          "text": [
            "Test f1 score : 0.9824470529753357 \n",
            "Test accuracy score : 0.9859154929577465 \n"
          ]
        }
      ]
    },
    {
      "cell_type": "code",
      "source": [
        "RocCurveDisplay.from_predictions(y_test.reshape(-1,1), y_pred)\n",
        "print(\"Model AUROC: {}\".format(roc_auc_score(y_test.reshape(-1,1), y_pred, average=None)))"
      ],
      "metadata": {
        "colab": {
          "base_uri": "https://localhost:8080/",
          "height": 296
        },
        "id": "6APmX2ynJlGE",
        "outputId": "a72c5bc0-095b-4a9c-c7cc-2c9460fc8420"
      },
      "execution_count": 17,
      "outputs": [
        {
          "output_type": "stream",
          "name": "stdout",
          "text": [
            "Model AUROC: 0.9822636396674426\n"
          ]
        },
        {
          "output_type": "display_data",
          "data": {
            "text/plain": [
              "<Figure size 432x288 with 1 Axes>"
            ],
            "image/png": "[encoded data removed]"
          },
          "metadata": {
            "needs_background": "light"
          }
        }
      ]
    },
    {
      "cell_type": "code",
      "source": [
        "PrecisionRecallDisplay.from_predictions(y_test.reshape(-1,1), y_pred)\n",
        "print(\"Model AUPRC: {}\".format(average_precision_score(y_test.reshape(-1,1), y_pred)))"
      ],
      "metadata": {
        "colab": {
          "base_uri": "https://localhost:8080/",
          "height": 296
        },
        "id": "nhE7XJJUJnVM",
        "outputId": "dd11c4a1-f35a-4813-936b-a508621e5d81"
      },
      "execution_count": 18,
      "outputs": [
        {
          "output_type": "stream",
          "name": "stdout",
          "text": [
            "Model AUPRC: 0.9874650204637012\n"
          ]
        },
        {
          "output_type": "display_data",
          "data": {
            "text/plain": [
              "<Figure size 432x288 with 1 Axes>"
            ],
            "image/png": "[encoded data removed]"
          },
          "metadata": {
            "needs_background": "light"
          }
        }
      ]
    },
    {
      "cell_type": "code",
      "source": [
        "# Plotting confusion matrix\n",
        "cm = confusion_matrix(y_test, y_pred)\n",
        "\n",
        "disp = ConfusionMatrixDisplay(confusion_matrix=cm, display_labels=[0,1,2,3])\n",
        "\n",
        "disp.plot(cmap=plt.cm.Blues)\n",
        "plt.show()"
      ],
      "metadata": {
        "colab": {
          "base_uri": "https://localhost:8080/",
          "height": 279
        },
        "id": "C-aO-Af-JpHM",
        "outputId": "d4b335ff-b502-4aae-8220-ecfcd8c34103"
      },
      "execution_count": 19,
      "outputs": [
        {
          "output_type": "display_data",
          "data": {
            "text/plain": [
              "<Figure size 432x288 with 2 Axes>"
            ],
            "image/png": "[encoded data removed]"
          },
          "metadata": {
            "needs_background": "light"
          }
        }
      ]
    }
  ]
}