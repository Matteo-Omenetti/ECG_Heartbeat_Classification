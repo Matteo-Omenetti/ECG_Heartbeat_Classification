{
  "nbformat": 4,
  "nbformat_minor": 0,
  "metadata": {
    "colab": {
      "name": "PTBRNN.ipynb",
      "provenance": [],
      "collapsed_sections": [],
      "machine_shape": "hm",
      "authorship_tag": "ABX9TyOhdRYEgeh0IF9PY0danIGz",
      "include_colab_link": true
    },
    "kernelspec": {
      "name": "python3",
      "display_name": "Python 3"
    },
    "language_info": {
      "name": "python"
    },
    "accelerator": "GPU"
  },
  "cells": [
    {
      "cell_type": "markdown",
      "metadata": {
        "id": "view-in-github",
        "colab_type": "text"
      },
      "source": [
        "<a href=\"https://colab.research.google.com/github/ravifrancesco/ECG_Heartbeat_Classification/blob/vanillaRNNPTB/PTBRNN.ipynb\" target=\"_parent\"><img src=\"https://colab.research.google.com/assets/colab-badge.svg\" alt=\"Open In Colab\"/></a>"
      ]
    },
    {
      "cell_type": "markdown",
      "source": [
        "1) Checking resources"
      ],
      "metadata": {
        "id": "9kivyspFcZjD"
      }
    },
    {
      "cell_type": "code",
      "source": [
        "from psutil import virtual_memory\n",
        "ram_gb = virtual_memory().total / 1e9\n",
        "print('Your runtime has {:.1f} gigabytes of available RAM\\n'.format(ram_gb))\n",
        "\n",
        "if ram_gb < 20:\n",
        "  print('Not using a high-RAM runtime')\n",
        "else:\n",
        "  print('You are using a high-RAM runtime!')"
      ],
      "metadata": {
        "id": "v8fYQFGmccSG",
        "colab": {
          "base_uri": "https://localhost:8080/"
        },
        "outputId": "405ba43e-4022-4e64-efd3-d900a8869ae7"
      },
      "execution_count": 36,
      "outputs": [
        {
          "output_type": "stream",
          "name": "stdout",
          "text": [
            "Your runtime has 27.3 gigabytes of available RAM\n",
            "\n",
            "You are using a high-RAM runtime!\n"
          ]
        }
      ]
    },
    {
      "cell_type": "markdown",
      "source": [
        "2) Setting up colab"
      ],
      "metadata": {
        "id": "3lW7W8b8ceNP"
      }
    },
    {
      "cell_type": "code",
      "source": [
        "# Gloabal variables\n",
        "data_path = \"/content/gdrive/My Drive/ETH/MLH/Project1/data/\"\n",
        "model_path = \"/content/gdrive/My Drive/ETH/MLH/Project1/model/\"\n",
        "\n",
        "random_seed = 50"
      ],
      "metadata": {
        "id": "m0CMfiubbnPO"
      },
      "execution_count": 37,
      "outputs": []
    },
    {
      "cell_type": "code",
      "source": [
        "# Mount Google Drive and set data paths.\n",
        "import os\n",
        "from google.colab import drive\n",
        "from google.colab import files\n",
        "\n",
        "drive.mount('/content/gdrive')"
      ],
      "metadata": {
        "id": "knowjAQBbh8g",
        "colab": {
          "base_uri": "https://localhost:8080/"
        },
        "outputId": "ec9fe4ee-1177-409e-8e6a-423636a31dd4"
      },
      "execution_count": 38,
      "outputs": [
        {
          "output_type": "stream",
          "name": "stdout",
          "text": [
            "Drive already mounted at /content/gdrive; to attempt to forcibly remount, call drive.mount(\"/content/gdrive\", force_remount=True).\n"
          ]
        }
      ]
    },
    {
      "cell_type": "markdown",
      "source": [
        "3) Imports"
      ],
      "metadata": {
        "id": "GehJjPLjdBAP"
      }
    },
    {
      "cell_type": "code",
      "source": [
        "import pandas as pd\n",
        "import numpy as np\n",
        "\n",
        "import matplotlib.pyplot as plt\n",
        "\n",
        "from sklearn.model_selection import StratifiedShuffleSplit, train_test_split\n",
        "\n",
        "import tensorflow as tf\n",
        "from tensorflow import keras\n",
        "from tensorflow.keras import models, optimizers, losses\n",
        "from tensorflow.keras.layers import Input, SimpleRNN, Dense\n",
        "from tensorflow.keras.callbacks import ModelCheckpoint, EarlyStopping, ReduceLROnPlateau"
      ],
      "metadata": {
        "id": "cmSxAcNodAC3"
      },
      "execution_count": 39,
      "outputs": []
    },
    {
      "cell_type": "markdown",
      "source": [
        "4) Loading data"
      ],
      "metadata": {
        "id": "RsvCKOlecl2C"
      }
    },
    {
      "cell_type": "code",
      "source": [
        "df_1 = pd.read_csv(data_path + \"input/ptbdb_normal.csv\", header=None)\n",
        "df_2 = pd.read_csv(data_path + \"input/ptbdb_abnormal.csv\", header=None)\n",
        "df = pd.concat([df_1, df_2])\n",
        "\n",
        "df_train, df_test = train_test_split(df, test_size=0.2, random_state=1337, stratify=df[187])\n",
        "\n",
        "Y = np.array(df_train[187].values).astype(np.int8)\n",
        "X = np.array(df_train[list(range(187))].values)[..., np.newaxis]\n",
        "\n",
        "Y_test = np.array(df_test[187].values).astype(np.int8)\n",
        "X_test = np.array(df_test[list(range(187))].values)[..., np.newaxis]\n",
        "\n",
        "print(\"X shape is {}\".format(X.shape))\n",
        "print(\"Y shape is {}\".format(Y.shape))\n",
        "print(\"X_test shape is {}\".format(X_test.shape))\n",
        "print(\"Y_test shape is {}\".format(Y_test.shape))"
      ],
      "metadata": {
        "id": "9aXxgS4VcXbl",
        "colab": {
          "base_uri": "https://localhost:8080/"
        },
        "outputId": "31fa7d9f-c3e9-4d7e-bd62-386d5e4644fa"
      },
      "execution_count": 40,
      "outputs": [
        {
          "output_type": "stream",
          "name": "stdout",
          "text": [
            "X shape is (11641, 187, 1)\n",
            "Y shape is (11641,)\n",
            "X_test shape is (2911, 187, 1)\n",
            "Y_test shape is (2911,)\n"
          ]
        }
      ]
    },
    {
      "cell_type": "markdown",
      "source": [
        "5) Visualizing data"
      ],
      "metadata": {
        "id": "k-bErF6YdTww"
      }
    },
    {
      "cell_type": "code",
      "source": [
        "# Plotting one signal\n",
        "example_signal = 56\n",
        "plt.rcParams['lines.linewidth'] = 3\n",
        "plt.figure(figsize=(30, 11))\n",
        "plt.plot(X[example_signal])\n",
        "plt.title(\"ECG number {} - Class: {}\".format(example_signal+1, Y[example_signal]), size = 20)\n",
        "plt.show()"
      ],
      "metadata": {
        "id": "nJoT2rF8dTYG",
        "colab": {
          "base_uri": "https://localhost:8080/",
          "height": 518
        },
        "outputId": "b8d09f50-d24d-4fcc-eeab-075936d1255f"
      },
      "execution_count": 41,
      "outputs": [
        {
          "output_type": "display_data",
          "data": {
            "image/png": "[encoded data removed]",
            "text/plain": [
              "<Figure size 2160x792 with 1 Axes>"
            ]
          },
          "metadata": {
            "needs_background": "light"
          }
        }
      ]
    },
    {
      "cell_type": "markdown",
      "source": [
        "6) Creating validation set"
      ],
      "metadata": {
        "id": "USIzA03KzXkd"
      }
    },
    {
      "cell_type": "code",
      "source": [
        "# Splitting dataset for validation\n",
        "sss = StratifiedShuffleSplit(n_splits=1, test_size=0.1, random_state=random_seed)\n",
        "for train_index, test_index in sss.split(X, Y):\n",
        "    X_train, X_val = X[train_index], X[test_index]\n",
        "    Y_train, Y_val = Y[train_index], Y[test_index]\n",
        "\n",
        "print(\"X_train shape is {}\".format(X_train.shape))\n",
        "print(\"Y_train shape is {}\".format(Y_train.shape))\n",
        "print(\"X_val shape is {}\".format(X_val.shape))\n",
        "print(\"Y_val shape is {}\".format(Y_val.shape))"
      ],
      "metadata": {
        "id": "Vvt_fxQwzPvI",
        "colab": {
          "base_uri": "https://localhost:8080/"
        },
        "outputId": "2c4b5369-2be3-42ba-f151-8314f481e1bf"
      },
      "execution_count": 42,
      "outputs": [
        {
          "output_type": "stream",
          "name": "stdout",
          "text": [
            "X_train shape is (10476, 187, 1)\n",
            "Y_train shape is (10476,)\n",
            "X_val shape is (1165, 187, 1)\n",
            "Y_val shape is (1165,)\n"
          ]
        }
      ]
    },
    {
      "cell_type": "markdown",
      "source": [
        "6) Building SimpleRNN"
      ],
      "metadata": {
        "id": "LlVR7lOZj8p5"
      }
    },
    {
      "cell_type": "code",
      "source": [
        "def getSimpleRNN(input_shape, lr=<, dr=0.2):\n",
        "\n",
        "  inp = Input(shape=input_shape)\n",
        "  img_1 = SimpleRNN(128, activation=None, dropout=dr, return_sequences=True)(inp)\n",
        "  img_2 = SimpleRNN(256, activation=None, dropout=dr, return_sequences=True)(img_1)\n",
        "  img_3 = SimpleRNN(100, activation=None, dropout=dr, return_sequences=False)(img_2)\n",
        "  out = Dense(1, activation='sigmoid')(img_3)\n",
        "\n",
        "  model = models.Model(inputs=inp, outputs=out)\n",
        "  opt = optimizers.Adam(learning_rate=lr)\n",
        "  model.compile(optimizer=opt, loss=losses.BinaryCrossentropy(name='bce', from_logits=False), metrics=['bce'])\n",
        "  \n",
        "  return model\n",
        "\n",
        "sRNN = getSimpleRNN(X_train[0].shape)\n",
        "tf.keras.utils.plot_model(sRNN, show_shapes=True, dpi=64)"
      ],
      "metadata": {
        "id": "Nb9GbQMwj_IZ",
        "colab": {
          "base_uri": "https://localhost:8080/",
          "height": 130
        },
        "outputId": "761ec93f-f1b0-4f14-d326-3832fa0faf9e"
      },
      "execution_count": 43,
      "outputs": [
        {
          "output_type": "error",
          "ename": "SyntaxError",
          "evalue": "ignored",
          "traceback": [
            "\u001b[0;36m  File \u001b[0;32m\"<ipython-input-43-409b76be2147>\"\u001b[0;36m, line \u001b[0;32m1\u001b[0m\n\u001b[0;31m    def getSimpleRNN(input_shape, lr=<, dr=0.2):\u001b[0m\n\u001b[0m                                     ^\u001b[0m\n\u001b[0;31mSyntaxError\u001b[0m\u001b[0;31m:\u001b[0m invalid syntax\n"
          ]
        }
      ]
    },
    {
      "cell_type": "code",
      "source": [
        "# Preparing the model\n",
        "sRNN_file_path = model_path + \"simpleRNN.h5\"\n",
        "checkpoint = ModelCheckpoint(sRNN_file_path, monitor='val_bce', verbose=1, save_best_only=True, mode='min')\n",
        "early = EarlyStopping(monitor='val_bce', mode=\"min\", patience=25, verbose=1)\n",
        "callbacks_list = [checkpoint, early]"
      ],
      "metadata": {
        "id": "UN0y-5_7vwOg"
      },
      "execution_count": 10,
      "outputs": []
    },
    {
      "cell_type": "code",
      "source": [
        "# Fitting the model\n",
        "history = sRNN.fit(X_train, Y_train, epochs=1000, verbose=2, callbacks=callbacks_list, batch_size=128, validation_data=(X_val, Y_val))"
      ],
      "metadata": {
        "id": "ODj-C0uUv6AD",
        "colab": {
          "base_uri": "https://localhost:8080/"
        },
        "outputId": "60458cc5-6be7-4e66-d139-05e3722a6b27"
      },
      "execution_count": 11,
      "outputs": [
        {
          "output_type": "stream",
          "name": "stdout",
          "text": [
            "Epoch 1/1000\n",
            "\n",
            "Epoch 1: val_bce improved from inf to 0.98349, saving model to /content/gdrive/My Drive/ETH/MLH/Project1/model/simpleRNN.h5\n",
            "82/82 - 38s - loss: 93.8949 - bce: 93.8949 - val_loss: 0.9835 - val_bce: 0.9835 - 38s/epoch - 458ms/step\n",
            "Epoch 2/1000\n",
            "\n",
            "Epoch 2: val_bce improved from 0.98349 to 0.72797, saving model to /content/gdrive/My Drive/ETH/MLH/Project1/model/simpleRNN.h5\n",
            "82/82 - 33s - loss: 2.3098 - bce: 2.3098 - val_loss: 0.7280 - val_bce: 0.7280 - 33s/epoch - 408ms/step\n",
            "Epoch 3/1000\n",
            "\n",
            "Epoch 3: val_bce improved from 0.72797 to 0.56012, saving model to /content/gdrive/My Drive/ETH/MLH/Project1/model/simpleRNN.h5\n",
            "82/82 - 33s - loss: 1.5740 - bce: 1.5740 - val_loss: 0.5601 - val_bce: 0.5601 - 33s/epoch - 402ms/step\n",
            "Epoch 4/1000\n",
            "\n",
            "Epoch 4: val_bce improved from 0.56012 to 0.50889, saving model to /content/gdrive/My Drive/ETH/MLH/Project1/model/simpleRNN.h5\n",
            "82/82 - 33s - loss: 1.2261 - bce: 1.2261 - val_loss: 0.5089 - val_bce: 0.5089 - 33s/epoch - 403ms/step\n",
            "Epoch 5/1000\n",
            "\n",
            "Epoch 5: val_bce improved from 0.50889 to 0.48854, saving model to /content/gdrive/My Drive/ETH/MLH/Project1/model/simpleRNN.h5\n",
            "82/82 - 33s - loss: 1.0173 - bce: 1.0173 - val_loss: 0.4885 - val_bce: 0.4885 - 33s/epoch - 400ms/step\n",
            "Epoch 6/1000\n",
            "\n",
            "Epoch 6: val_bce improved from 0.48854 to 0.48538, saving model to /content/gdrive/My Drive/ETH/MLH/Project1/model/simpleRNN.h5\n",
            "82/82 - 33s - loss: 0.8831 - bce: 0.8831 - val_loss: 0.4854 - val_bce: 0.4854 - 33s/epoch - 399ms/step\n",
            "Epoch 7/1000\n",
            "\n",
            "Epoch 7: val_bce improved from 0.48538 to 0.45078, saving model to /content/gdrive/My Drive/ETH/MLH/Project1/model/simpleRNN.h5\n",
            "82/82 - 33s - loss: 0.8229 - bce: 0.8229 - val_loss: 0.4508 - val_bce: 0.4508 - 33s/epoch - 405ms/step\n",
            "Epoch 8/1000\n",
            "\n",
            "Epoch 8: val_bce did not improve from 0.45078\n",
            "82/82 - 32s - loss: 0.7403 - bce: 0.7403 - val_loss: 0.4720 - val_bce: 0.4720 - 32s/epoch - 396ms/step\n",
            "Epoch 9/1000\n",
            "\n",
            "Epoch 9: val_bce did not improve from 0.45078\n",
            "82/82 - 32s - loss: 0.6995 - bce: 0.6995 - val_loss: 0.4572 - val_bce: 0.4572 - 32s/epoch - 395ms/step\n",
            "Epoch 10/1000\n",
            "\n",
            "Epoch 10: val_bce improved from 0.45078 to 0.44485, saving model to /content/gdrive/My Drive/ETH/MLH/Project1/model/simpleRNN.h5\n",
            "82/82 - 34s - loss: 0.6595 - bce: 0.6595 - val_loss: 0.4449 - val_bce: 0.4449 - 34s/epoch - 412ms/step\n",
            "Epoch 11/1000\n",
            "\n",
            "Epoch 11: val_bce improved from 0.44485 to 0.43904, saving model to /content/gdrive/My Drive/ETH/MLH/Project1/model/simpleRNN.h5\n",
            "82/82 - 33s - loss: 0.6329 - bce: 0.6329 - val_loss: 0.4390 - val_bce: 0.4390 - 33s/epoch - 406ms/step\n",
            "Epoch 12/1000\n",
            "\n",
            "Epoch 12: val_bce did not improve from 0.43904\n",
            "82/82 - 33s - loss: 0.6001 - bce: 0.6001 - val_loss: 0.4518 - val_bce: 0.4518 - 33s/epoch - 398ms/step\n",
            "Epoch 13/1000\n",
            "\n",
            "Epoch 13: val_bce improved from 0.43904 to 0.43733, saving model to /content/gdrive/My Drive/ETH/MLH/Project1/model/simpleRNN.h5\n",
            "82/82 - 33s - loss: 0.5991 - bce: 0.5991 - val_loss: 0.4373 - val_bce: 0.4373 - 33s/epoch - 403ms/step\n",
            "Epoch 14/1000\n",
            "\n",
            "Epoch 14: val_bce did not improve from 0.43733\n",
            "82/82 - 32s - loss: 0.5837 - bce: 0.5837 - val_loss: 0.4438 - val_bce: 0.4438 - 32s/epoch - 395ms/step\n",
            "Epoch 15/1000\n",
            "\n",
            "Epoch 15: val_bce did not improve from 0.43733\n",
            "82/82 - 32s - loss: 0.5783 - bce: 0.5783 - val_loss: 0.4602 - val_bce: 0.4602 - 32s/epoch - 394ms/step\n",
            "Epoch 16/1000\n",
            "\n",
            "Epoch 16: val_bce did not improve from 0.43733\n",
            "82/82 - 33s - loss: 0.5609 - bce: 0.5609 - val_loss: 0.4500 - val_bce: 0.4500 - 33s/epoch - 399ms/step\n",
            "Epoch 17/1000\n",
            "\n",
            "Epoch 17: val_bce did not improve from 0.43733\n",
            "82/82 - 33s - loss: 0.5543 - bce: 0.5543 - val_loss: 0.4410 - val_bce: 0.4410 - 33s/epoch - 397ms/step\n",
            "Epoch 18/1000\n",
            "\n",
            "Epoch 18: val_bce did not improve from 0.43733\n",
            "82/82 - 33s - loss: 0.5458 - bce: 0.5458 - val_loss: 0.4431 - val_bce: 0.4431 - 33s/epoch - 400ms/step\n",
            "Epoch 19/1000\n",
            "\n",
            "Epoch 19: val_bce did not improve from 0.43733\n",
            "82/82 - 33s - loss: 0.5389 - bce: 0.5389 - val_loss: 0.4400 - val_bce: 0.4400 - 33s/epoch - 398ms/step\n",
            "Epoch 20/1000\n",
            "\n",
            "Epoch 20: val_bce did not improve from 0.43733\n",
            "82/82 - 33s - loss: 0.5261 - bce: 0.5261 - val_loss: 0.4437 - val_bce: 0.4437 - 33s/epoch - 397ms/step\n",
            "Epoch 21/1000\n",
            "\n",
            "Epoch 21: val_bce did not improve from 0.43733\n",
            "82/82 - 32s - loss: 0.5216 - bce: 0.5216 - val_loss: 0.4489 - val_bce: 0.4489 - 32s/epoch - 396ms/step\n",
            "Epoch 22/1000\n",
            "\n",
            "Epoch 22: val_bce did not improve from 0.43733\n",
            "82/82 - 33s - loss: 0.5151 - bce: 0.5151 - val_loss: 0.4387 - val_bce: 0.4387 - 33s/epoch - 397ms/step\n",
            "Epoch 23/1000\n",
            "\n",
            "Epoch 23: val_bce improved from 0.43733 to 0.43652, saving model to /content/gdrive/My Drive/ETH/MLH/Project1/model/simpleRNN.h5\n",
            "82/82 - 33s - loss: 0.5223 - bce: 0.5223 - val_loss: 0.4365 - val_bce: 0.4365 - 33s/epoch - 406ms/step\n",
            "Epoch 24/1000\n",
            "\n",
            "Epoch 24: val_bce improved from 0.43652 to 0.43523, saving model to /content/gdrive/My Drive/ETH/MLH/Project1/model/simpleRNN.h5\n",
            "82/82 - 34s - loss: 0.5110 - bce: 0.5110 - val_loss: 0.4352 - val_bce: 0.4352 - 34s/epoch - 415ms/step\n",
            "Epoch 25/1000\n",
            "\n",
            "Epoch 25: val_bce did not improve from 0.43523\n",
            "82/82 - 33s - loss: 0.5056 - bce: 0.5056 - val_loss: 0.4462 - val_bce: 0.4462 - 33s/epoch - 400ms/step\n",
            "Epoch 26/1000\n",
            "\n",
            "Epoch 26: val_bce did not improve from 0.43523\n",
            "82/82 - 32s - loss: 0.5018 - bce: 0.5018 - val_loss: 0.4406 - val_bce: 0.4406 - 32s/epoch - 396ms/step\n",
            "Epoch 27/1000\n",
            "\n",
            "Epoch 27: val_bce did not improve from 0.43523\n",
            "82/82 - 32s - loss: 0.4983 - bce: 0.4983 - val_loss: 0.4357 - val_bce: 0.4357 - 32s/epoch - 395ms/step\n",
            "Epoch 28/1000\n",
            "\n",
            "Epoch 28: val_bce did not improve from 0.43523\n",
            "82/82 - 32s - loss: 0.5039 - bce: 0.5039 - val_loss: 0.4381 - val_bce: 0.4381 - 32s/epoch - 396ms/step\n",
            "Epoch 29/1000\n",
            "\n",
            "Epoch 29: val_bce improved from 0.43523 to 0.43407, saving model to /content/gdrive/My Drive/ETH/MLH/Project1/model/simpleRNN.h5\n",
            "82/82 - 33s - loss: 0.4970 - bce: 0.4970 - val_loss: 0.4341 - val_bce: 0.4341 - 33s/epoch - 401ms/step\n",
            "Epoch 30/1000\n",
            "\n",
            "Epoch 30: val_bce improved from 0.43407 to 0.43017, saving model to /content/gdrive/My Drive/ETH/MLH/Project1/model/simpleRNN.h5\n",
            "82/82 - 33s - loss: 0.4891 - bce: 0.4891 - val_loss: 0.4302 - val_bce: 0.4302 - 33s/epoch - 402ms/step\n",
            "Epoch 31/1000\n",
            "\n",
            "Epoch 31: val_bce did not improve from 0.43017\n",
            "82/82 - 33s - loss: 0.4872 - bce: 0.4872 - val_loss: 0.4368 - val_bce: 0.4368 - 33s/epoch - 398ms/step\n",
            "Epoch 32/1000\n",
            "\n",
            "Epoch 32: val_bce did not improve from 0.43017\n",
            "82/82 - 33s - loss: 0.4910 - bce: 0.4910 - val_loss: 0.4377 - val_bce: 0.4377 - 33s/epoch - 397ms/step\n",
            "Epoch 33/1000\n",
            "\n",
            "Epoch 33: val_bce did not improve from 0.43017\n",
            "82/82 - 32s - loss: 0.4859 - bce: 0.4859 - val_loss: 0.4341 - val_bce: 0.4341 - 32s/epoch - 396ms/step\n",
            "Epoch 34/1000\n",
            "\n",
            "Epoch 34: val_bce did not improve from 0.43017\n",
            "82/82 - 33s - loss: 0.4878 - bce: 0.4878 - val_loss: 0.4314 - val_bce: 0.4314 - 33s/epoch - 398ms/step\n",
            "Epoch 35/1000\n",
            "\n",
            "Epoch 35: val_bce did not improve from 0.43017\n",
            "82/82 - 33s - loss: 0.4854 - bce: 0.4854 - val_loss: 0.4346 - val_bce: 0.4346 - 33s/epoch - 397ms/step\n",
            "Epoch 36/1000\n",
            "\n",
            "Epoch 36: val_bce improved from 0.43017 to 0.42906, saving model to /content/gdrive/My Drive/ETH/MLH/Project1/model/simpleRNN.h5\n",
            "82/82 - 34s - loss: 0.4805 - bce: 0.4805 - val_loss: 0.4291 - val_bce: 0.4291 - 34s/epoch - 409ms/step\n",
            "Epoch 37/1000\n",
            "\n",
            "Epoch 37: val_bce did not improve from 0.42906\n",
            "82/82 - 32s - loss: 0.4740 - bce: 0.4740 - val_loss: 0.4486 - val_bce: 0.4486 - 32s/epoch - 395ms/step\n",
            "Epoch 38/1000\n",
            "\n",
            "Epoch 38: val_bce did not improve from 0.42906\n",
            "82/82 - 32s - loss: 0.4802 - bce: 0.4802 - val_loss: 0.4342 - val_bce: 0.4342 - 32s/epoch - 395ms/step\n",
            "Epoch 39/1000\n",
            "\n",
            "Epoch 39: val_bce did not improve from 0.42906\n",
            "82/82 - 32s - loss: 0.4839 - bce: 0.4839 - val_loss: 0.4397 - val_bce: 0.4397 - 32s/epoch - 395ms/step\n",
            "Epoch 40/1000\n",
            "\n",
            "Epoch 40: val_bce did not improve from 0.42906\n",
            "82/82 - 33s - loss: 0.4749 - bce: 0.4749 - val_loss: 0.4388 - val_bce: 0.4388 - 33s/epoch - 399ms/step\n",
            "Epoch 41/1000\n",
            "\n",
            "Epoch 41: val_bce did not improve from 0.42906\n",
            "82/82 - 33s - loss: 0.4832 - bce: 0.4832 - val_loss: 0.4365 - val_bce: 0.4365 - 33s/epoch - 406ms/step\n",
            "Epoch 42/1000\n",
            "\n",
            "Epoch 42: val_bce did not improve from 0.42906\n",
            "82/82 - 32s - loss: 0.4829 - bce: 0.4829 - val_loss: 0.4327 - val_bce: 0.4327 - 32s/epoch - 396ms/step\n",
            "Epoch 43/1000\n",
            "\n",
            "Epoch 43: val_bce did not improve from 0.42906\n",
            "82/82 - 32s - loss: 0.4831 - bce: 0.4831 - val_loss: 0.4419 - val_bce: 0.4419 - 32s/epoch - 395ms/step\n",
            "Epoch 44/1000\n",
            "\n",
            "Epoch 44: val_bce did not improve from 0.42906\n",
            "82/82 - 33s - loss: 0.4740 - bce: 0.4740 - val_loss: 0.4332 - val_bce: 0.4332 - 33s/epoch - 403ms/step\n",
            "Epoch 45/1000\n",
            "\n",
            "Epoch 45: val_bce did not improve from 0.42906\n",
            "82/82 - 33s - loss: 0.4770 - bce: 0.4770 - val_loss: 0.4322 - val_bce: 0.4322 - 33s/epoch - 400ms/step\n",
            "Epoch 46/1000\n",
            "\n",
            "Epoch 46: val_bce did not improve from 0.42906\n",
            "82/82 - 32s - loss: 0.4775 - bce: 0.4775 - val_loss: 0.4424 - val_bce: 0.4424 - 32s/epoch - 396ms/step\n",
            "Epoch 47/1000\n",
            "\n",
            "Epoch 47: val_bce improved from 0.42906 to 0.42883, saving model to /content/gdrive/My Drive/ETH/MLH/Project1/model/simpleRNN.h5\n",
            "82/82 - 33s - loss: 0.4727 - bce: 0.4727 - val_loss: 0.4288 - val_bce: 0.4288 - 33s/epoch - 405ms/step\n",
            "Epoch 48/1000\n",
            "\n",
            "Epoch 48: val_bce did not improve from 0.42883\n",
            "82/82 - 33s - loss: 0.4748 - bce: 0.4748 - val_loss: 0.4312 - val_bce: 0.4312 - 33s/epoch - 398ms/step\n",
            "Epoch 49/1000\n",
            "\n",
            "Epoch 49: val_bce did not improve from 0.42883\n",
            "82/82 - 33s - loss: 0.4736 - bce: 0.4736 - val_loss: 0.4298 - val_bce: 0.4298 - 33s/epoch - 397ms/step\n",
            "Epoch 50/1000\n",
            "\n",
            "Epoch 50: val_bce did not improve from 0.42883\n",
            "82/82 - 33s - loss: 0.4705 - bce: 0.4705 - val_loss: 0.4292 - val_bce: 0.4292 - 33s/epoch - 397ms/step\n",
            "Epoch 51/1000\n",
            "\n",
            "Epoch 51: val_bce did not improve from 0.42883\n",
            "82/82 - 32s - loss: 0.4696 - bce: 0.4696 - val_loss: 0.4563 - val_bce: 0.4563 - 32s/epoch - 393ms/step\n",
            "Epoch 52/1000\n",
            "\n",
            "Epoch 52: val_bce did not improve from 0.42883\n",
            "82/82 - 33s - loss: 0.4712 - bce: 0.4712 - val_loss: 0.4304 - val_bce: 0.4304 - 33s/epoch - 397ms/step\n",
            "Epoch 53/1000\n",
            "\n",
            "Epoch 53: val_bce did not improve from 0.42883\n",
            "82/82 - 32s - loss: 0.4730 - bce: 0.4730 - val_loss: 0.4408 - val_bce: 0.4408 - 32s/epoch - 394ms/step\n",
            "Epoch 54/1000\n",
            "\n",
            "Epoch 54: val_bce did not improve from 0.42883\n",
            "82/82 - 32s - loss: 0.4707 - bce: 0.4707 - val_loss: 0.4329 - val_bce: 0.4329 - 32s/epoch - 394ms/step\n",
            "Epoch 55/1000\n",
            "\n",
            "Epoch 55: val_bce did not improve from 0.42883\n",
            "82/82 - 32s - loss: 0.4698 - bce: 0.4698 - val_loss: 0.4339 - val_bce: 0.4339 - 32s/epoch - 394ms/step\n",
            "Epoch 56/1000\n",
            "\n",
            "Epoch 56: val_bce improved from 0.42883 to 0.42754, saving model to /content/gdrive/My Drive/ETH/MLH/Project1/model/simpleRNN.h5\n",
            "82/82 - 33s - loss: 0.4667 - bce: 0.4667 - val_loss: 0.4275 - val_bce: 0.4275 - 33s/epoch - 405ms/step\n",
            "Epoch 57/1000\n",
            "\n",
            "Epoch 57: val_bce did not improve from 0.42754\n",
            "82/82 - 32s - loss: 0.4660 - bce: 0.4660 - val_loss: 0.4371 - val_bce: 0.4371 - 32s/epoch - 394ms/step\n",
            "Epoch 58/1000\n",
            "\n",
            "Epoch 58: val_bce did not improve from 0.42754\n",
            "82/82 - 32s - loss: 0.4720 - bce: 0.4720 - val_loss: 0.4356 - val_bce: 0.4356 - 32s/epoch - 395ms/step\n",
            "Epoch 59/1000\n",
            "\n",
            "Epoch 59: val_bce did not improve from 0.42754\n",
            "82/82 - 32s - loss: 0.4678 - bce: 0.4678 - val_loss: 0.4299 - val_bce: 0.4299 - 32s/epoch - 395ms/step\n",
            "Epoch 60/1000\n",
            "\n",
            "Epoch 60: val_bce improved from 0.42754 to 0.42749, saving model to /content/gdrive/My Drive/ETH/MLH/Project1/model/simpleRNN.h5\n",
            "82/82 - 33s - loss: 0.4707 - bce: 0.4707 - val_loss: 0.4275 - val_bce: 0.4275 - 33s/epoch - 399ms/step\n",
            "Epoch 61/1000\n",
            "\n",
            "Epoch 61: val_bce did not improve from 0.42749\n",
            "82/82 - 33s - loss: 0.4700 - bce: 0.4700 - val_loss: 0.4381 - val_bce: 0.4381 - 33s/epoch - 397ms/step\n",
            "Epoch 62/1000\n",
            "\n",
            "Epoch 62: val_bce did not improve from 0.42749\n",
            "82/82 - 32s - loss: 0.4673 - bce: 0.4673 - val_loss: 0.4374 - val_bce: 0.4374 - 32s/epoch - 396ms/step\n",
            "Epoch 63/1000\n",
            "\n",
            "Epoch 63: val_bce did not improve from 0.42749\n",
            "82/82 - 32s - loss: 0.4644 - bce: 0.4644 - val_loss: 0.4316 - val_bce: 0.4316 - 32s/epoch - 395ms/step\n",
            "Epoch 64/1000\n",
            "\n",
            "Epoch 64: val_bce did not improve from 0.42749\n",
            "82/82 - 32s - loss: 0.4615 - bce: 0.4615 - val_loss: 0.4281 - val_bce: 0.4281 - 32s/epoch - 396ms/step\n",
            "Epoch 65/1000\n",
            "\n",
            "Epoch 65: val_bce improved from 0.42749 to 0.42658, saving model to /content/gdrive/My Drive/ETH/MLH/Project1/model/simpleRNN.h5\n",
            "82/82 - 33s - loss: 0.4623 - bce: 0.4623 - val_loss: 0.4266 - val_bce: 0.4266 - 33s/epoch - 404ms/step\n",
            "Epoch 66/1000\n",
            "\n",
            "Epoch 66: val_bce did not improve from 0.42658\n",
            "82/82 - 33s - loss: 0.4634 - bce: 0.4634 - val_loss: 0.4275 - val_bce: 0.4275 - 33s/epoch - 400ms/step\n",
            "Epoch 67/1000\n",
            "\n",
            "Epoch 67: val_bce did not improve from 0.42658\n",
            "82/82 - 32s - loss: 0.4649 - bce: 0.4649 - val_loss: 0.4356 - val_bce: 0.4356 - 32s/epoch - 394ms/step\n",
            "Epoch 68/1000\n",
            "\n",
            "Epoch 68: val_bce did not improve from 0.42658\n",
            "82/82 - 33s - loss: 0.4679 - bce: 0.4679 - val_loss: 0.4379 - val_bce: 0.4379 - 33s/epoch - 400ms/step\n",
            "Epoch 69/1000\n",
            "\n",
            "Epoch 69: val_bce did not improve from 0.42658\n",
            "82/82 - 33s - loss: 0.4629 - bce: 0.4629 - val_loss: 0.4308 - val_bce: 0.4308 - 33s/epoch - 401ms/step\n",
            "Epoch 70/1000\n",
            "\n",
            "Epoch 70: val_bce did not improve from 0.42658\n",
            "82/82 - 32s - loss: 0.4675 - bce: 0.4675 - val_loss: 0.4285 - val_bce: 0.4285 - 32s/epoch - 393ms/step\n",
            "Epoch 71/1000\n",
            "\n",
            "Epoch 71: val_bce did not improve from 0.42658\n",
            "82/82 - 33s - loss: 0.4636 - bce: 0.4636 - val_loss: 0.4307 - val_bce: 0.4307 - 33s/epoch - 398ms/step\n",
            "Epoch 72/1000\n",
            "\n",
            "Epoch 72: val_bce improved from 0.42658 to 0.42471, saving model to /content/gdrive/My Drive/ETH/MLH/Project1/model/simpleRNN.h5\n",
            "82/82 - 33s - loss: 0.4632 - bce: 0.4632 - val_loss: 0.4247 - val_bce: 0.4247 - 33s/epoch - 408ms/step\n",
            "Epoch 73/1000\n",
            "\n",
            "Epoch 73: val_bce improved from 0.42471 to 0.42429, saving model to /content/gdrive/My Drive/ETH/MLH/Project1/model/simpleRNN.h5\n",
            "82/82 - 33s - loss: 0.4664 - bce: 0.4664 - val_loss: 0.4243 - val_bce: 0.4243 - 33s/epoch - 402ms/step\n",
            "Epoch 74/1000\n",
            "\n",
            "Epoch 74: val_bce did not improve from 0.42429\n",
            "82/82 - 33s - loss: 0.4596 - bce: 0.4596 - val_loss: 0.4289 - val_bce: 0.4289 - 33s/epoch - 405ms/step\n",
            "Epoch 75/1000\n",
            "\n",
            "Epoch 75: val_bce did not improve from 0.42429\n",
            "82/82 - 32s - loss: 0.4666 - bce: 0.4666 - val_loss: 0.4575 - val_bce: 0.4575 - 32s/epoch - 395ms/step\n",
            "Epoch 76/1000\n",
            "\n",
            "Epoch 76: val_bce did not improve from 0.42429\n",
            "82/82 - 33s - loss: 0.4742 - bce: 0.4742 - val_loss: 0.4343 - val_bce: 0.4343 - 33s/epoch - 398ms/step\n",
            "Epoch 77/1000\n",
            "\n",
            "Epoch 77: val_bce did not improve from 0.42429\n",
            "82/82 - 32s - loss: 0.4659 - bce: 0.4659 - val_loss: 0.4276 - val_bce: 0.4276 - 32s/epoch - 395ms/step\n",
            "Epoch 78/1000\n",
            "\n",
            "Epoch 78: val_bce improved from 0.42429 to 0.42309, saving model to /content/gdrive/My Drive/ETH/MLH/Project1/model/simpleRNN.h5\n",
            "82/82 - 33s - loss: 0.4599 - bce: 0.4599 - val_loss: 0.4231 - val_bce: 0.4231 - 33s/epoch - 408ms/step\n",
            "Epoch 79/1000\n",
            "\n",
            "Epoch 79: val_bce did not improve from 0.42309\n",
            "82/82 - 33s - loss: 0.4627 - bce: 0.4627 - val_loss: 0.4390 - val_bce: 0.4390 - 33s/epoch - 400ms/step\n",
            "Epoch 80/1000\n",
            "\n",
            "Epoch 80: val_bce did not improve from 0.42309\n",
            "82/82 - 32s - loss: 0.4689 - bce: 0.4689 - val_loss: 0.4281 - val_bce: 0.4281 - 32s/epoch - 394ms/step\n",
            "Epoch 81/1000\n",
            "\n",
            "Epoch 81: val_bce did not improve from 0.42309\n",
            "82/82 - 32s - loss: 0.4587 - bce: 0.4587 - val_loss: 0.4407 - val_bce: 0.4407 - 32s/epoch - 394ms/step\n",
            "Epoch 82/1000\n",
            "\n",
            "Epoch 82: val_bce did not improve from 0.42309\n",
            "82/82 - 32s - loss: 0.4655 - bce: 0.4655 - val_loss: 0.4239 - val_bce: 0.4239 - 32s/epoch - 394ms/step\n",
            "Epoch 83/1000\n",
            "\n",
            "Epoch 83: val_bce did not improve from 0.42309\n",
            "82/82 - 32s - loss: 0.4649 - bce: 0.4649 - val_loss: 0.4345 - val_bce: 0.4345 - 32s/epoch - 396ms/step\n",
            "Epoch 84/1000\n",
            "\n",
            "Epoch 84: val_bce did not improve from 0.42309\n",
            "82/82 - 32s - loss: 0.4683 - bce: 0.4683 - val_loss: 0.4373 - val_bce: 0.4373 - 32s/epoch - 393ms/step\n",
            "Epoch 85/1000\n",
            "\n",
            "Epoch 85: val_bce did not improve from 0.42309\n",
            "82/82 - 32s - loss: 0.4640 - bce: 0.4640 - val_loss: 0.4288 - val_bce: 0.4288 - 32s/epoch - 393ms/step\n",
            "Epoch 86/1000\n",
            "\n",
            "Epoch 86: val_bce did not improve from 0.42309\n",
            "82/82 - 33s - loss: 0.4649 - bce: 0.4649 - val_loss: 0.4330 - val_bce: 0.4330 - 33s/epoch - 398ms/step\n",
            "Epoch 87/1000\n",
            "\n",
            "Epoch 87: val_bce did not improve from 0.42309\n",
            "82/82 - 32s - loss: 0.4665 - bce: 0.4665 - val_loss: 0.4420 - val_bce: 0.4420 - 32s/epoch - 394ms/step\n",
            "Epoch 88/1000\n",
            "\n",
            "Epoch 88: val_bce did not improve from 0.42309\n",
            "82/82 - 32s - loss: 0.4679 - bce: 0.4679 - val_loss: 0.4430 - val_bce: 0.4430 - 32s/epoch - 395ms/step\n",
            "Epoch 89/1000\n",
            "\n",
            "Epoch 89: val_bce did not improve from 0.42309\n",
            "82/82 - 32s - loss: 0.4630 - bce: 0.4630 - val_loss: 0.4301 - val_bce: 0.4301 - 32s/epoch - 395ms/step\n",
            "Epoch 90/1000\n",
            "\n",
            "Epoch 90: val_bce did not improve from 0.42309\n",
            "82/82 - 32s - loss: 0.4660 - bce: 0.4660 - val_loss: 0.4468 - val_bce: 0.4468 - 32s/epoch - 392ms/step\n",
            "Epoch 91/1000\n",
            "\n",
            "Epoch 91: val_bce did not improve from 0.42309\n",
            "82/82 - 32s - loss: 0.4710 - bce: 0.4710 - val_loss: 0.4628 - val_bce: 0.4628 - 32s/epoch - 396ms/step\n",
            "Epoch 92/1000\n",
            "\n",
            "Epoch 92: val_bce did not improve from 0.42309\n",
            "82/82 - 32s - loss: 0.4635 - bce: 0.4635 - val_loss: 0.4310 - val_bce: 0.4310 - 32s/epoch - 394ms/step\n",
            "Epoch 93/1000\n",
            "\n",
            "Epoch 93: val_bce did not improve from 0.42309\n",
            "82/82 - 33s - loss: 0.4626 - bce: 0.4626 - val_loss: 0.4399 - val_bce: 0.4399 - 33s/epoch - 397ms/step\n",
            "Epoch 94/1000\n",
            "\n",
            "Epoch 94: val_bce did not improve from 0.42309\n",
            "82/82 - 33s - loss: 0.4689 - bce: 0.4689 - val_loss: 0.4245 - val_bce: 0.4245 - 33s/epoch - 398ms/step\n",
            "Epoch 95/1000\n",
            "\n",
            "Epoch 95: val_bce did not improve from 0.42309\n",
            "82/82 - 32s - loss: 0.4642 - bce: 0.4642 - val_loss: 0.4298 - val_bce: 0.4298 - 32s/epoch - 392ms/step\n",
            "Epoch 96/1000\n",
            "\n",
            "Epoch 96: val_bce did not improve from 0.42309\n",
            "82/82 - 32s - loss: 0.4694 - bce: 0.4694 - val_loss: 0.4488 - val_bce: 0.4488 - 32s/epoch - 396ms/step\n",
            "Epoch 97/1000\n",
            "\n",
            "Epoch 97: val_bce did not improve from 0.42309\n",
            "82/82 - 33s - loss: 0.4663 - bce: 0.4663 - val_loss: 0.4513 - val_bce: 0.4513 - 33s/epoch - 399ms/step\n",
            "Epoch 98/1000\n",
            "\n",
            "Epoch 98: val_bce did not improve from 0.42309\n",
            "82/82 - 32s - loss: 0.4662 - bce: 0.4662 - val_loss: 0.4439 - val_bce: 0.4439 - 32s/epoch - 394ms/step\n",
            "Epoch 99/1000\n",
            "\n",
            "Epoch 99: val_bce did not improve from 0.42309\n",
            "82/82 - 33s - loss: 0.4666 - bce: 0.4666 - val_loss: 0.4340 - val_bce: 0.4340 - 33s/epoch - 399ms/step\n",
            "Epoch 100/1000\n",
            "\n",
            "Epoch 100: val_bce did not improve from 0.42309\n",
            "82/82 - 32s - loss: 0.4651 - bce: 0.4651 - val_loss: 0.4512 - val_bce: 0.4512 - 32s/epoch - 395ms/step\n",
            "Epoch 101/1000\n",
            "\n",
            "Epoch 101: val_bce did not improve from 0.42309\n",
            "82/82 - 33s - loss: 0.4682 - bce: 0.4682 - val_loss: 0.4414 - val_bce: 0.4414 - 33s/epoch - 398ms/step\n",
            "Epoch 102/1000\n",
            "\n",
            "Epoch 102: val_bce did not improve from 0.42309\n",
            "82/82 - 33s - loss: 0.4708 - bce: 0.4708 - val_loss: 0.4365 - val_bce: 0.4365 - 33s/epoch - 399ms/step\n",
            "Epoch 103/1000\n",
            "\n",
            "Epoch 103: val_bce did not improve from 0.42309\n",
            "82/82 - 33s - loss: 0.4670 - bce: 0.4670 - val_loss: 0.4379 - val_bce: 0.4379 - 33s/epoch - 399ms/step\n",
            "Epoch 103: early stopping\n"
          ]
        }
      ]
    },
    {
      "cell_type": "code",
      "source": [
        "# Analysis of the model\n",
        "sRNN.load_weights(sRNN_file_path)\n",
        "Y_pred_test = sRNN.predict(X_test)\n",
        "bce = tf.keras.losses.BinaryCrossentropy(from_logits=True)\n",
        "print(\"Model BCE: {}\".format(bce(Y_test,Y_pred_test.flatten()).numpy()))\n",
        "m = tf.keras.metrics.Accuracy()\n",
        "m.update_state(Y_test.reshape(-1,1), Y_pred_test > 0.5)\n",
        "print(\"Model accuracy: {}\".format(m.result().numpy()))"
      ],
      "metadata": {
        "id": "rbjoRnYSwB0Y",
        "colab": {
          "base_uri": "https://localhost:8080/"
        },
        "outputId": "77a19a5a-34a1-424d-da5e-174e8c1ab98f"
      },
      "execution_count": 59,
      "outputs": [
        {
          "output_type": "stream",
          "name": "stdout",
          "text": [
            "Model BCE: 0.5437193512916565\n",
            "Model accuracy: 0.7825489640235901\n"
          ]
        }
      ]
    },
    {
      "cell_type": "code",
      "source": [
        "# Plot training & validation accuracy values\n",
        "plt.plot(history.history['bce'])\n",
        "plt.plot(history.history['val_bce'])\n",
        "plt.title('Model BCE')\n",
        "plt.ylabel('BCE')\n",
        "plt.xlabel('Epoch')\n",
        "plt.legend(['Train', 'Test'], loc='upper left')\n",
        "plt.show()"
      ],
      "metadata": {
        "id": "HKE7a9u415dJ",
        "colab": {
          "base_uri": "https://localhost:8080/",
          "height": 295
        },
        "outputId": "279889ca-4de0-492d-cf61-a57d9ed13fc6"
      },
      "execution_count": 17,
      "outputs": [
        {
          "output_type": "display_data",
          "data": {
            "image/png": "[encoded data removed]",
            "text/plain": [
              "<Figure size 432x288 with 1 Axes>"
            ]
          },
          "metadata": {
            "needs_background": "light"
          }
        }
      ]
    }
  ]
}