{
  "nbformat": 4,
  "nbformat_minor": 0,
  "metadata": {
    "colab": {
      "name": "ensemble_voting_ptb.ipynb",
      "provenance": []
    },
    "kernelspec": {
      "name": "python3",
      "display_name": "Python 3"
    },
    "language_info": {
      "name": "python"
    }
  },
  "cells": [
    {
      "cell_type": "code",
      "execution_count": 13,
      "metadata": {
        "id": "ySe800sUCBYG"
      },
      "outputs": [],
      "source": [
        "import pandas as pd\n",
        "import numpy as np\n",
        "import tensorflow as tf\n",
        "from tensorflow import keras\n",
        "\n",
        "from keras.utils import np_utils\n",
        "from keras import utils\n",
        "from sklearn.model_selection import train_test_split\n",
        "\n",
        "from sklearn.metrics import ConfusionMatrixDisplay, confusion_matrix\n",
        "from sklearn.metrics import f1_score, accuracy_score\n",
        "import matplotlib.pyplot as plt\n",
        "\n",
        "import pywt\n",
        "from sklearn.metrics import roc_auc_score, RocCurveDisplay, average_precision_score, PrecisionRecallDisplay, auc"
      ]
    },
    {
      "cell_type": "code",
      "source": [
        "from google.colab import drive\n",
        "drive.mount('/content/drive')"
      ],
      "metadata": {
        "colab": {
          "base_uri": "https://localhost:8080/"
        },
        "id": "oieOLy6gCCaX",
        "outputId": "83c1f2f6-6fff-4373-c76b-fe56e5faaf92"
      },
      "execution_count": 2,
      "outputs": [
        {
          "output_type": "stream",
          "name": "stdout",
          "text": [
            "Mounted at /content/drive\n"
          ]
        }
      ]
    },
    {
      "cell_type": "code",
      "source": [
        "# read the dataset\n",
        "df_1 = pd.read_csv(\"/content/drive/MyDrive/MLHC_PROJECT1/ptbdb_normal.csv\", header=None)\n",
        "df_2 = pd.read_csv(\"/content/drive/MyDrive/MLHC_PROJECT1/ptbdb_abnormal.csv\", header=None)\n",
        "df = pd.concat([df_1, df_2])\n",
        "\n",
        "df_train, df_test = train_test_split(df, test_size=0.2, random_state=1337, stratify=df[187])\n",
        "\n",
        "\n",
        "y_train = np.array(df_train[187].values).astype(np.int8)\n",
        "X_train = np.array(df_train[list(range(187))].values)[..., np.newaxis]\n",
        "\n",
        "y_test = np.array(df_test[187].values).astype(np.int8)\n",
        "X_test = np.array(df_test[list(range(187))].values)[..., np.newaxis]"
      ],
      "metadata": {
        "id": "CBGyTw6pCHH8"
      },
      "execution_count": 8,
      "outputs": []
    },
    {
      "cell_type": "code",
      "source": [
        "# pre-processing for the DBLSTM-WS model\n",
        "def DWT(signal, levels):\n",
        "  coeffs = pywt.wavedec(signal.flatten(), 'db6', mode='symmetric', level=levels)[1:]\n",
        "  coeffs = [np.pad(np.array(c), (0, 187-len(c))) for c in coeffs]\n",
        "  coeffs += [signal]\n",
        "  return np.stack(coeffs, axis=-1)\n",
        "\n",
        "def WSpreprocess(dataset, levels):\n",
        "  return np.squeeze(np.apply_along_axis(DWT, 1, dataset, levels))\n",
        "\n",
        "X_train_new = WSpreprocess(np.squeeze(X_train), 2)\n",
        "X_test_new = WSpreprocess(np.squeeze(X_test), 2)\n"
      ],
      "metadata": {
        "id": "Z6vX_qAdBAAF"
      },
      "execution_count": 6,
      "outputs": []
    },
    {
      "cell_type": "code",
      "source": [
        "ensemble_predictions = np.zeros((2911, 2))\n",
        "\n",
        "path = \"/content/drive/MyDrive/MLHC_PROJECT1/H5/PTB/\"\n",
        "import os\n",
        "for filename in os.listdir(path):\n",
        "  print(filename)\n",
        "  model = keras.models.load_model(path + filename)\n",
        "\n",
        "  if filename == \"DBLSTM-WS_ptb.h5\":\n",
        "     y_pred = model.predict(X_test_new)\n",
        "  else:\n",
        "    y_pred = model.predict(X_test)\n",
        "\n",
        "  ensemble_predictions = ensemble_predictions + y_pred"
      ],
      "metadata": {
        "colab": {
          "base_uri": "https://localhost:8080/"
        },
        "id": "4GNYlwpeCHPk",
        "outputId": "3e3d5d4c-4ebd-44ed-fd9b-e0320721d2e5"
      },
      "execution_count": 10,
      "outputs": [
        {
          "output_type": "stream",
          "name": "stdout",
          "text": [
            "CNN_ptb.h5\n",
            "transformer_ptb.h5\n",
            "DBLSTM-WS_ptb.h5\n",
            "RNN_ptb.h5\n"
          ]
        }
      ]
    },
    {
      "cell_type": "code",
      "source": [
        "y_pred = np.argmax(ensemble_predictions, axis=-1)\n",
        "\n",
        "f1 = f1_score(y_test, y_pred, average=\"macro\")\n",
        "print(\"Test f1 score : %s \"% f1)\n",
        "\n",
        "acc = accuracy_score(y_test, y_pred)\n",
        "print(\"Test accuracy score : %s \"% acc)"
      ],
      "metadata": {
        "colab": {
          "base_uri": "https://localhost:8080/"
        },
        "id": "pfuKMNnuCPjU",
        "outputId": "afbf5a41-f6fa-4b3c-8794-c4b5189a5e88"
      },
      "execution_count": 11,
      "outputs": [
        {
          "output_type": "stream",
          "name": "stdout",
          "text": [
            "Test f1 score : 0.9820394168561708 \n",
            "Test accuracy score : 0.9855719683957403 \n"
          ]
        }
      ]
    },
    {
      "cell_type": "code",
      "source": [
        "RocCurveDisplay.from_predictions(y_test.reshape(-1,1), y_pred)\n",
        "print(\"Model AUROC: {}\".format(roc_auc_score(y_test.reshape(-1,1), y_pred, average=None)))"
      ],
      "metadata": {
        "colab": {
          "base_uri": "https://localhost:8080/",
          "height": 296
        },
        "id": "npv79XBADiRA",
        "outputId": "be0f1ff7-6518-46d9-ea60-e8809da31c89"
      },
      "execution_count": 14,
      "outputs": [
        {
          "output_type": "stream",
          "name": "stdout",
          "text": [
            "Model AUROC: 0.9824059492460534\n"
          ]
        },
        {
          "output_type": "display_data",
          "data": {
            "text/plain": [
              "<Figure size 432x288 with 1 Axes>"
            ],
            "image/png": "[encoded data removed]"
          },
          "metadata": {
            "needs_background": "light"
          }
        }
      ]
    },
    {
      "cell_type": "code",
      "source": [
        "PrecisionRecallDisplay.from_predictions(y_test.reshape(-1,1), y_pred)\n",
        "print(\"Model AUPRC: {}\".format(average_precision_score(y_test.reshape(-1,1), y_pred)))"
      ],
      "metadata": {
        "colab": {
          "base_uri": "https://localhost:8080/",
          "height": 296
        },
        "id": "Z_ITjF8ODp6I",
        "outputId": "9e1b2b73-bea2-4400-fc33-4318c8168fb6"
      },
      "execution_count": 16,
      "outputs": [
        {
          "output_type": "stream",
          "name": "stdout",
          "text": [
            "Model AUPRC: 0.9876671865061324\n"
          ]
        },
        {
          "output_type": "display_data",
          "data": {
            "text/plain": [
              "<Figure size 432x288 with 1 Axes>"
            ],
            "image/png": "[encoded data removed]"
          },
          "metadata": {
            "needs_background": "light"
          }
        }
      ]
    },
    {
      "cell_type": "code",
      "source": [
        "# Plotting confusion matrix\n",
        "cm = confusion_matrix(y_test, y_pred)\n",
        "\n",
        "disp = ConfusionMatrixDisplay(confusion_matrix=cm, display_labels=[0,1,2,3])\n",
        "\n",
        "disp.plot(cmap=plt.cm.Blues)\n",
        "plt.show()"
      ],
      "metadata": {
        "colab": {
          "base_uri": "https://localhost:8080/",
          "height": 279
        },
        "id": "_cPb0Z5bCSqR",
        "outputId": "7f4d5ef0-4e53-4e5a-991d-3f106855bafc"
      },
      "execution_count": 12,
      "outputs": [
        {
          "output_type": "display_data",
          "data": {
            "text/plain": [
              "<Figure size 432x288 with 2 Axes>"
            ],
            "image/png": "[encoded data removed]"
          },
          "metadata": {
            "needs_background": "light"
          }
        }
      ]
    }
  ]
}