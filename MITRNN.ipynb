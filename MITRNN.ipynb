{
  "nbformat": 4,
  "nbformat_minor": 0,
  "metadata": {
    "colab": {
      "name": "MITRNN.ipynb",
      "provenance": [],
      "collapsed_sections": [],
      "machine_shape": "hm",
      "authorship_tag": "ABX9TyORTUiOjShfo8xsuVuidqA0",
      "include_colab_link": true
    },
    "kernelspec": {
      "name": "python3",
      "display_name": "Python 3"
    },
    "language_info": {
      "name": "python"
    },
    "accelerator": "GPU"
  },
  "cells": [
    {
      "cell_type": "markdown",
      "metadata": {
        "id": "view-in-github",
        "colab_type": "text"
      },
      "source": [
        "<a href=\"https://colab.research.google.com/github/ravifrancesco/ECG_Heartbeat_Classification/blob/vanillaRNNMIT/MITRNN.ipynb\" target=\"_parent\"><img src=\"https://colab.research.google.com/assets/colab-badge.svg\" alt=\"Open In Colab\"/></a>"
      ]
    },
    {
      "cell_type": "markdown",
      "source": [
        "1) Checking resources"
      ],
      "metadata": {
        "id": "9kivyspFcZjD"
      }
    },
    {
      "cell_type": "code",
      "source": [
        "!nvidia-smi"
      ],
      "metadata": {
        "colab": {
          "base_uri": "https://localhost:8080/"
        },
        "id": "6ZH5Et9DLAkz",
        "outputId": "1bc28e11-109d-40b1-b1a2-206d1230fee4"
      },
      "execution_count": 1,
      "outputs": [
        {
          "output_type": "stream",
          "name": "stdout",
          "text": [
            "Mon Mar 14 13:24:13 2022       \n",
            "+-----------------------------------------------------------------------------+\n",
            "| NVIDIA-SMI 460.32.03    Driver Version: 460.32.03    CUDA Version: 11.2     |\n",
            "|-------------------------------+----------------------+----------------------+\n",
            "| GPU  Name        Persistence-M| Bus-Id        Disp.A | Volatile Uncorr. ECC |\n",
            "| Fan  Temp  Perf  Pwr:Usage/Cap|         Memory-Usage | GPU-Util  Compute M. |\n",
            "|                               |                      |               MIG M. |\n",
            "|===============================+======================+======================|\n",
            "|   0  Tesla T4            Off  | 00000000:00:04.0 Off |                    0 |\n",
            "| N/A   50C    P8    10W /  70W |      0MiB / 15109MiB |      0%      Default |\n",
            "|                               |                      |                  N/A |\n",
            "+-------------------------------+----------------------+----------------------+\n",
            "                                                                               \n",
            "+-----------------------------------------------------------------------------+\n",
            "| Processes:                                                                  |\n",
            "|  GPU   GI   CI        PID   Type   Process name                  GPU Memory |\n",
            "|        ID   ID                                                   Usage      |\n",
            "|=============================================================================|\n",
            "|  No running processes found                                                 |\n",
            "+-----------------------------------------------------------------------------+\n"
          ]
        }
      ]
    },
    {
      "cell_type": "code",
      "source": [
        "from psutil import virtual_memory\n",
        "ram_gb = virtual_memory().total / 1e9\n",
        "print('Your runtime has {:.1f} gigabytes of available RAM\\n'.format(ram_gb))\n",
        "\n",
        "if ram_gb < 20:\n",
        "  print('Not using a high-RAM runtime')\n",
        "else:\n",
        "  print('You are using a high-RAM runtime!')"
      ],
      "metadata": {
        "id": "v8fYQFGmccSG",
        "colab": {
          "base_uri": "https://localhost:8080/"
        },
        "outputId": "417003a4-5b17-457b-b883-74749ad38d10"
      },
      "execution_count": 2,
      "outputs": [
        {
          "output_type": "stream",
          "name": "stdout",
          "text": [
            "Your runtime has 27.3 gigabytes of available RAM\n",
            "\n",
            "You are using a high-RAM runtime!\n"
          ]
        }
      ]
    },
    {
      "cell_type": "markdown",
      "source": [
        "2) Setting up colab"
      ],
      "metadata": {
        "id": "3lW7W8b8ceNP"
      }
    },
    {
      "cell_type": "code",
      "source": [
        "# Gloabal variables\n",
        "data_path = \"/content/gdrive/My Drive/ETH/MLH/Project1/data/\"\n",
        "model_path = \"/content/gdrive/My Drive/ETH/MLH/Project1/model/\"\n",
        "\n",
        "random_seed = 50"
      ],
      "metadata": {
        "id": "m0CMfiubbnPO"
      },
      "execution_count": 3,
      "outputs": []
    },
    {
      "cell_type": "code",
      "source": [
        "# Mount Google Drive and set data paths.\n",
        "import os\n",
        "from google.colab import drive\n",
        "from google.colab import files\n",
        "\n",
        "drive.mount('/content/gdrive')"
      ],
      "metadata": {
        "id": "knowjAQBbh8g",
        "colab": {
          "base_uri": "https://localhost:8080/"
        },
        "outputId": "9769cc9a-26b9-43d9-fb42-0ea378a247f4"
      },
      "execution_count": 4,
      "outputs": [
        {
          "output_type": "stream",
          "name": "stdout",
          "text": [
            "Drive already mounted at /content/gdrive; to attempt to forcibly remount, call drive.mount(\"/content/gdrive\", force_remount=True).\n"
          ]
        }
      ]
    },
    {
      "cell_type": "markdown",
      "source": [
        "3) Imports"
      ],
      "metadata": {
        "id": "GehJjPLjdBAP"
      }
    },
    {
      "cell_type": "code",
      "source": [
        "import pandas as pd\n",
        "import numpy as np\n",
        "\n",
        "import matplotlib.pyplot as plt\n",
        "\n",
        "from sklearn.model_selection import StratifiedShuffleSplit, train_test_split\n",
        "\n",
        "import tensorflow as tf\n",
        "from tensorflow import keras\n",
        "from tensorflow.keras import models, optimizers, losses\n",
        "from tensorflow.keras.layers import Input, SimpleRNN, Dense\n",
        "from tensorflow.keras.callbacks import ModelCheckpoint, EarlyStopping, ReduceLROnPlateau"
      ],
      "metadata": {
        "id": "cmSxAcNodAC3"
      },
      "execution_count": 5,
      "outputs": []
    },
    {
      "cell_type": "markdown",
      "source": [
        "4) Loading data"
      ],
      "metadata": {
        "id": "RsvCKOlecl2C"
      }
    },
    {
      "cell_type": "code",
      "source": [
        "df_train = pd.read_csv(data_path + \"input/mitbih_train.csv\", header=None)\n",
        "df_train = df_train.sample(frac=1)\n",
        "df_test = pd.read_csv(data_path + \"input/mitbih_test.csv\", header=None)\n",
        "\n",
        "Y = np.array(df_train[187].values).astype(np.int8)\n",
        "Y = tf.keras.utils.to_categorical(Y)\n",
        "X = np.array(df_train[list(range(187))].values)[..., np.newaxis]\n",
        "\n",
        "Y_test = np.array(df_test[187].values).astype(np.int8)\n",
        "Y_test = tf.keras.utils.to_categorical(Y_test)\n",
        "X_test = np.array(df_test[list(range(187))].values)[..., np.newaxis]\n",
        "\n",
        "print(\"X shape is {}\".format(X.shape))\n",
        "print(\"Y shape is {}\".format(Y.shape))\n",
        "print(\"X_test shape is {}\".format(X_test.shape))\n",
        "print(\"Y_test shape is {}\".format(Y_test.shape))"
      ],
      "metadata": {
        "id": "9aXxgS4VcXbl",
        "colab": {
          "base_uri": "https://localhost:8080/"
        },
        "outputId": "b6568755-33e0-4788-eb0e-d97e4d7053f3"
      },
      "execution_count": 6,
      "outputs": [
        {
          "output_type": "stream",
          "name": "stdout",
          "text": [
            "X shape is (87554, 187, 1)\n",
            "Y shape is (87554, 5)\n",
            "X_test shape is (21892, 187, 1)\n",
            "Y_test shape is (21892, 5)\n"
          ]
        }
      ]
    },
    {
      "cell_type": "markdown",
      "source": [
        "5) Visualizing data"
      ],
      "metadata": {
        "id": "k-bErF6YdTww"
      }
    },
    {
      "cell_type": "code",
      "source": [
        "# Plotting one signal\n",
        "example_signal = 56\n",
        "plt.rcParams['lines.linewidth'] = 3\n",
        "plt.figure(figsize=(30, 11))\n",
        "plt.plot(X[example_signal])\n",
        "plt.title(\"ECG number {} - Class: {}\".format(example_signal+1, np.argmax(Y[example_signal])), size = 20)\n",
        "plt.show()"
      ],
      "metadata": {
        "id": "nJoT2rF8dTYG",
        "colab": {
          "base_uri": "https://localhost:8080/",
          "height": 321
        },
        "outputId": "309f3c4e-65a1-4197-bd3e-bb224420a902"
      },
      "execution_count": 7,
      "outputs": [
        {
          "output_type": "display_data",
          "data": {
            "text/plain": [
              "<Figure size 2160x792 with 1 Axes>"
            ],
            "image/png": "[encoded data removed]"
          },
          "metadata": {
            "needs_background": "light"
          }
        }
      ]
    },
    {
      "cell_type": "markdown",
      "source": [
        "6) Creating validation set"
      ],
      "metadata": {
        "id": "USIzA03KzXkd"
      }
    },
    {
      "cell_type": "code",
      "source": [
        "# Splitting dataset for validation\n",
        "sss = StratifiedShuffleSplit(n_splits=1, test_size=0.2, random_state=random_seed)\n",
        "for train_index, test_index in sss.split(X, Y):\n",
        "    X_train, X_val = X[train_index], X[test_index]\n",
        "    Y_train, Y_val = Y[train_index], Y[test_index]\n",
        "\n",
        "print(\"X_train shape is {}\".format(X_train.shape))\n",
        "print(\"Y_train shape is {}\".format(Y_train.shape))\n",
        "print(\"X_val shape is {}\".format(X_val.shape))\n",
        "print(\"Y_val shape is {}\".format(Y_val.shape))"
      ],
      "metadata": {
        "id": "Vvt_fxQwzPvI",
        "colab": {
          "base_uri": "https://localhost:8080/"
        },
        "outputId": "352b85a4-4b95-45c0-f678-f8cb83685912"
      },
      "execution_count": 8,
      "outputs": [
        {
          "output_type": "stream",
          "name": "stdout",
          "text": [
            "X_train shape is (70043, 187, 1)\n",
            "Y_train shape is (70043, 5)\n",
            "X_val shape is (17511, 187, 1)\n",
            "Y_val shape is (17511, 5)\n"
          ]
        }
      ]
    },
    {
      "cell_type": "markdown",
      "source": [
        "\n",
        "6) Building SimpleRNN"
      ],
      "metadata": {
        "id": "LlVR7lOZj8p5"
      }
    },
    {
      "cell_type": "code",
      "source": [
        "def getSimpleRNN(input_shape, lr=0.001, dr=0.2, n_classes=5):\n",
        "\n",
        "  inp = Input(shape=input_shape)\n",
        "  img_1 = SimpleRNN(128, activation=None, dropout=dr, return_sequences=True, unroll=True)(inp)\n",
        "  img_2 = SimpleRNN(256, activation=None, dropout=dr, return_sequences=True, unroll=True)(img_1)\n",
        "  img_3 = SimpleRNN(100, activation=None, dropout=dr, return_sequences=False, unroll=True)(img_2)\n",
        "  out = Dense(5, activation='sigmoid')(img_3)\n",
        "\n",
        "  model = models.Model(inputs=inp, outputs=out)\n",
        "  opt = optimizers.Adam(learning_rate=lr)\n",
        "  model.compile(optimizer=opt, loss=losses.categorical_crossentropy,\n",
        "                  metrics=['acc'])\n",
        "  return model\n",
        "\n",
        "sRNN = getSimpleRNN(X_train[0].shape)\n",
        "tf.keras.utils.plot_model(sRNN, show_shapes=True, dpi=64)"
      ],
      "metadata": {
        "id": "Nb9GbQMwj_IZ",
        "colab": {
          "base_uri": "https://localhost:8080/",
          "height": 361
        },
        "outputId": "a2ee43d4-50bc-4bdf-e7ba-96bb9290cb4e"
      },
      "execution_count": 9,
      "outputs": [
        {
          "output_type": "execute_result",
          "data": {
            "text/plain": [
              "<IPython.core.display.Image object>"
            ],
            "image/png": "[encoded data removed]"
          },
          "metadata": {},
          "execution_count": 9
        }
      ]
    },
    {
      "cell_type": "code",
      "source": [
        "# Preparing the model\n",
        "sRNN_file_path = model_path + \"simpleRNNMIT.h5\"\n",
        "checkpoint = ModelCheckpoint(sRNN_file_path, monitor='val_loss', verbose=1, save_best_only=True, mode='min')\n",
        "early = EarlyStopping(monitor='val_loss', mode=\"min\", patience=25, verbose=1)\n",
        "callbacks_list = [checkpoint, early]"
      ],
      "metadata": {
        "id": "UN0y-5_7vwOg"
      },
      "execution_count": 10,
      "outputs": []
    },
    {
      "cell_type": "code",
      "source": [
        "# Fitting the model\n",
        "history = sRNN.fit(X_train, Y_train, epochs=1000, verbose=2, callbacks=callbacks_list, batch_size=128, validation_data=(X_val, Y_val))"
      ],
      "metadata": {
        "id": "ODj-C0uUv6AD",
        "colab": {
          "base_uri": "https://localhost:8080/"
        },
        "outputId": "bb7aa58c-c644-472a-c3b9-f606ad2fc0aa"
      },
      "execution_count": 11,
      "outputs": [
        {
          "output_type": "stream",
          "name": "stdout",
          "text": [
            "Epoch 1/1000\n",
            "\n",
            "Epoch 1: val_loss improved from inf to 0.43212, saving model to /content/gdrive/My Drive/ETH/MLH/Project1/model/simpleRNNMIT.h5\n",
            "548/548 - 73s - loss: 2.9821 - acc: 0.8078 - val_loss: 0.4321 - val_acc: 0.8695 - 73s/epoch - 133ms/step\n",
            "Epoch 2/1000\n",
            "\n",
            "Epoch 2: val_loss improved from 0.43212 to 0.39522, saving model to /content/gdrive/My Drive/ETH/MLH/Project1/model/simpleRNNMIT.h5\n",
            "548/548 - 37s - loss: 0.5171 - acc: 0.8572 - val_loss: 0.3952 - val_acc: 0.8849 - 37s/epoch - 68ms/step\n",
            "Epoch 3/1000\n",
            "\n",
            "Epoch 3: val_loss improved from 0.39522 to 0.37832, saving model to /content/gdrive/My Drive/ETH/MLH/Project1/model/simpleRNNMIT.h5\n",
            "548/548 - 38s - loss: 0.4768 - acc: 0.8670 - val_loss: 0.3783 - val_acc: 0.8919 - 38s/epoch - 69ms/step\n",
            "Epoch 4/1000\n",
            "\n",
            "Epoch 4: val_loss improved from 0.37832 to 0.37231, saving model to /content/gdrive/My Drive/ETH/MLH/Project1/model/simpleRNNMIT.h5\n",
            "548/548 - 38s - loss: 0.4509 - acc: 0.8720 - val_loss: 0.3723 - val_acc: 0.8846 - 38s/epoch - 69ms/step\n",
            "Epoch 5/1000\n",
            "\n",
            "Epoch 5: val_loss improved from 0.37231 to 0.35241, saving model to /content/gdrive/My Drive/ETH/MLH/Project1/model/simpleRNNMIT.h5\n",
            "548/548 - 40s - loss: 0.4370 - acc: 0.8749 - val_loss: 0.3524 - val_acc: 0.8911 - 40s/epoch - 72ms/step\n",
            "Epoch 6/1000\n",
            "\n",
            "Epoch 6: val_loss did not improve from 0.35241\n",
            "548/548 - 41s - loss: 0.4324 - acc: 0.8760 - val_loss: 0.3722 - val_acc: 0.8809 - 41s/epoch - 75ms/step\n",
            "Epoch 7/1000\n",
            "\n",
            "Epoch 7: val_loss did not improve from 0.35241\n",
            "548/548 - 39s - loss: 0.4301 - acc: 0.8764 - val_loss: 0.3790 - val_acc: 0.8806 - 39s/epoch - 70ms/step\n",
            "Epoch 8/1000\n",
            "\n",
            "Epoch 8: val_loss did not improve from 0.35241\n",
            "548/548 - 37s - loss: 0.4283 - acc: 0.8780 - val_loss: 0.3555 - val_acc: 0.8907 - 37s/epoch - 67ms/step\n",
            "Epoch 9/1000\n",
            "\n",
            "Epoch 9: val_loss did not improve from 0.35241\n",
            "548/548 - 37s - loss: 0.4289 - acc: 0.8771 - val_loss: 0.3613 - val_acc: 0.8885 - 37s/epoch - 68ms/step\n",
            "Epoch 10/1000\n",
            "\n",
            "Epoch 10: val_loss improved from 0.35241 to 0.34972, saving model to /content/gdrive/My Drive/ETH/MLH/Project1/model/simpleRNNMIT.h5\n",
            "548/548 - 43s - loss: 0.4278 - acc: 0.8770 - val_loss: 0.3497 - val_acc: 0.8935 - 43s/epoch - 79ms/step\n",
            "Epoch 11/1000\n",
            "\n",
            "Epoch 11: val_loss did not improve from 0.34972\n",
            "548/548 - 38s - loss: 0.4311 - acc: 0.8763 - val_loss: 0.4187 - val_acc: 0.8638 - 38s/epoch - 70ms/step\n",
            "Epoch 12/1000\n",
            "\n",
            "Epoch 12: val_loss did not improve from 0.34972\n",
            "548/548 - 39s - loss: 0.4372 - acc: 0.8746 - val_loss: 0.3762 - val_acc: 0.8835 - 39s/epoch - 71ms/step\n",
            "Epoch 13/1000\n",
            "\n",
            "Epoch 13: val_loss did not improve from 0.34972\n",
            "548/548 - 38s - loss: 0.4488 - acc: 0.8706 - val_loss: 0.4182 - val_acc: 0.8615 - 38s/epoch - 70ms/step\n",
            "Epoch 14/1000\n",
            "\n",
            "Epoch 14: val_loss did not improve from 0.34972\n",
            "548/548 - 39s - loss: 0.4703 - acc: 0.8644 - val_loss: 0.4747 - val_acc: 0.8354 - 39s/epoch - 71ms/step\n",
            "Epoch 15/1000\n",
            "\n",
            "Epoch 15: val_loss did not improve from 0.34972\n",
            "548/548 - 39s - loss: 0.4899 - acc: 0.8580 - val_loss: 0.4881 - val_acc: 0.8534 - 39s/epoch - 71ms/step\n",
            "Epoch 16/1000\n",
            "\n",
            "Epoch 16: val_loss did not improve from 0.34972\n",
            "548/548 - 38s - loss: 0.5440 - acc: 0.8425 - val_loss: 0.5721 - val_acc: 0.8304 - 38s/epoch - 70ms/step\n",
            "Epoch 17/1000\n",
            "\n",
            "Epoch 17: val_loss did not improve from 0.34972\n",
            "548/548 - 38s - loss: 0.6175 - acc: 0.8298 - val_loss: 0.6115 - val_acc: 0.8279 - 38s/epoch - 69ms/step\n",
            "Epoch 18/1000\n",
            "\n",
            "Epoch 18: val_loss did not improve from 0.34972\n",
            "548/548 - 38s - loss: 0.6318 - acc: 0.8273 - val_loss: 0.6422 - val_acc: 0.8283 - 38s/epoch - 69ms/step\n",
            "Epoch 19/1000\n",
            "\n",
            "Epoch 19: val_loss did not improve from 0.34972\n",
            "548/548 - 38s - loss: 0.6482 - acc: 0.8262 - val_loss: 0.6419 - val_acc: 0.8278 - 38s/epoch - 69ms/step\n",
            "Epoch 20/1000\n",
            "\n",
            "Epoch 20: val_loss did not improve from 0.34972\n",
            "548/548 - 37s - loss: nan - acc: 0.8218 - val_loss: nan - val_acc: 0.8277 - 37s/epoch - 68ms/step\n",
            "Epoch 21/1000\n",
            "\n",
            "Epoch 21: val_loss did not improve from 0.34972\n",
            "548/548 - 38s - loss: nan - acc: 0.8277 - val_loss: nan - val_acc: 0.8277 - 38s/epoch - 69ms/step\n",
            "Epoch 22/1000\n",
            "\n",
            "Epoch 22: val_loss did not improve from 0.34972\n",
            "548/548 - 36s - loss: nan - acc: 0.8277 - val_loss: nan - val_acc: 0.8277 - 36s/epoch - 67ms/step\n",
            "Epoch 23/1000\n",
            "\n",
            "Epoch 23: val_loss did not improve from 0.34972\n",
            "548/548 - 37s - loss: nan - acc: 0.8277 - val_loss: nan - val_acc: 0.8277 - 37s/epoch - 67ms/step\n",
            "Epoch 24/1000\n",
            "\n",
            "Epoch 24: val_loss did not improve from 0.34972\n",
            "548/548 - 37s - loss: nan - acc: 0.8277 - val_loss: nan - val_acc: 0.8277 - 37s/epoch - 67ms/step\n",
            "Epoch 25/1000\n",
            "\n",
            "Epoch 25: val_loss did not improve from 0.34972\n",
            "548/548 - 37s - loss: nan - acc: 0.8277 - val_loss: nan - val_acc: 0.8277 - 37s/epoch - 67ms/step\n",
            "Epoch 26/1000\n",
            "\n",
            "Epoch 26: val_loss did not improve from 0.34972\n",
            "548/548 - 37s - loss: nan - acc: 0.8277 - val_loss: nan - val_acc: 0.8277 - 37s/epoch - 67ms/step\n",
            "Epoch 27/1000\n",
            "\n",
            "Epoch 27: val_loss did not improve from 0.34972\n",
            "548/548 - 36s - loss: nan - acc: 0.8277 - val_loss: nan - val_acc: 0.8277 - 36s/epoch - 66ms/step\n",
            "Epoch 28/1000\n",
            "\n",
            "Epoch 28: val_loss did not improve from 0.34972\n",
            "548/548 - 36s - loss: nan - acc: 0.8277 - val_loss: nan - val_acc: 0.8277 - 36s/epoch - 67ms/step\n",
            "Epoch 29/1000\n",
            "\n",
            "Epoch 29: val_loss did not improve from 0.34972\n",
            "548/548 - 36s - loss: nan - acc: 0.8277 - val_loss: nan - val_acc: 0.8277 - 36s/epoch - 66ms/step\n",
            "Epoch 30/1000\n",
            "\n",
            "Epoch 30: val_loss did not improve from 0.34972\n",
            "548/548 - 37s - loss: nan - acc: 0.8277 - val_loss: nan - val_acc: 0.8277 - 37s/epoch - 67ms/step\n",
            "Epoch 31/1000\n",
            "\n",
            "Epoch 31: val_loss did not improve from 0.34972\n",
            "548/548 - 36s - loss: nan - acc: 0.8277 - val_loss: nan - val_acc: 0.8277 - 36s/epoch - 67ms/step\n",
            "Epoch 32/1000\n",
            "\n",
            "Epoch 32: val_loss did not improve from 0.34972\n",
            "548/548 - 37s - loss: nan - acc: 0.8277 - val_loss: nan - val_acc: 0.8277 - 37s/epoch - 68ms/step\n",
            "Epoch 33/1000\n",
            "\n",
            "Epoch 33: val_loss did not improve from 0.34972\n",
            "548/548 - 37s - loss: nan - acc: 0.8277 - val_loss: nan - val_acc: 0.8277 - 37s/epoch - 67ms/step\n",
            "Epoch 34/1000\n",
            "\n",
            "Epoch 34: val_loss did not improve from 0.34972\n",
            "548/548 - 37s - loss: nan - acc: 0.8277 - val_loss: nan - val_acc: 0.8277 - 37s/epoch - 68ms/step\n",
            "Epoch 35/1000\n",
            "\n",
            "Epoch 35: val_loss did not improve from 0.34972\n",
            "548/548 - 38s - loss: nan - acc: 0.8277 - val_loss: nan - val_acc: 0.8277 - 38s/epoch - 68ms/step\n",
            "Epoch 35: early stopping\n"
          ]
        }
      ]
    },
    {
      "cell_type": "code",
      "source": [
        "# Analysis of the model\n",
        "sRNN.load_weights(sRNN_file_path)\n",
        "Y_pred_test = sRNN.predict(X_test)\n",
        "cce = tf.keras.losses.CategoricalCrossentropy()\n",
        "print(\"Model CCE: {}\".format(cce(Y_test,Y_pred_test).numpy()))\n",
        "m = tf.keras.metrics.Accuracy()\n",
        "m.update_state(np.argmax(Y_test,axis=1), np.argmax(Y_pred_test,axis=1))\n",
        "print(\"Model accuracy: {}\".format(m.result().numpy()))"
      ],
      "metadata": {
        "id": "rbjoRnYSwB0Y",
        "colab": {
          "base_uri": "https://localhost:8080/"
        },
        "outputId": "9842cc8b-3741-4b8d-ca19-9b0f96719117"
      },
      "execution_count": 25,
      "outputs": [
        {
          "output_type": "stream",
          "name": "stdout",
          "text": [
            "Model CCE: 1.2643251419067383\n",
            "Model accuracy: 0.8946647047996521\n"
          ]
        }
      ]
    },
    {
      "cell_type": "code",
      "source": [
        "# Plot training & validation accuracy values\n",
        "plt.plot(history.history['loss'])\n",
        "plt.plot(history.history['val_loss'])\n",
        "plt.title('Model CCE')\n",
        "plt.ylabel('BCE')\n",
        "plt.xlabel('Epoch')\n",
        "plt.legend(['Train', 'Test'], loc='upper left')\n",
        "plt.show()"
      ],
      "metadata": {
        "id": "HKE7a9u415dJ",
        "colab": {
          "base_uri": "https://localhost:8080/",
          "height": 295
        },
        "outputId": "6530be98-1b74-4155-959a-b5f3eafefa2d"
      },
      "execution_count": 26,
      "outputs": [
        {
          "output_type": "display_data",
          "data": {
            "text/plain": [
              "<Figure size 432x288 with 1 Axes>"
            ],
            "image/png": "[encoded data removed]"
          },
          "metadata": {
            "needs_background": "light"
          }
        }
      ]
    }
  ]
}