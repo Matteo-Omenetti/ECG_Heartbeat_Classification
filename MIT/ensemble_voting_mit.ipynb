{
  "nbformat": 4,
  "nbformat_minor": 0,
  "metadata": {
    "colab": {
      "name": "ensemble_voting_mit.ipynb",
      "provenance": []
    },
    "kernelspec": {
      "name": "python3",
      "display_name": "Python 3"
    },
    "language_info": {
      "name": "python"
    }
  },
  "cells": [
    {
      "cell_type": "code",
      "execution_count": 1,
      "metadata": {
        "id": "6XclmnNS3IQz"
      },
      "outputs": [],
      "source": [
        "import pandas as pd\n",
        "import numpy as np\n",
        "import tensorflow as tf\n",
        "from tensorflow import keras\n",
        "\n",
        "from keras.utils import np_utils\n",
        "from keras import utils\n",
        "from sklearn.model_selection import train_test_split\n",
        "\n",
        "from sklearn.metrics import ConfusionMatrixDisplay, confusion_matrix\n",
        "from sklearn.metrics import f1_score, accuracy_score\n",
        "import matplotlib.pyplot as plt\n",
        "\n",
        "import pywt\n",
        "from sklearn.metrics import roc_auc_score, RocCurveDisplay, average_precision_score, PrecisionRecallDisplay, auc"
      ]
    },
    {
      "cell_type": "code",
      "source": [
        "from google.colab import drive\n",
        "drive.mount('/content/drive')"
      ],
      "metadata": {
        "colab": {
          "base_uri": "https://localhost:8080/"
        },
        "id": "NBjAg8vJ3Sts",
        "outputId": "993faef6-e071-46da-c1de-9628690b6e76"
      },
      "execution_count": 2,
      "outputs": [
        {
          "output_type": "stream",
          "name": "stdout",
          "text": [
            "Mounted at /content/drive\n"
          ]
        }
      ]
    },
    {
      "cell_type": "code",
      "source": [
        "# load data set\n",
        "df_train = pd.read_csv(\"/content/drive/MyDrive/MLHC_PROJECT1/mitbih_train.csv\", header=None)\n",
        "df_train = df_train.sample(frac=1)\n",
        "df_test = pd.read_csv(\"/content/drive/MyDrive/MLHC_PROJECT1/mitbih_test.csv\", header=None)\n",
        "\n",
        "y_train = np.array(df_train[187].values).astype(np.int8)\n",
        "X_train = np.array(df_train[list(range(187))].values)[..., np.newaxis]\n",
        "\n",
        "y_test = np.array(df_test[187].values).astype(np.int8)\n",
        "X_test = np.array(df_test[list(range(187))].values)[..., np.newaxis]"
      ],
      "metadata": {
        "id": "k75D76FG3WZ8"
      },
      "execution_count": 3,
      "outputs": []
    },
    {
      "cell_type": "code",
      "source": [
        "# pre-processing for the DBLSTM-WS model\n",
        "def DWT(signal, levels):\n",
        "  coeffs = pywt.wavedec(signal.flatten(), 'db6', mode='symmetric', level=levels)[1:]\n",
        "  coeffs = [np.pad(np.array(c), (0, 187-len(c))) for c in coeffs]\n",
        "  coeffs += [signal]\n",
        "  return np.stack(coeffs, axis=-1)\n",
        "\n",
        "def WSpreprocess(dataset, levels):\n",
        "  return np.squeeze(np.apply_along_axis(DWT, 1, dataset, levels))\n",
        "\n",
        "X_train_new = WSpreprocess(np.squeeze(X_train), 2)\n",
        "X_test_new = WSpreprocess(np.squeeze(X_test), 2)"
      ],
      "metadata": {
        "id": "kzGdaUfwCbf7"
      },
      "execution_count": 4,
      "outputs": []
    },
    {
      "cell_type": "code",
      "source": [
        "ensemble_predictions = np.zeros((21892, 5))\n",
        "\n",
        "path = \"/content/drive/MyDrive/MLHC_PROJECT1/H5/MIT/\"\n",
        "import os\n",
        "for filename in os.listdir(path):\n",
        "  print(filename)\n",
        " \n",
        "  model = keras.models.load_model(path + filename)\n",
        "\n",
        "  if filename == \"DBLSTM-WS_mit.h5\":\n",
        "     y_pred = model.predict(X_test_new)\n",
        "  else:\n",
        "    y_pred = model.predict(X_test)\n",
        "\n",
        "  ensemble_predictions = ensemble_predictions + y_pred"
      ],
      "metadata": {
        "colab": {
          "base_uri": "https://localhost:8080/"
        },
        "id": "cuVTSSuN3vm3",
        "outputId": "6b1b9312-96e6-441b-b2f6-a3362a938117"
      },
      "execution_count": 5,
      "outputs": [
        {
          "output_type": "stream",
          "name": "stdout",
          "text": [
            "transformer_mit.h5\n",
            "CNN_mit.h5\n",
            "RNN_mit.h5\n",
            "DBLSTM-WS_mit.h5\n",
            "ResNet.h5\n"
          ]
        }
      ]
    },
    {
      "cell_type": "code",
      "source": [
        "y_pred = np.argmax(ensemble_predictions, axis=-1)\n",
        "\n",
        "f1 = f1_score(y_test, y_pred, average=\"macro\")\n",
        "print(\"Test f1 score : %s \"% f1)\n",
        "\n",
        "acc = accuracy_score(y_test, y_pred)\n",
        "print(\"Test accuracy score : %s \"% acc)"
      ],
      "metadata": {
        "colab": {
          "base_uri": "https://localhost:8080/"
        },
        "id": "LaC-1ANL9rLD",
        "outputId": "ad60fdcb-604c-433d-c28e-1d5ed0f46d50"
      },
      "execution_count": 6,
      "outputs": [
        {
          "output_type": "stream",
          "name": "stdout",
          "text": [
            "Test f1 score : 0.9092896406471433 \n",
            "Test accuracy score : 0.9844235337109446 \n"
          ]
        }
      ]
    },
    {
      "cell_type": "code",
      "source": [
        "# Plotting confusion matrix\n",
        "cm = confusion_matrix(y_test, y_pred)\n",
        "\n",
        "disp = ConfusionMatrixDisplay(confusion_matrix=cm, display_labels=[0,1,2,3])\n",
        "\n",
        "disp.plot(cmap=plt.cm.Blues)\n",
        "plt.show()"
      ],
      "metadata": {
        "colab": {
          "base_uri": "https://localhost:8080/",
          "height": 279
        },
        "id": "7oDTkMWR38dT",
        "outputId": "74a70b0f-032f-47d9-9f7f-016c02557479"
      },
      "execution_count": 7,
      "outputs": [
        {
          "output_type": "display_data",
          "data": {
            "text/plain": [
              "<Figure size 432x288 with 2 Axes>"
            ],
            "image/png": "[encoded data removed]"
          },
          "metadata": {
            "needs_background": "light"
          }
        }
      ]
    }
  ]
}