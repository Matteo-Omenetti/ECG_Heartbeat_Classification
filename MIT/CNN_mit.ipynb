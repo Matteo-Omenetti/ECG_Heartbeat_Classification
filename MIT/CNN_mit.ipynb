{
  "nbformat": 4,
  "nbformat_minor": 0,
  "metadata": {
    "colab": {
      "name": "mlhc_project1_mitbih_CNN.ipynb",
      "provenance": [],
      "machine_shape": "hm"
    },
    "kernelspec": {
      "name": "python3",
      "display_name": "Python 3"
    },
    "language_info": {
      "name": "python"
    },
    "accelerator": "TPU"
  },
  "cells": [
    {
      "cell_type": "code",
      "source": [
        "import pandas as pd\n",
        "import numpy as np\n",
        "\n",
        "from keras import optimizers, losses, activations, models\n",
        "from keras.callbacks import ModelCheckpoint, EarlyStopping, LearningRateScheduler, ReduceLROnPlateau\n",
        "from keras.layers import Dense, Input, Dropout, Convolution1D, MaxPool1D, GlobalMaxPool1D, GlobalAveragePooling1D, concatenate\n",
        "from sklearn.metrics import f1_score, accuracy_score\n",
        "\n",
        "import tensorflow as tf\n",
        "from keras import Input, Model, layers\n",
        "from keras.models import Sequential\n",
        "from keras.layers import Dense, Flatten\n",
        "from keras import losses\n",
        "from tensorflow import keras\n",
        "from keras.callbacks import EarlyStopping\n",
        "\n",
        "from keras.models import Sequential\n",
        "from keras.layers import Dense, Activation, Dropout, Conv1D, GlobalAveragePooling1D, MaxPooling1D\n",
        "from keras import regularizers\n",
        "from keras.utils import np_utils\n",
        "from keras import utils\n",
        "from sklearn.model_selection import train_test_split\n",
        "\n",
        "import matplotlib.pyplot as plt\n",
        "from sklearn.metrics import ConfusionMatrixDisplay, confusion_matrix"
      ],
      "metadata": {
        "id": "2sZsv-Ab5wO2"
      },
      "execution_count": null,
      "outputs": []
    },
    {
      "cell_type": "code",
      "source": [
        "from google.colab import drive\n",
        "drive.mount('/content/drive')"
      ],
      "metadata": {
        "colab": {
          "base_uri": "https://localhost:8080/"
        },
        "id": "FGweKfOOvPeR",
        "outputId": "24679277-cfab-42f6-cfe5-58bc95c7f585"
      },
      "execution_count": null,
      "outputs": [
        {
          "output_type": "stream",
          "name": "stdout",
          "text": [
            "Mounted at /content/drive\n"
          ]
        }
      ]
    },
    {
      "cell_type": "markdown",
      "source": [
        "### CNN MITBIH"
      ],
      "metadata": {
        "id": "d3kyIIskXq-4"
      }
    },
    {
      "cell_type": "code",
      "source": [
        "df_train = pd.read_csv(\"/content/drive/MyDrive/MLHC_PROJECT1/mitbih_train.csv\", header=None)\n",
        "df_train = df_train.sample(frac=1)\n",
        "df_test = pd.read_csv(\"/content/drive/MyDrive/MLHC_PROJECT1/mitbih_test.csv\", header=None)\n",
        "\n",
        "y_train = np.array(df_train[187].values).astype(np.int8)\n",
        "X_train = np.array(df_train[list(range(187))].values)[..., np.newaxis]\n",
        "\n",
        "y_test = np.array(df_test[187].values).astype(np.int8)\n",
        "X_test = np.array(df_test[list(range(187))].values)[..., np.newaxis]"
      ],
      "metadata": {
        "id": "unlf9GgM2hsh"
      },
      "execution_count": null,
      "outputs": []
    },
    {
      "cell_type": "code",
      "source": [
        "# create the model\n",
        "model = Sequential()\n",
        "model.add(Conv1D(128, 55, activation='relu', input_shape=(187, 1)))\n",
        "model.add(MaxPooling1D(2))\n",
        "model.add(Dropout(0.1))\n",
        "model.add(Conv1D(128, 25, activation='relu'))\n",
        "model.add(MaxPooling1D(2))\n",
        "model.add(Dropout(0.1))\n",
        "model.add(Conv1D(128, 10, activation='relu'))\n",
        "model.add(MaxPooling1D(2))\n",
        "model.add(Dropout(0.5))\n",
        "model.add(Conv1D(128, 5, activation='relu'))\n",
        "model.add(GlobalAveragePooling1D())\n",
        "# model.add(Flatten())\n",
        "model.add(Dense(256, kernel_initializer='normal', activation='relu'))\n",
        "model.add(Dropout(0.1))\n",
        "model.add(Dense(128, kernel_initializer='normal', activation='relu'))\n",
        "model.add(Dropout(0.1))\n",
        "model.add(Dense(64, kernel_initializer='normal', activation='relu'))\n",
        "model.add(Dropout(0.1))\n",
        "model.add(Dense(5, kernel_initializer='normal', activation='softmax'))\n",
        "\n",
        "# model.summary()\n",
        "\n",
        "opt = tf.keras.optimizers.Adam(learning_rate=0.001)\n",
        "model.compile(optimizer=opt, loss=losses.sparse_categorical_crossentropy, metrics=['acc'])\n",
        "\n",
        "file_path = \"/content/drive/MyDrive/MLHC_PROJECT1/CNN.h5\"\n",
        "tf.keras.utils.plot_model(model, show_shapes=True, dpi=64)\n",
        "print(\"Number of weights: {}\".format(model.count_params()))"
      ],
      "metadata": {
        "id": "tY7sDqcE2pPh",
        "colab": {
          "base_uri": "https://localhost:8080/"
        },
        "outputId": "d6a7011b-afa6-4703-e7ce-e34b6edca861"
      },
      "execution_count": null,
      "outputs": [
        {
          "output_type": "stream",
          "name": "stdout",
          "text": [
            "Number of weights: 737413\n"
          ]
        }
      ]
    },
    {
      "cell_type": "code",
      "source": [
        "callbacks = [\n",
        "             ModelCheckpoint(file_path, monitor='val_acc', verbose=1, save_best_only=True, mode='max'),\n",
        "             ReduceLROnPlateau(monitor=\"val_acc\", mode=\"max\", patience=3, verbose=2),\n",
        "             EarlyStopping(monitor=\"val_acc\", mode=\"max\", patience=5, verbose=1)\n",
        "             ]\n",
        "\n",
        "history = model.fit(X_train, y_train, epochs=100, verbose=2, callbacks=callbacks, validation_split=0.1)"
      ],
      "metadata": {
        "colab": {
          "base_uri": "https://localhost:8080/"
        },
        "id": "Z4xxhIWZvm6Q",
        "outputId": "a603d73e-3ea8-4960-d21d-b4031570cd13"
      },
      "execution_count": null,
      "outputs": [
        {
          "output_type": "stream",
          "name": "stdout",
          "text": [
            "Epoch 1/100\n",
            "\n",
            "Epoch 1: val_acc improved from -inf to 0.95066, saving model to /content/drive/MyDrive/MLHC_PROJECT1/transformer.h5\n",
            "2463/2463 - 25s - loss: 0.3502 - acc: 0.9032 - val_loss: 0.1877 - val_acc: 0.9507 - lr: 0.0010 - 25s/epoch - 10ms/step\n",
            "Epoch 2/100\n",
            "\n",
            "Epoch 2: val_acc improved from 0.95066 to 0.96300, saving model to /content/drive/MyDrive/MLHC_PROJECT1/transformer.h5\n",
            "2463/2463 - 12s - loss: 0.1834 - acc: 0.9523 - val_loss: 0.1320 - val_acc: 0.9630 - lr: 0.0010 - 12s/epoch - 5ms/step\n",
            "Epoch 3/100\n",
            "\n",
            "Epoch 3: val_acc improved from 0.96300 to 0.97396, saving model to /content/drive/MyDrive/MLHC_PROJECT1/transformer.h5\n",
            "2463/2463 - 13s - loss: 0.1421 - acc: 0.9619 - val_loss: 0.0965 - val_acc: 0.9740 - lr: 0.0010 - 13s/epoch - 5ms/step\n",
            "Epoch 4/100\n",
            "\n",
            "Epoch 4: val_acc did not improve from 0.97396\n",
            "2463/2463 - 12s - loss: 0.1240 - acc: 0.9660 - val_loss: 0.0930 - val_acc: 0.9734 - lr: 0.0010 - 12s/epoch - 5ms/step\n",
            "Epoch 5/100\n",
            "\n",
            "Epoch 5: val_acc improved from 0.97396 to 0.97545, saving model to /content/drive/MyDrive/MLHC_PROJECT1/transformer.h5\n",
            "2463/2463 - 15s - loss: 0.1133 - acc: 0.9692 - val_loss: 0.0812 - val_acc: 0.9754 - lr: 0.0010 - 15s/epoch - 6ms/step\n",
            "Epoch 6/100\n",
            "\n",
            "Epoch 6: val_acc improved from 0.97545 to 0.97910, saving model to /content/drive/MyDrive/MLHC_PROJECT1/transformer.h5\n",
            "2463/2463 - 17s - loss: 0.1075 - acc: 0.9701 - val_loss: 0.0754 - val_acc: 0.9791 - lr: 0.0010 - 17s/epoch - 7ms/step\n",
            "Epoch 7/100\n",
            "\n",
            "Epoch 7: val_acc improved from 0.97910 to 0.97944, saving model to /content/drive/MyDrive/MLHC_PROJECT1/transformer.h5\n",
            "2463/2463 - 14s - loss: 0.0980 - acc: 0.9723 - val_loss: 0.0844 - val_acc: 0.9794 - lr: 0.0010 - 14s/epoch - 6ms/step\n",
            "Epoch 8/100\n",
            "\n",
            "Epoch 8: val_acc did not improve from 0.97944\n",
            "2463/2463 - 12s - loss: 0.0970 - acc: 0.9728 - val_loss: 0.0779 - val_acc: 0.9790 - lr: 0.0010 - 12s/epoch - 5ms/step\n",
            "Epoch 9/100\n",
            "\n",
            "Epoch 9: val_acc improved from 0.97944 to 0.98093, saving model to /content/drive/MyDrive/MLHC_PROJECT1/transformer.h5\n",
            "2463/2463 - 13s - loss: 0.0909 - acc: 0.9745 - val_loss: 0.0716 - val_acc: 0.9809 - lr: 0.0010 - 13s/epoch - 5ms/step\n",
            "Epoch 10/100\n",
            "\n",
            "Epoch 10: val_acc did not improve from 0.98093\n",
            "2463/2463 - 12s - loss: 0.0874 - acc: 0.9752 - val_loss: 0.0678 - val_acc: 0.9802 - lr: 0.0010 - 12s/epoch - 5ms/step\n",
            "Epoch 11/100\n",
            "\n",
            "Epoch 11: val_acc did not improve from 0.98093\n",
            "2463/2463 - 12s - loss: 0.0865 - acc: 0.9760 - val_loss: 0.0698 - val_acc: 0.9798 - lr: 0.0010 - 12s/epoch - 5ms/step\n",
            "Epoch 12/100\n",
            "\n",
            "Epoch 12: val_acc did not improve from 0.98093\n",
            "\n",
            "Epoch 12: ReduceLROnPlateau reducing learning rate to 0.00010000000474974513.\n",
            "2463/2463 - 12s - loss: 0.0831 - acc: 0.9764 - val_loss: 0.0706 - val_acc: 0.9791 - lr: 0.0010 - 12s/epoch - 5ms/step\n",
            "Epoch 13/100\n",
            "\n",
            "Epoch 13: val_acc improved from 0.98093 to 0.98481, saving model to /content/drive/MyDrive/MLHC_PROJECT1/transformer.h5\n",
            "2463/2463 - 12s - loss: 0.0636 - acc: 0.9810 - val_loss: 0.0547 - val_acc: 0.9848 - lr: 1.0000e-04 - 12s/epoch - 5ms/step\n",
            "Epoch 14/100\n",
            "\n",
            "Epoch 14: val_acc did not improve from 0.98481\n",
            "2463/2463 - 13s - loss: 0.0592 - acc: 0.9825 - val_loss: 0.0542 - val_acc: 0.9842 - lr: 1.0000e-04 - 13s/epoch - 5ms/step\n",
            "Epoch 15/100\n",
            "\n",
            "Epoch 15: val_acc did not improve from 0.98481\n",
            "2463/2463 - 12s - loss: 0.0544 - acc: 0.9833 - val_loss: 0.0541 - val_acc: 0.9848 - lr: 1.0000e-04 - 12s/epoch - 5ms/step\n",
            "Epoch 16/100\n",
            "\n",
            "Epoch 16: val_acc improved from 0.98481 to 0.98538, saving model to /content/drive/MyDrive/MLHC_PROJECT1/transformer.h5\n",
            "2463/2463 - 12s - loss: 0.0539 - acc: 0.9838 - val_loss: 0.0528 - val_acc: 0.9854 - lr: 1.0000e-04 - 12s/epoch - 5ms/step\n",
            "Epoch 17/100\n",
            "\n",
            "Epoch 17: val_acc did not improve from 0.98538\n",
            "2463/2463 - 12s - loss: 0.0526 - acc: 0.9841 - val_loss: 0.0523 - val_acc: 0.9846 - lr: 1.0000e-04 - 12s/epoch - 5ms/step\n",
            "Epoch 18/100\n",
            "\n",
            "Epoch 18: val_acc did not improve from 0.98538\n",
            "2463/2463 - 12s - loss: 0.0491 - acc: 0.9851 - val_loss: 0.0530 - val_acc: 0.9853 - lr: 1.0000e-04 - 12s/epoch - 5ms/step\n",
            "Epoch 19/100\n",
            "\n",
            "Epoch 19: val_acc did not improve from 0.98538\n",
            "\n",
            "Epoch 19: ReduceLROnPlateau reducing learning rate to 1.0000000474974514e-05.\n",
            "2463/2463 - 13s - loss: 0.0497 - acc: 0.9847 - val_loss: 0.0546 - val_acc: 0.9839 - lr: 1.0000e-04 - 13s/epoch - 5ms/step\n",
            "Epoch 20/100\n",
            "\n",
            "Epoch 20: val_acc did not improve from 0.98538\n",
            "2463/2463 - 12s - loss: 0.0479 - acc: 0.9851 - val_loss: 0.0531 - val_acc: 0.9854 - lr: 1.0000e-05 - 12s/epoch - 5ms/step\n",
            "Epoch 21/100\n",
            "\n",
            "Epoch 21: val_acc did not improve from 0.98538\n",
            "2463/2463 - 12s - loss: 0.0467 - acc: 0.9855 - val_loss: 0.0530 - val_acc: 0.9854 - lr: 1.0000e-05 - 12s/epoch - 5ms/step\n",
            "Epoch 21: early stopping\n"
          ]
        }
      ]
    },
    {
      "cell_type": "code",
      "source": [
        "pred_test = model.predict(X_test)\n",
        "pred_test = np.argmax(pred_test, axis=-1)\n",
        "\n",
        "f1 = f1_score(y_test, pred_test, average=\"macro\")\n",
        "\n",
        "print(\"Test f1 score : %s \"% f1)\n",
        "\n",
        "acc = accuracy_score(y_test, pred_test)\n",
        "\n",
        "print(\"Test accuracy score : %s \"% acc)"
      ],
      "metadata": {
        "colab": {
          "base_uri": "https://localhost:8080/"
        },
        "id": "27YGneW9vu7S",
        "outputId": "489b73ff-dac1-4833-e0fd-18c450179e6a"
      },
      "execution_count": null,
      "outputs": [
        {
          "output_type": "stream",
          "name": "stdout",
          "text": [
            "Test f1 score : 0.9014285666208736 \n",
            "Test accuracy score : 0.9814087337840307 \n"
          ]
        }
      ]
    },
    {
      "cell_type": "code",
      "source": [
        "# Plot training & validation loss values\n",
        "plt.plot(history.history['loss'])\n",
        "plt.plot(history.history['val_loss'])\n",
        "plt.title('Model loss')\n",
        "plt.ylabel('loss')\n",
        "plt.xlabel('Epoch')\n",
        "plt.legend(['Train', 'Validation'], loc='upper left')\n",
        "plt.show()"
      ],
      "metadata": {
        "colab": {
          "base_uri": "https://localhost:8080/",
          "height": 295
        },
        "id": "R-UTKuu5wG2-",
        "outputId": "c45f70f5-9a62-4366-aad6-026ea2532260"
      },
      "execution_count": null,
      "outputs": [
        {
          "output_type": "display_data",
          "data": {
            "text/plain": [
              "<Figure size 432x288 with 1 Axes>"
            ],
            "image/png": "[encoded data removed]"
          },
          "metadata": {
            "needs_background": "light"
          }
        }
      ]
    },
    {
      "cell_type": "code",
      "source": [
        "# Plot training & validation accuracy values\n",
        "plt.plot(history.history['acc'])\n",
        "plt.plot(history.history['val_acc'])\n",
        "plt.title('Model accuracy')\n",
        "plt.ylabel('Accuracy')\n",
        "plt.xlabel('Epoch')\n",
        "plt.legend(['Train', 'Validation'], loc='upper left')\n",
        "plt.show()"
      ],
      "metadata": {
        "colab": {
          "base_uri": "https://localhost:8080/",
          "height": 295
        },
        "id": "ucj7o5CLwLyw",
        "outputId": "bbd816da-6388-4d70-fd8c-e26915fc31dc"
      },
      "execution_count": null,
      "outputs": [
        {
          "output_type": "display_data",
          "data": {
            "text/plain": [
              "<Figure size 432x288 with 1 Axes>"
            ],
            "image/png": "[encoded data removed]"
          },
          "metadata": {
            "needs_background": "light"
          }
        }
      ]
    },
    {
      "cell_type": "code",
      "source": [
        "# Plotting confusion matrix\n",
        "cm = confusion_matrix(y_test, pred_test)\n",
        "\n",
        "disp = ConfusionMatrixDisplay(confusion_matrix=cm, display_labels=[0,1,2,3])\n",
        "\n",
        "disp.plot(cmap=plt.cm.Blues)\n",
        "plt.show()"
      ],
      "metadata": {
        "colab": {
          "base_uri": "https://localhost:8080/",
          "height": 279
        },
        "id": "oVahxIAqwQDn",
        "outputId": "2f2ada8d-1d14-4586-d151-8a4f6cc574dd"
      },
      "execution_count": null,
      "outputs": [
        {
          "output_type": "display_data",
          "data": {
            "text/plain": [
              "<Figure size 432x288 with 2 Axes>"
            ],
            "image/png": "[encoded data removed]"
          },
          "metadata": {
            "needs_background": "light"
          }
        }
      ]
    }
  ]
}