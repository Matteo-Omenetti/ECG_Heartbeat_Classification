{
  "nbformat": 4,
  "nbformat_minor": 0,
  "metadata": {
    "colab": {
      "name": "ensemble_logistic_regression_mitbih.ipynb",
      "provenance": [],
      "machine_shape": "hm"
    },
    "kernelspec": {
      "name": "python3",
      "display_name": "Python 3"
    },
    "language_info": {
      "name": "python"
    }
  },
  "cells": [
    {
      "cell_type": "code",
      "execution_count": 8,
      "metadata": {
        "id": "h5n5-kXbMqn7"
      },
      "outputs": [],
      "source": [
        "import pandas as pd\n",
        "import numpy as np\n",
        "import tensorflow as tf\n",
        "from tensorflow import keras\n",
        "\n",
        "from keras.utils import np_utils\n",
        "from keras import utils\n",
        "from sklearn.model_selection import train_test_split\n",
        "\n",
        "from sklearn.metrics import ConfusionMatrixDisplay, confusion_matrix\n",
        "from sklearn.metrics import f1_score, accuracy_score\n",
        "import matplotlib.pyplot as plt\n",
        "\n",
        "from sklearn.linear_model import LogisticRegression\n",
        "\n",
        "import pywt\n",
        "from sklearn.metrics import roc_auc_score, RocCurveDisplay, average_precision_score, PrecisionRecallDisplay, auc"
      ]
    },
    {
      "cell_type": "code",
      "source": [
        "from google.colab import drive\n",
        "drive.mount('/content/drive')"
      ],
      "metadata": {
        "colab": {
          "base_uri": "https://localhost:8080/"
        },
        "id": "9A9x_74JM5KV",
        "outputId": "4913d71e-61bc-4011-c8fd-9de3a33bf388"
      },
      "execution_count": 2,
      "outputs": [
        {
          "output_type": "stream",
          "name": "stdout",
          "text": [
            "Mounted at /content/drive\n"
          ]
        }
      ]
    },
    {
      "cell_type": "code",
      "source": [
        "# load data set\n",
        "df_train = pd.read_csv(\"/content/drive/MyDrive/MLHC_PROJECT1/mitbih_train.csv\", header=None)\n",
        "df_train = df_train.sample(frac=1)\n",
        "df_test = pd.read_csv(\"/content/drive/MyDrive/MLHC_PROJECT1/mitbih_test.csv\", header=None)\n",
        "\n",
        "y_train = np.array(df_train[187].values).astype(np.int8)\n",
        "X_train = np.array(df_train[list(range(187))].values)[..., np.newaxis]\n",
        "\n",
        "y_test = np.array(df_test[187].values).astype(np.int8)\n",
        "X_test = np.array(df_test[list(range(187))].values)[..., np.newaxis]"
      ],
      "metadata": {
        "id": "rSmqPdX8NB4f"
      },
      "execution_count": 3,
      "outputs": []
    },
    {
      "cell_type": "code",
      "source": [
        "# pre-processing for the DBLSTM-WS model\n",
        "def DWT(signal, levels):\n",
        "  coeffs = pywt.wavedec(signal.flatten(), 'db6', mode='symmetric', level=levels)[1:]\n",
        "  coeffs = [np.pad(np.array(c), (0, 187-len(c))) for c in coeffs]\n",
        "  coeffs += [signal]\n",
        "  return np.stack(coeffs, axis=-1)\n",
        "\n",
        "def WSpreprocess(dataset, levels):\n",
        "  return np.squeeze(np.apply_along_axis(DWT, 1, dataset, levels))\n",
        "\n",
        "X_train_new = WSpreprocess(np.squeeze(X_train), 2)\n",
        "X_test_new = WSpreprocess(np.squeeze(X_test), 2)\n"
      ],
      "metadata": {
        "id": "qF-n-_lM9IVT"
      },
      "execution_count": 22,
      "outputs": []
    },
    {
      "cell_type": "code",
      "source": [
        "ensemble_predictions_test_set = np.zeros((21892, 5))\n",
        "ensemble_predictions_train_set = np.zeros((87554, 5))\n",
        "\n",
        "path = \"/content/drive/MyDrive/MLHC_PROJECT1/H5/MIT/\"\n",
        "import os\n",
        "for filename in os.listdir(path):\n",
        "  \n",
        "  print(filename)\n",
        "\n",
        "  # if filename == \"transformer_mit.h5\":\n",
        "  #   print(\"Skipping transformer...\")\n",
        "  #   continue\n",
        "  \n",
        "  model = keras.models.load_model(path + filename)\n",
        "\n",
        "  if filename == \"DBLSTM-WS_mit.h5\":\n",
        "    y_pred_train = model.predict(X_train_new)\n",
        "    y_pred_test = model.predict(X_test_new)  \n",
        "  else:\n",
        "    y_pred_train = model.predict(X_train)\n",
        "    y_pred_test = model.predict(X_test)\n",
        "\n",
        "  ensemble_predictions_train_set = ensemble_predictions_train_set + y_pred_train\n",
        "  ensemble_predictions_test_set = ensemble_predictions_test_set + y_pred_test"
      ],
      "metadata": {
        "id": "7gDqxWpINEL8",
        "colab": {
          "base_uri": "https://localhost:8080/"
        },
        "outputId": "e3d649ff-afd5-43bd-85b9-91da68a7af5d"
      },
      "execution_count": 23,
      "outputs": [
        {
          "output_type": "stream",
          "name": "stdout",
          "text": [
            "transformer_mit.h5\n",
            "CNN_mit.h5\n",
            "RNN_mit.h5\n",
            "DBLSTM-WS_mit.h5\n"
          ]
        }
      ]
    },
    {
      "cell_type": "code",
      "source": [
        "# lr = LogisticRegression().fit(ensemble_predictions_train_set, y_train)\n",
        "from sklearn.ensemble import RandomForestClassifier\n",
        "lr = RandomForestClassifier(max_depth=30, random_state=0)\n",
        "lr.fit(ensemble_predictions_train_set, y_train)\n",
        "\n",
        "y_pred = lr.predict(ensemble_predictions_test_set)\n",
        "\n",
        "f1 = f1_score(y_test, y_pred, average=\"macro\")\n",
        "print(\"Test f1 score : %s \"% f1)\n",
        "\n",
        "acc = accuracy_score(y_test, y_pred)\n",
        "print(\"Test accuracy score : %s \"% acc)"
      ],
      "metadata": {
        "id": "AKaeHHr1NGzS",
        "colab": {
          "base_uri": "https://localhost:8080/"
        },
        "outputId": "df42d440-4d70-4225-822d-9ab39b4f7877"
      },
      "execution_count": 27,
      "outputs": [
        {
          "output_type": "stream",
          "name": "stdout",
          "text": [
            "Test f1 score : 0.908516019400512 \n",
            "Test accuracy score : 0.9840581034167732 \n"
          ]
        }
      ]
    },
    {
      "cell_type": "code",
      "source": [
        "# Plotting confusion matrix\n",
        "cm = confusion_matrix(y_test, y_pred)\n",
        "\n",
        "disp = ConfusionMatrixDisplay(confusion_matrix=cm, display_labels=[0,1,2,3])\n",
        "\n",
        "disp.plot(cmap=plt.cm.Blues)\n",
        "plt.show()"
      ],
      "metadata": {
        "id": "yuhMQuj2NJEU",
        "colab": {
          "base_uri": "https://localhost:8080/",
          "height": 279
        },
        "outputId": "751a1eec-1db5-48b2-da25-aac3f6e3d1d5"
      },
      "execution_count": 28,
      "outputs": [
        {
          "output_type": "display_data",
          "data": {
            "text/plain": [
              "<Figure size 432x288 with 2 Axes>"
            ],
            "image/png": "[encoded data removed]"
          },
          "metadata": {
            "needs_background": "light"
          }
        }
      ]
    }
  ]
}